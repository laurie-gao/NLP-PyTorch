{
  "cells": [
    {
      "cell_type": "code",
      "execution_count": 1,
      "id": "080d50fc",
      "metadata": {
        "id": "080d50fc"
      },
      "outputs": [],
      "source": [
        "import time\n",
        "import torch\n",
        "from torch.utils.data import DataLoader, TensorDataset\n",
        "from torchtext.data.utils import get_tokenizer\n",
        "from torchtext.datasets import DATASETS\n",
        "from torchtext.vocab import build_vocab_from_iterator\n",
        "import torch.nn as nn\n",
        "from tqdm import tqdm\n",
        "import pickle\n",
        "import random\n",
        "import numpy as np\n",
        "from collections import Counter, defaultdict\n",
        "import numpy as np\n",
        "import matplotlib.pyplot as plt\n",
        "from sklearn.decomposition import PCA\n",
        "from gensim.test.utils import datapath, get_tmpfile\n",
        "from gensim.models import KeyedVectors\n",
        "import gensim.downloader\n",
        "from torch import FloatTensor as FT\n",
        "\n",
        "# Get the interactive Tools for Matplotlib\n",
        "%matplotlib notebook\n",
        "%matplotlib inline\n",
        "\n",
        "plt.style.use('ggplot')"
      ]
    },
    {
      "cell_type": "code",
      "execution_count": 1,
      "id": "f5419c32",
      "metadata": {
        "id": "f5419c32"
      },
      "outputs": [],
      "source": []
    },
    {
      "cell_type": "code",
      "execution_count": 40,
      "id": "31b412ca",
      "metadata": {
        "id": "31b412ca"
      },
      "outputs": [],
      "source": [
        "# DEVICE = \"mps\" if torch.backends.mps.is_available() else  \"cpu\"\n",
        "DEVICE = \"cuda\" if torch.cuda.is_available() else  \"cpu\"\n",
        "\n",
        "# The batch size in Adam or SGD\n",
        "BATCH_SIZE = 512\n",
        "\n",
        "# Number of epochs\n",
        "NUM_EPOCHS = 10\n",
        "\n",
        "# Predict from 2 words the inner word for CBOW\n",
        "# I.e. I'll have a window like [\"a\", \"b\", \"c\"] of continuous text (each is a word)\n",
        "# We'll predict each of wc = [\"a\", \"c\"] from \"b\" = wc for Skip-Gram\n",
        "# For CBOW, we'll use [\"a\", \"c\"] to predict \"b\" = wo\n",
        "WINDOW = 1\n",
        "\n",
        "# Negative samples.\n",
        "K = 4"
      ]
    },
    {
      "cell_type": "code",
      "execution_count": 2,
      "id": "e3311ae5",
      "metadata": {
        "id": "e3311ae5"
      },
      "outputs": [],
      "source": []
    },
    {
      "cell_type": "markdown",
      "id": "3ec9f90a",
      "metadata": {
        "id": "3ec9f90a"
      },
      "source": [
        "The text8 Wikipedia corpus. 100M characters."
      ]
    },
    {
      "cell_type": "code",
      "execution_count": 3,
      "id": "3217b67b",
      "metadata": {
        "colab": {
          "base_uri": "https://localhost:8080/"
        },
        "id": "3217b67b",
        "outputId": "29ee980a-8a9c-494e-d99d-c295ff73c0f3"
      },
      "outputs": [
        {
          "name": "stdout",
          "output_type": "stream",
          "text": [
            "Mounted at /content/drive\n",
            "du: cannot access 'text8': No such file or directory\n",
            "100000000\n"
          ]
        }
      ],
      "source": [
        "# Put the data in your Google Drive\n",
        "# You can get the data from the HW page\n",
        "from google.colab import drive\n",
        "drive.mount('/content/drive')\n",
        "\n",
        "!du -h text8\n",
        "\n",
        "f = open('/content/drive/MyDrive/text8', 'r')\n",
        "text = f.read()\n",
        "# One big string of size 100M\n",
        "print(len(text))"
      ]
    },
    {
      "cell_type": "code",
      "execution_count": 4,
      "id": "6c1bf892",
      "metadata": {
        "id": "6c1bf892"
      },
      "outputs": [],
      "source": [
        "punc = '!\"#$%&()*+,-./:;<=>?@[\\\\]^_\\'{|}~\\t\\n'\n",
        "\n",
        "# Can do regular expressions here too\n",
        "for c in punc:\n",
        "    if c in text:\n",
        "        text.replace(c, ' ')"
      ]
    },
    {
      "cell_type": "code",
      "execution_count": 4,
      "id": "451bf3ab",
      "metadata": {
        "id": "451bf3ab"
      },
      "outputs": [],
      "source": []
    },
    {
      "cell_type": "code",
      "execution_count": 5,
      "id": "0bc19b0c",
      "metadata": {
        "id": "0bc19b0c"
      },
      "outputs": [],
      "source": [
        "# A very crude tokenizer you get for free: lower case and also split on spaces\n",
        "TOKENIZER = get_tokenizer(\"basic_english\")"
      ]
    },
    {
      "cell_type": "code",
      "execution_count": 6,
      "id": "ff8fd598",
      "metadata": {
        "id": "ff8fd598"
      },
      "outputs": [],
      "source": [
        "words = TOKENIZER(text)\n",
        "f = Counter(words)"
      ]
    },
    {
      "cell_type": "code",
      "execution_count": 7,
      "id": "ba7f72f8",
      "metadata": {
        "colab": {
          "base_uri": "https://localhost:8080/"
        },
        "id": "ba7f72f8",
        "outputId": "d90b1f6a-857e-4790-ed35-dd48addc829c"
      },
      "outputs": [
        {
          "data": {
            "text/plain": [
              "17005207"
            ]
          },
          "execution_count": 7,
          "metadata": {},
          "output_type": "execute_result"
        }
      ],
      "source": [
        "len(words)"
      ]
    },
    {
      "cell_type": "code",
      "execution_count": 8,
      "id": "16b736a4",
      "metadata": {
        "id": "16b736a4"
      },
      "outputs": [],
      "source": [
        "# Do a very crude filter on the text which removes all very popular words\n",
        "text = [word for word in words if f[word] > 5]"
      ]
    },
    {
      "cell_type": "code",
      "execution_count": 9,
      "id": "6916a763",
      "metadata": {
        "colab": {
          "base_uri": "https://localhost:8080/"
        },
        "id": "6916a763",
        "outputId": "01807973-c57f-41b9-d526-a598529f444d"
      },
      "outputs": [
        {
          "data": {
            "text/plain": [
              "['anarchism', 'originated', 'as', 'a', 'term']"
            ]
          },
          "execution_count": 9,
          "metadata": {},
          "output_type": "execute_result"
        }
      ],
      "source": [
        "text[0:5]"
      ]
    },
    {
      "cell_type": "code",
      "execution_count": 10,
      "id": "10ad817a",
      "metadata": {
        "id": "10ad817a"
      },
      "outputs": [],
      "source": [
        "VOCAB = build_vocab_from_iterator([text])"
      ]
    },
    {
      "cell_type": "code",
      "execution_count": 11,
      "id": "a7f69fc9",
      "metadata": {
        "id": "a7f69fc9"
      },
      "outputs": [],
      "source": [
        "# word -> int hash map\n",
        "stoi = VOCAB.get_stoi()\n",
        "# int -> word hash map\n",
        "itos = VOCAB.get_itos()"
      ]
    },
    {
      "cell_type": "code",
      "execution_count": 12,
      "id": "9991f9ab",
      "metadata": {
        "colab": {
          "base_uri": "https://localhost:8080/"
        },
        "id": "9991f9ab",
        "outputId": "b81ecb6c-926b-4b70-fc9d-fdc41f66eb2b"
      },
      "outputs": [
        {
          "data": {
            "text/plain": [
              "11"
            ]
          },
          "execution_count": 12,
          "metadata": {},
          "output_type": "execute_result"
        }
      ],
      "source": [
        "stoi['as']"
      ]
    },
    {
      "cell_type": "code",
      "execution_count": 13,
      "id": "0f49f5fa",
      "metadata": {
        "colab": {
          "base_uri": "https://localhost:8080/"
        },
        "id": "0f49f5fa",
        "outputId": "70f56baf-f7a4-4f60-b219-e02b545c3241"
      },
      "outputs": [
        {
          "data": {
            "text/plain": [
              "63641"
            ]
          },
          "execution_count": 13,
          "metadata": {},
          "output_type": "execute_result"
        }
      ],
      "source": [
        "# Total number of words\n",
        "len(stoi)"
      ]
    },
    {
      "cell_type": "code",
      "execution_count": 14,
      "id": "6c5c415a",
      "metadata": {
        "id": "6c5c415a"
      },
      "outputs": [],
      "source": [
        "f = Counter(text)\n",
        "# This is the probability that we pick a word in the corpus\n",
        "z = {word: f[word] / len(text) for word in f}"
      ]
    },
    {
      "cell_type": "code",
      "execution_count": 15,
      "id": "1e543e1e",
      "metadata": {
        "id": "1e543e1e"
      },
      "outputs": [],
      "source": [
        "threshold = 1e-5\n",
        "# Probability that word is kept while subsampling\n",
        "# This is explained here and sightly differet from the paper: http://mccormickml.com/2017/01/11/word2vec-tutorial-part-2-negative-sampling/\n",
        "p_keep = {word: (np.sqrt(z[word] / 0.001) + 1)*(0.0001 / z[word]) for word in f}"
      ]
    },
    {
      "cell_type": "code",
      "execution_count": 16,
      "id": "dd22119d",
      "metadata": {
        "id": "dd22119d"
      },
      "outputs": [],
      "source": [
        "# This is in the integer space\n",
        "train_dataset = [word for word in text if random.random() < p_keep[word]]\n",
        "\n",
        "# Rebuild the vocabulary\n",
        "VOCAB = build_vocab_from_iterator([train_dataset])"
      ]
    },
    {
      "cell_type": "code",
      "execution_count": 17,
      "id": "a2d695da",
      "metadata": {
        "colab": {
          "base_uri": "https://localhost:8080/"
        },
        "id": "a2d695da",
        "outputId": "4b347e78-6a06-4adc-c57a-eb0aa60eb372"
      },
      "outputs": [
        {
          "data": {
            "text/plain": [
              "7847826"
            ]
          },
          "execution_count": 17,
          "metadata": {},
          "output_type": "execute_result"
        }
      ],
      "source": [
        "len(train_dataset)"
      ]
    },
    {
      "cell_type": "code",
      "execution_count": 18,
      "id": "30d67549",
      "metadata": {
        "id": "30d67549"
      },
      "outputs": [],
      "source": [
        "# word -> int mapping\n",
        "stoi = VOCAB.get_stoi()\n",
        "# int -> word mapping\n",
        "itos = VOCAB.get_itos()"
      ]
    },
    {
      "cell_type": "code",
      "execution_count": 19,
      "id": "b46337b8",
      "metadata": {
        "colab": {
          "base_uri": "https://localhost:8080/"
        },
        "id": "b46337b8",
        "outputId": "dfe57070-84a6-43d3-ffad-68b602a9148c"
      },
      "outputs": [
        {
          "data": {
            "text/plain": [
              "63641"
            ]
          },
          "execution_count": 19,
          "metadata": {},
          "output_type": "execute_result"
        }
      ],
      "source": [
        "# The vocabulary size after we do all the filters\n",
        "len(VOCAB)"
      ]
    },
    {
      "cell_type": "code",
      "execution_count": 20,
      "id": "c9346f36",
      "metadata": {
        "id": "c9346f36"
      },
      "outputs": [],
      "source": [
        "# The probability we draw something for negative sampling\n",
        "f = Counter(train_dataset)\n",
        "p = torch.zeros(len(VOCAB))\n",
        "\n",
        "# Downsample frequent words and upsample less frequent\n",
        "s = sum([np.power(freq, 0.75) for word, freq in f.items()])\n",
        "\n",
        "for word in f:\n",
        "    p[stoi[word]] = np.power(f[word], 0.75) / s"
      ]
    },
    {
      "cell_type": "code",
      "execution_count": 21,
      "id": "dd713c15",
      "metadata": {
        "id": "dd713c15"
      },
      "outputs": [],
      "source": [
        "# Map everything to integers\n",
        "train_dataset = [stoi[word] for word in text]"
      ]
    },
    {
      "cell_type": "code",
      "execution_count": 22,
      "id": "8e96c0c4",
      "metadata": {
        "id": "8e96c0c4"
      },
      "outputs": [],
      "source": [
        "# This just gets the (wc, wo) pairs that are positive - they are seen together!\n",
        "def get_tokenized_dataset(dataset, verbose=False):\n",
        "    x_list = []\n",
        "\n",
        "    for i, token in enumerate(dataset):\n",
        "        m = 1\n",
        "\n",
        "        # Get the left and right tokens\n",
        "        start = max(0, i-m)\n",
        "        left_tokens = dataset[start:i]\n",
        "\n",
        "        end = min(i+m, len(dataset)-1)\n",
        "        right_tokens = dataset[i+1:end+1]\n",
        "\n",
        "        # Check these are the same length, and if so use them to add a row of data. This should be a list like\n",
        "        # [a, c, b] where b is the center word\n",
        "        if len(left_tokens) == len(right_tokens):\n",
        "            w_context = left_tokens + right_tokens\n",
        "\n",
        "            wc = token\n",
        "\n",
        "            x_list.extend(\n",
        "                [w_context + [wc]]\n",
        "            )\n",
        "\n",
        "    return x_list"
      ]
    },
    {
      "cell_type": "code",
      "execution_count": 23,
      "id": "3eb82aad",
      "metadata": {
        "id": "3eb82aad"
      },
      "outputs": [],
      "source": [
        "train_x_list = get_tokenized_dataset(train_dataset, verbose=False)"
      ]
    },
    {
      "cell_type": "code",
      "execution_count": 24,
      "id": "8412ee4d",
      "metadata": {
        "id": "8412ee4d"
      },
      "outputs": [],
      "source": [
        "pickle.dump(train_x_list, open('train_x_list.pkl', 'wb'))"
      ]
    },
    {
      "cell_type": "code",
      "execution_count": 25,
      "id": "3fd54caf",
      "metadata": {
        "id": "3fd54caf"
      },
      "outputs": [],
      "source": [
        "train_x_list = pickle.load(open('train_x_list.pkl', 'rb'))"
      ]
    },
    {
      "cell_type": "code",
      "execution_count": 26,
      "id": "576765f3",
      "metadata": {
        "colab": {
          "base_uri": "https://localhost:8080/"
        },
        "id": "576765f3",
        "outputId": "1c31e15d-78d2-4087-9306-a26c66b6f19f"
      },
      "outputs": [
        {
          "data": {
            "text/plain": [
              "[[5233, 12, 3083],\n",
              " [3083, 5, 12],\n",
              " [12, 200, 5],\n",
              " [5, 1, 200],\n",
              " [200, 3133, 1],\n",
              " [1, 47, 3133],\n",
              " [3133, 59, 47],\n",
              " [47, 154, 59],\n",
              " [59, 105, 154],\n",
              " [154, 741, 105]]"
            ]
          },
          "execution_count": 26,
          "metadata": {},
          "output_type": "execute_result"
        }
      ],
      "source": [
        "# These are (wc, wo) pairs. All are y = +1 by design\n",
        "train_x_list[:10]"
      ]
    },
    {
      "cell_type": "code",
      "execution_count": 27,
      "id": "316df1dc",
      "metadata": {
        "id": "316df1dc"
      },
      "outputs": [],
      "source": [
        "# The number of things of BATCH_SIZE = 512\n",
        "assert(len(train_x_list) // BATCH_SIZE == 32579)"
      ]
    },
    {
      "cell_type": "code",
      "execution_count": 27,
      "id": "8012d03d",
      "metadata": {
        "id": "8012d03d"
      },
      "outputs": [],
      "source": []
    },
    {
      "cell_type": "markdown",
      "id": "488c3519",
      "metadata": {
        "id": "488c3519"
      },
      "source": [
        "### Set up the dataloader."
      ]
    },
    {
      "cell_type": "code",
      "execution_count": 28,
      "id": "2e31ae4b",
      "metadata": {
        "id": "2e31ae4b"
      },
      "outputs": [],
      "source": [
        "train_dl = DataLoader(\n",
        "    TensorDataset(\n",
        "        torch.tensor(train_x_list).to(DEVICE),\n",
        "    ),\n",
        "    batch_size=BATCH_SIZE,\n",
        "    shuffle=True\n",
        ")"
      ]
    },
    {
      "cell_type": "code",
      "execution_count": 29,
      "id": "e9c42f50",
      "metadata": {
        "id": "e9c42f50"
      },
      "outputs": [],
      "source": [
        "for xb in train_dl:\n",
        "    assert(xb[0].shape == (BATCH_SIZE, 3))\n",
        "    break"
      ]
    },
    {
      "cell_type": "code",
      "execution_count": 29,
      "id": "8c949153",
      "metadata": {
        "id": "8c949153"
      },
      "outputs": [],
      "source": []
    },
    {
      "cell_type": "markdown",
      "id": "12d93d22",
      "metadata": {
        "id": "12d93d22"
      },
      "source": [
        "### Words we'll use to asses the quality of the model ..."
      ]
    },
    {
      "cell_type": "code",
      "execution_count": 30,
      "id": "ffada8d0",
      "metadata": {
        "id": "ffada8d0"
      },
      "outputs": [],
      "source": [
        "valid_ids = torch.tensor([\n",
        "    stoi['money'],\n",
        "    stoi['lion'],\n",
        "    stoi['africa'],\n",
        "    stoi['musician'],\n",
        "    stoi['dance'],\n",
        "])"
      ]
    },
    {
      "cell_type": "code",
      "execution_count": 30,
      "id": "867d3a88",
      "metadata": {
        "id": "867d3a88"
      },
      "outputs": [],
      "source": []
    },
    {
      "cell_type": "markdown",
      "id": "64096cd8",
      "metadata": {
        "id": "64096cd8"
      },
      "source": [
        "### Get the model."
      ]
    },
    {
      "cell_type": "code",
      "execution_count": 31,
      "id": "dc51c359",
      "metadata": {
        "id": "dc51c359"
      },
      "outputs": [],
      "source": [
        "class CBOWNegativeSampling(nn.Module):\n",
        "    def __init__(self, vocab_size, embed_dim):\n",
        "        super(CBOWNegativeSampling, self).__init__()\n",
        "        self.A = nn.Embedding(vocab_size, embed_dim) # Context vectors - center word\n",
        "        self.B = nn.Embedding(vocab_size, embed_dim) # Output vectors - words around the center word\n",
        "        self.init_weights()\n",
        "\n",
        "    def init_weights(self):\n",
        "        # Is this the best way? Not sure\n",
        "        initrange = 0.5\n",
        "        self.A.weight.data.uniform_(-initrange, initrange)\n",
        "        self.B.weight.data.uniform_(-initrange, initrange)\n",
        "\n",
        "    def forward(self, x):\n",
        "        # N is the batch size\n",
        "        # x is (N, 3)\n",
        "\n",
        "        # Context words are 2m things, m = 1 so w_context is (N, 2) while wc is N\n",
        "        w_context, wc = x[:, :2], x[:, 2]\n",
        "\n",
        "        # Each of these is (N, 2, D) since each context has 2 word\n",
        "        # We want this to be (N, D) and this is what we get\n",
        "\n",
        "        # (N, 2, D)\n",
        "        a = self.A(w_context)\n",
        "\n",
        "        # (N, D)\n",
        "        a_avg = torch.mean(a, dim=1)\n",
        "\n",
        "        # Each of these is (N, D) since each target has 1 word\n",
        "        b = self.B(wc)\n",
        "\n",
        "        # The product between each context and target vector. Look at the Skip-Gram code.\n",
        "        # The logits is now (N, 1) since we sum across the final dimension.\n",
        "        logits = (a_avg * b).sum(axis=-1)\n",
        "\n",
        "        return logits"
      ]
    },
    {
      "cell_type": "code",
      "execution_count": 31,
      "id": "7ae817c1",
      "metadata": {
        "id": "7ae817c1"
      },
      "outputs": [],
      "source": []
    },
    {
      "cell_type": "code",
      "execution_count": 32,
      "id": "ed9c509d",
      "metadata": {
        "id": "ed9c509d"
      },
      "outputs": [],
      "source": [
        "@torch.no_grad()\n",
        "def validate_embeddings(\n",
        "    model,\n",
        "    valid_ids,\n",
        "    itos\n",
        "):\n",
        "    \"\"\" Validation logic \"\"\"\n",
        "\n",
        "    # We will use context embeddings to get the most similar words\n",
        "    # Other strategies include: using target embeddings, mean embeddings after avaraging context/target\n",
        "    embedding_weights = model.A.weight\n",
        "\n",
        "    normalized_embeddings = embedding_weights.cpu() / np.sqrt(\n",
        "        np.sum(embedding_weights.cpu().numpy()**2, axis=1, keepdims=True)\n",
        "    )\n",
        "\n",
        "    # Get the embeddings corresponding to valid_term_ids\n",
        "    valid_embeddings = normalized_embeddings[valid_ids, :]\n",
        "\n",
        "    # Compute the similarity between valid_term_ids (S) and all the embeddings (V)\n",
        "    # We do S x d (d x V) => S x D and sort by negative similarity\n",
        "    top_k = 10 # Top k items will be displayed\n",
        "    similarity = np.dot(valid_embeddings.cpu().numpy(), normalized_embeddings.cpu().numpy().T)\n",
        "\n",
        "    # Invert similarity matrix to negative\n",
        "    # Ignore the first one because that would be the same word as the probe word\n",
        "    similarity_top_k = np.argsort(-similarity, axis=1)[:, 1: top_k+1]\n",
        "\n",
        "    # Print the output.\n",
        "    for i, word_id in enumerate(valid_ids):\n",
        "        # j >= 1 here since we don't want to include the word itself.\n",
        "        similar_word_str = ', '.join([itos[j] for j in similarity_top_k[i, :] if j >= 1])\n",
        "        print(f\"{itos[word_id]}: {similar_word_str}\")\n",
        "\n",
        "    print('\\n')"
      ]
    },
    {
      "cell_type": "code",
      "execution_count": 32,
      "id": "b0c194b8",
      "metadata": {
        "id": "b0c194b8"
      },
      "outputs": [],
      "source": []
    },
    {
      "cell_type": "markdown",
      "id": "3b3c6ed5",
      "metadata": {
        "id": "3b3c6ed5"
      },
      "source": [
        "### Set up the model"
      ]
    },
    {
      "cell_type": "code",
      "execution_count": 33,
      "id": "16da95d1",
      "metadata": {
        "id": "16da95d1"
      },
      "outputs": [],
      "source": [
        "LR = 10.0\n",
        "NUM_EPOCHS = 10\n",
        "EMBED_DIM = 300"
      ]
    },
    {
      "cell_type": "code",
      "execution_count": 41,
      "id": "cef585f4",
      "metadata": {
        "id": "cef585f4"
      },
      "outputs": [],
      "source": [
        "model = CBOWNegativeSampling(len(VOCAB), EMBED_DIM).to(DEVICE)\n",
        "optimizer = torch.optim.SGD(model.parameters(), lr=LR)\n",
        "# The learning rate is lowered every epoch by 1/10.\n",
        "# Is this a good idea?\n",
        "scheduler = torch.optim.lr_scheduler.StepLR(optimizer, 1, gamma=0.1)"
      ]
    },
    {
      "cell_type": "code",
      "execution_count": 42,
      "id": "f8a642bf",
      "metadata": {
        "colab": {
          "base_uri": "https://localhost:8080/"
        },
        "id": "f8a642bf",
        "outputId": "4064e586-9603-4ed7-b7ef-67c4d295d9de"
      },
      "outputs": [
        {
          "data": {
            "text/plain": [
              "CBOWNegativeSampling(\n",
              "  (A): Embedding(63641, 300)\n",
              "  (B): Embedding(63641, 300)\n",
              ")"
            ]
          },
          "execution_count": 42,
          "metadata": {},
          "output_type": "execute_result"
        }
      ],
      "source": [
        "model"
      ]
    },
    {
      "cell_type": "code",
      "execution_count": 36,
      "id": "85773616",
      "metadata": {
        "colab": {
          "base_uri": "https://localhost:8080/"
        },
        "id": "85773616",
        "outputId": "d76c5df9-6dae-4cd1-9ebb-e280875fe830"
      },
      "outputs": [
        {
          "name": "stdout",
          "output_type": "stream",
          "text": [
            "money: sowing, may, zsef, reinvented, pageant, gdynia, fiddle, gorgias, origination, velvet\n",
            "lion: haunt, shimmering, messengers, palmas, entrusted, sanatorium, vauquelin, chrysler, borrelly, rather\n",
            "africa: canons, clothed, deeds, harming, danner, unholy, adversary, winnipeg, workbench, industrially\n",
            "musician: keaton, baluchistan, medicine, disconnect, choreographer, stretch, applied, bradbury, uaw, valery\n",
            "dance: houteff, plaintiff, unimpressed, himachal, cathari, lorry, lie, klister, bandages, epsom\n",
            "\n",
            "\n"
          ]
        }
      ],
      "source": [
        "validate_embeddings(model, valid_ids, itos)"
      ]
    },
    {
      "cell_type": "code",
      "execution_count": 36,
      "id": "66075f5e",
      "metadata": {
        "id": "66075f5e"
      },
      "outputs": [],
      "source": []
    },
    {
      "cell_type": "markdown",
      "id": "86476e2a",
      "metadata": {
        "id": "86476e2a"
      },
      "source": [
        "### Train the model"
      ]
    },
    {
      "cell_type": "code",
      "execution_count": 51,
      "id": "24950481",
      "metadata": {
        "id": "24950481"
      },
      "outputs": [],
      "source": [
        "ratios = []\n",
        "\n",
        "def train(dataloader, model, optimizer, epoch):\n",
        "    model.train()\n",
        "    total_acc, total_count, total_loss, total_batches = 0, 0, 0.0, 0.0\n",
        "    log_interval = 500\n",
        "\n",
        "    for idx, x_batch in tqdm(enumerate(dataloader)):\n",
        "\n",
        "        x_batch = x_batch[0].to(DEVICE)\n",
        "\n",
        "        batch_size = x_batch.shape[0]\n",
        "\n",
        "        # Zero the gradient so they don't accumulate\n",
        "        optimizer.zero_grad()\n",
        "\n",
        "        logits = model(x_batch)\n",
        "\n",
        "        # Get the positive samples loss. Notice we use weights here\n",
        "        positive_loss = torch.nn.BCEWithLogitsLoss()(input=logits, target=torch.ones(batch_size).to(DEVICE).float())\n",
        "\n",
        "        # For each batch, get some negative samples\n",
        "        # We need a total of len(y_batch) * K samples across a batch\n",
        "        # We then reshape this batch\n",
        "        # These are effectively the output words\n",
        "        negative_samples = torch.multinomial(p, batch_size * K, replacement=True)\n",
        "\n",
        "        # Context words are 2m things, m = 1 so w_context is (N, 2) while wc is (N, )\n",
        "        w_context, wc = x_batch[:, :2].to(DEVICE), x_batch[:, 2].to(DEVICE)\n",
        "\n",
        "        \"\"\"\n",
        "        if w_context looks like below (batch_size = 3)\n",
        "        [\n",
        "        (a, b),\n",
        "        (c, d),\n",
        "        (e, f)\n",
        "        ] and K = 2 we'd like to get:\n",
        "\n",
        "        [\n",
        "        (a, b),\n",
        "        (a, b),\n",
        "        (c, d),\n",
        "        (c, d),\n",
        "        (e, f),\n",
        "        (e, f)\n",
        "        ]\n",
        "\n",
        "        This will be batch_size * K rows.\n",
        "        \"\"\"\n",
        "\n",
        "        # This should be (N * K, 2)\n",
        "        w_context = torch.concat([\n",
        "            w.to(DEVICE).repeat(K, 1) for w in torch.tensor(w_context).split(1)\n",
        "        ])\n",
        "\n",
        "        # Add a last dimension and set wc to the negative samples\n",
        "        wc = negative_samples.view(-1, 1).to(DEVICE)\n",
        "\n",
        "        # Get the negative samples. This should be (N * K, 3)\n",
        "        # Concatenate the w_context and wc along the column. Make sure everything is on CUDA / MPS or CPU\n",
        "        x_batch_negative = torch.cat([w_context, wc], dim=1).to(DEVICE)\n",
        "\n",
        "        \"\"\"\n",
        "        Note the way we formulated the targets: they are all 0 since these are negative samples.\n",
        "        We do the BCEWithLogitsLoss by hand basically here.\n",
        "        Notice we sum across the negative samples, per positive word.\n",
        "\n",
        "        This is literally the equation in the lecture notes.\n",
        "        \"\"\"\n",
        "\n",
        "        # (N, K, D) -> (N, D) -> (N)\n",
        "        # Look at the Skip-Gram notebook\n",
        "        negative_loss = model(x_batch_negative).neg().sigmoid().log().reshape(\n",
        "            batch_size, K\n",
        "        ).sum(1).mean().neg().to(DEVICE)\n",
        "\n",
        "        loss = (positive_loss + negative_loss).mean()\n",
        "\n",
        "        # Get the gradients via back propagation\n",
        "        loss.backward()\n",
        "\n",
        "        # Clip the gradients? Generally a good idea\n",
        "        torch.nn.utils.clip_grad_norm_(model.parameters(), 0.1)\n",
        "\n",
        "        # Used for optimization. This should be roughly 0.001, on average\n",
        "        # You can use this to see if your learning rate is right - you can also plot the loss performance\n",
        "        with torch.no_grad():\n",
        "            r = [\n",
        "                (LR * p.grad.std() / p.data.std()).log10().item() for _, p in model.named_parameters()\n",
        "            ]\n",
        "            ratios.append(r)\n",
        "\n",
        "        # Do an optimization step. Update the parameters A and B\n",
        "        optimizer.step()\n",
        "        # Get the new loss.\n",
        "        total_loss += loss.item()\n",
        "        # Update the batch count\n",
        "        total_batches += 1\n",
        "\n",
        "        if idx % log_interval == 0:\n",
        "            print(\n",
        "                \"| epoch {:3d} | {:5d}/{:5d} batches \"\n",
        "                \"| loss {:8.3f} \".format(\n",
        "                    epoch,\n",
        "                    idx,\n",
        "                    len(dataloader),\n",
        "                    total_loss / total_batches\n",
        "                )\n",
        "            )\n",
        "            validate_embeddings(model, valid_ids, itos)\n",
        "            total_loss, total_batches = 0.0, 0.0"
      ]
    },
    {
      "cell_type": "markdown",
      "id": "0764d675",
      "metadata": {
        "id": "0764d675"
      },
      "source": [
        "### Some results from the run look like below:\n",
        "\n",
        "Somewhere inside of 2 iterations you should get sensible associattions.\n",
        "Paste here a screenshot of the closest vectors."
      ]
    },
    {
      "cell_type": "code",
      "execution_count": 52,
      "id": "a9e02c09",
      "metadata": {
        "colab": {
          "base_uri": "https://localhost:8080/"
        },
        "id": "a9e02c09",
        "outputId": "c4d14a7c-9acc-47ea-8680-abb49b9799d1"
      },
      "outputs": [
        {
          "name": "stderr",
          "output_type": "stream",
          "text": [
            "\r0it [00:00, ?it/s]<ipython-input-51-26493fff2c5c>:53: UserWarning: To copy construct from a tensor, it is recommended to use sourceTensor.clone().detach() or sourceTensor.clone().detach().requires_grad_(True), rather than torch.tensor(sourceTensor).\n",
            "  w.to(DEVICE).repeat(K, 1) for w in torch.tensor(w_context).split(1)\n"
          ]
        },
        {
          "name": "stdout",
          "output_type": "stream",
          "text": [
            "| epoch   1 |     0/32580 batches | loss    3.993 \n"
          ]
        },
        {
          "name": "stderr",
          "output_type": "stream",
          "text": [
            "5it [00:01,  4.74it/s]"
          ]
        },
        {
          "name": "stdout",
          "output_type": "stream",
          "text": [
            "money: sudetenland, hibernation, quantitatively, sudan, pitting, exacerbate, objections, pleadings, bruise, pointer\n",
            "lion: punishment, pupils, panth, loran, rimini, vikram, marzipan, criminalised, surmised, angelika\n",
            "africa: xis, ta, meteoroids, logarithmic, demain, sopot, eemian, quo, flown, foods\n",
            "musician: dwell, pierson, karsh, bailly, metallocenes, mas, punch, challenging, diodes, mizrahim\n",
            "dance: hearth, townlands, necromancer, greta, schofield, arriba, loom, snuck, bactria, sequent\n",
            "\n",
            "\n"
          ]
        },
        {
          "name": "stderr",
          "output_type": "stream",
          "text": [
            "496it [00:13, 45.92it/s]"
          ]
        },
        {
          "name": "stdout",
          "output_type": "stream",
          "text": [
            "| epoch   1 |   500/32580 batches | loss    3.719 \n"
          ]
        },
        {
          "name": "stderr",
          "output_type": "stream",
          "text": [
            "505it [00:13, 30.76it/s]"
          ]
        },
        {
          "name": "stdout",
          "output_type": "stream",
          "text": [
            "money: sudetenland, hibernation, quantitatively, sudan, pitting, exacerbate, objections, pleadings, bruise, lambeth\n",
            "lion: punishment, pupils, panth, loran, rimini, marzipan, vikram, criminalised, angelika, surmised\n",
            "africa: xis, ta, meteoroids, logarithmic, flown, eemian, demain, sopot, flockhart, quo\n",
            "musician: dwell, pierson, karsh, bailly, metallocenes, mizrahim, diodes, punch, mas, challenging\n",
            "dance: hearth, necromancer, townlands, greta, schofield, arriba, loom, bactria, scheduling, snuck\n",
            "\n",
            "\n"
          ]
        },
        {
          "name": "stderr",
          "output_type": "stream",
          "text": [
            "998it [00:25, 46.39it/s]"
          ]
        },
        {
          "name": "stdout",
          "output_type": "stream",
          "text": [
            "| epoch   1 |  1000/32580 batches | loss    3.360 \n"
          ]
        },
        {
          "name": "stderr",
          "output_type": "stream",
          "text": [
            "1008it [00:25, 30.81it/s]"
          ]
        },
        {
          "name": "stdout",
          "output_type": "stream",
          "text": [
            "money: sudetenland, hibernation, quantitatively, sudan, exacerbate, objections, pitting, bruise, insuring, pleadings\n",
            "lion: punishment, pupils, panth, loran, rimini, marzipan, angelika, criminalised, vikram, surmised\n",
            "africa: meteoroids, ta, xis, flockhart, flown, freedman, eemian, foods, logarithmic, demain\n",
            "musician: dwell, pierson, karsh, bailly, metallocenes, mizrahim, star, diodes, punch, mas\n",
            "dance: hearth, townlands, greta, necromancer, scheduling, schofield, bactria, arriba, tidal, snuck\n",
            "\n",
            "\n"
          ]
        },
        {
          "name": "stderr",
          "output_type": "stream",
          "text": [
            "1496it [00:36, 46.07it/s]"
          ]
        },
        {
          "name": "stdout",
          "output_type": "stream",
          "text": [
            "| epoch   1 |  1500/32580 batches | loss    3.036 \n"
          ]
        },
        {
          "name": "stderr",
          "output_type": "stream",
          "text": [
            "1505it [00:37, 30.46it/s]"
          ]
        },
        {
          "name": "stdout",
          "output_type": "stream",
          "text": [
            "money: sudetenland, hibernation, quantitatively, sudan, exacerbate, objections, pitting, insuring, bruise, lambeth\n",
            "lion: punishment, pupils, loran, panth, rimini, angelika, marzipan, criminalised, vikram, surmised\n",
            "africa: meteoroids, ta, xis, freedman, flockhart, foods, arabians, unimportant, flown, relative\n",
            "musician: dwell, pierson, bailly, karsh, star, metallocenes, mizrahim, punch, diodes, mas\n",
            "dance: hearth, townlands, greta, necromancer, scheduling, bactria, schofield, arriba, tidal, snuck\n",
            "\n",
            "\n"
          ]
        },
        {
          "name": "stderr",
          "output_type": "stream",
          "text": [
            "1996it [00:48, 44.24it/s]"
          ]
        },
        {
          "name": "stdout",
          "output_type": "stream",
          "text": [
            "| epoch   1 |  2000/32580 batches | loss    2.792 \n"
          ]
        },
        {
          "name": "stderr",
          "output_type": "stream",
          "text": [
            "2005it [00:49, 30.26it/s]"
          ]
        },
        {
          "name": "stdout",
          "output_type": "stream",
          "text": [
            "money: sudetenland, hibernation, quantitatively, objections, sudan, exacerbate, pitting, bruise, dimebag, insuring\n",
            "lion: punishment, loran, pupils, panth, rimini, angelika, marzipan, criminalised, vikram, waldensians\n",
            "africa: meteoroids, ta, xis, foods, flockhart, freedman, flown, arabians, eemian, relative\n",
            "musician: dwell, pierson, star, bailly, karsh, metallocenes, diodes, mizrahim, punch, samaritans\n",
            "dance: hearth, townlands, greta, necromancer, scheduling, bactria, schofield, tidal, arriba, snuck\n",
            "\n",
            "\n"
          ]
        },
        {
          "name": "stderr",
          "output_type": "stream",
          "text": [
            "2497it [01:01, 34.65it/s]"
          ]
        },
        {
          "name": "stdout",
          "output_type": "stream",
          "text": [
            "| epoch   1 |  2500/32580 batches | loss    2.620 \n"
          ]
        },
        {
          "name": "stderr",
          "output_type": "stream",
          "text": [
            "2505it [01:02, 23.70it/s]"
          ]
        },
        {
          "name": "stdout",
          "output_type": "stream",
          "text": [
            "money: sudetenland, hibernation, quantitatively, objections, exacerbate, sudan, dimebag, sky, bruise, growers\n",
            "lion: punishment, pupils, loran, panth, rimini, angelika, marzipan, vikram, criminalised, waldensians\n",
            "africa: meteoroids, ta, xis, flockhart, foods, freedman, arabians, ism, relative, flown\n",
            "musician: dwell, pierson, star, bailly, metallocenes, karsh, diodes, mizrahim, group, punch\n",
            "dance: hearth, townlands, necromancer, greta, scheduling, bactria, schofield, courbet, noon, paz\n",
            "\n",
            "\n"
          ]
        },
        {
          "name": "stderr",
          "output_type": "stream",
          "text": [
            "2998it [01:13, 35.13it/s]"
          ]
        },
        {
          "name": "stdout",
          "output_type": "stream",
          "text": [
            "| epoch   1 |  3000/32580 batches | loss    2.487 \n"
          ]
        },
        {
          "name": "stderr",
          "output_type": "stream",
          "text": [
            "3006it [01:13, 21.69it/s]"
          ]
        },
        {
          "name": "stdout",
          "output_type": "stream",
          "text": [
            "money: sudetenland, quantitatively, hibernation, objections, dimebag, exacerbate, growers, sky, bruise, often\n",
            "lion: punishment, loran, panth, pupils, rimini, angelika, marzipan, vikram, criminalised, inverses\n",
            "africa: meteoroids, ta, flockhart, used, freedman, xis, foods, arabians, japan, relative\n",
            "musician: dwell, star, pierson, group, bailly, metallocenes, mizrahim, diodes, karsh, punch\n",
            "dance: hearth, townlands, necromancer, greta, scheduling, bactria, noon, schofield, paz, courbet\n",
            "\n",
            "\n"
          ]
        },
        {
          "name": "stderr",
          "output_type": "stream",
          "text": [
            "3496it [01:24, 46.25it/s]"
          ]
        },
        {
          "name": "stdout",
          "output_type": "stream",
          "text": [
            "| epoch   1 |  3500/32580 batches | loss    2.382 \n"
          ]
        },
        {
          "name": "stderr",
          "output_type": "stream",
          "text": [
            "3505it [01:25, 30.64it/s]"
          ]
        },
        {
          "name": "stdout",
          "output_type": "stream",
          "text": [
            "money: sudetenland, objections, quantitatively, hibernation, often, dimebag, exacerbate, notion, growers, sky\n",
            "lion: punishment, loran, pupils, panth, angelika, rimini, marzipan, vikram, inverses, criminalised\n",
            "africa: used, japan, large, all, than, under, meteoroids, were, if, and\n",
            "musician: star, dwell, group, pierson, bailly, metallocenes, mizrahim, diodes, punch, karsh\n",
            "dance: hearth, townlands, necromancer, greta, scheduling, bactria, courbet, bolognini, noon, paz\n",
            "\n",
            "\n"
          ]
        },
        {
          "name": "stderr",
          "output_type": "stream",
          "text": [
            "3997it [01:36, 46.58it/s]"
          ]
        },
        {
          "name": "stdout",
          "output_type": "stream",
          "text": [
            "| epoch   1 |  4000/32580 batches | loss    2.297 \n"
          ]
        },
        {
          "name": "stderr",
          "output_type": "stream",
          "text": [
            "4007it [01:37, 31.29it/s]"
          ]
        },
        {
          "name": "stdout",
          "output_type": "stream",
          "text": [
            "money: often, objections, quantitatively, sudetenland, hibernation, name, dimebag, notion, sky, exacerbate\n",
            "lion: punishment, loran, pupils, panth, angelika, rimini, marzipan, inverses, vikram, criminalised\n",
            "africa: used, than, all, under, japan, large, but, if, history, time\n",
            "musician: star, group, dwell, pierson, bailly, metallocenes, mizrahim, diodes, like, punch\n",
            "dance: hearth, townlands, necromancer, greta, bactria, scheduling, bolognini, modernize, courbet, helpers\n",
            "\n",
            "\n"
          ]
        },
        {
          "name": "stderr",
          "output_type": "stream",
          "text": [
            "4497it [01:49, 46.32it/s]"
          ]
        },
        {
          "name": "stdout",
          "output_type": "stream",
          "text": [
            "| epoch   1 |  4500/32580 batches | loss    2.221 \n"
          ]
        },
        {
          "name": "stderr",
          "output_type": "stream",
          "text": [
            "4507it [01:49, 31.70it/s]"
          ]
        },
        {
          "name": "stdout",
          "output_type": "stream",
          "text": [
            "money: often, name, objections, quantitatively, union, international, second, sudetenland, notion, hibernation\n",
            "lion: punishment, loran, pupils, panth, angelika, rimini, marzipan, inverses, vikram, criminalised\n",
            "africa: used, all, than, japan, large, if, under, history, united, eight\n",
            "musician: star, group, dwell, pierson, x, like, late, bailly, any, released\n",
            "dance: hearth, townlands, necromancer, greta, scheduling, bactria, modernize, bolognini, courbet, force\n",
            "\n",
            "\n"
          ]
        },
        {
          "name": "stderr",
          "output_type": "stream",
          "text": [
            "5000it [02:01, 46.15it/s]"
          ]
        },
        {
          "name": "stdout",
          "output_type": "stream",
          "text": [
            "| epoch   1 |  5000/32580 batches | loss    2.156 \n"
          ]
        },
        {
          "name": "stderr",
          "output_type": "stream",
          "text": [
            "\r5005it [02:01, 27.35it/s]"
          ]
        },
        {
          "name": "stdout",
          "output_type": "stream",
          "text": [
            "money: often, name, death, second, union, objections, international, place, made, quantitatively\n",
            "lion: punishment, loran, pupils, angelika, panth, rimini, marzipan, criminalised, vikram, waldensians\n",
            "africa: used, all, if, than, eight, large, united, japan, history, time\n",
            "musician: group, star, dwell, late, like, pierson, x, released, history, any\n",
            "dance: hearth, townlands, necromancer, bactria, scheduling, greta, force, modernize, bolognini, part\n",
            "\n",
            "\n"
          ]
        },
        {
          "name": "stderr",
          "output_type": "stream",
          "text": [
            "5499it [02:13, 45.86it/s]"
          ]
        },
        {
          "name": "stdout",
          "output_type": "stream",
          "text": [
            "| epoch   1 |  5500/32580 batches | loss    2.102 \n"
          ]
        },
        {
          "name": "stderr",
          "output_type": "stream",
          "text": [
            "5509it [02:13, 31.70it/s]"
          ]
        },
        {
          "name": "stdout",
          "output_type": "stream",
          "text": [
            "money: often, name, death, union, second, made, place, list, process, him\n",
            "lion: punishment, loran, angelika, pupils, panth, rimini, marzipan, waldensians, vikram, criminalised\n",
            "africa: used, all, than, if, united, time, eight, history, five, large\n",
            "musician: star, group, like, late, dwell, history, x, released, any, pierson\n",
            "dance: townlands, hearth, force, necromancer, bactria, scheduling, part, greta, m, taken\n",
            "\n",
            "\n"
          ]
        },
        {
          "name": "stderr",
          "output_type": "stream",
          "text": [
            "5998it [02:25, 46.78it/s]"
          ]
        },
        {
          "name": "stdout",
          "output_type": "stream",
          "text": [
            "| epoch   1 |  6000/32580 batches | loss    2.058 \n"
          ]
        },
        {
          "name": "stderr",
          "output_type": "stream",
          "text": [
            "6008it [02:25, 31.99it/s]"
          ]
        },
        {
          "name": "stdout",
          "output_type": "stream",
          "text": [
            "money: often, name, union, death, place, second, list, forces, made, process\n",
            "lion: punishment, loran, angelika, pupils, panth, rimini, marzipan, waldensians, inverses, criminalised\n",
            "africa: used, all, and, than, history, if, time, united, eight, seven\n",
            "musician: star, group, like, late, history, released, x, dwell, born, jewish\n",
            "dance: force, part, townlands, hearth, necromancer, over, m, bactria, men, taken\n",
            "\n",
            "\n"
          ]
        },
        {
          "name": "stderr",
          "output_type": "stream",
          "text": [
            "6500it [02:37, 46.17it/s]"
          ]
        },
        {
          "name": "stdout",
          "output_type": "stream",
          "text": [
            "| epoch   1 |  6500/32580 batches | loss    2.016 \n"
          ]
        },
        {
          "name": "stderr",
          "output_type": "stream",
          "text": [
            "\r6505it [02:37, 28.00it/s]"
          ]
        },
        {
          "name": "stdout",
          "output_type": "stream",
          "text": [
            "money: often, name, place, list, union, made, death, him, second, used\n",
            "lion: punishment, loran, angelika, panth, pupils, rimini, marzipan, september, journal, inverses\n",
            "africa: used, history, seven, time, if, eight, large, and, than, all\n",
            "musician: group, star, like, late, history, released, jewish, x, born, dwell\n",
            "dance: force, part, m, over, those, men, taken, while, townlands, have\n",
            "\n",
            "\n"
          ]
        },
        {
          "name": "stderr",
          "output_type": "stream",
          "text": [
            "6999it [02:48, 36.10it/s]"
          ]
        },
        {
          "name": "stdout",
          "output_type": "stream",
          "text": [
            "| epoch   1 |  7000/32580 batches | loss    1.980 \n"
          ]
        },
        {
          "name": "stderr",
          "output_type": "stream",
          "text": [
            "\r7003it [02:49, 18.66it/s]"
          ]
        },
        {
          "name": "stdout",
          "output_type": "stream",
          "text": [
            "money: often, name, place, union, made, death, list, order, him, process\n",
            "lion: punishment, loran, angelika, panth, pupils, rimini, september, journal, marzipan, inverses\n",
            "africa: used, history, time, seven, large, eight, than, nine, use, united\n",
            "musician: group, star, late, like, history, born, x, released, jewish, case\n",
            "dance: force, part, over, m, those, men, taken, have, while, townlands\n",
            "\n",
            "\n"
          ]
        },
        {
          "name": "stderr",
          "output_type": "stream",
          "text": [
            "7498it [03:00, 35.12it/s]"
          ]
        },
        {
          "name": "stdout",
          "output_type": "stream",
          "text": [
            "| epoch   1 |  7500/32580 batches | loss    1.946 \n"
          ]
        },
        {
          "name": "stderr",
          "output_type": "stream",
          "text": [
            "7506it [03:00, 22.25it/s]"
          ]
        },
        {
          "name": "stdout",
          "output_type": "stream",
          "text": [
            "money: name, often, place, death, made, union, process, list, order, only\n",
            "lion: punishment, loran, angelika, panth, pupils, rimini, september, journal, marzipan, inverses\n",
            "africa: used, history, nine, seven, time, eight, four, united, south, large\n",
            "musician: group, star, late, like, born, released, history, jewish, x, another\n",
            "dance: force, part, m, over, those, men, while, taken, city, be\n",
            "\n",
            "\n"
          ]
        },
        {
          "name": "stderr",
          "output_type": "stream",
          "text": [
            "7997it [03:11, 46.36it/s]"
          ]
        },
        {
          "name": "stdout",
          "output_type": "stream",
          "text": [
            "| epoch   1 |  8000/32580 batches | loss    1.915 \n"
          ]
        },
        {
          "name": "stderr",
          "output_type": "stream",
          "text": [
            "8007it [03:12, 31.60it/s]"
          ]
        },
        {
          "name": "stdout",
          "output_type": "stream",
          "text": [
            "money: place, death, often, name, list, made, process, union, order, used\n",
            "lion: punishment, loran, angelika, journal, panth, september, pupils, rimini, etc, metals\n",
            "africa: used, history, nine, eight, seven, united, use, four, large, south\n",
            "musician: group, star, late, born, released, like, jewish, history, x, case\n",
            "dance: force, part, m, over, those, men, while, city, have, taken\n",
            "\n",
            "\n"
          ]
        },
        {
          "name": "stderr",
          "output_type": "stream",
          "text": [
            "8499it [03:23, 44.97it/s]"
          ]
        },
        {
          "name": "stdout",
          "output_type": "stream",
          "text": [
            "| epoch   1 |  8500/32580 batches | loss    1.885 \n"
          ]
        },
        {
          "name": "stderr",
          "output_type": "stream",
          "text": [
            "8509it [03:24, 31.53it/s]"
          ]
        },
        {
          "name": "stdout",
          "output_type": "stream",
          "text": [
            "money: list, death, place, name, process, union, order, often, made, used\n",
            "lion: punishment, loran, angelika, journal, september, panth, pupils, rimini, etc, direct\n",
            "africa: used, eight, history, nine, south, use, six, seven, united, large\n",
            "musician: group, star, late, born, released, like, jewish, case, history, x\n",
            "dance: part, force, those, while, m, men, over, city, taken, have\n",
            "\n",
            "\n"
          ]
        },
        {
          "name": "stderr",
          "output_type": "stream",
          "text": [
            "8997it [03:35, 46.42it/s]"
          ]
        },
        {
          "name": "stdout",
          "output_type": "stream",
          "text": [
            "| epoch   1 |  9000/32580 batches | loss    1.860 \n"
          ]
        },
        {
          "name": "stderr",
          "output_type": "stream",
          "text": [
            "9007it [03:36, 31.31it/s]"
          ]
        },
        {
          "name": "stdout",
          "output_type": "stream",
          "text": [
            "money: place, death, name, list, order, made, process, often, union, god\n",
            "lion: punishment, loran, journal, angelika, september, panth, pupils, rimini, etc, lithuania\n",
            "africa: used, history, eight, use, nine, and, south, seven, six, four\n",
            "musician: group, star, late, born, released, case, jewish, history, like, x\n",
            "dance: part, force, while, men, those, m, city, have, taken, over\n",
            "\n",
            "\n"
          ]
        },
        {
          "name": "stderr",
          "output_type": "stream",
          "text": [
            "9500it [03:47, 45.26it/s]"
          ]
        },
        {
          "name": "stdout",
          "output_type": "stream",
          "text": [
            "| epoch   1 |  9500/32580 batches | loss    1.835 \n"
          ]
        },
        {
          "name": "stderr",
          "output_type": "stream",
          "text": [
            "\r9505it [03:48, 27.62it/s]"
          ]
        },
        {
          "name": "stdout",
          "output_type": "stream",
          "text": [
            "money: place, death, name, list, order, god, process, made, fact, union\n",
            "lion: punishment, loran, journal, september, angelika, panth, pupils, rimini, etc, lithuania\n",
            "africa: used, eight, history, use, nine, six, south, seven, united, four\n",
            "musician: group, star, born, late, released, case, history, jewish, like, order\n",
            "dance: part, force, those, while, men, m, support, city, have, now\n",
            "\n",
            "\n"
          ]
        },
        {
          "name": "stderr",
          "output_type": "stream",
          "text": [
            "9996it [03:59, 45.24it/s]"
          ]
        },
        {
          "name": "stdout",
          "output_type": "stream",
          "text": [
            "| epoch   1 | 10000/32580 batches | loss    1.816 \n"
          ]
        },
        {
          "name": "stderr",
          "output_type": "stream",
          "text": [
            "10005it [04:00, 30.65it/s]"
          ]
        },
        {
          "name": "stdout",
          "output_type": "stream",
          "text": [
            "money: place, order, death, list, process, name, fact, god, union, made\n",
            "lion: punishment, journal, september, loran, angelika, panth, pupils, etc, rimini, lithuania\n",
            "africa: used, history, nine, use, eight, south, six, united, seven, four\n",
            "musician: group, born, late, star, released, case, history, order, wrote, x\n",
            "dance: part, force, men, while, those, now, support, use, city, taken\n",
            "\n",
            "\n"
          ]
        },
        {
          "name": "stderr",
          "output_type": "stream",
          "text": [
            "10498it [04:11, 46.40it/s]"
          ]
        },
        {
          "name": "stdout",
          "output_type": "stream",
          "text": [
            "| epoch   1 | 10500/32580 batches | loss    1.797 \n"
          ]
        },
        {
          "name": "stderr",
          "output_type": "stream",
          "text": [
            "10508it [04:12, 31.30it/s]"
          ]
        },
        {
          "name": "stdout",
          "output_type": "stream",
          "text": [
            "money: place, order, death, list, process, fact, name, union, god, example\n",
            "lion: punishment, september, journal, loran, angelika, british, direct, panth, pupils, etc\n",
            "africa: south, history, nine, used, use, eight, united, six, seven, u\n",
            "musician: group, born, late, star, case, released, order, history, wrote, like\n",
            "dance: part, force, men, those, while, city, use, support, now, taken\n",
            "\n",
            "\n"
          ]
        },
        {
          "name": "stderr",
          "output_type": "stream",
          "text": [
            "10998it [04:23, 33.76it/s]"
          ]
        },
        {
          "name": "stdout",
          "output_type": "stream",
          "text": [
            "| epoch   1 | 11000/32580 batches | loss    1.777 \n"
          ]
        },
        {
          "name": "stderr",
          "output_type": "stream",
          "text": [
            "11007it [04:24, 25.60it/s]"
          ]
        },
        {
          "name": "stdout",
          "output_type": "stream",
          "text": [
            "money: place, order, death, list, process, fact, god, example, addition, union\n",
            "lion: punishment, september, journal, loran, angelika, british, direct, panth, pupils, lithuania\n",
            "africa: south, history, use, nine, used, united, eight, seven, island, part\n",
            "musician: group, born, late, case, star, released, order, wrote, history, india\n",
            "dance: part, force, men, those, while, support, army, city, m, use\n",
            "\n",
            "\n"
          ]
        },
        {
          "name": "stderr",
          "output_type": "stream",
          "text": [
            "11497it [04:35, 34.19it/s]"
          ]
        },
        {
          "name": "stdout",
          "output_type": "stream",
          "text": [
            "| epoch   1 | 11500/32580 batches | loss    1.759 \n"
          ]
        },
        {
          "name": "stderr",
          "output_type": "stream",
          "text": [
            "11504it [04:36, 20.82it/s]"
          ]
        },
        {
          "name": "stdout",
          "output_type": "stream",
          "text": [
            "money: place, order, death, fact, example, list, god, process, addition, part\n",
            "lion: punishment, september, journal, direct, british, loran, angelika, panth, pupils, lithuania\n",
            "africa: south, history, nine, used, use, united, eight, seven, part, order\n",
            "musician: group, born, late, case, star, released, order, wrote, x, seven\n",
            "dance: force, part, men, those, support, while, meaning, city, m, army\n",
            "\n",
            "\n"
          ]
        },
        {
          "name": "stderr",
          "output_type": "stream",
          "text": [
            "11997it [04:47, 45.94it/s]"
          ]
        },
        {
          "name": "stdout",
          "output_type": "stream",
          "text": [
            "| epoch   1 | 12000/32580 batches | loss    1.740 \n"
          ]
        },
        {
          "name": "stderr",
          "output_type": "stream",
          "text": [
            "12006it [04:47, 25.52it/s]"
          ]
        },
        {
          "name": "stdout",
          "output_type": "stream",
          "text": [
            "money: place, fact, order, death, process, example, god, addition, part, well\n",
            "lion: punishment, journal, september, direct, british, loran, angelika, english, etc, lithuania\n",
            "africa: south, nine, history, used, united, use, eight, seven, part, end\n",
            "musician: group, born, late, case, star, released, order, u, country, seven\n",
            "dance: force, part, men, support, those, use, city, army, taken, meaning\n",
            "\n",
            "\n"
          ]
        },
        {
          "name": "stderr",
          "output_type": "stream",
          "text": [
            "12499it [04:59, 45.33it/s]"
          ]
        },
        {
          "name": "stdout",
          "output_type": "stream",
          "text": [
            "| epoch   1 | 12500/32580 batches | loss    1.729 \n"
          ]
        },
        {
          "name": "stderr",
          "output_type": "stream",
          "text": [
            "12509it [04:59, 31.11it/s]"
          ]
        },
        {
          "name": "stdout",
          "output_type": "stream",
          "text": [
            "money: place, fact, order, death, process, god, addition, example, part, well\n",
            "lion: punishment, september, journal, direct, british, english, loran, angelika, lithuania, french\n",
            "africa: south, nine, united, eight, part, use, used, end, history, north\n",
            "musician: group, born, late, case, star, released, order, india, u, country\n",
            "dance: force, part, men, those, support, use, army, meaning, music, taken\n",
            "\n",
            "\n"
          ]
        },
        {
          "name": "stderr",
          "output_type": "stream",
          "text": [
            "12997it [05:11, 46.17it/s]"
          ]
        },
        {
          "name": "stdout",
          "output_type": "stream",
          "text": [
            "| epoch   1 | 13000/32580 batches | loss    1.709 \n"
          ]
        },
        {
          "name": "stderr",
          "output_type": "stream",
          "text": [
            "13007it [05:11, 31.02it/s]"
          ]
        },
        {
          "name": "stdout",
          "output_type": "stream",
          "text": [
            "money: place, fact, order, process, death, addition, god, part, example, well\n",
            "lion: punishment, september, journal, direct, british, german, french, english, lithuania, came\n",
            "africa: south, nine, end, united, history, eight, part, used, use, north\n",
            "musician: group, born, late, case, star, released, order, seven, wrote, country\n",
            "dance: part, force, men, support, meaning, those, music, use, m, army\n",
            "\n",
            "\n"
          ]
        },
        {
          "name": "stderr",
          "output_type": "stream",
          "text": [
            "13499it [05:23, 46.07it/s]"
          ]
        },
        {
          "name": "stdout",
          "output_type": "stream",
          "text": [
            "| epoch   1 | 13500/32580 batches | loss    1.696 \n"
          ]
        },
        {
          "name": "stderr",
          "output_type": "stream",
          "text": [
            "13509it [05:23, 31.64it/s]"
          ]
        },
        {
          "name": "stdout",
          "output_type": "stream",
          "text": [
            "money: place, fact, order, process, god, death, addition, example, part, well\n",
            "lion: punishment, september, journal, british, direct, german, french, lithuania, came, english\n",
            "africa: south, united, nine, end, history, eight, part, north, use, seven\n",
            "musician: group, born, late, case, released, star, order, seven, country, writer\n",
            "dance: part, force, men, support, use, army, music, meaning, city, those\n",
            "\n",
            "\n"
          ]
        },
        {
          "name": "stderr",
          "output_type": "stream",
          "text": [
            "13998it [05:36, 45.98it/s]"
          ]
        },
        {
          "name": "stdout",
          "output_type": "stream",
          "text": [
            "| epoch   1 | 14000/32580 batches | loss    1.683 \n"
          ]
        },
        {
          "name": "stderr",
          "output_type": "stream",
          "text": [
            "14008it [05:37, 31.38it/s]"
          ]
        },
        {
          "name": "stdout",
          "output_type": "stream",
          "text": [
            "money: place, fact, order, addition, god, process, death, example, well, part\n",
            "lion: punishment, september, journal, direct, british, french, german, lithuania, came, england\n",
            "africa: south, end, nine, part, united, history, north, eight, japan, seven\n",
            "musician: group, born, late, case, released, star, order, battle, country, writer\n",
            "dance: force, part, men, support, music, use, army, meaning, city, study\n",
            "\n",
            "\n"
          ]
        },
        {
          "name": "stderr",
          "output_type": "stream",
          "text": [
            "14496it [05:48, 46.19it/s]"
          ]
        },
        {
          "name": "stdout",
          "output_type": "stream",
          "text": [
            "| epoch   1 | 14500/32580 batches | loss    1.668 \n"
          ]
        },
        {
          "name": "stderr",
          "output_type": "stream",
          "text": [
            "14505it [05:49, 30.43it/s]"
          ]
        },
        {
          "name": "stdout",
          "output_type": "stream",
          "text": [
            "money: place, fact, addition, order, death, process, god, example, well, seen\n",
            "lion: punishment, journal, september, direct, british, french, lithuania, german, england, came\n",
            "africa: south, end, north, united, nine, part, eight, japan, seven, america\n",
            "musician: group, born, late, case, released, star, battle, order, writer, country\n",
            "dance: force, part, men, support, music, meaning, use, study, army, head\n",
            "\n",
            "\n"
          ]
        },
        {
          "name": "stderr",
          "output_type": "stream",
          "text": [
            "14998it [06:00, 40.55it/s]"
          ]
        },
        {
          "name": "stdout",
          "output_type": "stream",
          "text": [
            "| epoch   1 | 15000/32580 batches | loss    1.658 \n"
          ]
        },
        {
          "name": "stderr",
          "output_type": "stream",
          "text": [
            "15007it [06:01, 28.53it/s]"
          ]
        },
        {
          "name": "stdout",
          "output_type": "stream",
          "text": [
            "money: place, fact, addition, order, process, god, well, death, example, seen\n",
            "lion: punishment, september, journal, direct, british, french, german, lithuania, england, population\n",
            "africa: south, north, end, nine, united, part, europe, japan, seven, america\n",
            "musician: group, born, late, case, released, star, battle, writer, order, seven\n",
            "dance: force, part, men, support, music, meaning, study, army, battle, head\n",
            "\n",
            "\n"
          ]
        },
        {
          "name": "stderr",
          "output_type": "stream",
          "text": [
            "15500it [06:12, 34.13it/s]"
          ]
        },
        {
          "name": "stdout",
          "output_type": "stream",
          "text": [
            "| epoch   1 | 15500/32580 batches | loss    1.644 \n"
          ]
        },
        {
          "name": "stderr",
          "output_type": "stream",
          "text": [
            "\r15504it [06:12, 18.74it/s]"
          ]
        },
        {
          "name": "stdout",
          "output_type": "stream",
          "text": [
            "money: place, fact, addition, well, order, death, god, example, seen, process\n",
            "lion: punishment, journal, september, british, direct, french, lithuania, england, population, german\n",
            "africa: south, end, north, nine, united, america, part, europe, japan, seven\n",
            "musician: group, born, late, case, star, battle, released, writer, seven, order\n",
            "dance: force, part, support, men, music, head, study, army, battle, use\n",
            "\n",
            "\n"
          ]
        },
        {
          "name": "stderr",
          "output_type": "stream",
          "text": [
            "15999it [06:23, 46.15it/s]"
          ]
        },
        {
          "name": "stdout",
          "output_type": "stream",
          "text": [
            "| epoch   1 | 16000/32580 batches | loss    1.641 \n"
          ]
        },
        {
          "name": "stderr",
          "output_type": "stream",
          "text": [
            "\r16004it [06:23, 25.80it/s]"
          ]
        },
        {
          "name": "stdout",
          "output_type": "stream",
          "text": [
            "money: fact, place, addition, order, death, seen, well, often, battle, example\n",
            "lion: punishment, british, september, journal, direct, french, england, german, population, lithuania\n",
            "africa: south, end, north, america, united, part, nine, europe, eight, japan\n",
            "musician: group, born, late, battle, star, case, writer, released, country, order\n",
            "dance: force, part, support, men, music, head, study, battle, army, concept\n",
            "\n",
            "\n"
          ]
        },
        {
          "name": "stderr",
          "output_type": "stream",
          "text": [
            "16497it [06:35, 46.24it/s]"
          ]
        },
        {
          "name": "stdout",
          "output_type": "stream",
          "text": [
            "| epoch   1 | 16500/32580 batches | loss    1.618 \n"
          ]
        },
        {
          "name": "stderr",
          "output_type": "stream",
          "text": [
            "16507it [06:36, 31.01it/s]"
          ]
        },
        {
          "name": "stdout",
          "output_type": "stream",
          "text": [
            "money: fact, place, addition, order, death, seen, battle, well, example, process\n",
            "lion: punishment, british, september, journal, direct, german, england, french, population, lithuania\n",
            "africa: south, north, europe, united, nine, america, end, part, seven, japan\n",
            "musician: group, born, late, battle, star, writer, case, released, actress, seven\n",
            "dance: force, part, support, music, men, study, head, battle, concept, army\n",
            "\n",
            "\n"
          ]
        },
        {
          "name": "stderr",
          "output_type": "stream",
          "text": [
            "16996it [06:50, 46.02it/s]"
          ]
        },
        {
          "name": "stdout",
          "output_type": "stream",
          "text": [
            "| epoch   1 | 17000/32580 batches | loss    1.616 \n"
          ]
        },
        {
          "name": "stderr",
          "output_type": "stream",
          "text": [
            "17005it [06:50, 30.63it/s]"
          ]
        },
        {
          "name": "stdout",
          "output_type": "stream",
          "text": [
            "money: fact, place, addition, death, battle, seen, well, order, part, example\n",
            "lion: punishment, september, british, journal, direct, german, england, french, population, lithuania\n",
            "africa: south, north, europe, end, america, united, nine, japan, part, australia\n",
            "musician: born, group, late, battle, writer, case, star, author, released, addition\n",
            "dance: force, part, support, music, study, men, head, concept, battle, army\n",
            "\n",
            "\n"
          ]
        },
        {
          "name": "stderr",
          "output_type": "stream",
          "text": [
            "17500it [07:02, 46.34it/s]"
          ]
        },
        {
          "name": "stdout",
          "output_type": "stream",
          "text": [
            "| epoch   1 | 17500/32580 batches | loss    1.602 \n"
          ]
        },
        {
          "name": "stderr",
          "output_type": "stream",
          "text": [
            "\r17505it [07:02, 27.86it/s]"
          ]
        },
        {
          "name": "stdout",
          "output_type": "stream",
          "text": [
            "money: fact, place, addition, seen, death, order, well, part, battle, example\n",
            "lion: punishment, september, journal, german, british, direct, french, england, population, lithuania\n",
            "africa: south, north, europe, america, end, united, nine, japan, australia, part\n",
            "musician: born, late, group, writer, battle, case, actress, author, star, actor\n",
            "dance: force, support, part, music, study, men, head, concept, battle, writer\n",
            "\n",
            "\n"
          ]
        },
        {
          "name": "stderr",
          "output_type": "stream",
          "text": [
            "17999it [07:14, 46.15it/s]"
          ]
        },
        {
          "name": "stdout",
          "output_type": "stream",
          "text": [
            "| epoch   1 | 18000/32580 batches | loss    1.597 \n"
          ]
        },
        {
          "name": "stderr",
          "output_type": "stream",
          "text": [
            "18009it [07:14, 31.82it/s]"
          ]
        },
        {
          "name": "stdout",
          "output_type": "stream",
          "text": [
            "money: fact, place, addition, order, seen, death, part, battle, well, example\n",
            "lion: september, punishment, journal, british, german, direct, french, england, population, lithuania\n",
            "africa: south, north, europe, america, end, united, nine, japan, australia, part\n",
            "musician: born, late, group, writer, actress, battle, actor, case, author, addition\n",
            "dance: force, part, support, music, head, study, concept, men, battle, army\n",
            "\n",
            "\n"
          ]
        },
        {
          "name": "stderr",
          "output_type": "stream",
          "text": [
            "18497it [07:26, 45.39it/s]"
          ]
        },
        {
          "name": "stdout",
          "output_type": "stream",
          "text": [
            "| epoch   1 | 18500/32580 batches | loss    1.586 \n"
          ]
        },
        {
          "name": "stderr",
          "output_type": "stream",
          "text": [
            "18507it [07:26, 31.51it/s]"
          ]
        },
        {
          "name": "stdout",
          "output_type": "stream",
          "text": [
            "money: fact, addition, place, seen, order, death, battle, part, well, work\n",
            "lion: september, punishment, journal, british, german, england, direct, french, lithuania, population\n",
            "africa: south, europe, end, america, north, united, nine, japan, australia, seven\n",
            "musician: born, late, group, writer, actress, actor, battle, author, addition, case\n",
            "dance: force, support, part, music, head, study, concept, battle, men, process\n",
            "\n",
            "\n"
          ]
        },
        {
          "name": "stderr",
          "output_type": "stream",
          "text": [
            "19000it [07:38, 46.03it/s]"
          ]
        },
        {
          "name": "stdout",
          "output_type": "stream",
          "text": [
            "| epoch   1 | 19000/32580 batches | loss    1.577 \n"
          ]
        },
        {
          "name": "stderr",
          "output_type": "stream",
          "text": [
            "\r19005it [07:38, 27.50it/s]"
          ]
        },
        {
          "name": "stdout",
          "output_type": "stream",
          "text": [
            "money: fact, addition, place, seen, part, order, death, example, well, battle\n",
            "lion: september, journal, punishment, british, german, england, direct, french, population, lithuania\n",
            "africa: south, europe, end, america, north, australia, united, japan, nine, seven\n",
            "musician: born, late, group, writer, actress, actor, author, battle, addition, case\n",
            "dance: support, force, part, music, study, head, concept, battle, writer, process\n",
            "\n",
            "\n"
          ]
        },
        {
          "name": "stderr",
          "output_type": "stream",
          "text": [
            "19498it [07:50, 46.21it/s]"
          ]
        },
        {
          "name": "stdout",
          "output_type": "stream",
          "text": [
            "| epoch   1 | 19500/32580 batches | loss    1.567 \n"
          ]
        },
        {
          "name": "stderr",
          "output_type": "stream",
          "text": [
            "19508it [07:50, 31.93it/s]"
          ]
        },
        {
          "name": "stdout",
          "output_type": "stream",
          "text": [
            "money: fact, addition, place, seen, part, work, order, example, well, battle\n",
            "lion: september, journal, punishment, british, england, german, direct, french, population, lithuania\n",
            "africa: south, europe, end, america, north, australia, nine, united, japan, india\n",
            "musician: born, group, late, writer, actress, actor, author, battle, seven, addition\n",
            "dance: music, support, force, part, study, head, concept, writer, battle, actor\n",
            "\n",
            "\n"
          ]
        },
        {
          "name": "stderr",
          "output_type": "stream",
          "text": [
            "19996it [08:02, 44.87it/s]"
          ]
        },
        {
          "name": "stdout",
          "output_type": "stream",
          "text": [
            "| epoch   1 | 20000/32580 batches | loss    1.564 \n"
          ]
        },
        {
          "name": "stderr",
          "output_type": "stream",
          "text": [
            "20005it [08:02, 30.53it/s]"
          ]
        },
        {
          "name": "stdout",
          "output_type": "stream",
          "text": [
            "money: fact, addition, place, seen, part, work, well, example, battle, able\n",
            "lion: september, journal, punishment, british, england, german, direct, lithuania, population, son\n",
            "africa: south, europe, end, north, america, nine, australia, united, japan, india\n",
            "musician: born, late, group, writer, actress, actor, author, seven, addition, battle\n",
            "dance: music, support, force, study, part, concept, head, battle, writer, actor\n",
            "\n",
            "\n"
          ]
        },
        {
          "name": "stderr",
          "output_type": "stream",
          "text": [
            "20497it [08:13, 35.08it/s]"
          ]
        },
        {
          "name": "stdout",
          "output_type": "stream",
          "text": [
            "| epoch   1 | 20500/32580 batches | loss    1.554 \n"
          ]
        },
        {
          "name": "stderr",
          "output_type": "stream",
          "text": [
            "20504it [08:14, 20.79it/s]"
          ]
        },
        {
          "name": "stdout",
          "output_type": "stream",
          "text": [
            "money: fact, addition, seen, place, well, part, work, example, battle, lack\n",
            "lion: september, journal, punishment, british, england, direct, german, lithuania, son, french\n",
            "africa: south, europe, north, end, america, united, japan, india, australia, nine\n",
            "musician: born, late, group, writer, actress, actor, author, battle, addition, case\n",
            "dance: support, study, force, music, part, concept, head, battle, writer, actor\n",
            "\n",
            "\n"
          ]
        },
        {
          "name": "stderr",
          "output_type": "stream",
          "text": [
            "21000it [08:25, 34.67it/s]"
          ]
        },
        {
          "name": "stdout",
          "output_type": "stream",
          "text": [
            "| epoch   1 | 21000/32580 batches | loss    1.546 \n"
          ]
        },
        {
          "name": "stderr",
          "output_type": "stream",
          "text": [
            "\r21004it [08:26, 18.16it/s]"
          ]
        },
        {
          "name": "stdout",
          "output_type": "stream",
          "text": [
            "money: fact, addition, seen, place, well, part, work, battle, lack, able\n",
            "lion: september, journal, punishment, england, british, direct, german, lithuania, nobel, united\n",
            "africa: south, europe, america, north, end, united, japan, australia, india, nine\n",
            "musician: born, actor, actress, writer, late, group, author, addition, seven, battle\n",
            "dance: support, study, music, concept, force, part, head, battle, actor, writer\n",
            "\n",
            "\n"
          ]
        },
        {
          "name": "stderr",
          "output_type": "stream",
          "text": [
            "21500it [08:37, 45.53it/s]"
          ]
        },
        {
          "name": "stdout",
          "output_type": "stream",
          "text": [
            "| epoch   1 | 21500/32580 batches | loss    1.540 \n"
          ]
        },
        {
          "name": "stderr",
          "output_type": "stream",
          "text": [
            "\r21505it [08:37, 27.16it/s]"
          ]
        },
        {
          "name": "stdout",
          "output_type": "stream",
          "text": [
            "money: fact, addition, seen, place, part, well, able, lack, example, battle\n",
            "lion: september, journal, punishment, england, british, direct, german, united, son, nobel\n",
            "africa: europe, south, america, north, end, japan, australia, india, united, nine\n",
            "musician: born, actress, actor, writer, late, author, group, addition, battle, case\n",
            "dance: support, study, concept, music, force, battle, writer, actor, part, head\n",
            "\n",
            "\n"
          ]
        },
        {
          "name": "stderr",
          "output_type": "stream",
          "text": [
            "21997it [08:49, 45.71it/s]"
          ]
        },
        {
          "name": "stdout",
          "output_type": "stream",
          "text": [
            "| epoch   1 | 22000/32580 batches | loss    1.529 \n"
          ]
        },
        {
          "name": "stderr",
          "output_type": "stream",
          "text": [
            "22006it [08:50, 29.02it/s]"
          ]
        },
        {
          "name": "stdout",
          "output_type": "stream",
          "text": [
            "money: fact, addition, seen, place, well, part, able, lack, practice, work\n",
            "lion: september, journal, punishment, england, british, direct, german, nobel, lithuania, fact\n",
            "africa: europe, south, north, america, india, japan, end, australia, united, nine\n",
            "musician: born, actor, actress, writer, late, author, group, addition, seven, battle\n",
            "dance: study, support, concept, music, force, actor, part, battle, writer, head\n",
            "\n",
            "\n"
          ]
        },
        {
          "name": "stderr",
          "output_type": "stream",
          "text": [
            "22498it [09:01, 45.21it/s]"
          ]
        },
        {
          "name": "stdout",
          "output_type": "stream",
          "text": [
            "| epoch   1 | 22500/32580 batches | loss    1.523 \n"
          ]
        },
        {
          "name": "stderr",
          "output_type": "stream",
          "text": [
            "22508it [09:02, 31.01it/s]"
          ]
        },
        {
          "name": "stdout",
          "output_type": "stream",
          "text": [
            "money: fact, addition, seen, place, well, part, able, lack, practice, work\n",
            "lion: september, journal, punishment, england, british, direct, german, nobel, lithuania, united\n",
            "africa: europe, south, america, north, india, japan, australia, end, united, nine\n",
            "musician: born, actor, actress, writer, late, author, addition, group, seven, battle\n",
            "dance: study, music, concept, support, actor, force, part, battle, writer, head\n",
            "\n",
            "\n"
          ]
        },
        {
          "name": "stderr",
          "output_type": "stream",
          "text": [
            "22999it [09:14, 33.83it/s]"
          ]
        },
        {
          "name": "stdout",
          "output_type": "stream",
          "text": [
            "| epoch   1 | 23000/32580 batches | loss    1.519 \n"
          ]
        },
        {
          "name": "stderr",
          "output_type": "stream",
          "text": [
            "23007it [09:15, 22.58it/s]"
          ]
        },
        {
          "name": "stdout",
          "output_type": "stream",
          "text": [
            "money: fact, addition, seen, place, well, able, part, lack, practice, work\n",
            "lion: september, journal, punishment, england, british, direct, nobel, lithuania, german, united\n",
            "africa: europe, south, america, north, india, australia, end, japan, united, nine\n",
            "musician: born, actress, actor, writer, late, author, addition, seven, group, battle\n",
            "dance: study, concept, music, support, actor, part, battle, head, writer, force\n",
            "\n",
            "\n"
          ]
        },
        {
          "name": "stderr",
          "output_type": "stream",
          "text": [
            "23499it [09:27, 45.97it/s]"
          ]
        },
        {
          "name": "stdout",
          "output_type": "stream",
          "text": [
            "| epoch   1 | 23500/32580 batches | loss    1.511 \n"
          ]
        },
        {
          "name": "stderr",
          "output_type": "stream",
          "text": [
            "23509it [09:27, 30.75it/s]"
          ]
        },
        {
          "name": "stdout",
          "output_type": "stream",
          "text": [
            "money: fact, addition, seen, place, well, able, part, lack, work, practice\n",
            "lion: september, journal, punishment, england, direct, british, nobel, fact, lithuania, concept\n",
            "africa: europe, south, america, india, north, australia, japan, end, united, nine\n",
            "musician: born, actress, writer, actor, late, author, addition, seven, battle, football\n",
            "dance: study, concept, support, music, battle, head, actor, part, writer, force\n",
            "\n",
            "\n"
          ]
        },
        {
          "name": "stderr",
          "output_type": "stream",
          "text": [
            "23996it [09:39, 45.37it/s]"
          ]
        },
        {
          "name": "stdout",
          "output_type": "stream",
          "text": [
            "| epoch   1 | 24000/32580 batches | loss    1.505 \n"
          ]
        },
        {
          "name": "stderr",
          "output_type": "stream",
          "text": [
            "24005it [09:39, 30.55it/s]"
          ]
        },
        {
          "name": "stdout",
          "output_type": "stream",
          "text": [
            "money: fact, seen, addition, place, well, able, lack, part, work, even\n",
            "lion: september, journal, punishment, england, british, direct, nobel, fact, german, actress\n",
            "africa: europe, south, america, north, australia, india, japan, end, united, nine\n",
            "musician: born, actress, writer, actor, author, late, addition, seven, battle, football\n",
            "dance: study, concept, music, support, head, battle, actor, writer, part, force\n",
            "\n",
            "\n"
          ]
        },
        {
          "name": "stderr",
          "output_type": "stream",
          "text": [
            "24498it [09:51, 45.71it/s]"
          ]
        },
        {
          "name": "stdout",
          "output_type": "stream",
          "text": [
            "| epoch   1 | 24500/32580 batches | loss    1.499 \n"
          ]
        },
        {
          "name": "stderr",
          "output_type": "stream",
          "text": [
            "24508it [09:51, 31.02it/s]"
          ]
        },
        {
          "name": "stdout",
          "output_type": "stream",
          "text": [
            "money: fact, addition, seen, place, well, able, lack, part, practice, work\n",
            "lion: september, journal, punishment, england, british, nobel, direct, fact, concept, lithuania\n",
            "africa: europe, south, america, australia, india, north, japan, end, united, nine\n",
            "musician: writer, born, actress, actor, author, late, addition, seven, singer, football\n",
            "dance: study, concept, support, music, head, writer, battle, actor, part, country\n",
            "\n",
            "\n"
          ]
        },
        {
          "name": "stderr",
          "output_type": "stream",
          "text": [
            "24996it [10:03, 44.29it/s]"
          ]
        },
        {
          "name": "stdout",
          "output_type": "stream",
          "text": [
            "| epoch   1 | 25000/32580 batches | loss    1.493 \n"
          ]
        },
        {
          "name": "stderr",
          "output_type": "stream",
          "text": [
            "25005it [10:03, 30.05it/s]"
          ]
        },
        {
          "name": "stdout",
          "output_type": "stream",
          "text": [
            "money: fact, addition, place, seen, well, able, lack, part, practice, work\n",
            "lion: september, journal, punishment, england, british, nobel, lithuania, fact, direct, actress\n",
            "africa: europe, south, australia, india, america, north, japan, end, united, nine\n",
            "musician: actress, born, writer, actor, author, late, addition, singer, football, seven\n",
            "dance: concept, study, support, writer, music, head, battle, actor, country, part\n",
            "\n",
            "\n"
          ]
        },
        {
          "name": "stderr",
          "output_type": "stream",
          "text": [
            "25498it [10:15, 34.02it/s]"
          ]
        },
        {
          "name": "stdout",
          "output_type": "stream",
          "text": [
            "| epoch   1 | 25500/32580 batches | loss    1.486 \n"
          ]
        },
        {
          "name": "stderr",
          "output_type": "stream",
          "text": [
            "25505it [10:15, 21.27it/s]"
          ]
        },
        {
          "name": "stdout",
          "output_type": "stream",
          "text": [
            "money: fact, addition, place, seen, well, able, lack, part, battle, even\n",
            "lion: september, journal, punishment, british, england, nobel, lithuania, direct, actress, concept\n",
            "africa: europe, south, australia, america, india, japan, north, united, end, nine\n",
            "musician: actress, writer, born, actor, author, late, addition, singer, seven, football\n",
            "dance: concept, study, support, writer, battle, music, country, head, actor, part\n",
            "\n",
            "\n"
          ]
        },
        {
          "name": "stderr",
          "output_type": "stream",
          "text": [
            "25998it [10:26, 37.49it/s]"
          ]
        },
        {
          "name": "stdout",
          "output_type": "stream",
          "text": [
            "| epoch   1 | 26000/32580 batches | loss    1.483 \n"
          ]
        },
        {
          "name": "stderr",
          "output_type": "stream",
          "text": [
            "26006it [10:27, 23.20it/s]"
          ]
        },
        {
          "name": "stdout",
          "output_type": "stream",
          "text": [
            "money: addition, fact, seen, place, well, able, lack, battle, work, believed\n",
            "lion: september, journal, punishment, england, nobel, british, united, lithuania, actress, concept\n",
            "africa: europe, south, australia, america, india, japan, north, end, united, nine\n",
            "musician: writer, actress, born, actor, author, addition, late, seven, singer, battle\n",
            "dance: concept, study, support, writer, music, actor, battle, country, head, origin\n",
            "\n",
            "\n"
          ]
        },
        {
          "name": "stderr",
          "output_type": "stream",
          "text": [
            "26499it [10:38, 46.05it/s]"
          ]
        },
        {
          "name": "stdout",
          "output_type": "stream",
          "text": [
            "| epoch   1 | 26500/32580 batches | loss    1.476 \n"
          ]
        },
        {
          "name": "stderr",
          "output_type": "stream",
          "text": [
            "26509it [10:39, 31.68it/s]"
          ]
        },
        {
          "name": "stdout",
          "output_type": "stream",
          "text": [
            "money: addition, fact, seen, place, well, able, lack, practice, believed, battle\n",
            "lion: journal, september, punishment, england, nobel, british, actress, lithuania, concept, soviet\n",
            "africa: europe, south, india, america, australia, japan, north, end, united, nine\n",
            "musician: actress, writer, actor, born, author, addition, late, singer, seven, nine\n",
            "dance: study, concept, writer, support, music, actor, battle, country, head, origin\n",
            "\n",
            "\n"
          ]
        },
        {
          "name": "stderr",
          "output_type": "stream",
          "text": [
            "26999it [10:50, 46.21it/s]"
          ]
        },
        {
          "name": "stdout",
          "output_type": "stream",
          "text": [
            "| epoch   1 | 27000/32580 batches | loss    1.473 \n"
          ]
        },
        {
          "name": "stderr",
          "output_type": "stream",
          "text": [
            "27009it [10:51, 31.79it/s]"
          ]
        },
        {
          "name": "stdout",
          "output_type": "stream",
          "text": [
            "money: addition, seen, fact, place, well, able, lack, practice, believed, battle\n",
            "lion: journal, september, punishment, england, nobel, british, actress, concept, lithuania, united\n",
            "africa: europe, south, india, america, australia, japan, north, end, united, nine\n",
            "musician: actress, writer, actor, born, author, addition, late, singer, seven, nine\n",
            "dance: concept, study, music, support, writer, battle, actor, country, head, origin\n",
            "\n",
            "\n"
          ]
        },
        {
          "name": "stderr",
          "output_type": "stream",
          "text": [
            "27496it [11:02, 45.99it/s]"
          ]
        },
        {
          "name": "stdout",
          "output_type": "stream",
          "text": [
            "| epoch   1 | 27500/32580 batches | loss    1.461 \n"
          ]
        },
        {
          "name": "stderr",
          "output_type": "stream",
          "text": [
            "27505it [11:03, 30.52it/s]"
          ]
        },
        {
          "name": "stdout",
          "output_type": "stream",
          "text": [
            "money: seen, fact, addition, place, well, able, practice, lack, battle, believed\n",
            "lion: journal, september, punishment, england, nobel, actress, concept, british, lithuania, population\n",
            "africa: europe, south, india, america, australia, north, japan, united, end, china\n",
            "musician: actress, writer, actor, born, author, addition, late, singer, seven, nine\n",
            "dance: concept, study, music, country, writer, support, battle, actor, head, origin\n",
            "\n",
            "\n"
          ]
        },
        {
          "name": "stderr",
          "output_type": "stream",
          "text": [
            "27997it [11:14, 45.86it/s]"
          ]
        },
        {
          "name": "stdout",
          "output_type": "stream",
          "text": [
            "| epoch   1 | 28000/32580 batches | loss    1.459 \n"
          ]
        },
        {
          "name": "stderr",
          "output_type": "stream",
          "text": [
            "28006it [11:15, 30.60it/s]"
          ]
        },
        {
          "name": "stdout",
          "output_type": "stream",
          "text": [
            "money: seen, addition, fact, place, well, able, lack, practice, believed, work\n",
            "lion: journal, september, punishment, nobel, england, actress, concept, lithuania, british, united\n",
            "africa: europe, india, south, america, australia, japan, north, end, united, china\n",
            "musician: actress, writer, actor, born, author, addition, singer, late, nine, seven\n",
            "dance: concept, study, music, country, writer, battle, support, actor, origin, head\n",
            "\n",
            "\n"
          ]
        },
        {
          "name": "stderr",
          "output_type": "stream",
          "text": [
            "28499it [11:26, 46.25it/s]"
          ]
        },
        {
          "name": "stdout",
          "output_type": "stream",
          "text": [
            "| epoch   1 | 28500/32580 batches | loss    1.453 \n"
          ]
        },
        {
          "name": "stderr",
          "output_type": "stream",
          "text": [
            "28509it [11:27, 31.61it/s]"
          ]
        },
        {
          "name": "stdout",
          "output_type": "stream",
          "text": [
            "money: seen, addition, fact, well, place, practice, lack, able, work, believed\n",
            "lion: journal, punishment, september, nobel, england, actress, british, concept, united, soviet\n",
            "africa: europe, india, south, america, japan, australia, north, united, end, china\n",
            "musician: actress, actor, writer, born, author, addition, singer, late, nine, seven\n",
            "dance: concept, study, music, country, battle, actor, writer, origin, support, head\n",
            "\n",
            "\n"
          ]
        },
        {
          "name": "stderr",
          "output_type": "stream",
          "text": [
            "28997it [11:38, 45.56it/s]"
          ]
        },
        {
          "name": "stdout",
          "output_type": "stream",
          "text": [
            "| epoch   1 | 29000/32580 batches | loss    1.450 \n"
          ]
        },
        {
          "name": "stderr",
          "output_type": "stream",
          "text": [
            "29007it [11:39, 31.43it/s]"
          ]
        },
        {
          "name": "stdout",
          "output_type": "stream",
          "text": [
            "money: seen, fact, addition, place, well, practice, able, lack, work, believed\n",
            "lion: journal, september, punishment, nobel, england, actress, concept, british, lithuania, united\n",
            "africa: europe, india, south, america, japan, australia, north, united, end, china\n",
            "musician: actress, writer, actor, born, author, singer, addition, late, nine, football\n",
            "dance: concept, music, study, country, writer, actor, origin, battle, support, addition\n",
            "\n",
            "\n"
          ]
        },
        {
          "name": "stderr",
          "output_type": "stream",
          "text": [
            "29500it [11:51, 38.30it/s]"
          ]
        },
        {
          "name": "stdout",
          "output_type": "stream",
          "text": [
            "| epoch   1 | 29500/32580 batches | loss    1.446 \n"
          ]
        },
        {
          "name": "stderr",
          "output_type": "stream",
          "text": [
            "29509it [11:51, 28.51it/s]"
          ]
        },
        {
          "name": "stdout",
          "output_type": "stream",
          "text": [
            "money: seen, fact, place, addition, well, practice, lack, able, work, believed\n",
            "lion: punishment, journal, september, nobel, actress, england, concept, lithuania, united, british\n",
            "africa: europe, india, south, japan, america, australia, north, end, united, china\n",
            "musician: actress, actor, writer, born, author, singer, addition, seven, late, football\n",
            "dance: concept, music, study, country, writer, origin, actor, battle, singer, support\n",
            "\n",
            "\n"
          ]
        },
        {
          "name": "stderr",
          "output_type": "stream",
          "text": [
            "29998it [12:02, 35.75it/s]"
          ]
        },
        {
          "name": "stdout",
          "output_type": "stream",
          "text": [
            "| epoch   1 | 30000/32580 batches | loss    1.440 \n"
          ]
        },
        {
          "name": "stderr",
          "output_type": "stream",
          "text": [
            "30006it [12:03, 21.61it/s]"
          ]
        },
        {
          "name": "stdout",
          "output_type": "stream",
          "text": [
            "money: seen, fact, addition, well, place, practice, able, lack, work, way\n",
            "lion: punishment, journal, september, nobel, actress, england, british, concept, united, lithuania\n",
            "africa: europe, india, south, japan, australia, america, north, united, end, china\n",
            "musician: actor, actress, writer, born, author, singer, addition, late, nine, seven\n",
            "dance: concept, music, study, writer, country, actor, origin, singer, united, battle\n",
            "\n",
            "\n"
          ]
        },
        {
          "name": "stderr",
          "output_type": "stream",
          "text": [
            "30500it [12:14, 45.62it/s]"
          ]
        },
        {
          "name": "stdout",
          "output_type": "stream",
          "text": [
            "| epoch   1 | 30500/32580 batches | loss    1.434 \n"
          ]
        },
        {
          "name": "stderr",
          "output_type": "stream",
          "text": [
            "\r30505it [12:14, 23.90it/s]"
          ]
        },
        {
          "name": "stdout",
          "output_type": "stream",
          "text": [
            "money: fact, seen, place, addition, well, practice, able, lack, way, battle\n",
            "lion: punishment, journal, september, nobel, actress, england, concept, british, united, responsible\n",
            "africa: europe, india, japan, south, australia, america, north, end, china, united\n",
            "musician: actress, actor, writer, author, born, singer, addition, late, seven, nine\n",
            "dance: music, concept, study, writer, country, actor, origin, singer, battle, actress\n",
            "\n",
            "\n"
          ]
        },
        {
          "name": "stderr",
          "output_type": "stream",
          "text": [
            "30997it [12:26, 45.92it/s]"
          ]
        },
        {
          "name": "stdout",
          "output_type": "stream",
          "text": [
            "| epoch   1 | 31000/32580 batches | loss    1.431 \n"
          ]
        },
        {
          "name": "stderr",
          "output_type": "stream",
          "text": [
            "31007it [12:26, 31.48it/s]"
          ]
        },
        {
          "name": "stdout",
          "output_type": "stream",
          "text": [
            "money: fact, seen, place, addition, well, practice, lack, able, way, rest\n",
            "lion: punishment, journal, september, nobel, actress, england, concept, british, responsible, united\n",
            "africa: europe, india, japan, australia, south, america, north, china, end, united\n",
            "musician: actor, actress, writer, author, born, singer, addition, late, football, seven\n",
            "dance: music, concept, study, writer, country, actor, singer, origin, battle, actress\n",
            "\n",
            "\n"
          ]
        },
        {
          "name": "stderr",
          "output_type": "stream",
          "text": [
            "31499it [12:38, 44.91it/s]"
          ]
        },
        {
          "name": "stdout",
          "output_type": "stream",
          "text": [
            "| epoch   1 | 31500/32580 batches | loss    1.427 \n"
          ]
        },
        {
          "name": "stderr",
          "output_type": "stream",
          "text": [
            "31509it [12:38, 31.25it/s]"
          ]
        },
        {
          "name": "stdout",
          "output_type": "stream",
          "text": [
            "money: fact, place, seen, addition, practice, lack, well, able, way, rest\n",
            "lion: punishment, journal, september, nobel, actress, concept, england, united, british, responsible\n",
            "africa: europe, india, japan, america, australia, south, north, china, end, united\n",
            "musician: actress, actor, writer, author, born, singer, addition, late, football, seven\n",
            "dance: music, concept, study, writer, country, actor, singer, origin, actress, battle\n",
            "\n",
            "\n"
          ]
        },
        {
          "name": "stderr",
          "output_type": "stream",
          "text": [
            "31998it [12:50, 46.32it/s]"
          ]
        },
        {
          "name": "stdout",
          "output_type": "stream",
          "text": [
            "| epoch   1 | 32000/32580 batches | loss    1.425 \n"
          ]
        },
        {
          "name": "stderr",
          "output_type": "stream",
          "text": [
            "32008it [12:50, 31.38it/s]"
          ]
        },
        {
          "name": "stdout",
          "output_type": "stream",
          "text": [
            "money: fact, place, seen, addition, practice, well, lack, able, way, rest\n",
            "lion: punishment, journal, september, nobel, actress, concept, england, united, british, lithuania\n",
            "africa: europe, india, japan, america, australia, south, north, china, end, united\n",
            "musician: actress, actor, writer, author, born, singer, addition, seven, late, football\n",
            "dance: music, concept, study, country, writer, actor, singer, origin, actress, republic\n",
            "\n",
            "\n"
          ]
        },
        {
          "name": "stderr",
          "output_type": "stream",
          "text": [
            "32496it [13:03, 46.04it/s]"
          ]
        },
        {
          "name": "stdout",
          "output_type": "stream",
          "text": [
            "| epoch   1 | 32500/32580 batches | loss    1.420 \n"
          ]
        },
        {
          "name": "stderr",
          "output_type": "stream",
          "text": [
            "32505it [13:04, 30.62it/s]"
          ]
        },
        {
          "name": "stdout",
          "output_type": "stream",
          "text": [
            "money: fact, addition, seen, place, practice, lack, well, able, way, rest\n",
            "lion: punishment, journal, september, nobel, actress, concept, england, british, united, soviet\n",
            "africa: europe, india, australia, japan, america, south, china, north, region, end\n",
            "musician: actress, actor, writer, author, born, singer, addition, late, football, nine\n",
            "dance: music, concept, study, country, writer, actor, singer, origin, actress, support\n",
            "\n",
            "\n"
          ]
        },
        {
          "name": "stderr",
          "output_type": "stream",
          "text": [
            "32580it [13:06, 41.41it/s]\n",
            "0it [00:00, ?it/s]"
          ]
        },
        {
          "name": "stdout",
          "output_type": "stream",
          "text": [
            "| epoch   2 |     0/32580 batches | loss    1.317 \n"
          ]
        },
        {
          "name": "stderr",
          "output_type": "stream",
          "text": [
            "5it [00:01,  4.80it/s]"
          ]
        },
        {
          "name": "stdout",
          "output_type": "stream",
          "text": [
            "money: fact, addition, seen, place, practice, lack, well, able, way, rest\n",
            "lion: punishment, journal, september, nobel, actress, concept, england, british, united, soviet\n",
            "africa: europe, india, australia, japan, america, south, china, north, region, germany\n",
            "musician: actress, actor, writer, author, born, singer, addition, late, football, nine\n",
            "dance: music, concept, study, country, writer, actor, singer, origin, actress, united\n",
            "\n",
            "\n"
          ]
        },
        {
          "name": "stderr",
          "output_type": "stream",
          "text": [
            "497it [00:12, 45.75it/s]"
          ]
        },
        {
          "name": "stdout",
          "output_type": "stream",
          "text": [
            "| epoch   2 |   500/32580 batches | loss    1.380 \n"
          ]
        },
        {
          "name": "stderr",
          "output_type": "stream",
          "text": [
            "507it [00:13, 31.30it/s]"
          ]
        },
        {
          "name": "stdout",
          "output_type": "stream",
          "text": [
            "money: fact, addition, seen, place, practice, lack, well, able, way, rest\n",
            "lion: punishment, journal, september, nobel, actress, concept, england, british, united, soviet\n",
            "africa: europe, india, australia, japan, america, south, china, north, region, germany\n",
            "musician: actress, actor, writer, author, born, singer, addition, late, football, nine\n",
            "dance: music, concept, study, country, writer, actor, singer, origin, actress, united\n",
            "\n",
            "\n"
          ]
        },
        {
          "name": "stderr",
          "output_type": "stream",
          "text": [
            "1000it [00:25, 44.86it/s]"
          ]
        },
        {
          "name": "stdout",
          "output_type": "stream",
          "text": [
            "| epoch   2 |  1000/32580 batches | loss    1.372 \n"
          ]
        },
        {
          "name": "stderr",
          "output_type": "stream",
          "text": [
            "\r1005it [00:25, 27.39it/s]"
          ]
        },
        {
          "name": "stdout",
          "output_type": "stream",
          "text": [
            "money: fact, addition, seen, place, practice, lack, well, able, way, rest\n",
            "lion: punishment, journal, september, nobel, actress, concept, england, british, united, soviet\n",
            "africa: europe, india, australia, japan, america, south, china, north, region, germany\n",
            "musician: actress, actor, writer, author, born, singer, addition, late, football, seven\n",
            "dance: music, concept, study, country, writer, actor, singer, origin, actress, united\n",
            "\n",
            "\n"
          ]
        },
        {
          "name": "stderr",
          "output_type": "stream",
          "text": [
            "1499it [00:37, 45.49it/s]"
          ]
        },
        {
          "name": "stdout",
          "output_type": "stream",
          "text": [
            "| epoch   2 |  1500/32580 batches | loss    1.372 \n"
          ]
        },
        {
          "name": "stderr",
          "output_type": "stream",
          "text": [
            "1509it [00:37, 31.37it/s]"
          ]
        },
        {
          "name": "stdout",
          "output_type": "stream",
          "text": [
            "money: fact, addition, seen, place, practice, lack, well, able, way, rest\n",
            "lion: punishment, september, journal, nobel, actress, concept, england, british, united, soviet\n",
            "africa: europe, india, australia, japan, america, south, china, north, region, germany\n",
            "musician: actress, actor, writer, author, born, singer, addition, late, football, nine\n",
            "dance: music, concept, study, country, writer, actor, singer, origin, actress, united\n",
            "\n",
            "\n"
          ]
        },
        {
          "name": "stderr",
          "output_type": "stream",
          "text": [
            "1999it [00:51, 46.41it/s]"
          ]
        },
        {
          "name": "stdout",
          "output_type": "stream",
          "text": [
            "| epoch   2 |  2000/32580 batches | loss    1.369 \n"
          ]
        },
        {
          "name": "stderr",
          "output_type": "stream",
          "text": [
            "2009it [00:52, 31.67it/s]"
          ]
        },
        {
          "name": "stdout",
          "output_type": "stream",
          "text": [
            "money: fact, addition, seen, place, practice, lack, well, able, way, rest\n",
            "lion: punishment, september, journal, nobel, actress, concept, england, british, united, soviet\n",
            "africa: europe, india, australia, japan, america, south, china, north, region, germany\n",
            "musician: actress, actor, writer, author, born, singer, addition, late, football, nine\n",
            "dance: music, concept, study, country, writer, singer, actor, origin, actress, battle\n",
            "\n",
            "\n"
          ]
        },
        {
          "name": "stderr",
          "output_type": "stream",
          "text": [
            "2496it [01:03, 45.59it/s]"
          ]
        },
        {
          "name": "stdout",
          "output_type": "stream",
          "text": [
            "| epoch   2 |  2500/32580 batches | loss    1.370 \n"
          ]
        },
        {
          "name": "stderr",
          "output_type": "stream",
          "text": [
            "2505it [01:04, 30.32it/s]"
          ]
        },
        {
          "name": "stdout",
          "output_type": "stream",
          "text": [
            "money: fact, addition, seen, place, practice, lack, well, able, way, rest\n",
            "lion: punishment, september, journal, nobel, actress, concept, england, british, united, soviet\n",
            "africa: europe, india, australia, japan, america, south, china, north, region, germany\n",
            "musician: actress, actor, writer, author, born, singer, addition, late, football, nine\n",
            "dance: music, concept, study, country, writer, singer, actor, origin, actress, battle\n",
            "\n",
            "\n"
          ]
        },
        {
          "name": "stderr",
          "output_type": "stream",
          "text": [
            "2998it [01:15, 45.52it/s]"
          ]
        },
        {
          "name": "stdout",
          "output_type": "stream",
          "text": [
            "| epoch   2 |  3000/32580 batches | loss    1.364 \n"
          ]
        },
        {
          "name": "stderr",
          "output_type": "stream",
          "text": [
            "3008it [01:16, 31.42it/s]"
          ]
        },
        {
          "name": "stdout",
          "output_type": "stream",
          "text": [
            "money: fact, addition, seen, place, practice, lack, well, able, way, rest\n",
            "lion: punishment, september, journal, nobel, actress, concept, england, british, united, soviet\n",
            "africa: europe, india, australia, japan, america, south, china, north, region, germany\n",
            "musician: actress, actor, writer, author, born, singer, addition, football, late, nine\n",
            "dance: music, concept, study, country, writer, singer, actor, origin, actress, battle\n",
            "\n",
            "\n"
          ]
        },
        {
          "name": "stderr",
          "output_type": "stream",
          "text": [
            "3498it [01:27, 33.87it/s]"
          ]
        },
        {
          "name": "stdout",
          "output_type": "stream",
          "text": [
            "| epoch   2 |  3500/32580 batches | loss    1.365 \n"
          ]
        },
        {
          "name": "stderr",
          "output_type": "stream",
          "text": [
            "3507it [01:28, 25.25it/s]"
          ]
        },
        {
          "name": "stdout",
          "output_type": "stream",
          "text": [
            "money: fact, addition, seen, place, practice, lack, well, able, way, rest\n",
            "lion: punishment, september, journal, nobel, actress, concept, england, british, united, soviet\n",
            "africa: europe, india, australia, japan, america, south, north, china, region, germany\n",
            "musician: actress, actor, writer, author, born, singer, addition, football, late, nine\n",
            "dance: music, concept, study, country, writer, singer, actor, origin, actress, united\n",
            "\n",
            "\n"
          ]
        },
        {
          "name": "stderr",
          "output_type": "stream",
          "text": [
            "3998it [01:39, 35.16it/s]"
          ]
        },
        {
          "name": "stdout",
          "output_type": "stream",
          "text": [
            "| epoch   2 |  4000/32580 batches | loss    1.362 \n"
          ]
        },
        {
          "name": "stderr",
          "output_type": "stream",
          "text": [
            "4006it [01:40, 21.42it/s]"
          ]
        },
        {
          "name": "stdout",
          "output_type": "stream",
          "text": [
            "money: fact, addition, seen, place, practice, lack, well, able, way, rest\n",
            "lion: punishment, september, journal, nobel, actress, concept, england, british, united, soviet\n",
            "africa: europe, india, australia, america, japan, south, north, china, region, germany\n",
            "musician: actress, actor, writer, author, born, singer, addition, football, late, nine\n",
            "dance: music, concept, study, country, writer, singer, actor, origin, actress, united\n",
            "\n",
            "\n"
          ]
        },
        {
          "name": "stderr",
          "output_type": "stream",
          "text": [
            "4497it [01:51, 45.46it/s]"
          ]
        },
        {
          "name": "stdout",
          "output_type": "stream",
          "text": [
            "| epoch   2 |  4500/32580 batches | loss    1.365 \n"
          ]
        },
        {
          "name": "stderr",
          "output_type": "stream",
          "text": [
            "4506it [01:51, 30.04it/s]"
          ]
        },
        {
          "name": "stdout",
          "output_type": "stream",
          "text": [
            "money: fact, addition, seen, place, practice, lack, well, able, way, rest\n",
            "lion: punishment, september, journal, nobel, actress, concept, england, british, united, soviet\n",
            "africa: europe, india, australia, japan, america, south, china, north, region, germany\n",
            "musician: actress, actor, writer, author, born, singer, addition, football, late, nine\n",
            "dance: music, concept, study, country, writer, singer, actor, origin, actress, united\n",
            "\n",
            "\n"
          ]
        },
        {
          "name": "stderr",
          "output_type": "stream",
          "text": [
            "4996it [02:03, 45.78it/s]"
          ]
        },
        {
          "name": "stdout",
          "output_type": "stream",
          "text": [
            "| epoch   2 |  5000/32580 batches | loss    1.366 \n"
          ]
        },
        {
          "name": "stderr",
          "output_type": "stream",
          "text": [
            "5005it [02:03, 29.73it/s]"
          ]
        },
        {
          "name": "stdout",
          "output_type": "stream",
          "text": [
            "money: fact, addition, seen, place, practice, well, lack, able, way, rest\n",
            "lion: punishment, september, journal, nobel, actress, concept, england, british, united, soviet\n",
            "africa: europe, india, australia, japan, america, south, china, north, region, germany\n",
            "musician: actress, actor, writer, author, born, singer, addition, football, late, nine\n",
            "dance: music, concept, study, country, writer, singer, actor, origin, actress, united\n",
            "\n",
            "\n"
          ]
        },
        {
          "name": "stderr",
          "output_type": "stream",
          "text": [
            "5497it [02:15, 44.68it/s]"
          ]
        },
        {
          "name": "stdout",
          "output_type": "stream",
          "text": [
            "| epoch   2 |  5500/32580 batches | loss    1.368 \n"
          ]
        },
        {
          "name": "stderr",
          "output_type": "stream",
          "text": [
            "5507it [02:15, 31.47it/s]"
          ]
        },
        {
          "name": "stdout",
          "output_type": "stream",
          "text": [
            "money: fact, addition, place, seen, practice, well, lack, able, way, rest\n",
            "lion: punishment, september, journal, nobel, actress, concept, england, british, united, soviet\n",
            "africa: europe, india, australia, japan, america, south, china, north, region, germany\n",
            "musician: actress, actor, writer, author, born, singer, addition, football, late, nine\n",
            "dance: music, concept, study, country, writer, singer, actor, origin, actress, united\n",
            "\n",
            "\n"
          ]
        },
        {
          "name": "stderr",
          "output_type": "stream",
          "text": [
            "6000it [02:27, 44.86it/s]"
          ]
        },
        {
          "name": "stdout",
          "output_type": "stream",
          "text": [
            "| epoch   2 |  6000/32580 batches | loss    1.365 \n"
          ]
        },
        {
          "name": "stderr",
          "output_type": "stream",
          "text": [
            "\r6005it [02:27, 27.33it/s]"
          ]
        },
        {
          "name": "stdout",
          "output_type": "stream",
          "text": [
            "money: fact, addition, place, seen, practice, well, lack, able, way, rest\n",
            "lion: punishment, september, journal, nobel, actress, concept, england, british, united, soviet\n",
            "africa: europe, india, australia, japan, america, south, china, north, region, germany\n",
            "musician: actress, actor, writer, author, born, singer, addition, football, late, nine\n",
            "dance: music, concept, study, country, writer, singer, actor, origin, actress, united\n",
            "\n",
            "\n"
          ]
        },
        {
          "name": "stderr",
          "output_type": "stream",
          "text": [
            "6498it [02:39, 46.06it/s]"
          ]
        },
        {
          "name": "stdout",
          "output_type": "stream",
          "text": [
            "| epoch   2 |  6500/32580 batches | loss    1.361 \n"
          ]
        },
        {
          "name": "stderr",
          "output_type": "stream",
          "text": [
            "6508it [02:39, 31.63it/s]"
          ]
        },
        {
          "name": "stdout",
          "output_type": "stream",
          "text": [
            "money: fact, addition, place, seen, practice, lack, well, able, way, rest\n",
            "lion: punishment, september, journal, nobel, actress, concept, england, british, united, soviet\n",
            "africa: europe, india, australia, japan, america, south, china, north, region, germany\n",
            "musician: actress, actor, writer, author, born, singer, addition, football, late, seven\n",
            "dance: music, concept, study, country, writer, singer, actor, origin, actress, united\n",
            "\n",
            "\n"
          ]
        },
        {
          "name": "stderr",
          "output_type": "stream",
          "text": [
            "6996it [02:51, 45.81it/s]"
          ]
        },
        {
          "name": "stdout",
          "output_type": "stream",
          "text": [
            "| epoch   2 |  7000/32580 batches | loss    1.365 \n"
          ]
        },
        {
          "name": "stderr",
          "output_type": "stream",
          "text": [
            "7005it [02:51, 30.06it/s]"
          ]
        },
        {
          "name": "stdout",
          "output_type": "stream",
          "text": [
            "money: fact, addition, place, seen, practice, well, lack, able, way, rest\n",
            "lion: punishment, september, journal, nobel, actress, concept, england, british, united, soviet\n",
            "africa: europe, india, australia, japan, america, south, north, china, region, germany\n",
            "musician: actress, actor, writer, author, born, singer, addition, football, late, seven\n",
            "dance: music, concept, study, country, writer, singer, actor, origin, actress, united\n",
            "\n",
            "\n"
          ]
        },
        {
          "name": "stderr",
          "output_type": "stream",
          "text": [
            "7499it [03:03, 45.08it/s]"
          ]
        },
        {
          "name": "stdout",
          "output_type": "stream",
          "text": [
            "| epoch   2 |  7500/32580 batches | loss    1.358 \n"
          ]
        },
        {
          "name": "stderr",
          "output_type": "stream",
          "text": [
            "7509it [03:04, 31.39it/s]"
          ]
        },
        {
          "name": "stdout",
          "output_type": "stream",
          "text": [
            "money: fact, addition, seen, place, practice, well, lack, able, way, rest\n",
            "lion: punishment, september, journal, nobel, actress, concept, england, british, united, soviet\n",
            "africa: europe, india, australia, japan, america, south, north, china, germany, region\n",
            "musician: actress, actor, writer, author, born, singer, addition, football, late, seven\n",
            "dance: music, concept, study, country, writer, singer, actor, origin, actress, united\n",
            "\n",
            "\n"
          ]
        },
        {
          "name": "stderr",
          "output_type": "stream",
          "text": [
            "7997it [03:15, 35.23it/s]"
          ]
        },
        {
          "name": "stdout",
          "output_type": "stream",
          "text": [
            "| epoch   2 |  8000/32580 batches | loss    1.363 \n"
          ]
        },
        {
          "name": "stderr",
          "output_type": "stream",
          "text": [
            "8004it [03:15, 21.15it/s]"
          ]
        },
        {
          "name": "stdout",
          "output_type": "stream",
          "text": [
            "money: fact, addition, seen, place, practice, well, lack, able, way, rest\n",
            "lion: punishment, september, journal, nobel, actress, concept, england, british, united, soviet\n",
            "africa: europe, india, australia, japan, america, south, north, china, region, germany\n",
            "musician: actress, actor, writer, author, born, singer, addition, football, late, seven\n",
            "dance: music, concept, study, country, writer, singer, actor, origin, actress, united\n",
            "\n",
            "\n"
          ]
        },
        {
          "name": "stderr",
          "output_type": "stream",
          "text": [
            "8497it [03:27, 35.24it/s]"
          ]
        },
        {
          "name": "stdout",
          "output_type": "stream",
          "text": [
            "| epoch   2 |  8500/32580 batches | loss    1.359 \n"
          ]
        },
        {
          "name": "stderr",
          "output_type": "stream",
          "text": [
            "8504it [03:27, 20.98it/s]"
          ]
        },
        {
          "name": "stdout",
          "output_type": "stream",
          "text": [
            "money: fact, addition, seen, place, practice, well, lack, able, way, rest\n",
            "lion: punishment, september, journal, nobel, actress, concept, british, england, united, soviet\n",
            "africa: europe, india, australia, japan, america, south, north, china, region, germany\n",
            "musician: actress, actor, writer, author, born, singer, addition, football, late, seven\n",
            "dance: music, concept, study, country, writer, singer, actor, origin, actress, united\n",
            "\n",
            "\n"
          ]
        },
        {
          "name": "stderr",
          "output_type": "stream",
          "text": [
            "8998it [03:39, 35.14it/s]"
          ]
        },
        {
          "name": "stdout",
          "output_type": "stream",
          "text": [
            "| epoch   2 |  9000/32580 batches | loss    1.363 \n"
          ]
        },
        {
          "name": "stderr",
          "output_type": "stream",
          "text": [
            "9006it [03:40, 21.00it/s]"
          ]
        },
        {
          "name": "stdout",
          "output_type": "stream",
          "text": [
            "money: fact, addition, seen, place, practice, well, lack, able, way, rest\n",
            "lion: punishment, september, journal, nobel, actress, concept, british, england, united, lithuania\n",
            "africa: europe, india, australia, japan, america, south, north, china, region, germany\n",
            "musician: actress, actor, writer, author, born, singer, addition, football, late, seven\n",
            "dance: music, concept, study, country, writer, singer, actor, origin, actress, united\n",
            "\n",
            "\n"
          ]
        },
        {
          "name": "stderr",
          "output_type": "stream",
          "text": [
            "9497it [03:51, 45.88it/s]"
          ]
        },
        {
          "name": "stdout",
          "output_type": "stream",
          "text": [
            "| epoch   2 |  9500/32580 batches | loss    1.358 \n"
          ]
        },
        {
          "name": "stderr",
          "output_type": "stream",
          "text": [
            "9507it [03:52, 31.51it/s]"
          ]
        },
        {
          "name": "stdout",
          "output_type": "stream",
          "text": [
            "money: fact, addition, seen, place, practice, well, lack, able, way, rest\n",
            "lion: punishment, september, journal, nobel, actress, concept, british, england, united, lithuania\n",
            "africa: europe, india, australia, japan, america, south, north, china, region, germany\n",
            "musician: actress, actor, writer, author, born, singer, addition, football, late, nine\n",
            "dance: music, concept, country, study, writer, singer, actor, origin, actress, united\n",
            "\n",
            "\n"
          ]
        },
        {
          "name": "stderr",
          "output_type": "stream",
          "text": [
            "9996it [04:04, 45.86it/s]"
          ]
        },
        {
          "name": "stdout",
          "output_type": "stream",
          "text": [
            "| epoch   2 | 10000/32580 batches | loss    1.363 \n"
          ]
        },
        {
          "name": "stderr",
          "output_type": "stream",
          "text": [
            "10005it [04:04, 30.47it/s]"
          ]
        },
        {
          "name": "stdout",
          "output_type": "stream",
          "text": [
            "money: fact, addition, seen, place, practice, well, lack, able, way, rest\n",
            "lion: punishment, september, journal, nobel, actress, concept, england, british, united, lithuania\n",
            "africa: europe, india, australia, japan, america, south, north, china, region, germany\n",
            "musician: actress, actor, writer, author, born, singer, addition, football, late, nine\n",
            "dance: music, concept, study, country, writer, singer, actor, origin, actress, united\n",
            "\n",
            "\n"
          ]
        },
        {
          "name": "stderr",
          "output_type": "stream",
          "text": [
            "10498it [04:16, 45.84it/s]"
          ]
        },
        {
          "name": "stdout",
          "output_type": "stream",
          "text": [
            "| epoch   2 | 10500/32580 batches | loss    1.359 \n"
          ]
        },
        {
          "name": "stderr",
          "output_type": "stream",
          "text": [
            "10508it [04:16, 31.13it/s]"
          ]
        },
        {
          "name": "stdout",
          "output_type": "stream",
          "text": [
            "money: fact, addition, seen, place, well, practice, lack, able, way, rest\n",
            "lion: punishment, september, journal, nobel, actress, concept, england, british, united, lithuania\n",
            "africa: europe, india, australia, america, japan, south, north, china, region, germany\n",
            "musician: actress, actor, writer, author, born, singer, addition, football, late, nine\n",
            "dance: music, concept, study, country, writer, singer, actor, origin, actress, united\n",
            "\n",
            "\n"
          ]
        },
        {
          "name": "stderr",
          "output_type": "stream",
          "text": [
            "11000it [04:28, 44.67it/s]"
          ]
        },
        {
          "name": "stdout",
          "output_type": "stream",
          "text": [
            "| epoch   2 | 11000/32580 batches | loss    1.357 \n"
          ]
        },
        {
          "name": "stderr",
          "output_type": "stream",
          "text": [
            "\r11005it [04:28, 26.64it/s]"
          ]
        },
        {
          "name": "stdout",
          "output_type": "stream",
          "text": [
            "money: fact, addition, seen, place, practice, well, lack, able, way, rest\n",
            "lion: punishment, september, journal, nobel, actress, concept, british, england, united, lithuania\n",
            "africa: europe, india, australia, japan, america, south, north, china, region, germany\n",
            "musician: actress, actor, writer, author, born, singer, addition, football, late, nine\n",
            "dance: music, concept, country, study, writer, singer, actor, origin, actress, united\n",
            "\n",
            "\n"
          ]
        },
        {
          "name": "stderr",
          "output_type": "stream",
          "text": [
            "11498it [04:40, 45.61it/s]"
          ]
        },
        {
          "name": "stdout",
          "output_type": "stream",
          "text": [
            "| epoch   2 | 11500/32580 batches | loss    1.356 \n"
          ]
        },
        {
          "name": "stderr",
          "output_type": "stream",
          "text": [
            "11508it [04:41, 31.18it/s]"
          ]
        },
        {
          "name": "stdout",
          "output_type": "stream",
          "text": [
            "money: fact, addition, seen, place, practice, well, lack, able, way, rest\n",
            "lion: punishment, september, journal, nobel, actress, concept, british, england, united, opposed\n",
            "africa: europe, india, australia, japan, america, south, north, china, region, germany\n",
            "musician: actress, actor, writer, author, born, singer, addition, football, late, nine\n",
            "dance: music, concept, country, study, writer, singer, actor, origin, actress, united\n",
            "\n",
            "\n"
          ]
        },
        {
          "name": "stderr",
          "output_type": "stream",
          "text": [
            "11996it [04:52, 45.71it/s]"
          ]
        },
        {
          "name": "stdout",
          "output_type": "stream",
          "text": [
            "| epoch   2 | 12000/32580 batches | loss    1.356 \n"
          ]
        },
        {
          "name": "stderr",
          "output_type": "stream",
          "text": [
            "12005it [04:53, 30.65it/s]"
          ]
        },
        {
          "name": "stdout",
          "output_type": "stream",
          "text": [
            "money: fact, addition, seen, place, practice, well, lack, able, way, rest\n",
            "lion: punishment, september, journal, nobel, actress, concept, british, england, united, lithuania\n",
            "africa: europe, india, australia, japan, america, south, north, china, region, germany\n",
            "musician: actress, actor, writer, author, born, singer, addition, football, late, nine\n",
            "dance: music, concept, country, study, writer, singer, actor, origin, actress, united\n",
            "\n",
            "\n"
          ]
        },
        {
          "name": "stderr",
          "output_type": "stream",
          "text": [
            "12499it [05:04, 34.47it/s]"
          ]
        },
        {
          "name": "stdout",
          "output_type": "stream",
          "text": [
            "| epoch   2 | 12500/32580 batches | loss    1.357 \n"
          ]
        },
        {
          "name": "stderr",
          "output_type": "stream",
          "text": [
            "12508it [05:05, 25.22it/s]"
          ]
        },
        {
          "name": "stdout",
          "output_type": "stream",
          "text": [
            "money: fact, addition, place, seen, practice, well, lack, able, way, rest\n",
            "lion: punishment, september, journal, nobel, actress, concept, british, england, united, opposed\n",
            "africa: europe, india, australia, japan, america, south, china, north, region, germany\n",
            "musician: actress, actor, writer, author, born, singer, addition, football, late, nine\n",
            "dance: music, concept, country, study, writer, singer, actor, origin, actress, united\n",
            "\n",
            "\n"
          ]
        },
        {
          "name": "stderr",
          "output_type": "stream",
          "text": [
            "12998it [05:16, 35.08it/s]"
          ]
        },
        {
          "name": "stdout",
          "output_type": "stream",
          "text": [
            "| epoch   2 | 13000/32580 batches | loss    1.361 \n"
          ]
        },
        {
          "name": "stderr",
          "output_type": "stream",
          "text": [
            "13006it [05:17, 21.07it/s]"
          ]
        },
        {
          "name": "stdout",
          "output_type": "stream",
          "text": [
            "money: fact, addition, seen, place, practice, well, lack, able, way, rest\n",
            "lion: punishment, september, journal, nobel, actress, concept, british, england, united, opposed\n",
            "africa: europe, india, australia, japan, america, south, china, north, region, germany\n",
            "musician: actress, actor, writer, author, born, singer, addition, football, late, nine\n",
            "dance: music, concept, country, study, writer, singer, actor, origin, actress, united\n",
            "\n",
            "\n"
          ]
        },
        {
          "name": "stderr",
          "output_type": "stream",
          "text": [
            "13498it [05:28, 44.68it/s]"
          ]
        },
        {
          "name": "stdout",
          "output_type": "stream",
          "text": [
            "| epoch   2 | 13500/32580 batches | loss    1.355 \n"
          ]
        },
        {
          "name": "stderr",
          "output_type": "stream",
          "text": [
            "\r13503it [05:28, 23.50it/s]"
          ]
        },
        {
          "name": "stdout",
          "output_type": "stream",
          "text": [
            "money: fact, addition, seen, place, practice, well, lack, able, way, rest\n",
            "lion: punishment, september, journal, nobel, actress, concept, british, england, united, opposed\n",
            "africa: europe, india, australia, japan, america, south, china, north, region, germany\n",
            "musician: actress, actor, writer, author, born, singer, addition, football, late, nine\n",
            "dance: music, concept, country, study, writer, singer, actor, origin, actress, united\n",
            "\n",
            "\n"
          ]
        },
        {
          "name": "stderr",
          "output_type": "stream",
          "text": [
            "13996it [05:40, 45.92it/s]"
          ]
        },
        {
          "name": "stdout",
          "output_type": "stream",
          "text": [
            "| epoch   2 | 14000/32580 batches | loss    1.355 \n"
          ]
        },
        {
          "name": "stderr",
          "output_type": "stream",
          "text": [
            "14005it [05:40, 30.30it/s]"
          ]
        },
        {
          "name": "stdout",
          "output_type": "stream",
          "text": [
            "money: fact, addition, seen, place, practice, well, lack, able, way, rest\n",
            "lion: punishment, september, journal, nobel, actress, concept, british, england, united, opposed\n",
            "africa: europe, india, australia, japan, america, south, china, north, region, germany\n",
            "musician: actress, actor, writer, author, born, singer, addition, football, late, nine\n",
            "dance: music, concept, country, study, writer, singer, actor, origin, actress, united\n",
            "\n",
            "\n"
          ]
        },
        {
          "name": "stderr",
          "output_type": "stream",
          "text": [
            "14498it [05:52, 45.84it/s]"
          ]
        },
        {
          "name": "stdout",
          "output_type": "stream",
          "text": [
            "| epoch   2 | 14500/32580 batches | loss    1.355 \n"
          ]
        },
        {
          "name": "stderr",
          "output_type": "stream",
          "text": [
            "14507it [05:53, 29.80it/s]"
          ]
        },
        {
          "name": "stdout",
          "output_type": "stream",
          "text": [
            "money: fact, addition, place, seen, practice, well, lack, able, way, rest\n",
            "lion: punishment, september, journal, nobel, actress, concept, british, england, united, opposed\n",
            "africa: europe, india, australia, japan, america, south, china, north, region, germany\n",
            "musician: actress, actor, writer, author, born, singer, addition, football, late, nine\n",
            "dance: music, concept, country, study, writer, singer, actor, origin, actress, united\n",
            "\n",
            "\n"
          ]
        },
        {
          "name": "stderr",
          "output_type": "stream",
          "text": [
            "15000it [06:04, 45.40it/s]"
          ]
        },
        {
          "name": "stdout",
          "output_type": "stream",
          "text": [
            "| epoch   2 | 15000/32580 batches | loss    1.357 \n"
          ]
        },
        {
          "name": "stderr",
          "output_type": "stream",
          "text": [
            "\r15005it [06:05, 27.52it/s]"
          ]
        },
        {
          "name": "stdout",
          "output_type": "stream",
          "text": [
            "money: fact, addition, place, seen, practice, well, lack, able, way, rest\n",
            "lion: punishment, september, journal, nobel, actress, concept, england, british, united, opposed\n",
            "africa: europe, india, australia, japan, america, south, china, north, region, germany\n",
            "musician: actress, actor, writer, author, born, singer, addition, football, nine, late\n",
            "dance: music, concept, country, study, writer, singer, actor, origin, actress, united\n",
            "\n",
            "\n"
          ]
        },
        {
          "name": "stderr",
          "output_type": "stream",
          "text": [
            "15500it [06:16, 45.29it/s]"
          ]
        },
        {
          "name": "stdout",
          "output_type": "stream",
          "text": [
            "| epoch   2 | 15500/32580 batches | loss    1.359 \n"
          ]
        },
        {
          "name": "stderr",
          "output_type": "stream",
          "text": [
            "\r15505it [06:17, 27.33it/s]"
          ]
        },
        {
          "name": "stdout",
          "output_type": "stream",
          "text": [
            "money: fact, addition, place, seen, practice, well, lack, able, way, rest\n",
            "lion: punishment, september, journal, nobel, actress, concept, england, british, united, opposed\n",
            "africa: europe, india, australia, japan, america, south, china, north, region, germany\n",
            "musician: actress, actor, writer, author, born, singer, addition, football, late, nine\n",
            "dance: music, concept, country, study, writer, singer, actor, origin, actress, united\n",
            "\n",
            "\n"
          ]
        },
        {
          "name": "stderr",
          "output_type": "stream",
          "text": [
            "15998it [06:29, 44.11it/s]"
          ]
        },
        {
          "name": "stdout",
          "output_type": "stream",
          "text": [
            "| epoch   2 | 16000/32580 batches | loss    1.353 \n"
          ]
        },
        {
          "name": "stderr",
          "output_type": "stream",
          "text": [
            "16008it [06:29, 31.06it/s]"
          ]
        },
        {
          "name": "stdout",
          "output_type": "stream",
          "text": [
            "money: fact, addition, place, seen, practice, well, lack, able, way, rest\n",
            "lion: punishment, september, journal, nobel, actress, concept, british, england, united, opposed\n",
            "africa: europe, india, australia, japan, america, south, china, north, region, germany\n",
            "musician: actress, actor, writer, author, born, singer, addition, football, late, nine\n",
            "dance: music, concept, country, study, writer, singer, actor, origin, actress, united\n",
            "\n",
            "\n"
          ]
        },
        {
          "name": "stderr",
          "output_type": "stream",
          "text": [
            "16500it [06:41, 45.40it/s]"
          ]
        },
        {
          "name": "stdout",
          "output_type": "stream",
          "text": [
            "| epoch   2 | 16500/32580 batches | loss    1.353 \n"
          ]
        },
        {
          "name": "stderr",
          "output_type": "stream",
          "text": [
            "\r16505it [06:41, 27.61it/s]"
          ]
        },
        {
          "name": "stdout",
          "output_type": "stream",
          "text": [
            "money: fact, addition, place, seen, practice, well, lack, able, way, rest\n",
            "lion: punishment, september, journal, nobel, actress, concept, british, england, united, opposed\n",
            "africa: europe, india, australia, japan, america, south, china, north, region, germany\n",
            "musician: actress, actor, writer, author, born, singer, addition, football, late, nine\n",
            "dance: music, concept, country, study, writer, singer, actor, origin, actress, united\n",
            "\n",
            "\n"
          ]
        },
        {
          "name": "stderr",
          "output_type": "stream",
          "text": [
            "16998it [06:53, 37.94it/s]"
          ]
        },
        {
          "name": "stdout",
          "output_type": "stream",
          "text": [
            "| epoch   2 | 17000/32580 batches | loss    1.352 \n"
          ]
        },
        {
          "name": "stderr",
          "output_type": "stream",
          "text": [
            "17006it [06:53, 27.60it/s]"
          ]
        },
        {
          "name": "stdout",
          "output_type": "stream",
          "text": [
            "money: fact, addition, place, seen, well, practice, lack, able, way, even\n",
            "lion: punishment, september, journal, nobel, actress, concept, england, british, united, opposed\n",
            "africa: europe, india, australia, japan, america, south, china, north, region, germany\n",
            "musician: actress, actor, writer, author, born, singer, addition, football, late, nine\n",
            "dance: music, concept, country, study, writer, singer, actor, origin, actress, united\n",
            "\n",
            "\n"
          ]
        },
        {
          "name": "stderr",
          "output_type": "stream",
          "text": [
            "17498it [07:04, 34.19it/s]"
          ]
        },
        {
          "name": "stdout",
          "output_type": "stream",
          "text": [
            "| epoch   2 | 17500/32580 batches | loss    1.353 \n"
          ]
        },
        {
          "name": "stderr",
          "output_type": "stream",
          "text": [
            "17506it [07:05, 21.12it/s]"
          ]
        },
        {
          "name": "stdout",
          "output_type": "stream",
          "text": [
            "money: fact, addition, place, seen, practice, well, lack, able, way, rest\n",
            "lion: punishment, september, journal, nobel, actress, concept, british, england, united, opposed\n",
            "africa: europe, india, australia, japan, america, south, china, north, region, germany\n",
            "musician: actress, actor, writer, author, singer, born, addition, football, nine, late\n",
            "dance: music, concept, country, study, writer, singer, actor, origin, actress, united\n",
            "\n",
            "\n"
          ]
        },
        {
          "name": "stderr",
          "output_type": "stream",
          "text": [
            "17996it [07:16, 45.74it/s]"
          ]
        },
        {
          "name": "stdout",
          "output_type": "stream",
          "text": [
            "| epoch   2 | 18000/32580 batches | loss    1.352 \n"
          ]
        },
        {
          "name": "stderr",
          "output_type": "stream",
          "text": [
            "18005it [07:16, 26.26it/s]"
          ]
        },
        {
          "name": "stdout",
          "output_type": "stream",
          "text": [
            "money: fact, addition, place, seen, practice, well, lack, able, way, rest\n",
            "lion: punishment, september, journal, nobel, actress, concept, british, england, united, opposed\n",
            "africa: europe, india, australia, japan, america, south, china, north, region, germany\n",
            "musician: actress, actor, writer, author, singer, born, addition, football, nine, late\n",
            "dance: music, concept, country, study, writer, singer, actor, origin, actress, united\n",
            "\n",
            "\n"
          ]
        },
        {
          "name": "stderr",
          "output_type": "stream",
          "text": [
            "18499it [07:29, 45.23it/s]"
          ]
        },
        {
          "name": "stdout",
          "output_type": "stream",
          "text": [
            "| epoch   2 | 18500/32580 batches | loss    1.348 \n"
          ]
        },
        {
          "name": "stderr",
          "output_type": "stream",
          "text": [
            "\r18504it [07:29, 27.52it/s]"
          ]
        },
        {
          "name": "stdout",
          "output_type": "stream",
          "text": [
            "money: fact, addition, place, seen, practice, well, lack, able, way, rest\n",
            "lion: punishment, september, journal, nobel, actress, concept, british, england, united, opposed\n",
            "africa: europe, india, australia, japan, america, south, china, north, region, germany\n",
            "musician: actress, actor, writer, author, singer, born, addition, football, nine, late\n",
            "dance: music, concept, country, study, writer, singer, actor, origin, actress, united\n",
            "\n",
            "\n"
          ]
        },
        {
          "name": "stderr",
          "output_type": "stream",
          "text": [
            "19000it [07:41, 45.68it/s]"
          ]
        },
        {
          "name": "stdout",
          "output_type": "stream",
          "text": [
            "| epoch   2 | 19000/32580 batches | loss    1.351 \n"
          ]
        },
        {
          "name": "stderr",
          "output_type": "stream",
          "text": [
            "\r19005it [07:41, 27.75it/s]"
          ]
        },
        {
          "name": "stdout",
          "output_type": "stream",
          "text": [
            "money: fact, addition, place, seen, practice, well, lack, able, way, even\n",
            "lion: punishment, september, journal, nobel, actress, concept, british, england, united, opposed\n",
            "africa: europe, india, australia, japan, america, south, china, north, region, germany\n",
            "musician: actress, actor, writer, author, singer, born, addition, football, nine, late\n",
            "dance: music, concept, country, study, writer, singer, actor, origin, actress, united\n",
            "\n",
            "\n"
          ]
        },
        {
          "name": "stderr",
          "output_type": "stream",
          "text": [
            "19496it [07:53, 44.77it/s]"
          ]
        },
        {
          "name": "stdout",
          "output_type": "stream",
          "text": [
            "| epoch   2 | 19500/32580 batches | loss    1.352 \n"
          ]
        },
        {
          "name": "stderr",
          "output_type": "stream",
          "text": [
            "19505it [07:54, 29.99it/s]"
          ]
        },
        {
          "name": "stdout",
          "output_type": "stream",
          "text": [
            "money: fact, addition, place, seen, practice, well, lack, able, way, even\n",
            "lion: punishment, september, journal, nobel, actress, concept, british, england, united, opposed\n",
            "africa: europe, india, australia, japan, america, south, china, north, region, germany\n",
            "musician: actress, actor, writer, author, born, singer, addition, football, nine, late\n",
            "dance: music, concept, country, study, writer, singer, actor, origin, actress, united\n",
            "\n",
            "\n"
          ]
        },
        {
          "name": "stderr",
          "output_type": "stream",
          "text": [
            "19998it [08:05, 44.76it/s]"
          ]
        },
        {
          "name": "stdout",
          "output_type": "stream",
          "text": [
            "| epoch   2 | 20000/32580 batches | loss    1.351 \n"
          ]
        },
        {
          "name": "stderr",
          "output_type": "stream",
          "text": [
            "20008it [08:06, 31.29it/s]"
          ]
        },
        {
          "name": "stdout",
          "output_type": "stream",
          "text": [
            "money: fact, addition, place, seen, practice, well, lack, able, way, even\n",
            "lion: punishment, september, journal, nobel, actress, concept, british, england, united, opposed\n",
            "africa: europe, india, australia, japan, america, south, china, north, region, germany\n",
            "musician: actress, actor, writer, author, singer, born, addition, football, nine, late\n",
            "dance: music, concept, country, study, writer, singer, actor, origin, actress, united\n",
            "\n",
            "\n"
          ]
        },
        {
          "name": "stderr",
          "output_type": "stream",
          "text": [
            "20500it [08:18, 44.93it/s]"
          ]
        },
        {
          "name": "stdout",
          "output_type": "stream",
          "text": [
            "| epoch   2 | 20500/32580 batches | loss    1.353 \n"
          ]
        },
        {
          "name": "stderr",
          "output_type": "stream",
          "text": [
            "\r20505it [08:18, 27.38it/s]"
          ]
        },
        {
          "name": "stdout",
          "output_type": "stream",
          "text": [
            "money: fact, place, addition, seen, practice, well, lack, able, way, even\n",
            "lion: punishment, september, journal, nobel, actress, concept, british, england, united, opposed\n",
            "africa: europe, india, australia, japan, america, south, china, north, germany, region\n",
            "musician: actress, actor, writer, author, singer, born, addition, football, nine, late\n",
            "dance: music, concept, country, study, writer, singer, actor, origin, actress, united\n",
            "\n",
            "\n"
          ]
        },
        {
          "name": "stderr",
          "output_type": "stream",
          "text": [
            "20999it [08:30, 44.24it/s]"
          ]
        },
        {
          "name": "stdout",
          "output_type": "stream",
          "text": [
            "| epoch   2 | 21000/32580 batches | loss    1.348 \n"
          ]
        },
        {
          "name": "stderr",
          "output_type": "stream",
          "text": [
            "21009it [08:30, 31.22it/s]"
          ]
        },
        {
          "name": "stdout",
          "output_type": "stream",
          "text": [
            "money: fact, addition, place, seen, practice, well, lack, able, way, even\n",
            "lion: punishment, september, journal, nobel, actress, concept, england, british, united, opposed\n",
            "africa: europe, india, australia, japan, america, south, china, north, germany, region\n",
            "musician: actress, actor, writer, author, singer, born, addition, football, nine, late\n",
            "dance: music, concept, country, study, writer, singer, actor, origin, actress, united\n",
            "\n",
            "\n"
          ]
        },
        {
          "name": "stderr",
          "output_type": "stream",
          "text": [
            "21496it [08:42, 45.12it/s]"
          ]
        },
        {
          "name": "stdout",
          "output_type": "stream",
          "text": [
            "| epoch   2 | 21500/32580 batches | loss    1.351 \n"
          ]
        },
        {
          "name": "stderr",
          "output_type": "stream",
          "text": [
            "21505it [08:42, 30.22it/s]"
          ]
        },
        {
          "name": "stdout",
          "output_type": "stream",
          "text": [
            "money: fact, place, addition, seen, practice, well, lack, able, way, even\n",
            "lion: punishment, september, journal, nobel, actress, concept, british, england, united, opposed\n",
            "africa: europe, india, australia, japan, america, south, china, north, region, germany\n",
            "musician: actress, actor, writer, author, singer, born, addition, football, nine, late\n",
            "dance: music, concept, country, study, writer, singer, actor, origin, actress, united\n",
            "\n",
            "\n"
          ]
        },
        {
          "name": "stderr",
          "output_type": "stream",
          "text": [
            "21997it [08:54, 33.96it/s]"
          ]
        },
        {
          "name": "stdout",
          "output_type": "stream",
          "text": [
            "| epoch   2 | 22000/32580 batches | loss    1.348 \n"
          ]
        },
        {
          "name": "stderr",
          "output_type": "stream",
          "text": [
            "22004it [08:54, 21.49it/s]"
          ]
        },
        {
          "name": "stdout",
          "output_type": "stream",
          "text": [
            "money: fact, place, addition, seen, practice, well, lack, able, way, even\n",
            "lion: punishment, september, journal, nobel, actress, concept, england, british, united, opposed\n",
            "africa: europe, india, australia, japan, america, south, china, north, region, germany\n",
            "musician: actress, actor, writer, author, singer, born, addition, football, nine, late\n",
            "dance: music, concept, country, study, writer, singer, actor, origin, actress, united\n",
            "\n",
            "\n"
          ]
        },
        {
          "name": "stderr",
          "output_type": "stream",
          "text": [
            "22498it [09:06, 35.63it/s]"
          ]
        },
        {
          "name": "stdout",
          "output_type": "stream",
          "text": [
            "| epoch   2 | 22500/32580 batches | loss    1.348 \n"
          ]
        },
        {
          "name": "stderr",
          "output_type": "stream",
          "text": [
            "22506it [09:06, 21.81it/s]"
          ]
        },
        {
          "name": "stdout",
          "output_type": "stream",
          "text": [
            "money: fact, place, addition, seen, practice, well, lack, able, way, even\n",
            "lion: punishment, september, journal, nobel, actress, concept, british, england, united, opposed\n",
            "africa: europe, india, australia, japan, america, south, china, north, germany, region\n",
            "musician: actress, actor, writer, author, singer, born, addition, football, nine, late\n",
            "dance: music, concept, country, study, writer, singer, actor, origin, actress, united\n",
            "\n",
            "\n"
          ]
        },
        {
          "name": "stderr",
          "output_type": "stream",
          "text": [
            "23000it [09:17, 45.65it/s]"
          ]
        },
        {
          "name": "stdout",
          "output_type": "stream",
          "text": [
            "| epoch   2 | 23000/32580 batches | loss    1.352 \n"
          ]
        },
        {
          "name": "stderr",
          "output_type": "stream",
          "text": [
            "\r23005it [09:18, 27.64it/s]"
          ]
        },
        {
          "name": "stdout",
          "output_type": "stream",
          "text": [
            "money: fact, place, addition, seen, practice, well, lack, able, way, even\n",
            "lion: punishment, september, journal, nobel, actress, concept, british, england, united, opposed\n",
            "africa: europe, india, australia, japan, america, south, china, north, germany, region\n",
            "musician: actress, actor, writer, author, singer, born, addition, football, nine, late\n",
            "dance: music, concept, country, study, writer, singer, actor, origin, actress, united\n",
            "\n",
            "\n"
          ]
        },
        {
          "name": "stderr",
          "output_type": "stream",
          "text": [
            "23499it [09:32, 34.83it/s]"
          ]
        },
        {
          "name": "stdout",
          "output_type": "stream",
          "text": [
            "| epoch   2 | 23500/32580 batches | loss    1.344 \n"
          ]
        },
        {
          "name": "stderr",
          "output_type": "stream",
          "text": [
            "\r23503it [09:33, 19.24it/s]"
          ]
        },
        {
          "name": "stdout",
          "output_type": "stream",
          "text": [
            "money: fact, place, addition, practice, seen, well, lack, able, way, even\n",
            "lion: punishment, september, journal, nobel, actress, concept, british, england, united, opposed\n",
            "africa: europe, india, australia, japan, america, south, china, north, region, germany\n",
            "musician: actress, actor, writer, author, singer, born, addition, football, nine, late\n",
            "dance: music, concept, country, study, writer, singer, actor, origin, actress, united\n",
            "\n",
            "\n"
          ]
        },
        {
          "name": "stderr",
          "output_type": "stream",
          "text": [
            "24000it [09:44, 44.78it/s]"
          ]
        },
        {
          "name": "stdout",
          "output_type": "stream",
          "text": [
            "| epoch   2 | 24000/32580 batches | loss    1.346 \n"
          ]
        },
        {
          "name": "stderr",
          "output_type": "stream",
          "text": [
            "\r24005it [09:45, 27.13it/s]"
          ]
        },
        {
          "name": "stdout",
          "output_type": "stream",
          "text": [
            "money: fact, place, addition, practice, seen, well, lack, able, way, even\n",
            "lion: punishment, september, journal, nobel, actress, concept, british, england, united, opposed\n",
            "africa: europe, india, australia, japan, america, south, china, north, region, germany\n",
            "musician: actress, actor, writer, author, singer, born, addition, football, nine, late\n",
            "dance: music, concept, country, study, writer, singer, actor, origin, actress, united\n",
            "\n",
            "\n"
          ]
        },
        {
          "name": "stderr",
          "output_type": "stream",
          "text": [
            "24500it [09:56, 45.99it/s]"
          ]
        },
        {
          "name": "stdout",
          "output_type": "stream",
          "text": [
            "| epoch   2 | 24500/32580 batches | loss    1.348 \n"
          ]
        },
        {
          "name": "stderr",
          "output_type": "stream",
          "text": [
            "\r24505it [09:57, 27.86it/s]"
          ]
        },
        {
          "name": "stdout",
          "output_type": "stream",
          "text": [
            "money: fact, place, addition, practice, seen, well, lack, able, way, even\n",
            "lion: punishment, september, journal, nobel, actress, concept, british, england, united, opposed\n",
            "africa: europe, india, australia, japan, america, south, china, north, germany, region\n",
            "musician: actress, actor, writer, author, singer, born, addition, football, nine, late\n",
            "dance: music, concept, country, study, writer, singer, actor, origin, actress, united\n",
            "\n",
            "\n"
          ]
        },
        {
          "name": "stderr",
          "output_type": "stream",
          "text": [
            "24998it [10:08, 45.69it/s]"
          ]
        },
        {
          "name": "stdout",
          "output_type": "stream",
          "text": [
            "| epoch   2 | 25000/32580 batches | loss    1.346 \n"
          ]
        },
        {
          "name": "stderr",
          "output_type": "stream",
          "text": [
            "25008it [10:09, 31.20it/s]"
          ]
        },
        {
          "name": "stdout",
          "output_type": "stream",
          "text": [
            "money: fact, place, addition, seen, practice, well, lack, able, way, even\n",
            "lion: punishment, september, journal, nobel, actress, concept, british, england, united, opposed\n",
            "africa: europe, india, australia, japan, america, south, china, north, germany, region\n",
            "musician: actress, actor, writer, author, singer, born, addition, football, nine, late\n",
            "dance: music, concept, country, study, writer, singer, actor, origin, actress, united\n",
            "\n",
            "\n"
          ]
        },
        {
          "name": "stderr",
          "output_type": "stream",
          "text": [
            "25496it [10:20, 45.61it/s]"
          ]
        },
        {
          "name": "stdout",
          "output_type": "stream",
          "text": [
            "| epoch   2 | 25500/32580 batches | loss    1.353 \n"
          ]
        },
        {
          "name": "stderr",
          "output_type": "stream",
          "text": [
            "25505it [10:21, 30.25it/s]"
          ]
        },
        {
          "name": "stdout",
          "output_type": "stream",
          "text": [
            "money: fact, place, addition, practice, seen, well, lack, able, way, even\n",
            "lion: punishment, september, journal, nobel, actress, concept, england, british, united, opposed\n",
            "africa: europe, india, australia, japan, america, south, china, north, germany, region\n",
            "musician: actress, actor, writer, author, singer, born, addition, football, nine, late\n",
            "dance: music, concept, country, study, writer, singer, actor, origin, actress, united\n",
            "\n",
            "\n"
          ]
        },
        {
          "name": "stderr",
          "output_type": "stream",
          "text": [
            "25998it [10:32, 45.39it/s]"
          ]
        },
        {
          "name": "stdout",
          "output_type": "stream",
          "text": [
            "| epoch   2 | 26000/32580 batches | loss    1.347 \n"
          ]
        },
        {
          "name": "stderr",
          "output_type": "stream",
          "text": [
            "26007it [10:33, 30.19it/s]"
          ]
        },
        {
          "name": "stdout",
          "output_type": "stream",
          "text": [
            "money: fact, place, addition, well, seen, practice, lack, able, way, even\n",
            "lion: punishment, september, journal, nobel, actress, concept, england, british, united, opposed\n",
            "africa: europe, india, australia, japan, america, south, china, north, germany, region\n",
            "musician: actress, actor, writer, author, singer, born, addition, football, nine, late\n",
            "dance: music, concept, country, study, writer, singer, actor, origin, actress, united\n",
            "\n",
            "\n"
          ]
        },
        {
          "name": "stderr",
          "output_type": "stream",
          "text": [
            "26500it [10:45, 44.57it/s]"
          ]
        },
        {
          "name": "stdout",
          "output_type": "stream",
          "text": [
            "| epoch   2 | 26500/32580 batches | loss    1.350 \n"
          ]
        },
        {
          "name": "stderr",
          "output_type": "stream",
          "text": [
            "\r26505it [10:45, 26.69it/s]"
          ]
        },
        {
          "name": "stdout",
          "output_type": "stream",
          "text": [
            "money: fact, place, addition, seen, well, practice, lack, able, way, even\n",
            "lion: punishment, september, journal, nobel, actress, concept, british, england, united, opposed\n",
            "africa: europe, india, australia, japan, america, south, china, north, region, germany\n",
            "musician: actress, actor, writer, author, singer, born, addition, football, nine, late\n",
            "dance: music, concept, country, study, writer, singer, actor, origin, actress, art\n",
            "\n",
            "\n"
          ]
        },
        {
          "name": "stderr",
          "output_type": "stream",
          "text": [
            "26998it [10:57, 44.21it/s]"
          ]
        },
        {
          "name": "stdout",
          "output_type": "stream",
          "text": [
            "| epoch   2 | 27000/32580 batches | loss    1.342 \n"
          ]
        },
        {
          "name": "stderr",
          "output_type": "stream",
          "text": [
            "27008it [10:57, 30.38it/s]"
          ]
        },
        {
          "name": "stdout",
          "output_type": "stream",
          "text": [
            "money: fact, place, addition, seen, well, practice, lack, able, way, even\n",
            "lion: punishment, september, journal, nobel, actress, concept, british, england, united, opposed\n",
            "africa: europe, india, australia, japan, america, south, china, north, region, germany\n",
            "musician: actress, actor, writer, author, singer, born, addition, football, nine, late\n",
            "dance: music, concept, country, study, writer, singer, actor, origin, actress, art\n",
            "\n",
            "\n"
          ]
        },
        {
          "name": "stderr",
          "output_type": "stream",
          "text": [
            "27497it [11:09, 32.78it/s]"
          ]
        },
        {
          "name": "stdout",
          "output_type": "stream",
          "text": [
            "| epoch   2 | 27500/32580 batches | loss    1.347 \n"
          ]
        },
        {
          "name": "stderr",
          "output_type": "stream",
          "text": [
            "27505it [11:09, 21.49it/s]"
          ]
        },
        {
          "name": "stdout",
          "output_type": "stream",
          "text": [
            "money: fact, place, addition, seen, well, practice, lack, able, way, even\n",
            "lion: punishment, september, journal, nobel, actress, concept, british, england, united, opposed\n",
            "africa: europe, india, australia, japan, america, south, china, north, region, germany\n",
            "musician: actress, actor, writer, author, singer, born, addition, football, nine, late\n",
            "dance: music, concept, country, study, writer, singer, actor, origin, actress, united\n",
            "\n",
            "\n"
          ]
        },
        {
          "name": "stderr",
          "output_type": "stream",
          "text": [
            "27999it [11:22, 33.75it/s]"
          ]
        },
        {
          "name": "stdout",
          "output_type": "stream",
          "text": [
            "| epoch   2 | 28000/32580 batches | loss    1.344 \n"
          ]
        },
        {
          "name": "stderr",
          "output_type": "stream",
          "text": [
            "\r28003it [11:22, 18.46it/s]"
          ]
        },
        {
          "name": "stdout",
          "output_type": "stream",
          "text": [
            "money: fact, place, addition, seen, practice, well, lack, able, way, even\n",
            "lion: punishment, september, journal, nobel, actress, concept, british, england, united, opposed\n",
            "africa: europe, india, australia, japan, america, south, china, north, region, germany\n",
            "musician: actress, actor, writer, author, singer, born, addition, football, nine, late\n",
            "dance: music, concept, country, study, writer, singer, actor, origin, actress, art\n",
            "\n",
            "\n"
          ]
        },
        {
          "name": "stderr",
          "output_type": "stream",
          "text": [
            "28498it [11:33, 39.87it/s]"
          ]
        },
        {
          "name": "stdout",
          "output_type": "stream",
          "text": [
            "| epoch   2 | 28500/32580 batches | loss    1.345 \n"
          ]
        },
        {
          "name": "stderr",
          "output_type": "stream",
          "text": [
            "\r28503it [11:34, 21.80it/s]"
          ]
        },
        {
          "name": "stdout",
          "output_type": "stream",
          "text": [
            "money: fact, place, addition, seen, well, practice, lack, able, way, even\n",
            "lion: punishment, september, journal, nobel, actress, concept, british, england, united, opposed\n",
            "africa: europe, india, australia, japan, america, south, china, north, region, germany\n",
            "musician: actor, actress, writer, author, singer, born, addition, football, nine, late\n",
            "dance: music, concept, country, study, writer, singer, actor, origin, actress, art\n",
            "\n",
            "\n"
          ]
        },
        {
          "name": "stderr",
          "output_type": "stream",
          "text": [
            "28999it [11:46, 43.54it/s]"
          ]
        },
        {
          "name": "stdout",
          "output_type": "stream",
          "text": [
            "| epoch   2 | 29000/32580 batches | loss    1.345 \n"
          ]
        },
        {
          "name": "stderr",
          "output_type": "stream",
          "text": [
            "29009it [11:46, 30.03it/s]"
          ]
        },
        {
          "name": "stdout",
          "output_type": "stream",
          "text": [
            "money: fact, place, addition, seen, well, practice, lack, able, way, even\n",
            "lion: punishment, september, journal, nobel, actress, concept, british, england, united, opposed\n",
            "africa: europe, india, australia, japan, america, south, china, north, germany, region\n",
            "musician: actor, actress, writer, author, singer, born, addition, football, nine, late\n",
            "dance: music, concept, country, study, writer, singer, actor, origin, actress, art\n",
            "\n",
            "\n"
          ]
        },
        {
          "name": "stderr",
          "output_type": "stream",
          "text": [
            "29500it [11:58, 45.15it/s]"
          ]
        },
        {
          "name": "stdout",
          "output_type": "stream",
          "text": [
            "| epoch   2 | 29500/32580 batches | loss    1.339 \n"
          ]
        },
        {
          "name": "stderr",
          "output_type": "stream",
          "text": [
            "\r29505it [11:58, 26.77it/s]"
          ]
        },
        {
          "name": "stdout",
          "output_type": "stream",
          "text": [
            "money: fact, place, addition, seen, well, practice, lack, able, way, even\n",
            "lion: punishment, september, journal, nobel, actress, concept, british, england, united, opposed\n",
            "africa: europe, india, australia, japan, america, south, china, north, region, germany\n",
            "musician: actress, actor, writer, author, singer, born, addition, football, nine, late\n",
            "dance: music, concept, country, study, writer, singer, actor, origin, actress, art\n",
            "\n",
            "\n"
          ]
        },
        {
          "name": "stderr",
          "output_type": "stream",
          "text": [
            "29998it [12:10, 45.19it/s]"
          ]
        },
        {
          "name": "stdout",
          "output_type": "stream",
          "text": [
            "| epoch   2 | 30000/32580 batches | loss    1.343 \n"
          ]
        },
        {
          "name": "stderr",
          "output_type": "stream",
          "text": [
            "30007it [12:11, 30.07it/s]"
          ]
        },
        {
          "name": "stdout",
          "output_type": "stream",
          "text": [
            "money: fact, place, addition, seen, well, practice, lack, able, way, even\n",
            "lion: punishment, september, journal, nobel, actress, concept, british, england, united, opposed\n",
            "africa: europe, india, australia, japan, america, south, china, north, germany, region\n",
            "musician: actress, actor, writer, author, singer, born, addition, football, nine, late\n",
            "dance: music, concept, country, study, writer, singer, actor, origin, actress, art\n",
            "\n",
            "\n"
          ]
        },
        {
          "name": "stderr",
          "output_type": "stream",
          "text": [
            "30499it [12:22, 45.03it/s]"
          ]
        },
        {
          "name": "stdout",
          "output_type": "stream",
          "text": [
            "| epoch   2 | 30500/32580 batches | loss    1.342 \n"
          ]
        },
        {
          "name": "stderr",
          "output_type": "stream",
          "text": [
            "\r30504it [12:23, 27.26it/s]"
          ]
        },
        {
          "name": "stdout",
          "output_type": "stream",
          "text": [
            "money: fact, place, addition, seen, well, practice, lack, able, way, even\n",
            "lion: punishment, september, journal, nobel, actress, concept, british, england, united, opposed\n",
            "africa: europe, india, australia, japan, america, south, china, north, germany, region\n",
            "musician: actress, actor, writer, author, singer, born, addition, football, nine, late\n",
            "dance: music, concept, country, study, writer, singer, actor, origin, art, actress\n",
            "\n",
            "\n"
          ]
        },
        {
          "name": "stderr",
          "output_type": "stream",
          "text": [
            "30999it [12:35, 44.85it/s]"
          ]
        },
        {
          "name": "stdout",
          "output_type": "stream",
          "text": [
            "| epoch   2 | 31000/32580 batches | loss    1.343 \n"
          ]
        },
        {
          "name": "stderr",
          "output_type": "stream",
          "text": [
            "31009it [12:35, 31.10it/s]"
          ]
        },
        {
          "name": "stdout",
          "output_type": "stream",
          "text": [
            "money: fact, place, addition, seen, well, practice, lack, able, way, even\n",
            "lion: punishment, september, journal, nobel, actress, concept, british, england, united, opposed\n",
            "africa: europe, india, australia, japan, america, south, china, north, germany, region\n",
            "musician: actress, actor, writer, author, singer, born, addition, football, nine, late\n",
            "dance: music, concept, country, study, writer, singer, actor, origin, art, actress\n",
            "\n",
            "\n"
          ]
        },
        {
          "name": "stderr",
          "output_type": "stream",
          "text": [
            "31497it [12:47, 43.74it/s]"
          ]
        },
        {
          "name": "stdout",
          "output_type": "stream",
          "text": [
            "| epoch   2 | 31500/32580 batches | loss    1.345 \n"
          ]
        },
        {
          "name": "stderr",
          "output_type": "stream",
          "text": [
            "31506it [12:47, 29.90it/s]"
          ]
        },
        {
          "name": "stdout",
          "output_type": "stream",
          "text": [
            "money: fact, place, addition, seen, well, practice, lack, able, way, even\n",
            "lion: punishment, september, journal, nobel, actress, concept, british, england, united, opposed\n",
            "africa: europe, india, australia, japan, america, south, china, north, germany, region\n",
            "musician: actor, actress, writer, author, singer, born, addition, football, nine, late\n",
            "dance: music, concept, country, study, writer, singer, actor, origin, art, actress\n",
            "\n",
            "\n"
          ]
        },
        {
          "name": "stderr",
          "output_type": "stream",
          "text": [
            "32000it [12:59, 43.99it/s]"
          ]
        },
        {
          "name": "stdout",
          "output_type": "stream",
          "text": [
            "| epoch   2 | 32000/32580 batches | loss    1.340 \n"
          ]
        },
        {
          "name": "stderr",
          "output_type": "stream",
          "text": [
            "\r32005it [12:59, 26.71it/s]"
          ]
        },
        {
          "name": "stdout",
          "output_type": "stream",
          "text": [
            "money: fact, place, addition, seen, well, practice, lack, able, way, even\n",
            "lion: punishment, september, journal, nobel, actress, concept, british, england, united, opposed\n",
            "africa: europe, india, australia, japan, america, south, china, north, germany, region\n",
            "musician: actor, actress, writer, author, singer, born, addition, football, nine, seven\n",
            "dance: music, concept, country, study, writer, singer, actor, origin, art, actress\n",
            "\n",
            "\n"
          ]
        },
        {
          "name": "stderr",
          "output_type": "stream",
          "text": [
            "32499it [13:11, 33.11it/s]"
          ]
        },
        {
          "name": "stdout",
          "output_type": "stream",
          "text": [
            "| epoch   2 | 32500/32580 batches | loss    1.338 \n"
          ]
        },
        {
          "name": "stderr",
          "output_type": "stream",
          "text": [
            "32507it [13:12, 21.51it/s]"
          ]
        },
        {
          "name": "stdout",
          "output_type": "stream",
          "text": [
            "money: fact, place, addition, seen, well, practice, lack, able, way, even\n",
            "lion: punishment, september, journal, nobel, actress, concept, british, england, united, opposed\n",
            "africa: europe, india, australia, japan, america, south, china, north, germany, region\n",
            "musician: actress, actor, writer, author, singer, born, addition, football, nine, seven\n",
            "dance: music, concept, country, study, writer, singer, actor, origin, art, actress\n",
            "\n",
            "\n"
          ]
        },
        {
          "name": "stderr",
          "output_type": "stream",
          "text": [
            "32580it [13:14, 40.98it/s]\n",
            "0it [00:00, ?it/s]"
          ]
        },
        {
          "name": "stdout",
          "output_type": "stream",
          "text": [
            "| epoch   3 |     0/32580 batches | loss    1.304 \n"
          ]
        },
        {
          "name": "stderr",
          "output_type": "stream",
          "text": [
            "5it [00:01,  4.72it/s]"
          ]
        },
        {
          "name": "stdout",
          "output_type": "stream",
          "text": [
            "money: fact, place, addition, well, seen, practice, lack, able, way, even\n",
            "lion: punishment, september, journal, nobel, actress, concept, british, england, united, opposed\n",
            "africa: europe, india, australia, japan, america, south, china, north, germany, region\n",
            "musician: actress, actor, writer, author, singer, born, addition, football, nine, seven\n",
            "dance: music, concept, country, study, writer, singer, actor, origin, art, actress\n",
            "\n",
            "\n"
          ]
        },
        {
          "name": "stderr",
          "output_type": "stream",
          "text": [
            "498it [00:13, 44.89it/s]"
          ]
        },
        {
          "name": "stdout",
          "output_type": "stream",
          "text": [
            "| epoch   3 |   500/32580 batches | loss    1.337 \n"
          ]
        },
        {
          "name": "stderr",
          "output_type": "stream",
          "text": [
            "508it [00:13, 30.98it/s]"
          ]
        },
        {
          "name": "stdout",
          "output_type": "stream",
          "text": [
            "money: fact, place, addition, well, seen, practice, lack, able, way, even\n",
            "lion: punishment, september, journal, nobel, actress, concept, british, england, united, opposed\n",
            "africa: europe, india, australia, japan, america, south, china, north, germany, region\n",
            "musician: actress, actor, writer, author, singer, born, addition, football, nine, seven\n",
            "dance: music, concept, country, study, writer, singer, actor, origin, art, actress\n",
            "\n",
            "\n"
          ]
        },
        {
          "name": "stderr",
          "output_type": "stream",
          "text": [
            "1000it [00:25, 44.10it/s]"
          ]
        },
        {
          "name": "stdout",
          "output_type": "stream",
          "text": [
            "| epoch   3 |  1000/32580 batches | loss    1.333 \n"
          ]
        },
        {
          "name": "stderr",
          "output_type": "stream",
          "text": [
            "\r1005it [00:25, 27.09it/s]"
          ]
        },
        {
          "name": "stdout",
          "output_type": "stream",
          "text": [
            "money: fact, place, addition, well, seen, practice, lack, able, way, even\n",
            "lion: punishment, september, journal, nobel, actress, concept, british, england, united, opposed\n",
            "africa: europe, india, australia, japan, america, south, china, north, germany, region\n",
            "musician: actress, actor, writer, author, singer, born, addition, football, nine, seven\n",
            "dance: music, concept, country, study, writer, singer, actor, origin, art, actress\n",
            "\n",
            "\n"
          ]
        },
        {
          "name": "stderr",
          "output_type": "stream",
          "text": [
            "1500it [00:37, 35.04it/s]"
          ]
        },
        {
          "name": "stdout",
          "output_type": "stream",
          "text": [
            "| epoch   3 |  1500/32580 batches | loss    1.337 \n"
          ]
        },
        {
          "name": "stderr",
          "output_type": "stream",
          "text": [
            "\r1504it [00:38, 18.77it/s]"
          ]
        },
        {
          "name": "stdout",
          "output_type": "stream",
          "text": [
            "money: fact, place, addition, well, seen, practice, lack, able, way, even\n",
            "lion: punishment, september, journal, nobel, actress, concept, british, england, united, opposed\n",
            "africa: europe, india, australia, japan, america, south, china, north, germany, region\n",
            "musician: actress, actor, writer, author, singer, born, addition, football, nine, seven\n",
            "dance: music, concept, country, study, writer, singer, actor, origin, art, actress\n",
            "\n",
            "\n"
          ]
        },
        {
          "name": "stderr",
          "output_type": "stream",
          "text": [
            "2000it [00:49, 34.66it/s]"
          ]
        },
        {
          "name": "stdout",
          "output_type": "stream",
          "text": [
            "| epoch   3 |  2000/32580 batches | loss    1.334 \n"
          ]
        },
        {
          "name": "stderr",
          "output_type": "stream",
          "text": [
            "\r2004it [00:49, 19.81it/s]"
          ]
        },
        {
          "name": "stdout",
          "output_type": "stream",
          "text": [
            "money: fact, place, addition, well, seen, practice, lack, able, way, even\n",
            "lion: punishment, september, journal, nobel, actress, concept, british, england, united, opposed\n",
            "africa: europe, india, australia, japan, america, south, china, north, germany, region\n",
            "musician: actress, actor, writer, author, singer, born, addition, football, nine, seven\n",
            "dance: music, concept, country, study, writer, singer, actor, origin, art, actress\n",
            "\n",
            "\n"
          ]
        },
        {
          "name": "stderr",
          "output_type": "stream",
          "text": [
            "2498it [01:01, 45.03it/s]"
          ]
        },
        {
          "name": "stdout",
          "output_type": "stream",
          "text": [
            "| epoch   3 |  2500/32580 batches | loss    1.333 \n"
          ]
        },
        {
          "name": "stderr",
          "output_type": "stream",
          "text": [
            "2507it [01:01, 29.11it/s]"
          ]
        },
        {
          "name": "stdout",
          "output_type": "stream",
          "text": [
            "money: fact, place, addition, well, seen, practice, lack, able, way, even\n",
            "lion: punishment, september, journal, nobel, actress, concept, british, england, united, opposed\n",
            "africa: europe, india, australia, japan, america, south, china, north, germany, region\n",
            "musician: actress, actor, writer, author, singer, born, addition, football, nine, seven\n",
            "dance: music, concept, country, study, writer, singer, actor, origin, art, actress\n",
            "\n",
            "\n"
          ]
        },
        {
          "name": "stderr",
          "output_type": "stream",
          "text": [
            "2997it [01:13, 45.21it/s]"
          ]
        },
        {
          "name": "stdout",
          "output_type": "stream",
          "text": [
            "| epoch   3 |  3000/32580 batches | loss    1.338 \n"
          ]
        },
        {
          "name": "stderr",
          "output_type": "stream",
          "text": [
            "3007it [01:14, 30.31it/s]"
          ]
        },
        {
          "name": "stdout",
          "output_type": "stream",
          "text": [
            "money: fact, place, addition, well, seen, practice, lack, able, way, even\n",
            "lion: punishment, september, journal, nobel, actress, concept, british, england, united, opposed\n",
            "africa: europe, india, australia, japan, america, south, china, north, germany, region\n",
            "musician: actress, actor, writer, author, singer, born, addition, football, nine, seven\n",
            "dance: music, concept, country, study, writer, singer, actor, origin, art, actress\n",
            "\n",
            "\n"
          ]
        },
        {
          "name": "stderr",
          "output_type": "stream",
          "text": [
            "3498it [01:26, 45.59it/s]"
          ]
        },
        {
          "name": "stdout",
          "output_type": "stream",
          "text": [
            "| epoch   3 |  3500/32580 batches | loss    1.335 \n"
          ]
        },
        {
          "name": "stderr",
          "output_type": "stream",
          "text": [
            "3508it [01:26, 31.01it/s]"
          ]
        },
        {
          "name": "stdout",
          "output_type": "stream",
          "text": [
            "money: fact, place, addition, well, seen, practice, lack, able, way, even\n",
            "lion: punishment, september, journal, nobel, actress, concept, british, england, united, opposed\n",
            "africa: europe, india, australia, japan, america, south, china, north, germany, region\n",
            "musician: actress, actor, writer, author, singer, born, addition, football, nine, seven\n",
            "dance: music, concept, country, study, writer, singer, actor, origin, art, actress\n",
            "\n",
            "\n"
          ]
        },
        {
          "name": "stderr",
          "output_type": "stream",
          "text": [
            "4000it [01:38, 44.65it/s]"
          ]
        },
        {
          "name": "stdout",
          "output_type": "stream",
          "text": [
            "| epoch   3 |  4000/32580 batches | loss    1.335 \n"
          ]
        },
        {
          "name": "stderr",
          "output_type": "stream",
          "text": [
            "\r4005it [01:38, 26.31it/s]"
          ]
        },
        {
          "name": "stdout",
          "output_type": "stream",
          "text": [
            "money: fact, place, addition, well, seen, practice, lack, able, way, even\n",
            "lion: punishment, september, journal, nobel, actress, concept, british, england, united, opposed\n",
            "africa: europe, india, australia, japan, america, south, china, north, germany, region\n",
            "musician: actress, actor, writer, author, singer, born, addition, football, nine, seven\n",
            "dance: music, concept, country, study, writer, singer, actor, origin, art, actress\n",
            "\n",
            "\n"
          ]
        },
        {
          "name": "stderr",
          "output_type": "stream",
          "text": [
            "4497it [01:50, 33.83it/s]"
          ]
        },
        {
          "name": "stdout",
          "output_type": "stream",
          "text": [
            "| epoch   3 |  4500/32580 batches | loss    1.335 \n"
          ]
        },
        {
          "name": "stderr",
          "output_type": "stream",
          "text": [
            "4504it [01:51, 20.93it/s]"
          ]
        },
        {
          "name": "stdout",
          "output_type": "stream",
          "text": [
            "money: fact, place, addition, well, seen, practice, lack, able, way, even\n",
            "lion: punishment, september, journal, nobel, actress, concept, british, england, united, opposed\n",
            "africa: europe, india, australia, japan, america, south, china, north, germany, region\n",
            "musician: actress, actor, writer, author, singer, born, addition, football, nine, seven\n",
            "dance: music, concept, country, study, writer, singer, actor, origin, art, actress\n",
            "\n",
            "\n"
          ]
        },
        {
          "name": "stderr",
          "output_type": "stream",
          "text": [
            "4999it [02:03, 45.37it/s]"
          ]
        },
        {
          "name": "stdout",
          "output_type": "stream",
          "text": [
            "| epoch   3 |  5000/32580 batches | loss    1.329 \n"
          ]
        },
        {
          "name": "stderr",
          "output_type": "stream",
          "text": [
            "5009it [02:03, 31.10it/s]"
          ]
        },
        {
          "name": "stdout",
          "output_type": "stream",
          "text": [
            "money: fact, place, addition, well, seen, practice, lack, able, way, even\n",
            "lion: punishment, september, journal, nobel, actress, concept, british, england, united, opposed\n",
            "africa: europe, india, australia, japan, america, south, china, north, germany, region\n",
            "musician: actress, actor, writer, author, singer, born, addition, football, nine, seven\n",
            "dance: music, concept, country, study, writer, singer, actor, origin, art, actress\n",
            "\n",
            "\n"
          ]
        },
        {
          "name": "stderr",
          "output_type": "stream",
          "text": [
            "5496it [02:15, 45.30it/s]"
          ]
        },
        {
          "name": "stdout",
          "output_type": "stream",
          "text": [
            "| epoch   3 |  5500/32580 batches | loss    1.334 \n"
          ]
        },
        {
          "name": "stderr",
          "output_type": "stream",
          "text": [
            "5505it [02:16, 30.00it/s]"
          ]
        },
        {
          "name": "stdout",
          "output_type": "stream",
          "text": [
            "money: fact, place, addition, well, seen, practice, lack, able, way, even\n",
            "lion: punishment, september, journal, nobel, actress, concept, british, england, united, opposed\n",
            "africa: europe, india, australia, japan, america, south, china, north, germany, region\n",
            "musician: actress, actor, writer, author, singer, born, addition, football, nine, seven\n",
            "dance: music, concept, country, study, writer, singer, actor, origin, art, actress\n",
            "\n",
            "\n"
          ]
        },
        {
          "name": "stderr",
          "output_type": "stream",
          "text": [
            "5998it [02:27, 45.15it/s]"
          ]
        },
        {
          "name": "stdout",
          "output_type": "stream",
          "text": [
            "| epoch   3 |  6000/32580 batches | loss    1.334 \n"
          ]
        },
        {
          "name": "stderr",
          "output_type": "stream",
          "text": [
            "6007it [02:28, 30.12it/s]"
          ]
        },
        {
          "name": "stdout",
          "output_type": "stream",
          "text": [
            "money: fact, place, addition, well, seen, practice, lack, able, way, even\n",
            "lion: punishment, september, journal, nobel, actress, concept, british, england, united, opposed\n",
            "africa: europe, india, australia, japan, america, south, china, north, germany, region\n",
            "musician: actress, actor, writer, author, singer, born, addition, football, nine, seven\n",
            "dance: music, concept, country, study, writer, singer, actor, origin, art, actress\n",
            "\n",
            "\n"
          ]
        },
        {
          "name": "stderr",
          "output_type": "stream",
          "text": [
            "6500it [02:40, 37.68it/s]"
          ]
        },
        {
          "name": "stdout",
          "output_type": "stream",
          "text": [
            "| epoch   3 |  6500/32580 batches | loss    1.331 \n"
          ]
        },
        {
          "name": "stderr",
          "output_type": "stream",
          "text": [
            "6509it [02:40, 28.16it/s]"
          ]
        },
        {
          "name": "stdout",
          "output_type": "stream",
          "text": [
            "money: fact, place, addition, well, seen, practice, lack, able, way, even\n",
            "lion: punishment, september, journal, nobel, actress, concept, british, england, united, opposed\n",
            "africa: europe, india, australia, japan, america, south, china, north, germany, region\n",
            "musician: actress, actor, writer, author, singer, born, addition, football, nine, seven\n",
            "dance: music, concept, country, study, writer, singer, actor, origin, art, actress\n",
            "\n",
            "\n"
          ]
        },
        {
          "name": "stderr",
          "output_type": "stream",
          "text": [
            "7000it [02:51, 34.42it/s]"
          ]
        },
        {
          "name": "stdout",
          "output_type": "stream",
          "text": [
            "| epoch   3 |  7000/32580 batches | loss    1.330 \n"
          ]
        },
        {
          "name": "stderr",
          "output_type": "stream",
          "text": [
            "\r7004it [02:52, 18.44it/s]"
          ]
        },
        {
          "name": "stdout",
          "output_type": "stream",
          "text": [
            "money: fact, place, addition, well, seen, practice, lack, able, way, even\n",
            "lion: punishment, september, journal, nobel, actress, concept, british, england, united, opposed\n",
            "africa: europe, india, australia, japan, america, south, china, north, germany, region\n",
            "musician: actress, actor, writer, author, singer, born, addition, football, nine, seven\n",
            "dance: music, concept, country, study, writer, singer, actor, origin, art, actress\n",
            "\n",
            "\n"
          ]
        },
        {
          "name": "stderr",
          "output_type": "stream",
          "text": [
            "7499it [03:03, 42.70it/s]"
          ]
        },
        {
          "name": "stdout",
          "output_type": "stream",
          "text": [
            "| epoch   3 |  7500/32580 batches | loss    1.334 \n"
          ]
        },
        {
          "name": "stderr",
          "output_type": "stream",
          "text": [
            "\r7504it [03:04, 22.08it/s]"
          ]
        },
        {
          "name": "stdout",
          "output_type": "stream",
          "text": [
            "money: fact, place, addition, well, seen, practice, lack, able, way, even\n",
            "lion: punishment, september, journal, nobel, actress, concept, british, england, united, opposed\n",
            "africa: europe, india, australia, japan, america, south, china, north, germany, region\n",
            "musician: actress, actor, writer, author, singer, born, addition, football, nine, seven\n",
            "dance: music, concept, country, study, writer, singer, actor, origin, art, actress\n",
            "\n",
            "\n"
          ]
        },
        {
          "name": "stderr",
          "output_type": "stream",
          "text": [
            "7999it [03:19, 34.03it/s]"
          ]
        },
        {
          "name": "stdout",
          "output_type": "stream",
          "text": [
            "| epoch   3 |  8000/32580 batches | loss    1.334 \n"
          ]
        },
        {
          "name": "stderr",
          "output_type": "stream",
          "text": [
            "\r8003it [03:19, 18.52it/s]"
          ]
        },
        {
          "name": "stdout",
          "output_type": "stream",
          "text": [
            "money: fact, place, addition, well, seen, practice, lack, able, way, even\n",
            "lion: punishment, september, journal, nobel, actress, concept, british, england, united, opposed\n",
            "africa: europe, india, australia, japan, america, south, china, north, germany, region\n",
            "musician: actress, actor, writer, author, singer, born, addition, football, nine, seven\n",
            "dance: music, concept, country, study, writer, singer, actor, origin, art, actress\n",
            "\n",
            "\n"
          ]
        },
        {
          "name": "stderr",
          "output_type": "stream",
          "text": [
            "8497it [03:30, 42.93it/s]"
          ]
        },
        {
          "name": "stdout",
          "output_type": "stream",
          "text": [
            "| epoch   3 |  8500/32580 batches | loss    1.328 \n"
          ]
        },
        {
          "name": "stderr",
          "output_type": "stream",
          "text": [
            "8506it [03:31, 24.80it/s]"
          ]
        },
        {
          "name": "stdout",
          "output_type": "stream",
          "text": [
            "money: fact, place, addition, well, seen, practice, lack, able, way, even\n",
            "lion: punishment, september, journal, nobel, actress, concept, british, england, united, opposed\n",
            "africa: europe, india, australia, japan, america, south, china, north, germany, region\n",
            "musician: actress, actor, writer, author, singer, born, addition, football, nine, seven\n",
            "dance: music, concept, country, study, writer, singer, actor, origin, art, actress\n",
            "\n",
            "\n"
          ]
        },
        {
          "name": "stderr",
          "output_type": "stream",
          "text": [
            "8996it [03:42, 45.75it/s]"
          ]
        },
        {
          "name": "stdout",
          "output_type": "stream",
          "text": [
            "| epoch   3 |  9000/32580 batches | loss    1.336 \n"
          ]
        },
        {
          "name": "stderr",
          "output_type": "stream",
          "text": [
            "9005it [03:43, 30.67it/s]"
          ]
        },
        {
          "name": "stdout",
          "output_type": "stream",
          "text": [
            "money: fact, place, addition, well, seen, practice, lack, able, way, even\n",
            "lion: punishment, september, journal, nobel, actress, concept, british, england, united, opposed\n",
            "africa: europe, india, australia, japan, america, south, china, north, germany, region\n",
            "musician: actress, actor, writer, author, singer, born, addition, football, nine, seven\n",
            "dance: music, concept, country, study, writer, singer, actor, origin, art, actress\n",
            "\n",
            "\n"
          ]
        },
        {
          "name": "stderr",
          "output_type": "stream",
          "text": [
            "9497it [03:55, 45.45it/s]"
          ]
        },
        {
          "name": "stdout",
          "output_type": "stream",
          "text": [
            "| epoch   3 |  9500/32580 batches | loss    1.334 \n"
          ]
        },
        {
          "name": "stderr",
          "output_type": "stream",
          "text": [
            "9507it [03:55, 31.00it/s]"
          ]
        },
        {
          "name": "stdout",
          "output_type": "stream",
          "text": [
            "money: fact, place, addition, well, seen, practice, lack, able, way, even\n",
            "lion: punishment, september, journal, nobel, actress, concept, british, england, united, opposed\n",
            "africa: europe, india, australia, japan, america, south, china, north, germany, region\n",
            "musician: actress, actor, writer, author, singer, born, addition, football, nine, seven\n",
            "dance: music, concept, country, study, writer, singer, actor, origin, art, actress\n",
            "\n",
            "\n"
          ]
        },
        {
          "name": "stderr",
          "output_type": "stream",
          "text": [
            "10000it [04:07, 45.58it/s]"
          ]
        },
        {
          "name": "stdout",
          "output_type": "stream",
          "text": [
            "| epoch   3 | 10000/32580 batches | loss    1.336 \n"
          ]
        },
        {
          "name": "stderr",
          "output_type": "stream",
          "text": [
            "\r10005it [04:07, 27.36it/s]"
          ]
        },
        {
          "name": "stdout",
          "output_type": "stream",
          "text": [
            "money: fact, place, addition, well, seen, practice, lack, able, way, even\n",
            "lion: punishment, september, journal, nobel, actress, concept, british, england, united, opposed\n",
            "africa: europe, india, australia, japan, america, south, china, north, germany, region\n",
            "musician: actress, actor, writer, author, singer, born, addition, football, nine, seven\n",
            "dance: music, concept, country, study, writer, singer, actor, origin, art, actress\n",
            "\n",
            "\n"
          ]
        },
        {
          "name": "stderr",
          "output_type": "stream",
          "text": [
            "10498it [04:19, 45.17it/s]"
          ]
        },
        {
          "name": "stdout",
          "output_type": "stream",
          "text": [
            "| epoch   3 | 10500/32580 batches | loss    1.332 \n"
          ]
        },
        {
          "name": "stderr",
          "output_type": "stream",
          "text": [
            "10508it [04:19, 30.81it/s]"
          ]
        },
        {
          "name": "stdout",
          "output_type": "stream",
          "text": [
            "money: fact, place, addition, well, seen, practice, lack, able, way, even\n",
            "lion: punishment, september, journal, nobel, actress, concept, british, england, united, opposed\n",
            "africa: europe, india, australia, japan, america, south, china, north, germany, region\n",
            "musician: actress, actor, writer, author, singer, born, addition, football, nine, seven\n",
            "dance: music, concept, country, study, writer, singer, actor, origin, art, actress\n",
            "\n",
            "\n"
          ]
        },
        {
          "name": "stderr",
          "output_type": "stream",
          "text": [
            "10999it [04:31, 45.52it/s]"
          ]
        },
        {
          "name": "stdout",
          "output_type": "stream",
          "text": [
            "| epoch   3 | 11000/32580 batches | loss    1.334 \n"
          ]
        },
        {
          "name": "stderr",
          "output_type": "stream",
          "text": [
            "\r11004it [04:32, 26.84it/s]"
          ]
        },
        {
          "name": "stdout",
          "output_type": "stream",
          "text": [
            "money: fact, place, addition, well, seen, practice, lack, able, way, even\n",
            "lion: punishment, september, journal, nobel, actress, concept, british, england, united, opposed\n",
            "africa: europe, india, australia, japan, america, south, china, north, germany, region\n",
            "musician: actress, actor, writer, author, singer, born, addition, football, nine, seven\n",
            "dance: music, concept, country, study, writer, singer, actor, origin, art, actress\n",
            "\n",
            "\n"
          ]
        },
        {
          "name": "stderr",
          "output_type": "stream",
          "text": [
            "11496it [04:44, 45.55it/s]"
          ]
        },
        {
          "name": "stdout",
          "output_type": "stream",
          "text": [
            "| epoch   3 | 11500/32580 batches | loss    1.337 \n"
          ]
        },
        {
          "name": "stderr",
          "output_type": "stream",
          "text": [
            "11505it [04:44, 29.54it/s]"
          ]
        },
        {
          "name": "stdout",
          "output_type": "stream",
          "text": [
            "money: fact, place, addition, well, seen, practice, lack, able, way, even\n",
            "lion: punishment, september, journal, nobel, actress, concept, british, england, united, opposed\n",
            "africa: europe, india, australia, japan, america, south, china, north, germany, region\n",
            "musician: actress, actor, writer, author, singer, born, addition, football, nine, seven\n",
            "dance: music, concept, country, study, writer, singer, actor, origin, art, actress\n",
            "\n",
            "\n"
          ]
        },
        {
          "name": "stderr",
          "output_type": "stream",
          "text": [
            "12000it [04:56, 44.85it/s]"
          ]
        },
        {
          "name": "stdout",
          "output_type": "stream",
          "text": [
            "| epoch   3 | 12000/32580 batches | loss    1.332 \n"
          ]
        },
        {
          "name": "stderr",
          "output_type": "stream",
          "text": [
            "\r12005it [04:56, 26.90it/s]"
          ]
        },
        {
          "name": "stdout",
          "output_type": "stream",
          "text": [
            "money: fact, place, addition, well, seen, practice, lack, able, way, even\n",
            "lion: punishment, september, journal, nobel, actress, concept, british, england, united, opposed\n",
            "africa: europe, india, australia, japan, america, south, china, north, germany, region\n",
            "musician: actress, actor, writer, author, singer, born, addition, football, nine, seven\n",
            "dance: music, concept, country, study, writer, singer, actor, origin, art, actress\n",
            "\n",
            "\n"
          ]
        },
        {
          "name": "stderr",
          "output_type": "stream",
          "text": [
            "12497it [05:08, 35.08it/s]"
          ]
        },
        {
          "name": "stdout",
          "output_type": "stream",
          "text": [
            "| epoch   3 | 12500/32580 batches | loss    1.334 \n"
          ]
        },
        {
          "name": "stderr",
          "output_type": "stream",
          "text": [
            "12504it [05:09, 20.92it/s]"
          ]
        },
        {
          "name": "stdout",
          "output_type": "stream",
          "text": [
            "money: fact, place, addition, well, seen, practice, lack, able, way, even\n",
            "lion: punishment, september, journal, nobel, actress, concept, british, england, united, opposed\n",
            "africa: europe, india, australia, japan, america, south, china, north, germany, region\n",
            "musician: actress, actor, writer, author, singer, born, addition, football, nine, seven\n",
            "dance: music, concept, country, study, writer, singer, actor, origin, art, actress\n",
            "\n",
            "\n"
          ]
        },
        {
          "name": "stderr",
          "output_type": "stream",
          "text": [
            "13000it [05:20, 34.22it/s]"
          ]
        },
        {
          "name": "stdout",
          "output_type": "stream",
          "text": [
            "| epoch   3 | 13000/32580 batches | loss    1.333 \n"
          ]
        },
        {
          "name": "stderr",
          "output_type": "stream",
          "text": [
            "\r13004it [05:20, 19.18it/s]"
          ]
        },
        {
          "name": "stdout",
          "output_type": "stream",
          "text": [
            "money: fact, place, addition, well, seen, practice, lack, able, way, even\n",
            "lion: punishment, september, journal, nobel, actress, concept, british, england, united, opposed\n",
            "africa: europe, india, australia, japan, america, south, china, north, germany, region\n",
            "musician: actress, actor, writer, author, singer, born, addition, football, nine, seven\n",
            "dance: music, concept, country, study, writer, singer, actor, origin, art, actress\n",
            "\n",
            "\n"
          ]
        },
        {
          "name": "stderr",
          "output_type": "stream",
          "text": [
            "13497it [05:32, 44.91it/s]"
          ]
        },
        {
          "name": "stdout",
          "output_type": "stream",
          "text": [
            "| epoch   3 | 13500/32580 batches | loss    1.339 \n"
          ]
        },
        {
          "name": "stderr",
          "output_type": "stream",
          "text": [
            "13506it [05:32, 30.59it/s]"
          ]
        },
        {
          "name": "stdout",
          "output_type": "stream",
          "text": [
            "money: fact, place, addition, well, seen, practice, lack, able, way, even\n",
            "lion: punishment, september, journal, nobel, actress, concept, british, england, united, opposed\n",
            "africa: europe, india, australia, japan, america, south, china, north, germany, region\n",
            "musician: actress, actor, writer, author, singer, born, addition, football, nine, seven\n",
            "dance: music, concept, country, study, writer, singer, actor, origin, art, actress\n",
            "\n",
            "\n"
          ]
        },
        {
          "name": "stderr",
          "output_type": "stream",
          "text": [
            "13998it [05:45, 42.65it/s]"
          ]
        },
        {
          "name": "stdout",
          "output_type": "stream",
          "text": [
            "| epoch   3 | 14000/32580 batches | loss    1.331 \n"
          ]
        },
        {
          "name": "stderr",
          "output_type": "stream",
          "text": [
            "14008it [05:45, 30.31it/s]"
          ]
        },
        {
          "name": "stdout",
          "output_type": "stream",
          "text": [
            "money: fact, place, addition, well, seen, practice, lack, able, way, even\n",
            "lion: punishment, september, journal, nobel, actress, concept, british, england, united, opposed\n",
            "africa: europe, india, australia, japan, america, south, china, north, germany, region\n",
            "musician: actress, actor, writer, author, singer, born, addition, football, nine, seven\n",
            "dance: music, concept, country, study, writer, singer, actor, origin, art, actress\n",
            "\n",
            "\n"
          ]
        },
        {
          "name": "stderr",
          "output_type": "stream",
          "text": [
            "14500it [05:57, 44.84it/s]"
          ]
        },
        {
          "name": "stdout",
          "output_type": "stream",
          "text": [
            "| epoch   3 | 14500/32580 batches | loss    1.332 \n"
          ]
        },
        {
          "name": "stderr",
          "output_type": "stream",
          "text": [
            "\r14505it [05:58, 27.43it/s]"
          ]
        },
        {
          "name": "stdout",
          "output_type": "stream",
          "text": [
            "money: fact, place, addition, well, seen, practice, lack, able, way, even\n",
            "lion: punishment, september, journal, nobel, actress, concept, british, england, united, opposed\n",
            "africa: europe, india, australia, japan, america, south, china, north, germany, region\n",
            "musician: actress, actor, writer, author, singer, born, addition, football, nine, seven\n",
            "dance: music, concept, country, study, writer, singer, actor, origin, art, actress\n",
            "\n",
            "\n"
          ]
        },
        {
          "name": "stderr",
          "output_type": "stream",
          "text": [
            "14996it [06:09, 43.21it/s]"
          ]
        },
        {
          "name": "stdout",
          "output_type": "stream",
          "text": [
            "| epoch   3 | 15000/32580 batches | loss    1.334 \n"
          ]
        },
        {
          "name": "stderr",
          "output_type": "stream",
          "text": [
            "15005it [06:10, 29.51it/s]"
          ]
        },
        {
          "name": "stdout",
          "output_type": "stream",
          "text": [
            "money: fact, place, addition, well, seen, practice, lack, able, way, even\n",
            "lion: punishment, september, journal, nobel, actress, concept, british, england, opposed, united\n",
            "africa: europe, india, australia, japan, america, south, china, north, germany, region\n",
            "musician: actress, actor, writer, author, singer, born, addition, football, nine, seven\n",
            "dance: music, concept, country, study, writer, singer, actor, origin, art, actress\n",
            "\n",
            "\n"
          ]
        },
        {
          "name": "stderr",
          "output_type": "stream",
          "text": [
            "15497it [06:22, 44.25it/s]"
          ]
        },
        {
          "name": "stdout",
          "output_type": "stream",
          "text": [
            "| epoch   3 | 15500/32580 batches | loss    1.330 \n"
          ]
        },
        {
          "name": "stderr",
          "output_type": "stream",
          "text": [
            "15507it [06:22, 30.79it/s]"
          ]
        },
        {
          "name": "stdout",
          "output_type": "stream",
          "text": [
            "money: fact, place, addition, well, seen, practice, lack, able, way, even\n",
            "lion: punishment, september, journal, nobel, actress, concept, british, england, opposed, united\n",
            "africa: europe, india, australia, japan, america, south, china, north, germany, region\n",
            "musician: actress, actor, writer, author, singer, born, addition, football, nine, seven\n",
            "dance: music, concept, country, study, writer, singer, actor, origin, art, actress\n",
            "\n",
            "\n"
          ]
        },
        {
          "name": "stderr",
          "output_type": "stream",
          "text": [
            "16000it [06:34, 45.28it/s]"
          ]
        },
        {
          "name": "stdout",
          "output_type": "stream",
          "text": [
            "| epoch   3 | 16000/32580 batches | loss    1.332 \n"
          ]
        },
        {
          "name": "stderr",
          "output_type": "stream",
          "text": [
            "\r16005it [06:34, 27.50it/s]"
          ]
        },
        {
          "name": "stdout",
          "output_type": "stream",
          "text": [
            "money: fact, place, addition, well, seen, practice, lack, able, way, even\n",
            "lion: punishment, september, journal, nobel, actress, concept, british, england, opposed, united\n",
            "africa: europe, india, australia, japan, america, south, china, north, germany, region\n",
            "musician: actress, actor, writer, author, singer, born, addition, football, nine, seven\n",
            "dance: music, concept, country, study, writer, singer, actor, origin, art, actress\n",
            "\n",
            "\n"
          ]
        },
        {
          "name": "stderr",
          "output_type": "stream",
          "text": [
            "16496it [06:46, 45.45it/s]"
          ]
        },
        {
          "name": "stdout",
          "output_type": "stream",
          "text": [
            "| epoch   3 | 16500/32580 batches | loss    1.334 \n"
          ]
        },
        {
          "name": "stderr",
          "output_type": "stream",
          "text": [
            "16505it [06:46, 30.37it/s]"
          ]
        },
        {
          "name": "stdout",
          "output_type": "stream",
          "text": [
            "money: fact, place, addition, well, seen, practice, lack, able, way, even\n",
            "lion: punishment, september, journal, nobel, actress, concept, british, england, opposed, united\n",
            "africa: europe, india, australia, japan, america, south, china, north, germany, region\n",
            "musician: actress, actor, writer, author, singer, born, addition, football, nine, seven\n",
            "dance: music, concept, country, study, writer, singer, actor, origin, art, actress\n",
            "\n",
            "\n"
          ]
        },
        {
          "name": "stderr",
          "output_type": "stream",
          "text": [
            "16998it [06:58, 45.24it/s]"
          ]
        },
        {
          "name": "stdout",
          "output_type": "stream",
          "text": [
            "| epoch   3 | 17000/32580 batches | loss    1.332 \n"
          ]
        },
        {
          "name": "stderr",
          "output_type": "stream",
          "text": [
            "17007it [06:59, 30.32it/s]"
          ]
        },
        {
          "name": "stdout",
          "output_type": "stream",
          "text": [
            "money: fact, place, addition, well, seen, practice, lack, able, way, even\n",
            "lion: punishment, september, journal, nobel, actress, concept, british, england, opposed, united\n",
            "africa: europe, india, australia, japan, america, south, china, north, germany, region\n",
            "musician: actress, actor, writer, author, singer, born, addition, football, nine, seven\n",
            "dance: music, concept, country, study, writer, singer, actor, origin, art, actress\n",
            "\n",
            "\n"
          ]
        },
        {
          "name": "stderr",
          "output_type": "stream",
          "text": [
            "17498it [07:10, 34.51it/s]"
          ]
        },
        {
          "name": "stdout",
          "output_type": "stream",
          "text": [
            "| epoch   3 | 17500/32580 batches | loss    1.336 \n"
          ]
        },
        {
          "name": "stderr",
          "output_type": "stream",
          "text": [
            "17506it [07:11, 21.09it/s]"
          ]
        },
        {
          "name": "stdout",
          "output_type": "stream",
          "text": [
            "money: fact, place, addition, well, seen, practice, lack, able, way, even\n",
            "lion: punishment, september, journal, nobel, actress, concept, british, england, opposed, united\n",
            "africa: europe, india, australia, japan, america, south, china, north, germany, region\n",
            "musician: actress, actor, writer, author, singer, born, addition, football, nine, seven\n",
            "dance: music, concept, country, study, writer, singer, actor, origin, art, actress\n",
            "\n",
            "\n"
          ]
        },
        {
          "name": "stderr",
          "output_type": "stream",
          "text": [
            "17997it [07:22, 33.91it/s]"
          ]
        },
        {
          "name": "stdout",
          "output_type": "stream",
          "text": [
            "| epoch   3 | 18000/32580 batches | loss    1.328 \n"
          ]
        },
        {
          "name": "stderr",
          "output_type": "stream",
          "text": [
            "18004it [07:23, 21.39it/s]"
          ]
        },
        {
          "name": "stdout",
          "output_type": "stream",
          "text": [
            "money: fact, place, addition, well, seen, practice, lack, able, way, even\n",
            "lion: punishment, september, journal, nobel, actress, concept, british, england, opposed, united\n",
            "africa: europe, india, australia, japan, america, south, china, north, germany, region\n",
            "musician: actress, actor, writer, author, singer, born, addition, football, nine, seven\n",
            "dance: music, concept, country, study, writer, singer, actor, origin, art, actress\n",
            "\n",
            "\n"
          ]
        },
        {
          "name": "stderr",
          "output_type": "stream",
          "text": [
            "18500it [07:34, 44.53it/s]"
          ]
        },
        {
          "name": "stdout",
          "output_type": "stream",
          "text": [
            "| epoch   3 | 18500/32580 batches | loss    1.333 \n"
          ]
        },
        {
          "name": "stderr",
          "output_type": "stream",
          "text": [
            "\r18505it [07:35, 24.44it/s]"
          ]
        },
        {
          "name": "stdout",
          "output_type": "stream",
          "text": [
            "money: fact, place, addition, well, seen, practice, lack, able, way, even\n",
            "lion: punishment, september, journal, nobel, actress, concept, british, england, opposed, united\n",
            "africa: europe, india, australia, japan, america, south, china, north, germany, region\n",
            "musician: actress, actor, writer, author, singer, born, addition, football, nine, seven\n",
            "dance: music, concept, country, study, writer, singer, actor, origin, art, actress\n",
            "\n",
            "\n"
          ]
        },
        {
          "name": "stderr",
          "output_type": "stream",
          "text": [
            "18997it [07:46, 44.84it/s]"
          ]
        },
        {
          "name": "stdout",
          "output_type": "stream",
          "text": [
            "| epoch   3 | 19000/32580 batches | loss    1.329 \n"
          ]
        },
        {
          "name": "stderr",
          "output_type": "stream",
          "text": [
            "19006it [07:47, 29.45it/s]"
          ]
        },
        {
          "name": "stdout",
          "output_type": "stream",
          "text": [
            "money: fact, place, addition, well, seen, practice, lack, able, way, even\n",
            "lion: punishment, september, journal, nobel, actress, concept, british, england, opposed, united\n",
            "africa: europe, india, australia, japan, america, south, china, north, germany, region\n",
            "musician: actress, actor, writer, author, singer, born, addition, football, nine, seven\n",
            "dance: music, concept, country, study, writer, singer, actor, origin, art, actress\n",
            "\n",
            "\n"
          ]
        },
        {
          "name": "stderr",
          "output_type": "stream",
          "text": [
            "19498it [07:59, 45.49it/s]"
          ]
        },
        {
          "name": "stdout",
          "output_type": "stream",
          "text": [
            "| epoch   3 | 19500/32580 batches | loss    1.336 \n"
          ]
        },
        {
          "name": "stderr",
          "output_type": "stream",
          "text": [
            "19507it [07:59, 30.05it/s]"
          ]
        },
        {
          "name": "stdout",
          "output_type": "stream",
          "text": [
            "money: fact, place, addition, well, seen, practice, lack, able, way, even\n",
            "lion: punishment, september, journal, nobel, actress, concept, british, england, opposed, united\n",
            "africa: europe, india, australia, japan, america, south, china, north, germany, region\n",
            "musician: actress, actor, writer, author, singer, born, addition, football, nine, seven\n",
            "dance: music, concept, country, study, writer, singer, actor, origin, art, actress\n",
            "\n",
            "\n"
          ]
        },
        {
          "name": "stderr",
          "output_type": "stream",
          "text": [
            "19999it [08:11, 45.32it/s]"
          ]
        },
        {
          "name": "stdout",
          "output_type": "stream",
          "text": [
            "| epoch   3 | 20000/32580 batches | loss    1.335 \n"
          ]
        },
        {
          "name": "stderr",
          "output_type": "stream",
          "text": [
            "\r20004it [08:11, 27.32it/s]"
          ]
        },
        {
          "name": "stdout",
          "output_type": "stream",
          "text": [
            "money: fact, place, addition, well, seen, practice, lack, able, way, even\n",
            "lion: punishment, september, journal, nobel, actress, concept, british, england, opposed, united\n",
            "africa: europe, india, australia, japan, america, south, china, north, germany, region\n",
            "musician: actress, actor, writer, author, singer, born, addition, football, nine, seven\n",
            "dance: music, concept, country, study, writer, singer, actor, origin, art, actress\n",
            "\n",
            "\n"
          ]
        },
        {
          "name": "stderr",
          "output_type": "stream",
          "text": [
            "20500it [08:23, 45.45it/s]"
          ]
        },
        {
          "name": "stdout",
          "output_type": "stream",
          "text": [
            "| epoch   3 | 20500/32580 batches | loss    1.331 \n"
          ]
        },
        {
          "name": "stderr",
          "output_type": "stream",
          "text": [
            "\r20505it [08:24, 27.66it/s]"
          ]
        },
        {
          "name": "stdout",
          "output_type": "stream",
          "text": [
            "money: fact, place, addition, well, seen, practice, lack, able, way, even\n",
            "lion: punishment, september, journal, nobel, actress, concept, british, england, opposed, united\n",
            "africa: europe, india, australia, japan, america, south, china, north, germany, region\n",
            "musician: actress, actor, writer, author, singer, born, addition, football, nine, seven\n",
            "dance: music, concept, country, study, writer, singer, actor, origin, art, actress\n",
            "\n",
            "\n"
          ]
        },
        {
          "name": "stderr",
          "output_type": "stream",
          "text": [
            "20997it [08:35, 44.68it/s]"
          ]
        },
        {
          "name": "stdout",
          "output_type": "stream",
          "text": [
            "| epoch   3 | 21000/32580 batches | loss    1.328 \n"
          ]
        },
        {
          "name": "stderr",
          "output_type": "stream",
          "text": [
            "21006it [08:36, 30.48it/s]"
          ]
        },
        {
          "name": "stdout",
          "output_type": "stream",
          "text": [
            "money: fact, place, addition, well, seen, practice, lack, able, way, even\n",
            "lion: punishment, september, journal, nobel, actress, concept, british, england, opposed, united\n",
            "africa: europe, india, australia, japan, america, south, china, north, germany, region\n",
            "musician: actress, actor, writer, author, singer, born, addition, football, nine, seven\n",
            "dance: music, concept, country, study, writer, singer, actor, origin, art, actress\n",
            "\n",
            "\n"
          ]
        },
        {
          "name": "stderr",
          "output_type": "stream",
          "text": [
            "21496it [08:47, 45.38it/s]"
          ]
        },
        {
          "name": "stdout",
          "output_type": "stream",
          "text": [
            "| epoch   3 | 21500/32580 batches | loss    1.331 \n"
          ]
        },
        {
          "name": "stderr",
          "output_type": "stream",
          "text": [
            "21505it [08:48, 29.33it/s]"
          ]
        },
        {
          "name": "stdout",
          "output_type": "stream",
          "text": [
            "money: fact, place, addition, well, seen, practice, lack, able, way, even\n",
            "lion: punishment, september, journal, nobel, actress, concept, british, england, opposed, united\n",
            "africa: europe, india, australia, japan, america, south, china, north, germany, region\n",
            "musician: actress, actor, writer, author, singer, born, addition, football, nine, seven\n",
            "dance: music, concept, country, study, writer, singer, actor, origin, art, actress\n",
            "\n",
            "\n"
          ]
        },
        {
          "name": "stderr",
          "output_type": "stream",
          "text": [
            "21998it [09:00, 32.85it/s]"
          ]
        },
        {
          "name": "stdout",
          "output_type": "stream",
          "text": [
            "| epoch   3 | 22000/32580 batches | loss    1.331 \n"
          ]
        },
        {
          "name": "stderr",
          "output_type": "stream",
          "text": [
            "22006it [09:00, 22.82it/s]"
          ]
        },
        {
          "name": "stdout",
          "output_type": "stream",
          "text": [
            "money: fact, place, addition, well, seen, practice, lack, able, way, even\n",
            "lion: punishment, september, journal, nobel, actress, concept, british, england, opposed, united\n",
            "africa: europe, india, australia, japan, america, south, china, north, germany, region\n",
            "musician: actress, actor, writer, author, singer, born, addition, football, nine, seven\n",
            "dance: music, concept, country, study, writer, singer, actor, origin, art, actress\n",
            "\n",
            "\n"
          ]
        },
        {
          "name": "stderr",
          "output_type": "stream",
          "text": [
            "22498it [09:11, 33.94it/s]"
          ]
        },
        {
          "name": "stdout",
          "output_type": "stream",
          "text": [
            "| epoch   3 | 22500/32580 batches | loss    1.333 \n"
          ]
        },
        {
          "name": "stderr",
          "output_type": "stream",
          "text": [
            "22505it [09:12, 21.02it/s]"
          ]
        },
        {
          "name": "stdout",
          "output_type": "stream",
          "text": [
            "money: fact, place, addition, well, seen, practice, lack, able, way, even\n",
            "lion: punishment, september, journal, nobel, actress, concept, british, england, opposed, united\n",
            "africa: europe, india, australia, japan, america, south, china, north, germany, region\n",
            "musician: actress, actor, writer, author, singer, born, addition, football, nine, seven\n",
            "dance: music, concept, country, study, writer, singer, actor, origin, art, actress\n",
            "\n",
            "\n"
          ]
        },
        {
          "name": "stderr",
          "output_type": "stream",
          "text": [
            "22997it [09:23, 44.36it/s]"
          ]
        },
        {
          "name": "stdout",
          "output_type": "stream",
          "text": [
            "| epoch   3 | 23000/32580 batches | loss    1.334 \n"
          ]
        },
        {
          "name": "stderr",
          "output_type": "stream",
          "text": [
            "23006it [09:24, 24.45it/s]"
          ]
        },
        {
          "name": "stdout",
          "output_type": "stream",
          "text": [
            "money: fact, place, addition, well, seen, practice, lack, able, way, even\n",
            "lion: punishment, september, journal, nobel, actress, concept, british, england, opposed, united\n",
            "africa: europe, india, australia, japan, america, south, china, north, germany, region\n",
            "musician: actress, actor, writer, author, singer, born, addition, football, nine, seven\n",
            "dance: music, concept, country, study, writer, singer, actor, origin, art, actress\n",
            "\n",
            "\n"
          ]
        },
        {
          "name": "stderr",
          "output_type": "stream",
          "text": [
            "23496it [09:37, 43.83it/s]"
          ]
        },
        {
          "name": "stdout",
          "output_type": "stream",
          "text": [
            "| epoch   3 | 23500/32580 batches | loss    1.336 \n"
          ]
        },
        {
          "name": "stderr",
          "output_type": "stream",
          "text": [
            "23505it [09:37, 28.56it/s]"
          ]
        },
        {
          "name": "stdout",
          "output_type": "stream",
          "text": [
            "money: fact, place, addition, well, seen, practice, lack, able, way, even\n",
            "lion: punishment, september, journal, nobel, actress, concept, british, england, opposed, united\n",
            "africa: europe, india, australia, japan, america, south, china, north, germany, region\n",
            "musician: actress, actor, writer, author, singer, born, addition, football, nine, seven\n",
            "dance: music, concept, country, study, writer, singer, actor, origin, art, actress\n",
            "\n",
            "\n"
          ]
        },
        {
          "name": "stderr",
          "output_type": "stream",
          "text": [
            "23999it [09:49, 44.07it/s]"
          ]
        },
        {
          "name": "stdout",
          "output_type": "stream",
          "text": [
            "| epoch   3 | 24000/32580 batches | loss    1.331 \n"
          ]
        },
        {
          "name": "stderr",
          "output_type": "stream",
          "text": [
            "\r24004it [09:49, 26.66it/s]"
          ]
        },
        {
          "name": "stdout",
          "output_type": "stream",
          "text": [
            "money: fact, place, addition, well, seen, practice, lack, able, way, even\n",
            "lion: punishment, september, journal, nobel, actress, concept, british, england, opposed, united\n",
            "africa: europe, india, australia, japan, america, south, china, north, germany, region\n",
            "musician: actress, actor, writer, author, singer, born, addition, football, nine, seven\n",
            "dance: music, concept, country, study, writer, singer, actor, origin, art, actress\n",
            "\n",
            "\n"
          ]
        },
        {
          "name": "stderr",
          "output_type": "stream",
          "text": [
            "24499it [10:01, 45.45it/s]"
          ]
        },
        {
          "name": "stdout",
          "output_type": "stream",
          "text": [
            "| epoch   3 | 24500/32580 batches | loss    1.334 \n"
          ]
        },
        {
          "name": "stderr",
          "output_type": "stream",
          "text": [
            "\r24504it [10:02, 26.69it/s]"
          ]
        },
        {
          "name": "stdout",
          "output_type": "stream",
          "text": [
            "money: fact, place, addition, well, seen, practice, lack, able, way, even\n",
            "lion: punishment, september, journal, nobel, actress, concept, british, england, opposed, united\n",
            "africa: europe, india, australia, japan, america, south, china, north, germany, region\n",
            "musician: actress, actor, writer, author, singer, born, addition, football, nine, seven\n",
            "dance: music, concept, country, study, writer, singer, actor, origin, art, actress\n",
            "\n",
            "\n"
          ]
        },
        {
          "name": "stderr",
          "output_type": "stream",
          "text": [
            "24996it [10:14, 44.62it/s]"
          ]
        },
        {
          "name": "stdout",
          "output_type": "stream",
          "text": [
            "| epoch   3 | 25000/32580 batches | loss    1.335 \n"
          ]
        },
        {
          "name": "stderr",
          "output_type": "stream",
          "text": [
            "25005it [10:14, 30.23it/s]"
          ]
        },
        {
          "name": "stdout",
          "output_type": "stream",
          "text": [
            "money: fact, place, addition, well, seen, practice, lack, able, way, even\n",
            "lion: punishment, september, journal, nobel, actress, concept, british, england, opposed, united\n",
            "africa: europe, india, australia, japan, america, south, china, north, germany, region\n",
            "musician: actress, actor, writer, author, singer, born, addition, football, nine, seven\n",
            "dance: music, concept, country, study, writer, singer, actor, origin, art, actress\n",
            "\n",
            "\n"
          ]
        },
        {
          "name": "stderr",
          "output_type": "stream",
          "text": [
            "25496it [10:26, 44.98it/s]"
          ]
        },
        {
          "name": "stdout",
          "output_type": "stream",
          "text": [
            "| epoch   3 | 25500/32580 batches | loss    1.335 \n"
          ]
        },
        {
          "name": "stderr",
          "output_type": "stream",
          "text": [
            "25505it [10:26, 30.27it/s]"
          ]
        },
        {
          "name": "stdout",
          "output_type": "stream",
          "text": [
            "money: fact, place, addition, well, seen, practice, lack, able, way, even\n",
            "lion: punishment, september, journal, nobel, actress, concept, british, england, opposed, united\n",
            "africa: europe, india, australia, japan, america, south, china, north, germany, region\n",
            "musician: actress, actor, writer, author, singer, born, addition, football, nine, seven\n",
            "dance: music, concept, country, study, writer, singer, actor, origin, art, contemporary\n",
            "\n",
            "\n"
          ]
        },
        {
          "name": "stderr",
          "output_type": "stream",
          "text": [
            "25997it [10:38, 44.51it/s]"
          ]
        },
        {
          "name": "stdout",
          "output_type": "stream",
          "text": [
            "| epoch   3 | 26000/32580 batches | loss    1.331 \n"
          ]
        },
        {
          "name": "stderr",
          "output_type": "stream",
          "text": [
            "26006it [10:38, 29.92it/s]"
          ]
        },
        {
          "name": "stdout",
          "output_type": "stream",
          "text": [
            "money: fact, place, addition, well, seen, practice, lack, able, way, even\n",
            "lion: punishment, september, journal, nobel, actress, concept, british, england, opposed, united\n",
            "africa: europe, india, australia, japan, america, south, china, north, germany, region\n",
            "musician: actress, actor, writer, author, singer, born, addition, football, nine, seven\n",
            "dance: music, concept, country, study, writer, singer, actor, origin, art, contemporary\n",
            "\n",
            "\n"
          ]
        },
        {
          "name": "stderr",
          "output_type": "stream",
          "text": [
            "26497it [10:50, 44.48it/s]"
          ]
        },
        {
          "name": "stdout",
          "output_type": "stream",
          "text": [
            "| epoch   3 | 26500/32580 batches | loss    1.333 \n"
          ]
        },
        {
          "name": "stderr",
          "output_type": "stream",
          "text": [
            "26506it [10:51, 30.12it/s]"
          ]
        },
        {
          "name": "stdout",
          "output_type": "stream",
          "text": [
            "money: fact, place, addition, well, seen, practice, lack, able, way, even\n",
            "lion: punishment, september, journal, nobel, actress, concept, british, england, opposed, united\n",
            "africa: europe, india, australia, japan, america, south, china, north, germany, region\n",
            "musician: actress, actor, writer, author, singer, born, addition, football, nine, seven\n",
            "dance: music, concept, country, study, writer, singer, actor, origin, art, contemporary\n",
            "\n",
            "\n"
          ]
        },
        {
          "name": "stderr",
          "output_type": "stream",
          "text": [
            "26998it [11:03, 39.43it/s]"
          ]
        },
        {
          "name": "stdout",
          "output_type": "stream",
          "text": [
            "| epoch   3 | 27000/32580 batches | loss    1.340 \n"
          ]
        },
        {
          "name": "stderr",
          "output_type": "stream",
          "text": [
            "27007it [11:03, 28.66it/s]"
          ]
        },
        {
          "name": "stdout",
          "output_type": "stream",
          "text": [
            "money: fact, place, addition, well, seen, practice, lack, able, way, even\n",
            "lion: punishment, september, journal, nobel, actress, concept, british, england, opposed, united\n",
            "africa: europe, india, australia, japan, america, south, china, north, germany, region\n",
            "musician: actress, actor, writer, author, singer, born, addition, football, nine, seven\n",
            "dance: music, concept, country, study, writer, singer, actor, origin, art, contemporary\n",
            "\n",
            "\n"
          ]
        },
        {
          "name": "stderr",
          "output_type": "stream",
          "text": [
            "27497it [11:14, 34.24it/s]"
          ]
        },
        {
          "name": "stdout",
          "output_type": "stream",
          "text": [
            "| epoch   3 | 27500/32580 batches | loss    1.333 \n"
          ]
        },
        {
          "name": "stderr",
          "output_type": "stream",
          "text": [
            "27504it [11:15, 20.51it/s]"
          ]
        },
        {
          "name": "stdout",
          "output_type": "stream",
          "text": [
            "money: fact, place, addition, well, seen, practice, lack, able, way, even\n",
            "lion: punishment, september, journal, nobel, actress, concept, british, england, opposed, united\n",
            "africa: europe, india, australia, japan, america, south, china, north, germany, region\n",
            "musician: actress, actor, writer, author, singer, born, addition, football, nine, seven\n",
            "dance: music, concept, country, study, writer, singer, actor, origin, art, contemporary\n",
            "\n",
            "\n"
          ]
        },
        {
          "name": "stderr",
          "output_type": "stream",
          "text": [
            "27998it [11:27, 37.19it/s]"
          ]
        },
        {
          "name": "stdout",
          "output_type": "stream",
          "text": [
            "| epoch   3 | 28000/32580 batches | loss    1.330 \n"
          ]
        },
        {
          "name": "stderr",
          "output_type": "stream",
          "text": [
            "28006it [11:27, 22.10it/s]"
          ]
        },
        {
          "name": "stdout",
          "output_type": "stream",
          "text": [
            "money: fact, place, addition, well, seen, practice, lack, able, way, even\n",
            "lion: punishment, september, journal, nobel, actress, concept, british, england, opposed, united\n",
            "africa: europe, india, australia, japan, america, south, china, north, germany, region\n",
            "musician: actress, actor, writer, author, singer, born, addition, football, nine, seven\n",
            "dance: music, concept, country, study, writer, singer, actor, origin, art, contemporary\n",
            "\n",
            "\n"
          ]
        },
        {
          "name": "stderr",
          "output_type": "stream",
          "text": [
            "28498it [11:42, 32.09it/s]"
          ]
        },
        {
          "name": "stdout",
          "output_type": "stream",
          "text": [
            "| epoch   3 | 28500/32580 batches | loss    1.337 \n"
          ]
        },
        {
          "name": "stderr",
          "output_type": "stream",
          "text": [
            "28506it [11:43, 20.78it/s]"
          ]
        },
        {
          "name": "stdout",
          "output_type": "stream",
          "text": [
            "money: fact, place, addition, well, seen, practice, lack, able, way, even\n",
            "lion: punishment, september, journal, nobel, actress, concept, british, england, opposed, united\n",
            "africa: europe, india, australia, japan, america, south, china, north, germany, region\n",
            "musician: actress, actor, writer, author, singer, born, addition, football, nine, seven\n",
            "dance: music, concept, country, study, writer, singer, actor, origin, art, contemporary\n",
            "\n",
            "\n"
          ]
        },
        {
          "name": "stderr",
          "output_type": "stream",
          "text": [
            "28997it [11:54, 34.91it/s]"
          ]
        },
        {
          "name": "stdout",
          "output_type": "stream",
          "text": [
            "| epoch   3 | 29000/32580 batches | loss    1.332 \n"
          ]
        },
        {
          "name": "stderr",
          "output_type": "stream",
          "text": [
            "29004it [11:54, 21.05it/s]"
          ]
        },
        {
          "name": "stdout",
          "output_type": "stream",
          "text": [
            "money: fact, place, addition, well, seen, practice, lack, able, way, even\n",
            "lion: punishment, september, journal, nobel, actress, concept, british, england, opposed, united\n",
            "africa: europe, india, australia, japan, america, south, china, north, germany, region\n",
            "musician: actress, actor, writer, author, singer, born, addition, football, nine, seven\n",
            "dance: music, concept, country, study, writer, singer, actor, origin, art, contemporary\n",
            "\n",
            "\n"
          ]
        },
        {
          "name": "stderr",
          "output_type": "stream",
          "text": [
            "29498it [12:06, 44.41it/s]"
          ]
        },
        {
          "name": "stdout",
          "output_type": "stream",
          "text": [
            "| epoch   3 | 29500/32580 batches | loss    1.329 \n"
          ]
        },
        {
          "name": "stderr",
          "output_type": "stream",
          "text": [
            "29507it [12:07, 29.56it/s]"
          ]
        },
        {
          "name": "stdout",
          "output_type": "stream",
          "text": [
            "money: fact, place, addition, well, seen, practice, lack, able, way, even\n",
            "lion: punishment, september, journal, nobel, actress, concept, british, england, opposed, united\n",
            "africa: europe, india, australia, japan, america, south, china, north, germany, region\n",
            "musician: actress, actor, writer, author, singer, born, addition, football, nine, seven\n",
            "dance: music, concept, country, study, writer, singer, actor, origin, art, contemporary\n",
            "\n",
            "\n"
          ]
        },
        {
          "name": "stderr",
          "output_type": "stream",
          "text": [
            "29998it [12:18, 45.07it/s]"
          ]
        },
        {
          "name": "stdout",
          "output_type": "stream",
          "text": [
            "| epoch   3 | 30000/32580 batches | loss    1.331 \n"
          ]
        },
        {
          "name": "stderr",
          "output_type": "stream",
          "text": [
            "30008it [12:19, 30.76it/s]"
          ]
        },
        {
          "name": "stdout",
          "output_type": "stream",
          "text": [
            "money: fact, place, addition, well, seen, practice, lack, able, way, even\n",
            "lion: punishment, september, journal, nobel, actress, concept, british, england, opposed, united\n",
            "africa: europe, india, australia, japan, america, south, china, north, germany, region\n",
            "musician: actress, actor, writer, author, singer, born, addition, football, nine, seven\n",
            "dance: music, concept, country, study, writer, singer, actor, origin, art, contemporary\n",
            "\n",
            "\n"
          ]
        },
        {
          "name": "stderr",
          "output_type": "stream",
          "text": [
            "30499it [12:31, 44.43it/s]"
          ]
        },
        {
          "name": "stdout",
          "output_type": "stream",
          "text": [
            "| epoch   3 | 30500/32580 batches | loss    1.331 \n"
          ]
        },
        {
          "name": "stderr",
          "output_type": "stream",
          "text": [
            "30509it [12:31, 31.53it/s]"
          ]
        },
        {
          "name": "stdout",
          "output_type": "stream",
          "text": [
            "money: fact, place, addition, well, seen, practice, lack, able, way, even\n",
            "lion: punishment, september, journal, nobel, actress, concept, british, england, opposed, united\n",
            "africa: europe, india, australia, japan, america, south, china, north, germany, region\n",
            "musician: actress, actor, writer, author, singer, born, addition, football, nine, seven\n",
            "dance: music, concept, country, study, writer, singer, actor, origin, art, contemporary\n",
            "\n",
            "\n"
          ]
        },
        {
          "name": "stderr",
          "output_type": "stream",
          "text": [
            "30996it [12:43, 45.32it/s]"
          ]
        },
        {
          "name": "stdout",
          "output_type": "stream",
          "text": [
            "| epoch   3 | 31000/32580 batches | loss    1.332 \n"
          ]
        },
        {
          "name": "stderr",
          "output_type": "stream",
          "text": [
            "31005it [12:43, 29.97it/s]"
          ]
        },
        {
          "name": "stdout",
          "output_type": "stream",
          "text": [
            "money: fact, place, addition, well, seen, practice, lack, able, way, even\n",
            "lion: punishment, september, journal, nobel, actress, concept, british, england, opposed, united\n",
            "africa: europe, india, australia, japan, america, south, china, north, germany, region\n",
            "musician: actress, actor, writer, author, singer, born, addition, football, nine, seven\n",
            "dance: music, concept, country, study, writer, singer, actor, origin, art, contemporary\n",
            "\n",
            "\n"
          ]
        },
        {
          "name": "stderr",
          "output_type": "stream",
          "text": [
            "31497it [12:55, 45.00it/s]"
          ]
        },
        {
          "name": "stdout",
          "output_type": "stream",
          "text": [
            "| epoch   3 | 31500/32580 batches | loss    1.332 \n"
          ]
        },
        {
          "name": "stderr",
          "output_type": "stream",
          "text": [
            "31507it [12:56, 30.88it/s]"
          ]
        },
        {
          "name": "stdout",
          "output_type": "stream",
          "text": [
            "money: fact, place, addition, well, seen, practice, lack, able, way, even\n",
            "lion: punishment, september, journal, nobel, actress, concept, british, england, opposed, united\n",
            "africa: europe, india, australia, japan, america, south, china, north, germany, region\n",
            "musician: actress, actor, writer, author, singer, born, addition, football, nine, seven\n",
            "dance: music, concept, country, study, writer, singer, actor, origin, art, contemporary\n",
            "\n",
            "\n"
          ]
        },
        {
          "name": "stderr",
          "output_type": "stream",
          "text": [
            "31998it [13:08, 44.82it/s]"
          ]
        },
        {
          "name": "stdout",
          "output_type": "stream",
          "text": [
            "| epoch   3 | 32000/32580 batches | loss    1.332 \n"
          ]
        },
        {
          "name": "stderr",
          "output_type": "stream",
          "text": [
            "32008it [13:08, 31.03it/s]"
          ]
        },
        {
          "name": "stdout",
          "output_type": "stream",
          "text": [
            "money: fact, place, addition, well, seen, practice, lack, able, way, even\n",
            "lion: punishment, september, journal, nobel, actress, concept, british, england, opposed, united\n",
            "africa: europe, india, australia, japan, america, south, china, north, germany, region\n",
            "musician: actress, actor, writer, author, singer, born, addition, football, nine, seven\n",
            "dance: music, concept, country, study, writer, singer, actor, origin, art, contemporary\n",
            "\n",
            "\n"
          ]
        },
        {
          "name": "stderr",
          "output_type": "stream",
          "text": [
            "32500it [13:20, 44.49it/s]"
          ]
        },
        {
          "name": "stdout",
          "output_type": "stream",
          "text": [
            "| epoch   3 | 32500/32580 batches | loss    1.336 \n"
          ]
        },
        {
          "name": "stderr",
          "output_type": "stream",
          "text": [
            "\r32505it [13:20, 26.60it/s]"
          ]
        },
        {
          "name": "stdout",
          "output_type": "stream",
          "text": [
            "money: fact, place, addition, well, seen, practice, lack, able, way, even\n",
            "lion: punishment, september, journal, nobel, actress, concept, british, england, opposed, united\n",
            "africa: europe, india, australia, japan, america, south, china, north, germany, region\n",
            "musician: actress, actor, writer, author, singer, born, addition, football, nine, seven\n",
            "dance: music, concept, country, study, writer, singer, actor, origin, art, contemporary\n",
            "\n",
            "\n"
          ]
        },
        {
          "name": "stderr",
          "output_type": "stream",
          "text": [
            "32580it [13:23, 40.54it/s]\n",
            "0it [00:00, ?it/s]"
          ]
        },
        {
          "name": "stdout",
          "output_type": "stream",
          "text": [
            "| epoch   4 |     0/32580 batches | loss    1.314 \n"
          ]
        },
        {
          "name": "stderr",
          "output_type": "stream",
          "text": [
            "5it [00:01,  4.72it/s]"
          ]
        },
        {
          "name": "stdout",
          "output_type": "stream",
          "text": [
            "money: fact, place, addition, well, seen, practice, lack, able, way, even\n",
            "lion: punishment, september, journal, nobel, actress, concept, british, england, opposed, united\n",
            "africa: europe, india, australia, japan, america, south, china, north, germany, region\n",
            "musician: actress, actor, writer, author, singer, born, addition, football, nine, seven\n",
            "dance: music, concept, country, study, writer, singer, actor, origin, art, contemporary\n",
            "\n",
            "\n"
          ]
        },
        {
          "name": "stderr",
          "output_type": "stream",
          "text": [
            "499it [00:14, 45.22it/s]"
          ]
        },
        {
          "name": "stdout",
          "output_type": "stream",
          "text": [
            "| epoch   4 |   500/32580 batches | loss    1.330 \n"
          ]
        },
        {
          "name": "stderr",
          "output_type": "stream",
          "text": [
            "509it [00:14, 30.92it/s]"
          ]
        },
        {
          "name": "stdout",
          "output_type": "stream",
          "text": [
            "money: fact, place, addition, well, seen, practice, lack, able, way, even\n",
            "lion: punishment, september, journal, nobel, actress, concept, british, england, opposed, united\n",
            "africa: europe, india, australia, japan, america, south, china, north, germany, region\n",
            "musician: actress, actor, writer, author, singer, born, addition, football, nine, seven\n",
            "dance: music, concept, country, study, writer, singer, actor, origin, art, contemporary\n",
            "\n",
            "\n"
          ]
        },
        {
          "name": "stderr",
          "output_type": "stream",
          "text": [
            "999it [00:26, 44.99it/s]"
          ]
        },
        {
          "name": "stdout",
          "output_type": "stream",
          "text": [
            "| epoch   4 |  1000/32580 batches | loss    1.333 \n"
          ]
        },
        {
          "name": "stderr",
          "output_type": "stream",
          "text": [
            "\r1004it [00:26, 27.60it/s]"
          ]
        },
        {
          "name": "stdout",
          "output_type": "stream",
          "text": [
            "money: fact, place, addition, well, seen, practice, lack, able, way, even\n",
            "lion: punishment, september, journal, nobel, actress, concept, british, england, opposed, united\n",
            "africa: europe, india, australia, japan, america, south, china, north, germany, region\n",
            "musician: actress, actor, writer, author, singer, born, addition, football, nine, seven\n",
            "dance: music, concept, country, study, writer, singer, actor, origin, art, contemporary\n",
            "\n",
            "\n"
          ]
        },
        {
          "name": "stderr",
          "output_type": "stream",
          "text": [
            "1496it [00:38, 42.53it/s]"
          ]
        },
        {
          "name": "stdout",
          "output_type": "stream",
          "text": [
            "| epoch   4 |  1500/32580 batches | loss    1.326 \n"
          ]
        },
        {
          "name": "stderr",
          "output_type": "stream",
          "text": [
            "1505it [00:39, 29.74it/s]"
          ]
        },
        {
          "name": "stdout",
          "output_type": "stream",
          "text": [
            "money: fact, place, addition, well, seen, practice, lack, able, way, even\n",
            "lion: punishment, september, journal, nobel, actress, concept, british, england, opposed, united\n",
            "africa: europe, india, australia, japan, america, south, china, north, germany, region\n",
            "musician: actress, actor, writer, author, singer, born, addition, football, nine, seven\n",
            "dance: music, concept, country, study, writer, singer, actor, origin, art, contemporary\n",
            "\n",
            "\n"
          ]
        },
        {
          "name": "stderr",
          "output_type": "stream",
          "text": [
            "1997it [00:50, 43.50it/s]"
          ]
        },
        {
          "name": "stdout",
          "output_type": "stream",
          "text": [
            "| epoch   4 |  2000/32580 batches | loss    1.336 \n"
          ]
        },
        {
          "name": "stderr",
          "output_type": "stream",
          "text": [
            "2006it [00:51, 29.83it/s]"
          ]
        },
        {
          "name": "stdout",
          "output_type": "stream",
          "text": [
            "money: fact, place, addition, well, seen, practice, lack, able, way, even\n",
            "lion: punishment, september, journal, nobel, actress, concept, british, england, opposed, united\n",
            "africa: europe, india, australia, japan, america, south, china, north, germany, region\n",
            "musician: actress, actor, writer, author, singer, born, addition, football, nine, seven\n",
            "dance: music, concept, country, study, writer, singer, actor, origin, art, contemporary\n",
            "\n",
            "\n"
          ]
        },
        {
          "name": "stderr",
          "output_type": "stream",
          "text": [
            "2499it [01:03, 33.65it/s]"
          ]
        },
        {
          "name": "stdout",
          "output_type": "stream",
          "text": [
            "| epoch   4 |  2500/32580 batches | loss    1.332 \n"
          ]
        },
        {
          "name": "stderr",
          "output_type": "stream",
          "text": [
            "\r2503it [01:03, 18.35it/s]"
          ]
        },
        {
          "name": "stdout",
          "output_type": "stream",
          "text": [
            "money: fact, place, addition, well, seen, practice, lack, able, way, even\n",
            "lion: punishment, september, journal, nobel, actress, concept, british, england, opposed, united\n",
            "africa: europe, india, australia, japan, america, south, china, north, germany, region\n",
            "musician: actress, actor, writer, author, singer, born, addition, football, nine, seven\n",
            "dance: music, concept, country, study, writer, singer, actor, origin, art, contemporary\n",
            "\n",
            "\n"
          ]
        },
        {
          "name": "stderr",
          "output_type": "stream",
          "text": [
            "2999it [01:15, 34.81it/s]"
          ]
        },
        {
          "name": "stdout",
          "output_type": "stream",
          "text": [
            "| epoch   4 |  3000/32580 batches | loss    1.328 \n"
          ]
        },
        {
          "name": "stderr",
          "output_type": "stream",
          "text": [
            "\r3003it [01:15, 18.49it/s]"
          ]
        },
        {
          "name": "stdout",
          "output_type": "stream",
          "text": [
            "money: fact, place, addition, well, seen, practice, lack, able, way, even\n",
            "lion: punishment, september, journal, nobel, actress, concept, british, england, opposed, united\n",
            "africa: europe, india, australia, japan, america, south, china, north, germany, region\n",
            "musician: actress, actor, writer, author, singer, born, addition, football, nine, seven\n",
            "dance: music, concept, country, study, writer, singer, actor, origin, art, contemporary\n",
            "\n",
            "\n"
          ]
        },
        {
          "name": "stderr",
          "output_type": "stream",
          "text": [
            "3496it [01:26, 45.00it/s]"
          ]
        },
        {
          "name": "stdout",
          "output_type": "stream",
          "text": [
            "| epoch   4 |  3500/32580 batches | loss    1.328 \n"
          ]
        },
        {
          "name": "stderr",
          "output_type": "stream",
          "text": [
            "3505it [01:27, 30.42it/s]"
          ]
        },
        {
          "name": "stdout",
          "output_type": "stream",
          "text": [
            "money: fact, place, addition, well, seen, practice, lack, able, way, even\n",
            "lion: punishment, september, journal, nobel, actress, concept, british, england, opposed, united\n",
            "africa: europe, india, australia, japan, america, south, china, north, germany, region\n",
            "musician: actress, actor, writer, author, singer, born, addition, football, nine, seven\n",
            "dance: music, concept, country, study, writer, singer, actor, origin, art, contemporary\n",
            "\n",
            "\n"
          ]
        },
        {
          "name": "stderr",
          "output_type": "stream",
          "text": [
            "3999it [01:39, 45.62it/s]"
          ]
        },
        {
          "name": "stdout",
          "output_type": "stream",
          "text": [
            "| epoch   4 |  4000/32580 batches | loss    1.331 \n"
          ]
        },
        {
          "name": "stderr",
          "output_type": "stream",
          "text": [
            "4009it [01:39, 31.14it/s]"
          ]
        },
        {
          "name": "stdout",
          "output_type": "stream",
          "text": [
            "money: fact, place, addition, well, seen, practice, lack, able, way, even\n",
            "lion: punishment, september, journal, nobel, actress, concept, british, england, opposed, united\n",
            "africa: europe, india, australia, japan, america, south, china, north, germany, region\n",
            "musician: actress, actor, writer, author, singer, born, addition, football, nine, seven\n",
            "dance: music, concept, country, study, writer, singer, actor, origin, art, contemporary\n",
            "\n",
            "\n"
          ]
        },
        {
          "name": "stderr",
          "output_type": "stream",
          "text": [
            "4497it [01:51, 44.87it/s]"
          ]
        },
        {
          "name": "stdout",
          "output_type": "stream",
          "text": [
            "| epoch   4 |  4500/32580 batches | loss    1.339 \n"
          ]
        },
        {
          "name": "stderr",
          "output_type": "stream",
          "text": [
            "4507it [01:51, 30.77it/s]"
          ]
        },
        {
          "name": "stdout",
          "output_type": "stream",
          "text": [
            "money: fact, place, addition, well, seen, practice, lack, able, way, even\n",
            "lion: punishment, september, journal, nobel, actress, concept, british, england, opposed, united\n",
            "africa: europe, india, australia, japan, america, south, china, north, germany, region\n",
            "musician: actress, actor, writer, author, singer, born, addition, football, nine, seven\n",
            "dance: music, concept, country, study, writer, singer, actor, origin, art, contemporary\n",
            "\n",
            "\n"
          ]
        },
        {
          "name": "stderr",
          "output_type": "stream",
          "text": [
            "4998it [02:03, 44.17it/s]"
          ]
        },
        {
          "name": "stdout",
          "output_type": "stream",
          "text": [
            "| epoch   4 |  5000/32580 batches | loss    1.334 \n"
          ]
        },
        {
          "name": "stderr",
          "output_type": "stream",
          "text": [
            "5008it [02:04, 30.99it/s]"
          ]
        },
        {
          "name": "stdout",
          "output_type": "stream",
          "text": [
            "money: fact, place, addition, well, seen, practice, lack, able, way, even\n",
            "lion: punishment, september, journal, nobel, actress, concept, british, england, opposed, united\n",
            "africa: europe, india, australia, japan, america, south, china, north, germany, region\n",
            "musician: actress, actor, writer, author, singer, born, addition, football, nine, seven\n",
            "dance: music, concept, country, study, writer, singer, actor, origin, art, contemporary\n",
            "\n",
            "\n"
          ]
        },
        {
          "name": "stderr",
          "output_type": "stream",
          "text": [
            "5498it [02:16, 44.81it/s]"
          ]
        },
        {
          "name": "stdout",
          "output_type": "stream",
          "text": [
            "| epoch   4 |  5500/32580 batches | loss    1.329 \n"
          ]
        },
        {
          "name": "stderr",
          "output_type": "stream",
          "text": [
            "5507it [02:16, 29.91it/s]"
          ]
        },
        {
          "name": "stdout",
          "output_type": "stream",
          "text": [
            "money: fact, place, addition, well, seen, practice, lack, able, way, even\n",
            "lion: punishment, september, journal, nobel, actress, concept, british, england, opposed, united\n",
            "africa: europe, india, australia, japan, america, south, china, north, germany, region\n",
            "musician: actress, actor, writer, author, singer, born, addition, football, nine, seven\n",
            "dance: music, concept, country, study, writer, singer, actor, origin, art, contemporary\n",
            "\n",
            "\n"
          ]
        },
        {
          "name": "stderr",
          "output_type": "stream",
          "text": [
            "5998it [02:28, 44.58it/s]"
          ]
        },
        {
          "name": "stdout",
          "output_type": "stream",
          "text": [
            "| epoch   4 |  6000/32580 batches | loss    1.331 \n"
          ]
        },
        {
          "name": "stderr",
          "output_type": "stream",
          "text": [
            "6008it [02:29, 31.11it/s]"
          ]
        },
        {
          "name": "stdout",
          "output_type": "stream",
          "text": [
            "money: fact, place, addition, well, seen, practice, lack, able, way, even\n",
            "lion: punishment, september, journal, nobel, actress, concept, british, england, opposed, united\n",
            "africa: europe, india, australia, japan, america, south, china, north, germany, region\n",
            "musician: actress, actor, writer, author, singer, born, addition, football, nine, seven\n",
            "dance: music, concept, country, study, writer, singer, actor, origin, art, contemporary\n",
            "\n",
            "\n"
          ]
        },
        {
          "name": "stderr",
          "output_type": "stream",
          "text": [
            "6496it [02:40, 45.14it/s]"
          ]
        },
        {
          "name": "stdout",
          "output_type": "stream",
          "text": [
            "| epoch   4 |  6500/32580 batches | loss    1.336 \n"
          ]
        },
        {
          "name": "stderr",
          "output_type": "stream",
          "text": [
            "6505it [02:41, 29.93it/s]"
          ]
        },
        {
          "name": "stdout",
          "output_type": "stream",
          "text": [
            "money: fact, place, addition, well, seen, practice, lack, able, way, even\n",
            "lion: punishment, september, journal, nobel, actress, concept, british, england, opposed, united\n",
            "africa: europe, india, australia, japan, america, south, china, north, germany, region\n",
            "musician: actress, actor, writer, author, singer, born, addition, football, nine, seven\n",
            "dance: music, concept, country, study, writer, singer, actor, origin, art, contemporary\n",
            "\n",
            "\n"
          ]
        },
        {
          "name": "stderr",
          "output_type": "stream",
          "text": [
            "6999it [02:52, 34.81it/s]"
          ]
        },
        {
          "name": "stdout",
          "output_type": "stream",
          "text": [
            "| epoch   4 |  7000/32580 batches | loss    1.332 \n"
          ]
        },
        {
          "name": "stderr",
          "output_type": "stream",
          "text": [
            "7008it [02:53, 25.02it/s]"
          ]
        },
        {
          "name": "stdout",
          "output_type": "stream",
          "text": [
            "money: fact, place, addition, well, seen, practice, lack, able, way, even\n",
            "lion: punishment, september, journal, nobel, actress, concept, british, england, opposed, united\n",
            "africa: europe, india, australia, japan, america, south, china, north, germany, region\n",
            "musician: actress, actor, writer, author, singer, born, addition, football, nine, seven\n",
            "dance: music, concept, country, study, writer, singer, actor, origin, art, contemporary\n",
            "\n",
            "\n"
          ]
        },
        {
          "name": "stderr",
          "output_type": "stream",
          "text": [
            "7497it [03:04, 33.63it/s]"
          ]
        },
        {
          "name": "stdout",
          "output_type": "stream",
          "text": [
            "| epoch   4 |  7500/32580 batches | loss    1.338 \n"
          ]
        },
        {
          "name": "stderr",
          "output_type": "stream",
          "text": [
            "7504it [03:05, 20.39it/s]"
          ]
        },
        {
          "name": "stdout",
          "output_type": "stream",
          "text": [
            "money: fact, place, addition, well, seen, practice, lack, able, way, even\n",
            "lion: punishment, september, journal, nobel, actress, concept, british, england, opposed, united\n",
            "africa: europe, india, australia, japan, america, south, china, north, germany, region\n",
            "musician: actress, actor, writer, author, singer, born, addition, football, nine, seven\n",
            "dance: music, concept, country, study, writer, singer, actor, origin, art, contemporary\n",
            "\n",
            "\n"
          ]
        },
        {
          "name": "stderr",
          "output_type": "stream",
          "text": [
            "7997it [03:16, 45.14it/s]"
          ]
        },
        {
          "name": "stdout",
          "output_type": "stream",
          "text": [
            "| epoch   4 |  8000/32580 batches | loss    1.334 \n"
          ]
        },
        {
          "name": "stderr",
          "output_type": "stream",
          "text": [
            "8006it [03:17, 25.27it/s]"
          ]
        },
        {
          "name": "stdout",
          "output_type": "stream",
          "text": [
            "money: fact, place, addition, well, seen, practice, lack, able, way, even\n",
            "lion: punishment, september, journal, nobel, actress, concept, british, england, opposed, united\n",
            "africa: europe, india, australia, japan, america, south, china, north, germany, region\n",
            "musician: actress, actor, writer, author, singer, born, addition, football, nine, seven\n",
            "dance: music, concept, country, study, writer, singer, actor, origin, art, contemporary\n",
            "\n",
            "\n"
          ]
        },
        {
          "name": "stderr",
          "output_type": "stream",
          "text": [
            "8499it [03:28, 44.15it/s]"
          ]
        },
        {
          "name": "stdout",
          "output_type": "stream",
          "text": [
            "| epoch   4 |  8500/32580 batches | loss    1.333 \n"
          ]
        },
        {
          "name": "stderr",
          "output_type": "stream",
          "text": [
            "8509it [03:29, 31.04it/s]"
          ]
        },
        {
          "name": "stdout",
          "output_type": "stream",
          "text": [
            "money: fact, place, addition, well, seen, practice, lack, able, way, even\n",
            "lion: punishment, september, journal, nobel, actress, concept, british, england, opposed, united\n",
            "africa: europe, india, australia, japan, america, south, china, north, germany, region\n",
            "musician: actress, actor, writer, author, singer, born, addition, football, nine, seven\n",
            "dance: music, concept, country, study, writer, singer, actor, origin, art, contemporary\n",
            "\n",
            "\n"
          ]
        },
        {
          "name": "stderr",
          "output_type": "stream",
          "text": [
            "8996it [03:41, 45.22it/s]"
          ]
        },
        {
          "name": "stdout",
          "output_type": "stream",
          "text": [
            "| epoch   4 |  9000/32580 batches | loss    1.330 \n"
          ]
        },
        {
          "name": "stderr",
          "output_type": "stream",
          "text": [
            "9005it [03:41, 29.47it/s]"
          ]
        },
        {
          "name": "stdout",
          "output_type": "stream",
          "text": [
            "money: fact, place, addition, well, seen, practice, lack, able, way, even\n",
            "lion: punishment, september, journal, nobel, actress, concept, british, england, opposed, united\n",
            "africa: europe, india, australia, japan, america, south, china, north, germany, region\n",
            "musician: actress, actor, writer, author, singer, born, addition, football, nine, seven\n",
            "dance: music, concept, country, study, writer, singer, actor, origin, art, contemporary\n",
            "\n",
            "\n"
          ]
        },
        {
          "name": "stderr",
          "output_type": "stream",
          "text": [
            "9496it [03:53, 45.38it/s]"
          ]
        },
        {
          "name": "stdout",
          "output_type": "stream",
          "text": [
            "| epoch   4 |  9500/32580 batches | loss    1.335 \n"
          ]
        },
        {
          "name": "stderr",
          "output_type": "stream",
          "text": [
            "9505it [03:53, 30.11it/s]"
          ]
        },
        {
          "name": "stdout",
          "output_type": "stream",
          "text": [
            "money: fact, place, addition, well, seen, practice, lack, able, way, even\n",
            "lion: punishment, september, journal, nobel, actress, concept, british, england, opposed, united\n",
            "africa: europe, india, australia, japan, america, south, china, north, germany, region\n",
            "musician: actress, actor, writer, author, singer, born, addition, football, nine, seven\n",
            "dance: music, concept, country, study, writer, singer, actor, origin, art, contemporary\n",
            "\n",
            "\n"
          ]
        },
        {
          "name": "stderr",
          "output_type": "stream",
          "text": [
            "9996it [04:07, 44.38it/s]"
          ]
        },
        {
          "name": "stdout",
          "output_type": "stream",
          "text": [
            "| epoch   4 | 10000/32580 batches | loss    1.335 \n"
          ]
        },
        {
          "name": "stderr",
          "output_type": "stream",
          "text": [
            "10005it [04:07, 29.37it/s]"
          ]
        },
        {
          "name": "stdout",
          "output_type": "stream",
          "text": [
            "money: fact, place, addition, well, seen, practice, lack, able, way, even\n",
            "lion: punishment, september, journal, nobel, actress, concept, british, england, opposed, united\n",
            "africa: europe, india, australia, japan, america, south, china, north, germany, region\n",
            "musician: actress, actor, writer, author, singer, born, addition, football, nine, seven\n",
            "dance: music, concept, country, study, writer, singer, actor, origin, art, contemporary\n",
            "\n",
            "\n"
          ]
        },
        {
          "name": "stderr",
          "output_type": "stream",
          "text": [
            "10497it [04:19, 45.06it/s]"
          ]
        },
        {
          "name": "stdout",
          "output_type": "stream",
          "text": [
            "| epoch   4 | 10500/32580 batches | loss    1.332 \n"
          ]
        },
        {
          "name": "stderr",
          "output_type": "stream",
          "text": [
            "10506it [04:19, 29.51it/s]"
          ]
        },
        {
          "name": "stdout",
          "output_type": "stream",
          "text": [
            "money: fact, place, addition, well, seen, practice, lack, able, way, even\n",
            "lion: punishment, september, journal, nobel, actress, concept, british, england, opposed, united\n",
            "africa: europe, india, australia, japan, america, south, china, north, germany, region\n",
            "musician: actress, actor, writer, author, singer, born, addition, football, nine, seven\n",
            "dance: music, concept, country, study, writer, singer, actor, origin, art, contemporary\n",
            "\n",
            "\n"
          ]
        },
        {
          "name": "stderr",
          "output_type": "stream",
          "text": [
            "10999it [04:31, 34.52it/s]"
          ]
        },
        {
          "name": "stdout",
          "output_type": "stream",
          "text": [
            "| epoch   4 | 11000/32580 batches | loss    1.329 \n"
          ]
        },
        {
          "name": "stderr",
          "output_type": "stream",
          "text": [
            "11007it [04:31, 24.98it/s]"
          ]
        },
        {
          "name": "stdout",
          "output_type": "stream",
          "text": [
            "money: fact, place, addition, well, seen, practice, lack, able, way, even\n",
            "lion: punishment, september, journal, nobel, actress, concept, british, england, opposed, united\n",
            "africa: europe, india, australia, japan, america, south, china, north, germany, region\n",
            "musician: actress, actor, writer, author, singer, born, addition, football, nine, seven\n",
            "dance: music, concept, country, study, writer, singer, actor, origin, art, contemporary\n",
            "\n",
            "\n"
          ]
        },
        {
          "name": "stderr",
          "output_type": "stream",
          "text": [
            "11499it [04:43, 33.76it/s]"
          ]
        },
        {
          "name": "stdout",
          "output_type": "stream",
          "text": [
            "| epoch   4 | 11500/32580 batches | loss    1.328 \n"
          ]
        },
        {
          "name": "stderr",
          "output_type": "stream",
          "text": [
            "\r11503it [04:43, 18.82it/s]"
          ]
        },
        {
          "name": "stdout",
          "output_type": "stream",
          "text": [
            "money: fact, place, addition, well, seen, practice, lack, able, way, even\n",
            "lion: punishment, september, journal, nobel, actress, concept, british, england, opposed, united\n",
            "africa: europe, india, australia, japan, america, south, china, north, germany, region\n",
            "musician: actress, actor, writer, author, singer, born, addition, football, nine, seven\n",
            "dance: music, concept, country, study, writer, singer, actor, origin, art, contemporary\n",
            "\n",
            "\n"
          ]
        },
        {
          "name": "stderr",
          "output_type": "stream",
          "text": [
            "11996it [04:55, 45.15it/s]"
          ]
        },
        {
          "name": "stdout",
          "output_type": "stream",
          "text": [
            "| epoch   4 | 12000/32580 batches | loss    1.329 \n"
          ]
        },
        {
          "name": "stderr",
          "output_type": "stream",
          "text": [
            "12005it [04:55, 25.00it/s]"
          ]
        },
        {
          "name": "stdout",
          "output_type": "stream",
          "text": [
            "money: fact, place, addition, well, seen, practice, lack, able, way, even\n",
            "lion: punishment, september, journal, nobel, actress, concept, british, england, opposed, united\n",
            "africa: europe, india, australia, japan, america, south, china, north, germany, region\n",
            "musician: actress, actor, writer, author, singer, born, addition, football, nine, seven\n",
            "dance: music, concept, country, study, writer, singer, actor, origin, art, contemporary\n",
            "\n",
            "\n"
          ]
        },
        {
          "name": "stderr",
          "output_type": "stream",
          "text": [
            "12498it [05:07, 44.85it/s]"
          ]
        },
        {
          "name": "stdout",
          "output_type": "stream",
          "text": [
            "| epoch   4 | 12500/32580 batches | loss    1.330 \n"
          ]
        },
        {
          "name": "stderr",
          "output_type": "stream",
          "text": [
            "12507it [05:08, 29.02it/s]"
          ]
        },
        {
          "name": "stdout",
          "output_type": "stream",
          "text": [
            "money: fact, place, addition, well, seen, practice, lack, able, way, even\n",
            "lion: punishment, september, journal, nobel, actress, concept, british, england, opposed, united\n",
            "africa: europe, india, australia, japan, america, south, china, north, germany, region\n",
            "musician: actress, actor, writer, author, singer, born, addition, football, nine, seven\n",
            "dance: music, concept, country, study, writer, singer, actor, origin, art, contemporary\n",
            "\n",
            "\n"
          ]
        },
        {
          "name": "stderr",
          "output_type": "stream",
          "text": [
            "12997it [05:19, 43.90it/s]"
          ]
        },
        {
          "name": "stdout",
          "output_type": "stream",
          "text": [
            "| epoch   4 | 13000/32580 batches | loss    1.330 \n"
          ]
        },
        {
          "name": "stderr",
          "output_type": "stream",
          "text": [
            "13007it [05:20, 30.94it/s]"
          ]
        },
        {
          "name": "stdout",
          "output_type": "stream",
          "text": [
            "money: fact, place, addition, well, seen, practice, lack, able, way, even\n",
            "lion: punishment, september, journal, nobel, actress, concept, british, england, opposed, united\n",
            "africa: europe, india, australia, japan, america, south, china, north, germany, region\n",
            "musician: actress, actor, writer, author, singer, born, addition, football, nine, seven\n",
            "dance: music, concept, country, study, writer, singer, actor, origin, art, contemporary\n",
            "\n",
            "\n"
          ]
        },
        {
          "name": "stderr",
          "output_type": "stream",
          "text": [
            "13498it [05:32, 45.50it/s]"
          ]
        },
        {
          "name": "stdout",
          "output_type": "stream",
          "text": [
            "| epoch   4 | 13500/32580 batches | loss    1.330 \n"
          ]
        },
        {
          "name": "stderr",
          "output_type": "stream",
          "text": [
            "13508it [05:32, 31.24it/s]"
          ]
        },
        {
          "name": "stdout",
          "output_type": "stream",
          "text": [
            "money: fact, place, addition, well, seen, practice, lack, able, way, even\n",
            "lion: punishment, september, journal, nobel, actress, concept, british, england, opposed, united\n",
            "africa: europe, india, australia, japan, america, south, china, north, germany, region\n",
            "musician: actress, actor, writer, author, singer, born, addition, football, nine, seven\n",
            "dance: music, concept, country, study, writer, singer, actor, origin, art, contemporary\n",
            "\n",
            "\n"
          ]
        },
        {
          "name": "stderr",
          "output_type": "stream",
          "text": [
            "13999it [05:44, 45.37it/s]"
          ]
        },
        {
          "name": "stdout",
          "output_type": "stream",
          "text": [
            "| epoch   4 | 14000/32580 batches | loss    1.330 \n"
          ]
        },
        {
          "name": "stderr",
          "output_type": "stream",
          "text": [
            "14009it [05:44, 30.79it/s]"
          ]
        },
        {
          "name": "stdout",
          "output_type": "stream",
          "text": [
            "money: fact, place, addition, well, seen, practice, lack, able, way, even\n",
            "lion: punishment, september, journal, nobel, actress, concept, british, england, opposed, united\n",
            "africa: europe, india, australia, japan, america, south, china, north, germany, region\n",
            "musician: actress, actor, writer, author, singer, born, addition, football, nine, seven\n",
            "dance: music, concept, country, study, writer, singer, actor, origin, art, contemporary\n",
            "\n",
            "\n"
          ]
        },
        {
          "name": "stderr",
          "output_type": "stream",
          "text": [
            "14496it [05:56, 44.00it/s]"
          ]
        },
        {
          "name": "stdout",
          "output_type": "stream",
          "text": [
            "| epoch   4 | 14500/32580 batches | loss    1.331 \n"
          ]
        },
        {
          "name": "stderr",
          "output_type": "stream",
          "text": [
            "14505it [05:56, 29.52it/s]"
          ]
        },
        {
          "name": "stdout",
          "output_type": "stream",
          "text": [
            "money: fact, place, addition, well, seen, practice, lack, able, way, even\n",
            "lion: punishment, september, journal, nobel, actress, concept, british, england, opposed, united\n",
            "africa: europe, india, australia, japan, america, south, china, north, germany, region\n",
            "musician: actress, actor, writer, author, singer, born, addition, football, nine, seven\n",
            "dance: music, concept, country, study, writer, singer, actor, origin, art, contemporary\n",
            "\n",
            "\n"
          ]
        },
        {
          "name": "stderr",
          "output_type": "stream",
          "text": [
            "15000it [06:09, 44.34it/s]"
          ]
        },
        {
          "name": "stdout",
          "output_type": "stream",
          "text": [
            "| epoch   4 | 15000/32580 batches | loss    1.331 \n"
          ]
        },
        {
          "name": "stderr",
          "output_type": "stream",
          "text": [
            "\r15005it [06:09, 27.00it/s]"
          ]
        },
        {
          "name": "stdout",
          "output_type": "stream",
          "text": [
            "money: fact, place, addition, well, seen, practice, lack, able, way, even\n",
            "lion: punishment, september, journal, nobel, actress, concept, british, england, opposed, united\n",
            "africa: europe, india, australia, japan, america, south, china, north, germany, region\n",
            "musician: actress, actor, writer, author, singer, born, addition, football, nine, seven\n",
            "dance: music, concept, country, study, writer, singer, actor, origin, art, contemporary\n",
            "\n",
            "\n"
          ]
        },
        {
          "name": "stderr",
          "output_type": "stream",
          "text": [
            "15497it [06:21, 41.91it/s]"
          ]
        },
        {
          "name": "stdout",
          "output_type": "stream",
          "text": [
            "| epoch   4 | 15500/32580 batches | loss    1.332 \n"
          ]
        },
        {
          "name": "stderr",
          "output_type": "stream",
          "text": [
            "15506it [06:21, 28.97it/s]"
          ]
        },
        {
          "name": "stdout",
          "output_type": "stream",
          "text": [
            "money: fact, place, addition, well, seen, practice, lack, able, way, even\n",
            "lion: punishment, september, journal, nobel, actress, concept, british, england, opposed, united\n",
            "africa: europe, india, australia, japan, america, south, china, north, germany, region\n",
            "musician: actress, actor, writer, author, singer, born, addition, football, nine, seven\n",
            "dance: music, concept, country, study, writer, singer, actor, origin, art, contemporary\n",
            "\n",
            "\n"
          ]
        },
        {
          "name": "stderr",
          "output_type": "stream",
          "text": [
            "16000it [06:33, 34.98it/s]"
          ]
        },
        {
          "name": "stdout",
          "output_type": "stream",
          "text": [
            "| epoch   4 | 16000/32580 batches | loss    1.325 \n"
          ]
        },
        {
          "name": "stderr",
          "output_type": "stream",
          "text": [
            "\r16004it [06:33, 18.43it/s]"
          ]
        },
        {
          "name": "stdout",
          "output_type": "stream",
          "text": [
            "money: fact, place, addition, well, seen, practice, lack, able, way, even\n",
            "lion: punishment, september, journal, nobel, actress, concept, british, england, opposed, united\n",
            "africa: europe, india, australia, japan, america, south, china, north, germany, region\n",
            "musician: actress, actor, writer, author, singer, born, addition, football, nine, seven\n",
            "dance: music, concept, country, study, writer, singer, actor, origin, art, contemporary\n",
            "\n",
            "\n"
          ]
        },
        {
          "name": "stderr",
          "output_type": "stream",
          "text": [
            "16500it [06:45, 36.82it/s]"
          ]
        },
        {
          "name": "stdout",
          "output_type": "stream",
          "text": [
            "| epoch   4 | 16500/32580 batches | loss    1.336 \n"
          ]
        },
        {
          "name": "stderr",
          "output_type": "stream",
          "text": [
            "\r16504it [06:45, 19.75it/s]"
          ]
        },
        {
          "name": "stdout",
          "output_type": "stream",
          "text": [
            "money: fact, place, addition, well, seen, practice, lack, able, way, even\n",
            "lion: punishment, september, journal, nobel, actress, concept, british, england, opposed, united\n",
            "africa: europe, india, australia, japan, america, south, china, north, germany, region\n",
            "musician: actress, actor, writer, author, singer, born, addition, football, nine, seven\n",
            "dance: music, concept, country, study, writer, singer, actor, origin, art, contemporary\n",
            "\n",
            "\n"
          ]
        },
        {
          "name": "stderr",
          "output_type": "stream",
          "text": [
            "16997it [06:57, 44.42it/s]"
          ]
        },
        {
          "name": "stdout",
          "output_type": "stream",
          "text": [
            "| epoch   4 | 17000/32580 batches | loss    1.326 \n"
          ]
        },
        {
          "name": "stderr",
          "output_type": "stream",
          "text": [
            "17006it [06:57, 29.79it/s]"
          ]
        },
        {
          "name": "stdout",
          "output_type": "stream",
          "text": [
            "money: fact, place, addition, well, seen, practice, lack, able, way, even\n",
            "lion: punishment, september, journal, nobel, actress, concept, british, england, opposed, united\n",
            "africa: europe, india, australia, japan, america, south, china, north, germany, region\n",
            "musician: actress, actor, writer, author, singer, born, addition, football, nine, seven\n",
            "dance: music, concept, country, study, writer, singer, actor, origin, art, contemporary\n",
            "\n",
            "\n"
          ]
        },
        {
          "name": "stderr",
          "output_type": "stream",
          "text": [
            "17497it [07:09, 44.40it/s]"
          ]
        },
        {
          "name": "stdout",
          "output_type": "stream",
          "text": [
            "| epoch   4 | 17500/32580 batches | loss    1.330 \n"
          ]
        },
        {
          "name": "stderr",
          "output_type": "stream",
          "text": [
            "17507it [07:10, 30.95it/s]"
          ]
        },
        {
          "name": "stdout",
          "output_type": "stream",
          "text": [
            "money: fact, place, addition, well, seen, practice, lack, able, way, even\n",
            "lion: punishment, september, journal, nobel, actress, concept, british, england, opposed, united\n",
            "africa: europe, india, australia, japan, america, south, china, north, germany, region\n",
            "musician: actress, actor, writer, author, singer, born, addition, football, nine, seven\n",
            "dance: music, concept, country, study, writer, singer, actor, origin, art, contemporary\n",
            "\n",
            "\n"
          ]
        },
        {
          "name": "stderr",
          "output_type": "stream",
          "text": [
            "17999it [07:21, 45.00it/s]"
          ]
        },
        {
          "name": "stdout",
          "output_type": "stream",
          "text": [
            "| epoch   4 | 18000/32580 batches | loss    1.332 \n"
          ]
        },
        {
          "name": "stderr",
          "output_type": "stream",
          "text": [
            "18009it [07:22, 31.03it/s]"
          ]
        },
        {
          "name": "stdout",
          "output_type": "stream",
          "text": [
            "money: fact, place, addition, well, seen, practice, lack, able, way, even\n",
            "lion: punishment, september, journal, nobel, actress, concept, british, england, opposed, united\n",
            "africa: europe, india, australia, japan, america, south, china, north, germany, region\n",
            "musician: actress, actor, writer, author, singer, born, addition, football, nine, seven\n",
            "dance: music, concept, country, study, writer, singer, actor, origin, art, contemporary\n",
            "\n",
            "\n"
          ]
        },
        {
          "name": "stderr",
          "output_type": "stream",
          "text": [
            "18496it [07:34, 44.24it/s]"
          ]
        },
        {
          "name": "stdout",
          "output_type": "stream",
          "text": [
            "| epoch   4 | 18500/32580 batches | loss    1.329 \n"
          ]
        },
        {
          "name": "stderr",
          "output_type": "stream",
          "text": [
            "18505it [07:34, 29.32it/s]"
          ]
        },
        {
          "name": "stdout",
          "output_type": "stream",
          "text": [
            "money: fact, place, addition, well, seen, practice, lack, able, way, even\n",
            "lion: punishment, september, journal, nobel, actress, concept, british, england, opposed, united\n",
            "africa: europe, india, australia, japan, america, south, china, north, germany, region\n",
            "musician: actress, actor, writer, author, singer, born, addition, football, nine, seven\n",
            "dance: music, concept, country, study, writer, singer, actor, origin, art, contemporary\n",
            "\n",
            "\n"
          ]
        },
        {
          "name": "stderr",
          "output_type": "stream",
          "text": [
            "18997it [07:46, 44.34it/s]"
          ]
        },
        {
          "name": "stdout",
          "output_type": "stream",
          "text": [
            "| epoch   4 | 19000/32580 batches | loss    1.330 \n"
          ]
        },
        {
          "name": "stderr",
          "output_type": "stream",
          "text": [
            "19007it [07:46, 30.72it/s]"
          ]
        },
        {
          "name": "stdout",
          "output_type": "stream",
          "text": [
            "money: fact, place, addition, well, seen, practice, lack, able, way, even\n",
            "lion: punishment, september, journal, nobel, actress, concept, british, england, opposed, united\n",
            "africa: europe, india, australia, japan, america, south, china, north, germany, region\n",
            "musician: actress, actor, writer, author, singer, born, addition, football, nine, seven\n",
            "dance: music, concept, country, study, writer, singer, actor, origin, art, contemporary\n",
            "\n",
            "\n"
          ]
        },
        {
          "name": "stderr",
          "output_type": "stream",
          "text": [
            "19497it [08:02, 42.99it/s]"
          ]
        },
        {
          "name": "stdout",
          "output_type": "stream",
          "text": [
            "| epoch   4 | 19500/32580 batches | loss    1.328 \n"
          ]
        },
        {
          "name": "stderr",
          "output_type": "stream",
          "text": [
            "19506it [08:02, 29.63it/s]"
          ]
        },
        {
          "name": "stdout",
          "output_type": "stream",
          "text": [
            "money: fact, place, addition, well, seen, practice, lack, able, way, even\n",
            "lion: punishment, september, journal, nobel, actress, concept, british, england, opposed, united\n",
            "africa: europe, india, australia, japan, america, south, china, north, germany, region\n",
            "musician: actress, actor, writer, author, singer, born, addition, football, nine, seven\n",
            "dance: music, concept, country, study, writer, singer, actor, origin, art, contemporary\n",
            "\n",
            "\n"
          ]
        },
        {
          "name": "stderr",
          "output_type": "stream",
          "text": [
            "19998it [08:14, 45.29it/s]"
          ]
        },
        {
          "name": "stdout",
          "output_type": "stream",
          "text": [
            "| epoch   4 | 20000/32580 batches | loss    1.332 \n"
          ]
        },
        {
          "name": "stderr",
          "output_type": "stream",
          "text": [
            "20008it [08:15, 31.07it/s]"
          ]
        },
        {
          "name": "stdout",
          "output_type": "stream",
          "text": [
            "money: fact, place, addition, well, seen, practice, lack, able, way, even\n",
            "lion: punishment, september, journal, nobel, actress, concept, british, england, opposed, united\n",
            "africa: europe, india, australia, japan, america, south, china, north, germany, region\n",
            "musician: actress, actor, writer, author, singer, born, addition, football, nine, seven\n",
            "dance: music, concept, country, study, writer, singer, actor, origin, art, contemporary\n",
            "\n",
            "\n"
          ]
        },
        {
          "name": "stderr",
          "output_type": "stream",
          "text": [
            "20500it [08:26, 44.36it/s]"
          ]
        },
        {
          "name": "stdout",
          "output_type": "stream",
          "text": [
            "| epoch   4 | 20500/32580 batches | loss    1.330 \n"
          ]
        },
        {
          "name": "stderr",
          "output_type": "stream",
          "text": [
            "\r20505it [08:27, 27.43it/s]"
          ]
        },
        {
          "name": "stdout",
          "output_type": "stream",
          "text": [
            "money: fact, place, addition, well, seen, practice, lack, able, way, even\n",
            "lion: punishment, september, journal, nobel, actress, concept, british, england, opposed, united\n",
            "africa: europe, india, australia, japan, america, south, china, north, germany, region\n",
            "musician: actress, actor, writer, author, singer, born, addition, football, nine, seven\n",
            "dance: music, concept, country, study, writer, singer, actor, origin, art, contemporary\n",
            "\n",
            "\n"
          ]
        },
        {
          "name": "stderr",
          "output_type": "stream",
          "text": [
            "20998it [08:39, 38.26it/s]"
          ]
        },
        {
          "name": "stdout",
          "output_type": "stream",
          "text": [
            "| epoch   4 | 21000/32580 batches | loss    1.327 \n"
          ]
        },
        {
          "name": "stderr",
          "output_type": "stream",
          "text": [
            "21007it [08:39, 28.34it/s]"
          ]
        },
        {
          "name": "stdout",
          "output_type": "stream",
          "text": [
            "money: fact, place, addition, well, seen, practice, lack, able, way, even\n",
            "lion: punishment, september, journal, nobel, actress, concept, british, england, opposed, united\n",
            "africa: europe, india, australia, japan, america, south, china, north, germany, region\n",
            "musician: actress, actor, writer, author, singer, born, addition, football, nine, seven\n",
            "dance: music, concept, country, study, writer, singer, actor, origin, art, contemporary\n",
            "\n",
            "\n"
          ]
        },
        {
          "name": "stderr",
          "output_type": "stream",
          "text": [
            "21500it [08:51, 34.32it/s]"
          ]
        },
        {
          "name": "stdout",
          "output_type": "stream",
          "text": [
            "| epoch   4 | 21500/32580 batches | loss    1.329 \n"
          ]
        },
        {
          "name": "stderr",
          "output_type": "stream",
          "text": [
            "\r21504it [08:51, 18.45it/s]"
          ]
        },
        {
          "name": "stdout",
          "output_type": "stream",
          "text": [
            "money: fact, place, addition, well, seen, practice, lack, able, way, even\n",
            "lion: punishment, september, journal, nobel, actress, concept, british, england, opposed, united\n",
            "africa: europe, india, australia, japan, america, south, china, north, germany, region\n",
            "musician: actress, actor, writer, author, singer, born, addition, football, nine, seven\n",
            "dance: music, concept, country, study, writer, singer, actor, origin, art, contemporary\n",
            "\n",
            "\n"
          ]
        },
        {
          "name": "stderr",
          "output_type": "stream",
          "text": [
            "21997it [09:03, 35.40it/s]"
          ]
        },
        {
          "name": "stdout",
          "output_type": "stream",
          "text": [
            "| epoch   4 | 22000/32580 batches | loss    1.327 \n"
          ]
        },
        {
          "name": "stderr",
          "output_type": "stream",
          "text": [
            "22004it [09:03, 20.63it/s]"
          ]
        },
        {
          "name": "stdout",
          "output_type": "stream",
          "text": [
            "money: fact, place, addition, well, seen, practice, lack, able, way, even\n",
            "lion: punishment, september, journal, nobel, actress, concept, british, england, opposed, united\n",
            "africa: europe, india, australia, japan, america, south, china, north, germany, region\n",
            "musician: actress, actor, writer, author, singer, born, addition, football, nine, seven\n",
            "dance: music, concept, country, study, writer, singer, actor, origin, art, contemporary\n",
            "\n",
            "\n"
          ]
        },
        {
          "name": "stderr",
          "output_type": "stream",
          "text": [
            "22496it [09:16, 42.30it/s]"
          ]
        },
        {
          "name": "stdout",
          "output_type": "stream",
          "text": [
            "| epoch   4 | 22500/32580 batches | loss    1.332 \n"
          ]
        },
        {
          "name": "stderr",
          "output_type": "stream",
          "text": [
            "22505it [09:16, 26.41it/s]"
          ]
        },
        {
          "name": "stdout",
          "output_type": "stream",
          "text": [
            "money: fact, place, addition, well, seen, practice, lack, able, way, even\n",
            "lion: punishment, september, journal, nobel, actress, concept, british, england, opposed, united\n",
            "africa: europe, india, australia, japan, america, south, china, north, germany, region\n",
            "musician: actress, actor, writer, author, singer, born, addition, football, nine, seven\n",
            "dance: music, concept, country, study, writer, singer, actor, origin, art, contemporary\n",
            "\n",
            "\n"
          ]
        },
        {
          "name": "stderr",
          "output_type": "stream",
          "text": [
            "23000it [09:28, 45.02it/s]"
          ]
        },
        {
          "name": "stdout",
          "output_type": "stream",
          "text": [
            "| epoch   4 | 23000/32580 batches | loss    1.329 \n"
          ]
        },
        {
          "name": "stderr",
          "output_type": "stream",
          "text": [
            "\r23005it [09:29, 27.63it/s]"
          ]
        },
        {
          "name": "stdout",
          "output_type": "stream",
          "text": [
            "money: fact, place, addition, well, seen, practice, lack, able, way, even\n",
            "lion: punishment, september, journal, nobel, actress, concept, british, england, opposed, united\n",
            "africa: europe, india, australia, japan, america, south, china, north, germany, region\n",
            "musician: actress, actor, writer, author, singer, born, addition, football, nine, seven\n",
            "dance: music, concept, country, study, writer, singer, actor, origin, art, contemporary\n",
            "\n",
            "\n"
          ]
        },
        {
          "name": "stderr",
          "output_type": "stream",
          "text": [
            "23496it [09:41, 43.24it/s]"
          ]
        },
        {
          "name": "stdout",
          "output_type": "stream",
          "text": [
            "| epoch   4 | 23500/32580 batches | loss    1.333 \n"
          ]
        },
        {
          "name": "stderr",
          "output_type": "stream",
          "text": [
            "23505it [09:41, 29.63it/s]"
          ]
        },
        {
          "name": "stdout",
          "output_type": "stream",
          "text": [
            "money: fact, place, addition, well, seen, practice, lack, able, way, even\n",
            "lion: punishment, september, journal, nobel, actress, concept, british, england, opposed, united\n",
            "africa: europe, india, australia, japan, america, south, china, north, germany, region\n",
            "musician: actress, actor, writer, author, singer, born, addition, football, nine, seven\n",
            "dance: music, concept, country, study, writer, singer, actor, origin, art, contemporary\n",
            "\n",
            "\n"
          ]
        },
        {
          "name": "stderr",
          "output_type": "stream",
          "text": [
            "24000it [09:53, 45.06it/s]"
          ]
        },
        {
          "name": "stdout",
          "output_type": "stream",
          "text": [
            "| epoch   4 | 24000/32580 batches | loss    1.335 \n"
          ]
        },
        {
          "name": "stderr",
          "output_type": "stream",
          "text": [
            "\r24005it [09:54, 26.97it/s]"
          ]
        },
        {
          "name": "stdout",
          "output_type": "stream",
          "text": [
            "money: fact, place, addition, well, seen, practice, lack, able, way, even\n",
            "lion: punishment, september, journal, nobel, actress, concept, british, england, opposed, united\n",
            "africa: europe, india, australia, japan, america, south, china, north, germany, region\n",
            "musician: actress, actor, writer, author, singer, born, addition, football, nine, seven\n",
            "dance: music, concept, country, study, writer, singer, actor, origin, art, contemporary\n",
            "\n",
            "\n"
          ]
        },
        {
          "name": "stderr",
          "output_type": "stream",
          "text": [
            "24500it [10:06, 44.64it/s]"
          ]
        },
        {
          "name": "stdout",
          "output_type": "stream",
          "text": [
            "| epoch   4 | 24500/32580 batches | loss    1.327 \n"
          ]
        },
        {
          "name": "stderr",
          "output_type": "stream",
          "text": [
            "\r24505it [10:06, 26.33it/s]"
          ]
        },
        {
          "name": "stdout",
          "output_type": "stream",
          "text": [
            "money: fact, place, addition, well, seen, practice, lack, able, way, even\n",
            "lion: punishment, september, journal, nobel, actress, concept, british, england, opposed, united\n",
            "africa: europe, india, australia, japan, america, south, china, north, germany, region\n",
            "musician: actress, actor, writer, author, singer, born, addition, football, nine, seven\n",
            "dance: music, concept, country, study, writer, singer, actor, origin, art, contemporary\n",
            "\n",
            "\n"
          ]
        },
        {
          "name": "stderr",
          "output_type": "stream",
          "text": [
            "24997it [10:18, 44.92it/s]"
          ]
        },
        {
          "name": "stdout",
          "output_type": "stream",
          "text": [
            "| epoch   4 | 25000/32580 batches | loss    1.331 \n"
          ]
        },
        {
          "name": "stderr",
          "output_type": "stream",
          "text": [
            "25006it [10:18, 29.18it/s]"
          ]
        },
        {
          "name": "stdout",
          "output_type": "stream",
          "text": [
            "money: fact, place, addition, well, seen, practice, lack, able, way, even\n",
            "lion: punishment, september, journal, nobel, actress, concept, british, england, opposed, united\n",
            "africa: europe, india, australia, japan, america, south, china, north, germany, region\n",
            "musician: actress, actor, writer, author, singer, born, addition, football, nine, seven\n",
            "dance: music, concept, country, study, writer, singer, actor, origin, art, contemporary\n",
            "\n",
            "\n"
          ]
        },
        {
          "name": "stderr",
          "output_type": "stream",
          "text": [
            "25498it [10:30, 44.35it/s]"
          ]
        },
        {
          "name": "stdout",
          "output_type": "stream",
          "text": [
            "| epoch   4 | 25500/32580 batches | loss    1.328 \n"
          ]
        },
        {
          "name": "stderr",
          "output_type": "stream",
          "text": [
            "25508it [10:31, 30.24it/s]"
          ]
        },
        {
          "name": "stdout",
          "output_type": "stream",
          "text": [
            "money: fact, place, addition, well, seen, practice, lack, able, way, even\n",
            "lion: punishment, september, journal, nobel, actress, concept, british, england, opposed, united\n",
            "africa: europe, india, australia, japan, america, south, china, north, germany, region\n",
            "musician: actress, actor, writer, author, singer, born, addition, football, nine, seven\n",
            "dance: music, concept, country, study, writer, singer, actor, origin, art, contemporary\n",
            "\n",
            "\n"
          ]
        },
        {
          "name": "stderr",
          "output_type": "stream",
          "text": [
            "25999it [10:43, 43.28it/s]"
          ]
        },
        {
          "name": "stdout",
          "output_type": "stream",
          "text": [
            "| epoch   4 | 26000/32580 batches | loss    1.330 \n"
          ]
        },
        {
          "name": "stderr",
          "output_type": "stream",
          "text": [
            "26009it [10:43, 29.94it/s]"
          ]
        },
        {
          "name": "stdout",
          "output_type": "stream",
          "text": [
            "money: fact, place, addition, well, seen, practice, lack, able, way, even\n",
            "lion: punishment, september, journal, nobel, actress, concept, british, england, opposed, united\n",
            "africa: europe, india, australia, japan, america, south, china, north, germany, region\n",
            "musician: actress, actor, writer, author, singer, born, addition, football, nine, seven\n",
            "dance: music, concept, country, study, writer, singer, actor, origin, art, contemporary\n",
            "\n",
            "\n"
          ]
        },
        {
          "name": "stderr",
          "output_type": "stream",
          "text": [
            "26499it [10:55, 35.15it/s]"
          ]
        },
        {
          "name": "stdout",
          "output_type": "stream",
          "text": [
            "| epoch   4 | 26500/32580 batches | loss    1.330 \n"
          ]
        },
        {
          "name": "stderr",
          "output_type": "stream",
          "text": [
            "\r26503it [10:55, 18.79it/s]"
          ]
        },
        {
          "name": "stdout",
          "output_type": "stream",
          "text": [
            "money: fact, place, addition, well, seen, practice, lack, able, way, even\n",
            "lion: punishment, september, journal, nobel, actress, concept, british, england, opposed, united\n",
            "africa: europe, india, australia, japan, america, south, china, north, germany, region\n",
            "musician: actress, actor, writer, author, singer, born, addition, football, nine, seven\n",
            "dance: music, concept, country, study, writer, singer, actor, origin, art, contemporary\n",
            "\n",
            "\n"
          ]
        },
        {
          "name": "stderr",
          "output_type": "stream",
          "text": [
            "27000it [11:07, 34.49it/s]"
          ]
        },
        {
          "name": "stdout",
          "output_type": "stream",
          "text": [
            "| epoch   4 | 27000/32580 batches | loss    1.331 \n"
          ]
        },
        {
          "name": "stderr",
          "output_type": "stream",
          "text": [
            "\r27004it [11:07, 18.29it/s]"
          ]
        },
        {
          "name": "stdout",
          "output_type": "stream",
          "text": [
            "money: fact, place, addition, well, seen, practice, lack, able, way, even\n",
            "lion: punishment, september, journal, nobel, actress, concept, british, england, opposed, united\n",
            "africa: europe, india, australia, japan, america, south, china, north, germany, region\n",
            "musician: actress, actor, writer, author, singer, born, addition, football, nine, seven\n",
            "dance: music, concept, country, study, writer, singer, actor, origin, art, contemporary\n",
            "\n",
            "\n"
          ]
        },
        {
          "name": "stderr",
          "output_type": "stream",
          "text": [
            "27500it [11:19, 44.17it/s]"
          ]
        },
        {
          "name": "stdout",
          "output_type": "stream",
          "text": [
            "| epoch   4 | 27500/32580 batches | loss    1.330 \n"
          ]
        },
        {
          "name": "stderr",
          "output_type": "stream",
          "text": [
            "\r27505it [11:19, 26.90it/s]"
          ]
        },
        {
          "name": "stdout",
          "output_type": "stream",
          "text": [
            "money: fact, place, addition, well, seen, practice, lack, able, way, even\n",
            "lion: punishment, september, journal, nobel, actress, concept, british, england, opposed, united\n",
            "africa: europe, india, australia, japan, america, south, china, north, germany, region\n",
            "musician: actress, actor, writer, author, singer, born, addition, football, nine, seven\n",
            "dance: music, concept, country, study, writer, singer, actor, origin, art, contemporary\n",
            "\n",
            "\n"
          ]
        },
        {
          "name": "stderr",
          "output_type": "stream",
          "text": [
            "28000it [11:31, 43.66it/s]"
          ]
        },
        {
          "name": "stdout",
          "output_type": "stream",
          "text": [
            "| epoch   4 | 28000/32580 batches | loss    1.332 \n"
          ]
        },
        {
          "name": "stderr",
          "output_type": "stream",
          "text": [
            "\r28005it [11:32, 25.87it/s]"
          ]
        },
        {
          "name": "stdout",
          "output_type": "stream",
          "text": [
            "money: fact, place, addition, well, seen, practice, lack, able, way, even\n",
            "lion: punishment, september, journal, nobel, actress, concept, british, england, opposed, united\n",
            "africa: europe, india, australia, japan, america, south, china, north, germany, region\n",
            "musician: actress, actor, writer, author, singer, born, addition, football, nine, seven\n",
            "dance: music, concept, country, study, writer, singer, actor, origin, art, contemporary\n",
            "\n",
            "\n"
          ]
        },
        {
          "name": "stderr",
          "output_type": "stream",
          "text": [
            "28496it [11:44, 44.77it/s]"
          ]
        },
        {
          "name": "stdout",
          "output_type": "stream",
          "text": [
            "| epoch   4 | 28500/32580 batches | loss    1.333 \n"
          ]
        },
        {
          "name": "stderr",
          "output_type": "stream",
          "text": [
            "28505it [11:44, 29.78it/s]"
          ]
        },
        {
          "name": "stdout",
          "output_type": "stream",
          "text": [
            "money: fact, place, addition, well, seen, practice, lack, able, way, even\n",
            "lion: punishment, september, journal, nobel, actress, concept, british, england, opposed, united\n",
            "africa: europe, india, australia, japan, america, south, china, north, germany, region\n",
            "musician: actress, actor, writer, author, singer, born, addition, football, nine, seven\n",
            "dance: music, concept, country, study, writer, singer, actor, origin, art, contemporary\n",
            "\n",
            "\n"
          ]
        },
        {
          "name": "stderr",
          "output_type": "stream",
          "text": [
            "29000it [11:56, 35.62it/s]"
          ]
        },
        {
          "name": "stdout",
          "output_type": "stream",
          "text": [
            "| epoch   4 | 29000/32580 batches | loss    1.331 \n"
          ]
        },
        {
          "name": "stderr",
          "output_type": "stream",
          "text": [
            "\r29004it [11:57, 19.29it/s]"
          ]
        },
        {
          "name": "stdout",
          "output_type": "stream",
          "text": [
            "money: fact, place, addition, well, seen, practice, lack, able, way, even\n",
            "lion: punishment, september, journal, nobel, actress, concept, british, england, opposed, united\n",
            "africa: europe, india, australia, japan, america, south, china, north, germany, region\n",
            "musician: actress, actor, writer, author, singer, born, addition, football, nine, seven\n",
            "dance: music, concept, country, study, writer, singer, actor, origin, art, contemporary\n",
            "\n",
            "\n"
          ]
        },
        {
          "name": "stderr",
          "output_type": "stream",
          "text": [
            "29500it [12:10, 43.24it/s]"
          ]
        },
        {
          "name": "stdout",
          "output_type": "stream",
          "text": [
            "| epoch   4 | 29500/32580 batches | loss    1.334 \n"
          ]
        },
        {
          "name": "stderr",
          "output_type": "stream",
          "text": [
            "\r29505it [12:10, 26.58it/s]"
          ]
        },
        {
          "name": "stdout",
          "output_type": "stream",
          "text": [
            "money: fact, place, addition, well, seen, practice, lack, able, way, even\n",
            "lion: punishment, september, journal, nobel, actress, concept, british, england, opposed, united\n",
            "africa: europe, india, australia, japan, america, south, china, north, germany, region\n",
            "musician: actress, actor, writer, author, singer, born, addition, football, nine, seven\n",
            "dance: music, concept, country, study, writer, singer, actor, origin, art, contemporary\n",
            "\n",
            "\n"
          ]
        },
        {
          "name": "stderr",
          "output_type": "stream",
          "text": [
            "29996it [12:22, 44.75it/s]"
          ]
        },
        {
          "name": "stdout",
          "output_type": "stream",
          "text": [
            "| epoch   4 | 30000/32580 batches | loss    1.330 \n"
          ]
        },
        {
          "name": "stderr",
          "output_type": "stream",
          "text": [
            "30005it [12:22, 30.13it/s]"
          ]
        },
        {
          "name": "stdout",
          "output_type": "stream",
          "text": [
            "money: fact, place, addition, well, seen, practice, lack, able, way, even\n",
            "lion: punishment, september, journal, nobel, actress, concept, british, england, opposed, united\n",
            "africa: europe, india, australia, japan, america, south, china, north, germany, region\n",
            "musician: actress, actor, writer, author, singer, born, addition, football, nine, seven\n",
            "dance: music, concept, country, study, writer, singer, actor, origin, art, contemporary\n",
            "\n",
            "\n"
          ]
        },
        {
          "name": "stderr",
          "output_type": "stream",
          "text": [
            "30496it [12:34, 45.29it/s]"
          ]
        },
        {
          "name": "stdout",
          "output_type": "stream",
          "text": [
            "| epoch   4 | 30500/32580 batches | loss    1.329 \n"
          ]
        },
        {
          "name": "stderr",
          "output_type": "stream",
          "text": [
            "30505it [12:34, 30.09it/s]"
          ]
        },
        {
          "name": "stdout",
          "output_type": "stream",
          "text": [
            "money: fact, place, addition, well, seen, practice, lack, able, way, even\n",
            "lion: punishment, september, journal, nobel, actress, concept, british, england, opposed, united\n",
            "africa: europe, india, australia, japan, america, south, china, north, germany, region\n",
            "musician: actress, actor, writer, author, singer, born, addition, football, nine, seven\n",
            "dance: music, concept, country, study, writer, singer, actor, origin, art, contemporary\n",
            "\n",
            "\n"
          ]
        },
        {
          "name": "stderr",
          "output_type": "stream",
          "text": [
            "30997it [12:46, 44.85it/s]"
          ]
        },
        {
          "name": "stdout",
          "output_type": "stream",
          "text": [
            "| epoch   4 | 31000/32580 batches | loss    1.328 \n"
          ]
        },
        {
          "name": "stderr",
          "output_type": "stream",
          "text": [
            "31007it [12:47, 30.65it/s]"
          ]
        },
        {
          "name": "stdout",
          "output_type": "stream",
          "text": [
            "money: fact, place, addition, well, seen, practice, lack, able, way, even\n",
            "lion: punishment, september, journal, nobel, actress, concept, british, england, opposed, united\n",
            "africa: europe, india, australia, japan, america, south, china, north, germany, region\n",
            "musician: actress, actor, writer, author, singer, born, addition, football, nine, seven\n",
            "dance: music, concept, country, study, writer, singer, actor, origin, art, contemporary\n",
            "\n",
            "\n"
          ]
        },
        {
          "name": "stderr",
          "output_type": "stream",
          "text": [
            "31498it [13:01, 44.72it/s]"
          ]
        },
        {
          "name": "stdout",
          "output_type": "stream",
          "text": [
            "| epoch   4 | 31500/32580 batches | loss    1.333 \n"
          ]
        },
        {
          "name": "stderr",
          "output_type": "stream",
          "text": [
            "31507it [13:02, 29.48it/s]"
          ]
        },
        {
          "name": "stdout",
          "output_type": "stream",
          "text": [
            "money: fact, place, addition, well, seen, practice, lack, able, way, even\n",
            "lion: punishment, september, journal, nobel, actress, concept, british, england, opposed, united\n",
            "africa: europe, india, australia, japan, america, south, china, north, germany, region\n",
            "musician: actress, actor, writer, author, singer, born, addition, football, nine, seven\n",
            "dance: music, concept, country, study, writer, singer, actor, origin, art, contemporary\n",
            "\n",
            "\n"
          ]
        },
        {
          "name": "stderr",
          "output_type": "stream",
          "text": [
            "31996it [13:14, 44.64it/s]"
          ]
        },
        {
          "name": "stdout",
          "output_type": "stream",
          "text": [
            "| epoch   4 | 32000/32580 batches | loss    1.330 \n"
          ]
        },
        {
          "name": "stderr",
          "output_type": "stream",
          "text": [
            "32005it [13:14, 29.17it/s]"
          ]
        },
        {
          "name": "stdout",
          "output_type": "stream",
          "text": [
            "money: fact, place, addition, well, seen, practice, lack, able, way, even\n",
            "lion: punishment, september, journal, nobel, actress, concept, british, england, opposed, united\n",
            "africa: europe, india, australia, japan, america, south, china, north, germany, region\n",
            "musician: actress, actor, writer, author, singer, born, addition, football, nine, seven\n",
            "dance: music, concept, country, study, writer, singer, actor, origin, art, contemporary\n",
            "\n",
            "\n"
          ]
        },
        {
          "name": "stderr",
          "output_type": "stream",
          "text": [
            "32499it [13:26, 32.37it/s]"
          ]
        },
        {
          "name": "stdout",
          "output_type": "stream",
          "text": [
            "| epoch   4 | 32500/32580 batches | loss    1.331 \n"
          ]
        },
        {
          "name": "stderr",
          "output_type": "stream",
          "text": [
            "32508it [13:27, 24.36it/s]"
          ]
        },
        {
          "name": "stdout",
          "output_type": "stream",
          "text": [
            "money: fact, place, addition, well, seen, practice, lack, able, way, even\n",
            "lion: punishment, september, journal, nobel, actress, concept, british, england, opposed, united\n",
            "africa: europe, india, australia, japan, america, south, china, north, germany, region\n",
            "musician: actress, actor, writer, author, singer, born, addition, football, nine, seven\n",
            "dance: music, concept, country, study, writer, singer, actor, origin, art, contemporary\n",
            "\n",
            "\n"
          ]
        },
        {
          "name": "stderr",
          "output_type": "stream",
          "text": [
            "32580it [13:29, 40.23it/s]\n",
            "0it [00:00, ?it/s]"
          ]
        },
        {
          "name": "stdout",
          "output_type": "stream",
          "text": [
            "| epoch   5 |     0/32580 batches | loss    1.261 \n"
          ]
        },
        {
          "name": "stderr",
          "output_type": "stream",
          "text": [
            "5it [00:01,  4.44it/s]"
          ]
        },
        {
          "name": "stdout",
          "output_type": "stream",
          "text": [
            "money: fact, place, addition, well, seen, practice, lack, able, way, even\n",
            "lion: punishment, september, journal, nobel, actress, concept, british, england, opposed, united\n",
            "africa: europe, india, australia, japan, america, south, china, north, germany, region\n",
            "musician: actress, actor, writer, author, singer, born, addition, football, nine, seven\n",
            "dance: music, concept, country, study, writer, singer, actor, origin, art, contemporary\n",
            "\n",
            "\n"
          ]
        },
        {
          "name": "stderr",
          "output_type": "stream",
          "text": [
            "497it [00:13, 43.07it/s]"
          ]
        },
        {
          "name": "stdout",
          "output_type": "stream",
          "text": [
            "| epoch   5 |   500/32580 batches | loss    1.335 \n"
          ]
        },
        {
          "name": "stderr",
          "output_type": "stream",
          "text": [
            "507it [00:14, 30.73it/s]"
          ]
        },
        {
          "name": "stdout",
          "output_type": "stream",
          "text": [
            "money: fact, place, addition, well, seen, practice, lack, able, way, even\n",
            "lion: punishment, september, journal, nobel, actress, concept, british, england, opposed, united\n",
            "africa: europe, india, australia, japan, america, south, china, north, germany, region\n",
            "musician: actress, actor, writer, author, singer, born, addition, football, nine, seven\n",
            "dance: music, concept, country, study, writer, singer, actor, origin, art, contemporary\n",
            "\n",
            "\n"
          ]
        },
        {
          "name": "stderr",
          "output_type": "stream",
          "text": [
            "999it [00:25, 44.72it/s]"
          ]
        },
        {
          "name": "stdout",
          "output_type": "stream",
          "text": [
            "| epoch   5 |  1000/32580 batches | loss    1.332 \n"
          ]
        },
        {
          "name": "stderr",
          "output_type": "stream",
          "text": [
            "1009it [00:26, 30.89it/s]"
          ]
        },
        {
          "name": "stdout",
          "output_type": "stream",
          "text": [
            "money: fact, place, addition, well, seen, practice, lack, able, way, even\n",
            "lion: punishment, september, journal, nobel, actress, concept, british, england, opposed, united\n",
            "africa: europe, india, australia, japan, america, south, china, north, germany, region\n",
            "musician: actress, actor, writer, author, singer, born, addition, football, nine, seven\n",
            "dance: music, concept, country, study, writer, singer, actor, origin, art, contemporary\n",
            "\n",
            "\n"
          ]
        },
        {
          "name": "stderr",
          "output_type": "stream",
          "text": [
            "1498it [00:38, 41.29it/s]"
          ]
        },
        {
          "name": "stdout",
          "output_type": "stream",
          "text": [
            "| epoch   5 |  1500/32580 batches | loss    1.329 \n"
          ]
        },
        {
          "name": "stderr",
          "output_type": "stream",
          "text": [
            "1508it [00:38, 29.28it/s]"
          ]
        },
        {
          "name": "stdout",
          "output_type": "stream",
          "text": [
            "money: fact, place, addition, well, seen, practice, lack, able, way, even\n",
            "lion: punishment, september, journal, nobel, actress, concept, british, england, opposed, united\n",
            "africa: europe, india, australia, japan, america, south, china, north, germany, region\n",
            "musician: actress, actor, writer, author, singer, born, addition, football, nine, seven\n",
            "dance: music, concept, country, study, writer, singer, actor, origin, art, contemporary\n",
            "\n",
            "\n"
          ]
        },
        {
          "name": "stderr",
          "output_type": "stream",
          "text": [
            "1999it [00:50, 34.89it/s]"
          ]
        },
        {
          "name": "stdout",
          "output_type": "stream",
          "text": [
            "| epoch   5 |  2000/32580 batches | loss    1.331 \n"
          ]
        },
        {
          "name": "stderr",
          "output_type": "stream",
          "text": [
            "\r2003it [00:50, 18.55it/s]"
          ]
        },
        {
          "name": "stdout",
          "output_type": "stream",
          "text": [
            "money: fact, place, addition, well, seen, practice, lack, able, way, even\n",
            "lion: punishment, september, journal, nobel, actress, concept, british, england, opposed, united\n",
            "africa: europe, india, australia, japan, america, south, china, north, germany, region\n",
            "musician: actress, actor, writer, author, singer, born, addition, football, nine, seven\n",
            "dance: music, concept, country, study, writer, singer, actor, origin, art, contemporary\n",
            "\n",
            "\n"
          ]
        },
        {
          "name": "stderr",
          "output_type": "stream",
          "text": [
            "2497it [01:02, 35.99it/s]"
          ]
        },
        {
          "name": "stdout",
          "output_type": "stream",
          "text": [
            "| epoch   5 |  2500/32580 batches | loss    1.329 \n"
          ]
        },
        {
          "name": "stderr",
          "output_type": "stream",
          "text": [
            "2504it [01:02, 21.35it/s]"
          ]
        },
        {
          "name": "stdout",
          "output_type": "stream",
          "text": [
            "money: fact, place, addition, well, seen, practice, lack, able, way, even\n",
            "lion: punishment, september, journal, nobel, actress, concept, british, england, opposed, united\n",
            "africa: europe, india, australia, japan, america, south, china, north, germany, region\n",
            "musician: actress, actor, writer, author, singer, born, addition, football, nine, seven\n",
            "dance: music, concept, country, study, writer, singer, actor, origin, art, contemporary\n",
            "\n",
            "\n"
          ]
        },
        {
          "name": "stderr",
          "output_type": "stream",
          "text": [
            "2996it [01:14, 44.63it/s]"
          ]
        },
        {
          "name": "stdout",
          "output_type": "stream",
          "text": [
            "| epoch   5 |  3000/32580 batches | loss    1.330 \n"
          ]
        },
        {
          "name": "stderr",
          "output_type": "stream",
          "text": [
            "3005it [01:14, 29.68it/s]"
          ]
        },
        {
          "name": "stdout",
          "output_type": "stream",
          "text": [
            "money: fact, place, addition, well, seen, practice, lack, able, way, even\n",
            "lion: punishment, september, journal, nobel, actress, concept, british, england, opposed, united\n",
            "africa: europe, india, australia, japan, america, south, china, north, germany, region\n",
            "musician: actress, actor, writer, author, singer, born, addition, football, nine, seven\n",
            "dance: music, concept, country, study, writer, singer, actor, origin, art, contemporary\n",
            "\n",
            "\n"
          ]
        },
        {
          "name": "stderr",
          "output_type": "stream",
          "text": [
            "3500it [01:26, 44.82it/s]"
          ]
        },
        {
          "name": "stdout",
          "output_type": "stream",
          "text": [
            "| epoch   5 |  3500/32580 batches | loss    1.335 \n"
          ]
        },
        {
          "name": "stderr",
          "output_type": "stream",
          "text": [
            "\r3505it [01:27, 27.45it/s]"
          ]
        },
        {
          "name": "stdout",
          "output_type": "stream",
          "text": [
            "money: fact, place, addition, well, seen, practice, lack, able, way, even\n",
            "lion: punishment, september, journal, nobel, actress, concept, british, england, opposed, united\n",
            "africa: europe, india, australia, japan, america, south, china, north, germany, region\n",
            "musician: actress, actor, writer, author, singer, born, addition, football, nine, seven\n",
            "dance: music, concept, country, study, writer, singer, actor, origin, art, contemporary\n",
            "\n",
            "\n"
          ]
        },
        {
          "name": "stderr",
          "output_type": "stream",
          "text": [
            "4000it [01:39, 44.77it/s]"
          ]
        },
        {
          "name": "stdout",
          "output_type": "stream",
          "text": [
            "| epoch   5 |  4000/32580 batches | loss    1.331 \n"
          ]
        },
        {
          "name": "stderr",
          "output_type": "stream",
          "text": [
            "\r4005it [01:39, 26.65it/s]"
          ]
        },
        {
          "name": "stdout",
          "output_type": "stream",
          "text": [
            "money: fact, place, addition, well, seen, practice, lack, able, way, even\n",
            "lion: punishment, september, journal, nobel, actress, concept, british, england, opposed, united\n",
            "africa: europe, india, australia, japan, america, south, china, north, germany, region\n",
            "musician: actress, actor, writer, author, singer, born, addition, football, nine, seven\n",
            "dance: music, concept, country, study, writer, singer, actor, origin, art, contemporary\n",
            "\n",
            "\n"
          ]
        },
        {
          "name": "stderr",
          "output_type": "stream",
          "text": [
            "4499it [01:51, 44.14it/s]"
          ]
        },
        {
          "name": "stdout",
          "output_type": "stream",
          "text": [
            "| epoch   5 |  4500/32580 batches | loss    1.331 \n"
          ]
        },
        {
          "name": "stderr",
          "output_type": "stream",
          "text": [
            "\r4504it [01:52, 26.85it/s]"
          ]
        },
        {
          "name": "stdout",
          "output_type": "stream",
          "text": [
            "money: fact, place, addition, well, seen, practice, lack, able, way, even\n",
            "lion: punishment, september, journal, nobel, actress, concept, british, england, opposed, united\n",
            "africa: europe, india, australia, japan, america, south, china, north, germany, region\n",
            "musician: actress, actor, writer, author, singer, born, addition, football, nine, seven\n",
            "dance: music, concept, country, study, writer, singer, actor, origin, art, contemporary\n",
            "\n",
            "\n"
          ]
        },
        {
          "name": "stderr",
          "output_type": "stream",
          "text": [
            "5000it [02:04, 44.82it/s]"
          ]
        },
        {
          "name": "stdout",
          "output_type": "stream",
          "text": [
            "| epoch   5 |  5000/32580 batches | loss    1.334 \n"
          ]
        },
        {
          "name": "stderr",
          "output_type": "stream",
          "text": [
            "\r5005it [02:04, 26.82it/s]"
          ]
        },
        {
          "name": "stdout",
          "output_type": "stream",
          "text": [
            "money: fact, place, addition, well, seen, practice, lack, able, way, even\n",
            "lion: punishment, september, journal, nobel, actress, concept, british, england, opposed, united\n",
            "africa: europe, india, australia, japan, america, south, china, north, germany, region\n",
            "musician: actress, actor, writer, author, singer, born, addition, football, nine, seven\n",
            "dance: music, concept, country, study, writer, singer, actor, origin, art, contemporary\n",
            "\n",
            "\n"
          ]
        },
        {
          "name": "stderr",
          "output_type": "stream",
          "text": [
            "5497it [02:16, 44.48it/s]"
          ]
        },
        {
          "name": "stdout",
          "output_type": "stream",
          "text": [
            "| epoch   5 |  5500/32580 batches | loss    1.331 \n"
          ]
        },
        {
          "name": "stderr",
          "output_type": "stream",
          "text": [
            "5506it [02:17, 29.36it/s]"
          ]
        },
        {
          "name": "stdout",
          "output_type": "stream",
          "text": [
            "money: fact, place, addition, well, seen, practice, lack, able, way, even\n",
            "lion: punishment, september, journal, nobel, actress, concept, british, england, opposed, united\n",
            "africa: europe, india, australia, japan, america, south, china, north, germany, region\n",
            "musician: actress, actor, writer, author, singer, born, addition, football, nine, seven\n",
            "dance: music, concept, country, study, writer, singer, actor, origin, art, contemporary\n",
            "\n",
            "\n"
          ]
        },
        {
          "name": "stderr",
          "output_type": "stream",
          "text": [
            "5996it [02:28, 43.36it/s]"
          ]
        },
        {
          "name": "stdout",
          "output_type": "stream",
          "text": [
            "| epoch   5 |  6000/32580 batches | loss    1.330 \n"
          ]
        },
        {
          "name": "stderr",
          "output_type": "stream",
          "text": [
            "6005it [02:29, 26.27it/s]"
          ]
        },
        {
          "name": "stdout",
          "output_type": "stream",
          "text": [
            "money: fact, place, addition, well, seen, practice, lack, able, way, even\n",
            "lion: punishment, september, journal, nobel, actress, concept, british, england, opposed, united\n",
            "africa: europe, india, australia, japan, america, south, china, north, germany, region\n",
            "musician: actress, actor, writer, author, singer, born, addition, football, nine, seven\n",
            "dance: music, concept, country, study, writer, singer, actor, origin, art, contemporary\n",
            "\n",
            "\n"
          ]
        },
        {
          "name": "stderr",
          "output_type": "stream",
          "text": [
            "6498it [02:42, 43.65it/s]"
          ]
        },
        {
          "name": "stdout",
          "output_type": "stream",
          "text": [
            "| epoch   5 |  6500/32580 batches | loss    1.334 \n"
          ]
        },
        {
          "name": "stderr",
          "output_type": "stream",
          "text": [
            "6508it [02:42, 30.89it/s]"
          ]
        },
        {
          "name": "stdout",
          "output_type": "stream",
          "text": [
            "money: fact, place, addition, well, seen, practice, lack, able, way, even\n",
            "lion: punishment, september, journal, nobel, actress, concept, british, england, opposed, united\n",
            "africa: europe, india, australia, japan, america, south, china, north, germany, region\n",
            "musician: actress, actor, writer, author, singer, born, addition, football, nine, seven\n",
            "dance: music, concept, country, study, writer, singer, actor, origin, art, contemporary\n",
            "\n",
            "\n"
          ]
        },
        {
          "name": "stderr",
          "output_type": "stream",
          "text": [
            "6999it [02:54, 34.32it/s]"
          ]
        },
        {
          "name": "stdout",
          "output_type": "stream",
          "text": [
            "| epoch   5 |  7000/32580 batches | loss    1.329 \n"
          ]
        },
        {
          "name": "stderr",
          "output_type": "stream",
          "text": [
            "7007it [02:55, 21.18it/s]"
          ]
        },
        {
          "name": "stdout",
          "output_type": "stream",
          "text": [
            "money: fact, place, addition, well, seen, practice, lack, able, way, even\n",
            "lion: punishment, september, journal, nobel, actress, concept, british, england, opposed, united\n",
            "africa: europe, india, australia, japan, america, south, china, north, germany, region\n",
            "musician: actress, actor, writer, author, singer, born, addition, football, nine, seven\n",
            "dance: music, concept, country, study, writer, singer, actor, origin, art, contemporary\n",
            "\n",
            "\n"
          ]
        },
        {
          "name": "stderr",
          "output_type": "stream",
          "text": [
            "7497it [03:06, 34.96it/s]"
          ]
        },
        {
          "name": "stdout",
          "output_type": "stream",
          "text": [
            "| epoch   5 |  7500/32580 batches | loss    1.332 \n"
          ]
        },
        {
          "name": "stderr",
          "output_type": "stream",
          "text": [
            "7505it [03:06, 22.43it/s]"
          ]
        },
        {
          "name": "stdout",
          "output_type": "stream",
          "text": [
            "money: fact, place, addition, well, seen, practice, lack, able, way, even\n",
            "lion: punishment, september, journal, nobel, actress, concept, british, england, opposed, united\n",
            "africa: europe, india, australia, japan, america, south, china, north, germany, region\n",
            "musician: actress, actor, writer, author, singer, born, addition, football, nine, seven\n",
            "dance: music, concept, country, study, writer, singer, actor, origin, art, contemporary\n",
            "\n",
            "\n"
          ]
        },
        {
          "name": "stderr",
          "output_type": "stream",
          "text": [
            "7997it [03:18, 44.44it/s]"
          ]
        },
        {
          "name": "stdout",
          "output_type": "stream",
          "text": [
            "| epoch   5 |  8000/32580 batches | loss    1.328 \n"
          ]
        },
        {
          "name": "stderr",
          "output_type": "stream",
          "text": [
            "8006it [03:18, 28.87it/s]"
          ]
        },
        {
          "name": "stdout",
          "output_type": "stream",
          "text": [
            "money: fact, place, addition, well, seen, practice, lack, able, way, even\n",
            "lion: punishment, september, journal, nobel, actress, concept, british, england, opposed, united\n",
            "africa: europe, india, australia, japan, america, south, china, north, germany, region\n",
            "musician: actress, actor, writer, author, singer, born, addition, football, nine, seven\n",
            "dance: music, concept, country, study, writer, singer, actor, origin, art, contemporary\n",
            "\n",
            "\n"
          ]
        },
        {
          "name": "stderr",
          "output_type": "stream",
          "text": [
            "8500it [03:30, 43.74it/s]"
          ]
        },
        {
          "name": "stdout",
          "output_type": "stream",
          "text": [
            "| epoch   5 |  8500/32580 batches | loss    1.328 \n"
          ]
        },
        {
          "name": "stderr",
          "output_type": "stream",
          "text": [
            "\r8505it [03:31, 26.81it/s]"
          ]
        },
        {
          "name": "stdout",
          "output_type": "stream",
          "text": [
            "money: fact, place, addition, well, seen, practice, lack, able, way, even\n",
            "lion: punishment, september, journal, nobel, actress, concept, british, england, opposed, united\n",
            "africa: europe, india, australia, japan, america, south, china, north, germany, region\n",
            "musician: actress, actor, writer, author, singer, born, addition, football, nine, seven\n",
            "dance: music, concept, country, study, writer, singer, actor, origin, art, contemporary\n",
            "\n",
            "\n"
          ]
        },
        {
          "name": "stderr",
          "output_type": "stream",
          "text": [
            "9000it [03:43, 44.49it/s]"
          ]
        },
        {
          "name": "stdout",
          "output_type": "stream",
          "text": [
            "| epoch   5 |  9000/32580 batches | loss    1.331 \n"
          ]
        },
        {
          "name": "stderr",
          "output_type": "stream",
          "text": [
            "\r9005it [03:43, 26.87it/s]"
          ]
        },
        {
          "name": "stdout",
          "output_type": "stream",
          "text": [
            "money: fact, place, addition, well, seen, practice, lack, able, way, even\n",
            "lion: punishment, september, journal, nobel, actress, concept, british, england, opposed, united\n",
            "africa: europe, india, australia, japan, america, south, china, north, germany, region\n",
            "musician: actress, actor, writer, author, singer, born, addition, football, nine, seven\n",
            "dance: music, concept, country, study, writer, singer, actor, origin, art, contemporary\n",
            "\n",
            "\n"
          ]
        },
        {
          "name": "stderr",
          "output_type": "stream",
          "text": [
            "9500it [03:55, 45.20it/s]"
          ]
        },
        {
          "name": "stdout",
          "output_type": "stream",
          "text": [
            "| epoch   5 |  9500/32580 batches | loss    1.330 \n"
          ]
        },
        {
          "name": "stderr",
          "output_type": "stream",
          "text": [
            "\r9505it [03:55, 27.17it/s]"
          ]
        },
        {
          "name": "stdout",
          "output_type": "stream",
          "text": [
            "money: fact, place, addition, well, seen, practice, lack, able, way, even\n",
            "lion: punishment, september, journal, nobel, actress, concept, british, england, opposed, united\n",
            "africa: europe, india, australia, japan, america, south, china, north, germany, region\n",
            "musician: actress, actor, writer, author, singer, born, addition, football, nine, seven\n",
            "dance: music, concept, country, study, writer, singer, actor, origin, art, contemporary\n",
            "\n",
            "\n"
          ]
        },
        {
          "name": "stderr",
          "output_type": "stream",
          "text": [
            "9996it [04:07, 44.19it/s]"
          ]
        },
        {
          "name": "stdout",
          "output_type": "stream",
          "text": [
            "| epoch   5 | 10000/32580 batches | loss    1.331 \n"
          ]
        },
        {
          "name": "stderr",
          "output_type": "stream",
          "text": [
            "10005it [04:08, 29.24it/s]"
          ]
        },
        {
          "name": "stdout",
          "output_type": "stream",
          "text": [
            "money: fact, place, addition, well, seen, practice, lack, able, way, even\n",
            "lion: punishment, september, journal, nobel, actress, concept, british, england, opposed, united\n",
            "africa: europe, india, australia, japan, america, south, china, north, germany, region\n",
            "musician: actress, actor, writer, author, singer, born, addition, football, nine, seven\n",
            "dance: music, concept, country, study, writer, singer, actor, origin, art, contemporary\n",
            "\n",
            "\n"
          ]
        },
        {
          "name": "stderr",
          "output_type": "stream",
          "text": [
            "10497it [04:20, 45.15it/s]"
          ]
        },
        {
          "name": "stdout",
          "output_type": "stream",
          "text": [
            "| epoch   5 | 10500/32580 batches | loss    1.329 \n"
          ]
        },
        {
          "name": "stderr",
          "output_type": "stream",
          "text": [
            "10507it [04:20, 30.47it/s]"
          ]
        },
        {
          "name": "stdout",
          "output_type": "stream",
          "text": [
            "money: fact, place, addition, well, seen, practice, lack, able, way, even\n",
            "lion: punishment, september, journal, nobel, actress, concept, british, england, opposed, united\n",
            "africa: europe, india, australia, japan, america, south, china, north, germany, region\n",
            "musician: actress, actor, writer, author, singer, born, addition, football, nine, seven\n",
            "dance: music, concept, country, study, writer, singer, actor, origin, art, contemporary\n",
            "\n",
            "\n"
          ]
        },
        {
          "name": "stderr",
          "output_type": "stream",
          "text": [
            "10998it [04:32, 44.56it/s]"
          ]
        },
        {
          "name": "stdout",
          "output_type": "stream",
          "text": [
            "| epoch   5 | 11000/32580 batches | loss    1.333 \n"
          ]
        },
        {
          "name": "stderr",
          "output_type": "stream",
          "text": [
            "11008it [04:33, 30.23it/s]"
          ]
        },
        {
          "name": "stdout",
          "output_type": "stream",
          "text": [
            "money: fact, place, addition, well, seen, practice, lack, able, way, even\n",
            "lion: punishment, september, journal, nobel, actress, concept, british, england, opposed, united\n",
            "africa: europe, india, australia, japan, america, south, china, north, germany, region\n",
            "musician: actress, actor, writer, author, singer, born, addition, football, nine, seven\n",
            "dance: music, concept, country, study, writer, singer, actor, origin, art, contemporary\n",
            "\n",
            "\n"
          ]
        },
        {
          "name": "stderr",
          "output_type": "stream",
          "text": [
            "11496it [04:45, 39.78it/s]"
          ]
        },
        {
          "name": "stdout",
          "output_type": "stream",
          "text": [
            "| epoch   5 | 11500/32580 batches | loss    1.330 \n"
          ]
        },
        {
          "name": "stderr",
          "output_type": "stream",
          "text": [
            "11505it [04:46, 27.70it/s]"
          ]
        },
        {
          "name": "stdout",
          "output_type": "stream",
          "text": [
            "money: fact, place, addition, well, seen, practice, lack, able, way, even\n",
            "lion: punishment, september, journal, nobel, actress, concept, british, england, opposed, united\n",
            "africa: europe, india, australia, japan, america, south, china, north, germany, region\n",
            "musician: actress, actor, writer, author, singer, born, addition, football, nine, seven\n",
            "dance: music, concept, country, study, writer, singer, actor, origin, art, contemporary\n",
            "\n",
            "\n"
          ]
        },
        {
          "name": "stderr",
          "output_type": "stream",
          "text": [
            "11999it [04:57, 34.26it/s]"
          ]
        },
        {
          "name": "stdout",
          "output_type": "stream",
          "text": [
            "| epoch   5 | 12000/32580 batches | loss    1.329 \n"
          ]
        },
        {
          "name": "stderr",
          "output_type": "stream",
          "text": [
            "\r12003it [04:58, 18.99it/s]"
          ]
        },
        {
          "name": "stdout",
          "output_type": "stream",
          "text": [
            "money: fact, place, addition, well, seen, practice, lack, able, way, even\n",
            "lion: punishment, september, journal, nobel, actress, concept, british, england, opposed, united\n",
            "africa: europe, india, australia, japan, america, south, china, north, germany, region\n",
            "musician: actress, actor, writer, author, singer, born, addition, football, nine, seven\n",
            "dance: music, concept, country, study, writer, singer, actor, origin, art, contemporary\n",
            "\n",
            "\n"
          ]
        },
        {
          "name": "stderr",
          "output_type": "stream",
          "text": [
            "12498it [05:09, 34.34it/s]"
          ]
        },
        {
          "name": "stdout",
          "output_type": "stream",
          "text": [
            "| epoch   5 | 12500/32580 batches | loss    1.332 \n"
          ]
        },
        {
          "name": "stderr",
          "output_type": "stream",
          "text": [
            "12506it [05:10, 21.26it/s]"
          ]
        },
        {
          "name": "stdout",
          "output_type": "stream",
          "text": [
            "money: fact, place, addition, well, seen, practice, lack, able, way, even\n",
            "lion: punishment, september, journal, nobel, actress, concept, british, england, opposed, united\n",
            "africa: europe, india, australia, japan, america, south, china, north, germany, region\n",
            "musician: actress, actor, writer, author, singer, born, addition, football, nine, seven\n",
            "dance: music, concept, country, study, writer, singer, actor, origin, art, contemporary\n",
            "\n",
            "\n"
          ]
        },
        {
          "name": "stderr",
          "output_type": "stream",
          "text": [
            "12996it [05:21, 45.15it/s]"
          ]
        },
        {
          "name": "stdout",
          "output_type": "stream",
          "text": [
            "| epoch   5 | 13000/32580 batches | loss    1.326 \n"
          ]
        },
        {
          "name": "stderr",
          "output_type": "stream",
          "text": [
            "13005it [05:22, 29.90it/s]"
          ]
        },
        {
          "name": "stdout",
          "output_type": "stream",
          "text": [
            "money: fact, place, addition, well, seen, practice, lack, able, way, even\n",
            "lion: punishment, september, journal, nobel, actress, concept, british, england, opposed, united\n",
            "africa: europe, india, australia, japan, america, south, china, north, germany, region\n",
            "musician: actress, actor, writer, author, singer, born, addition, football, nine, seven\n",
            "dance: music, concept, country, study, writer, singer, actor, origin, art, contemporary\n",
            "\n",
            "\n"
          ]
        },
        {
          "name": "stderr",
          "output_type": "stream",
          "text": [
            "13496it [05:34, 44.19it/s]"
          ]
        },
        {
          "name": "stdout",
          "output_type": "stream",
          "text": [
            "| epoch   5 | 13500/32580 batches | loss    1.331 \n"
          ]
        },
        {
          "name": "stderr",
          "output_type": "stream",
          "text": [
            "13505it [05:34, 28.86it/s]"
          ]
        },
        {
          "name": "stdout",
          "output_type": "stream",
          "text": [
            "money: fact, place, addition, well, seen, practice, lack, able, way, even\n",
            "lion: punishment, september, journal, nobel, actress, concept, british, england, opposed, united\n",
            "africa: europe, india, australia, japan, america, south, china, north, germany, region\n",
            "musician: actress, actor, writer, author, singer, born, addition, football, nine, seven\n",
            "dance: music, concept, country, study, writer, singer, actor, origin, art, contemporary\n",
            "\n",
            "\n"
          ]
        },
        {
          "name": "stderr",
          "output_type": "stream",
          "text": [
            "13999it [05:46, 43.14it/s]"
          ]
        },
        {
          "name": "stdout",
          "output_type": "stream",
          "text": [
            "| epoch   5 | 14000/32580 batches | loss    1.329 \n"
          ]
        },
        {
          "name": "stderr",
          "output_type": "stream",
          "text": [
            "14009it [05:47, 30.14it/s]"
          ]
        },
        {
          "name": "stdout",
          "output_type": "stream",
          "text": [
            "money: fact, place, addition, well, seen, practice, lack, able, way, even\n",
            "lion: punishment, september, journal, nobel, actress, concept, british, england, opposed, united\n",
            "africa: europe, india, australia, japan, america, south, china, north, germany, region\n",
            "musician: actress, actor, writer, author, singer, born, addition, football, nine, seven\n",
            "dance: music, concept, country, study, writer, singer, actor, origin, art, contemporary\n",
            "\n",
            "\n"
          ]
        },
        {
          "name": "stderr",
          "output_type": "stream",
          "text": [
            "14500it [05:59, 44.81it/s]"
          ]
        },
        {
          "name": "stdout",
          "output_type": "stream",
          "text": [
            "| epoch   5 | 14500/32580 batches | loss    1.329 \n"
          ]
        },
        {
          "name": "stderr",
          "output_type": "stream",
          "text": [
            "\r14505it [05:59, 27.14it/s]"
          ]
        },
        {
          "name": "stdout",
          "output_type": "stream",
          "text": [
            "money: fact, place, addition, well, seen, practice, lack, able, way, even\n",
            "lion: punishment, september, journal, nobel, actress, concept, british, england, opposed, united\n",
            "africa: europe, india, australia, japan, america, south, china, north, germany, region\n",
            "musician: actress, actor, writer, author, singer, born, addition, football, nine, seven\n",
            "dance: music, concept, country, study, writer, singer, actor, origin, art, contemporary\n",
            "\n",
            "\n"
          ]
        },
        {
          "name": "stderr",
          "output_type": "stream",
          "text": [
            "15000it [06:11, 44.33it/s]"
          ]
        },
        {
          "name": "stdout",
          "output_type": "stream",
          "text": [
            "| epoch   5 | 15000/32580 batches | loss    1.330 \n"
          ]
        },
        {
          "name": "stderr",
          "output_type": "stream",
          "text": [
            "\r15005it [06:11, 26.94it/s]"
          ]
        },
        {
          "name": "stdout",
          "output_type": "stream",
          "text": [
            "money: fact, place, addition, well, seen, practice, lack, able, way, even\n",
            "lion: punishment, september, journal, nobel, actress, concept, british, england, opposed, united\n",
            "africa: europe, india, australia, japan, america, south, china, north, germany, region\n",
            "musician: actress, actor, writer, author, singer, born, addition, football, nine, seven\n",
            "dance: music, concept, country, study, writer, singer, actor, origin, art, contemporary\n",
            "\n",
            "\n"
          ]
        },
        {
          "name": "stderr",
          "output_type": "stream",
          "text": [
            "15500it [06:23, 43.42it/s]"
          ]
        },
        {
          "name": "stdout",
          "output_type": "stream",
          "text": [
            "| epoch   5 | 15500/32580 batches | loss    1.328 \n"
          ]
        },
        {
          "name": "stderr",
          "output_type": "stream",
          "text": [
            "\r15505it [06:24, 27.04it/s]"
          ]
        },
        {
          "name": "stdout",
          "output_type": "stream",
          "text": [
            "money: fact, place, addition, well, seen, practice, lack, able, way, even\n",
            "lion: punishment, september, journal, nobel, actress, concept, british, england, opposed, united\n",
            "africa: europe, india, australia, japan, america, south, china, north, germany, region\n",
            "musician: actress, actor, writer, author, singer, born, addition, football, nine, seven\n",
            "dance: music, concept, country, study, writer, singer, actor, origin, art, contemporary\n",
            "\n",
            "\n"
          ]
        },
        {
          "name": "stderr",
          "output_type": "stream",
          "text": [
            "15999it [06:37, 29.14it/s]"
          ]
        },
        {
          "name": "stdout",
          "output_type": "stream",
          "text": [
            "| epoch   5 | 16000/32580 batches | loss    1.332 \n"
          ]
        },
        {
          "name": "stderr",
          "output_type": "stream",
          "text": [
            "16005it [06:38, 18.80it/s]"
          ]
        },
        {
          "name": "stdout",
          "output_type": "stream",
          "text": [
            "money: fact, place, addition, well, seen, practice, lack, able, way, even\n",
            "lion: punishment, september, journal, nobel, actress, concept, british, england, opposed, united\n",
            "africa: europe, india, australia, japan, america, south, china, north, germany, region\n",
            "musician: actress, actor, writer, author, singer, born, addition, football, nine, seven\n",
            "dance: music, concept, country, study, writer, singer, actor, origin, art, contemporary\n",
            "\n",
            "\n"
          ]
        },
        {
          "name": "stderr",
          "output_type": "stream",
          "text": [
            "16497it [06:49, 33.41it/s]"
          ]
        },
        {
          "name": "stdout",
          "output_type": "stream",
          "text": [
            "| epoch   5 | 16500/32580 batches | loss    1.332 \n"
          ]
        },
        {
          "name": "stderr",
          "output_type": "stream",
          "text": [
            "16505it [06:50, 21.90it/s]"
          ]
        },
        {
          "name": "stdout",
          "output_type": "stream",
          "text": [
            "money: fact, place, addition, well, seen, practice, lack, able, way, even\n",
            "lion: punishment, september, journal, nobel, actress, concept, british, england, opposed, united\n",
            "africa: europe, india, australia, japan, america, south, china, north, germany, region\n",
            "musician: actress, actor, writer, author, singer, born, addition, football, nine, seven\n",
            "dance: music, concept, country, study, writer, singer, actor, origin, art, contemporary\n",
            "\n",
            "\n"
          ]
        },
        {
          "name": "stderr",
          "output_type": "stream",
          "text": [
            "16998it [07:01, 35.90it/s]"
          ]
        },
        {
          "name": "stdout",
          "output_type": "stream",
          "text": [
            "| epoch   5 | 17000/32580 batches | loss    1.332 \n"
          ]
        },
        {
          "name": "stderr",
          "output_type": "stream",
          "text": [
            "17006it [07:02, 22.07it/s]"
          ]
        },
        {
          "name": "stdout",
          "output_type": "stream",
          "text": [
            "money: fact, place, addition, well, seen, practice, lack, able, way, even\n",
            "lion: punishment, september, journal, nobel, actress, concept, british, england, opposed, united\n",
            "africa: europe, india, australia, japan, america, south, china, north, germany, region\n",
            "musician: actress, actor, writer, author, singer, born, addition, football, nine, seven\n",
            "dance: music, concept, country, study, writer, singer, actor, origin, art, contemporary\n",
            "\n",
            "\n"
          ]
        },
        {
          "name": "stderr",
          "output_type": "stream",
          "text": [
            "17497it [07:14, 44.64it/s]"
          ]
        },
        {
          "name": "stdout",
          "output_type": "stream",
          "text": [
            "| epoch   5 | 17500/32580 batches | loss    1.329 \n"
          ]
        },
        {
          "name": "stderr",
          "output_type": "stream",
          "text": [
            "17507it [07:14, 30.69it/s]"
          ]
        },
        {
          "name": "stdout",
          "output_type": "stream",
          "text": [
            "money: fact, place, addition, well, seen, practice, lack, able, way, even\n",
            "lion: punishment, september, journal, nobel, actress, concept, british, england, opposed, united\n",
            "africa: europe, india, australia, japan, america, south, china, north, germany, region\n",
            "musician: actress, actor, writer, author, singer, born, addition, football, nine, seven\n",
            "dance: music, concept, country, study, writer, singer, actor, origin, art, contemporary\n",
            "\n",
            "\n"
          ]
        },
        {
          "name": "stderr",
          "output_type": "stream",
          "text": [
            "17996it [07:26, 45.02it/s]"
          ]
        },
        {
          "name": "stdout",
          "output_type": "stream",
          "text": [
            "| epoch   5 | 18000/32580 batches | loss    1.329 \n"
          ]
        },
        {
          "name": "stderr",
          "output_type": "stream",
          "text": [
            "18005it [07:26, 30.21it/s]"
          ]
        },
        {
          "name": "stdout",
          "output_type": "stream",
          "text": [
            "money: fact, place, addition, well, seen, practice, lack, able, way, even\n",
            "lion: punishment, september, journal, nobel, actress, concept, british, england, opposed, united\n",
            "africa: europe, india, australia, japan, america, south, china, north, germany, region\n",
            "musician: actress, actor, writer, author, singer, born, addition, football, nine, seven\n",
            "dance: music, concept, country, study, writer, singer, actor, origin, art, contemporary\n",
            "\n",
            "\n"
          ]
        },
        {
          "name": "stderr",
          "output_type": "stream",
          "text": [
            "18496it [07:38, 44.01it/s]"
          ]
        },
        {
          "name": "stdout",
          "output_type": "stream",
          "text": [
            "| epoch   5 | 18500/32580 batches | loss    1.332 \n"
          ]
        },
        {
          "name": "stderr",
          "output_type": "stream",
          "text": [
            "18505it [07:39, 29.52it/s]"
          ]
        },
        {
          "name": "stdout",
          "output_type": "stream",
          "text": [
            "money: fact, place, addition, well, seen, practice, lack, able, way, even\n",
            "lion: punishment, september, journal, nobel, actress, concept, british, england, opposed, united\n",
            "africa: europe, india, australia, japan, america, south, china, north, germany, region\n",
            "musician: actress, actor, writer, author, singer, born, addition, football, nine, seven\n",
            "dance: music, concept, country, study, writer, singer, actor, origin, art, contemporary\n",
            "\n",
            "\n"
          ]
        },
        {
          "name": "stderr",
          "output_type": "stream",
          "text": [
            "19000it [07:51, 44.25it/s]"
          ]
        },
        {
          "name": "stdout",
          "output_type": "stream",
          "text": [
            "| epoch   5 | 19000/32580 batches | loss    1.330 \n"
          ]
        },
        {
          "name": "stderr",
          "output_type": "stream",
          "text": [
            "\r19005it [07:51, 27.11it/s]"
          ]
        },
        {
          "name": "stdout",
          "output_type": "stream",
          "text": [
            "money: fact, place, addition, well, seen, practice, lack, able, way, even\n",
            "lion: punishment, september, journal, nobel, actress, concept, british, england, opposed, united\n",
            "africa: europe, india, australia, japan, america, south, china, north, germany, region\n",
            "musician: actress, actor, writer, author, singer, born, addition, football, nine, seven\n",
            "dance: music, concept, country, study, writer, singer, actor, origin, art, contemporary\n",
            "\n",
            "\n"
          ]
        },
        {
          "name": "stderr",
          "output_type": "stream",
          "text": [
            "19497it [08:03, 44.49it/s]"
          ]
        },
        {
          "name": "stdout",
          "output_type": "stream",
          "text": [
            "| epoch   5 | 19500/32580 batches | loss    1.331 \n"
          ]
        },
        {
          "name": "stderr",
          "output_type": "stream",
          "text": [
            "19506it [08:04, 30.27it/s]"
          ]
        },
        {
          "name": "stdout",
          "output_type": "stream",
          "text": [
            "money: fact, place, addition, well, seen, practice, lack, able, way, even\n",
            "lion: punishment, september, journal, nobel, actress, concept, british, england, opposed, united\n",
            "africa: europe, india, australia, japan, america, south, china, north, germany, region\n",
            "musician: actress, actor, writer, author, singer, born, addition, football, nine, seven\n",
            "dance: music, concept, country, study, writer, singer, actor, origin, art, contemporary\n",
            "\n",
            "\n"
          ]
        },
        {
          "name": "stderr",
          "output_type": "stream",
          "text": [
            "19997it [08:16, 44.16it/s]"
          ]
        },
        {
          "name": "stdout",
          "output_type": "stream",
          "text": [
            "| epoch   5 | 20000/32580 batches | loss    1.325 \n"
          ]
        },
        {
          "name": "stderr",
          "output_type": "stream",
          "text": [
            "20006it [08:16, 29.54it/s]"
          ]
        },
        {
          "name": "stdout",
          "output_type": "stream",
          "text": [
            "money: fact, place, addition, well, seen, practice, lack, able, way, even\n",
            "lion: punishment, september, journal, nobel, actress, concept, british, england, opposed, united\n",
            "africa: europe, india, australia, japan, america, south, china, north, germany, region\n",
            "musician: actress, actor, writer, author, singer, born, addition, football, nine, seven\n",
            "dance: music, concept, country, study, writer, singer, actor, origin, art, contemporary\n",
            "\n",
            "\n"
          ]
        },
        {
          "name": "stderr",
          "output_type": "stream",
          "text": [
            "20496it [08:28, 43.96it/s]"
          ]
        },
        {
          "name": "stdout",
          "output_type": "stream",
          "text": [
            "| epoch   5 | 20500/32580 batches | loss    1.331 \n"
          ]
        },
        {
          "name": "stderr",
          "output_type": "stream",
          "text": [
            "20505it [08:28, 28.84it/s]"
          ]
        },
        {
          "name": "stdout",
          "output_type": "stream",
          "text": [
            "money: fact, place, addition, well, seen, practice, lack, able, way, even\n",
            "lion: punishment, september, journal, nobel, actress, concept, british, england, opposed, united\n",
            "africa: europe, india, australia, japan, america, south, china, north, germany, region\n",
            "musician: actress, actor, writer, author, singer, born, addition, football, nine, seven\n",
            "dance: music, concept, country, study, writer, singer, actor, origin, art, contemporary\n",
            "\n",
            "\n"
          ]
        },
        {
          "name": "stderr",
          "output_type": "stream",
          "text": [
            "20998it [08:40, 33.01it/s]"
          ]
        },
        {
          "name": "stdout",
          "output_type": "stream",
          "text": [
            "| epoch   5 | 21000/32580 batches | loss    1.329 \n"
          ]
        },
        {
          "name": "stderr",
          "output_type": "stream",
          "text": [
            "21006it [08:41, 23.49it/s]"
          ]
        },
        {
          "name": "stdout",
          "output_type": "stream",
          "text": [
            "money: fact, place, addition, well, seen, practice, lack, able, way, even\n",
            "lion: punishment, september, journal, nobel, actress, concept, british, england, opposed, united\n",
            "africa: europe, india, australia, japan, america, south, china, north, germany, region\n",
            "musician: actress, actor, writer, author, singer, born, addition, football, nine, seven\n",
            "dance: music, concept, country, study, writer, singer, actor, origin, art, contemporary\n",
            "\n",
            "\n"
          ]
        },
        {
          "name": "stderr",
          "output_type": "stream",
          "text": [
            "21499it [08:52, 35.34it/s]"
          ]
        },
        {
          "name": "stdout",
          "output_type": "stream",
          "text": [
            "| epoch   5 | 21500/32580 batches | loss    1.327 \n"
          ]
        },
        {
          "name": "stderr",
          "output_type": "stream",
          "text": [
            "\r21503it [08:53, 19.10it/s]"
          ]
        },
        {
          "name": "stdout",
          "output_type": "stream",
          "text": [
            "money: fact, place, addition, well, seen, practice, lack, able, way, even\n",
            "lion: punishment, september, journal, nobel, actress, concept, british, england, opposed, united\n",
            "africa: europe, india, australia, japan, america, south, china, north, germany, region\n",
            "musician: actress, actor, writer, author, singer, born, addition, football, nine, seven\n",
            "dance: music, concept, country, study, writer, singer, actor, origin, art, contemporary\n",
            "\n",
            "\n"
          ]
        },
        {
          "name": "stderr",
          "output_type": "stream",
          "text": [
            "21998it [09:08, 33.60it/s]"
          ]
        },
        {
          "name": "stdout",
          "output_type": "stream",
          "text": [
            "| epoch   5 | 22000/32580 batches | loss    1.331 \n"
          ]
        },
        {
          "name": "stderr",
          "output_type": "stream",
          "text": [
            "22006it [09:08, 22.73it/s]"
          ]
        },
        {
          "name": "stdout",
          "output_type": "stream",
          "text": [
            "money: fact, place, addition, well, seen, practice, lack, able, way, even\n",
            "lion: punishment, september, journal, nobel, actress, concept, british, england, opposed, united\n",
            "africa: europe, india, australia, japan, america, south, china, north, germany, region\n",
            "musician: actress, actor, writer, author, singer, born, addition, football, nine, seven\n",
            "dance: music, concept, country, study, writer, singer, actor, origin, art, contemporary\n",
            "\n",
            "\n"
          ]
        },
        {
          "name": "stderr",
          "output_type": "stream",
          "text": [
            "22500it [09:20, 33.79it/s]"
          ]
        },
        {
          "name": "stdout",
          "output_type": "stream",
          "text": [
            "| epoch   5 | 22500/32580 batches | loss    1.333 \n"
          ]
        },
        {
          "name": "stderr",
          "output_type": "stream",
          "text": [
            "\r22504it [09:20, 19.30it/s]"
          ]
        },
        {
          "name": "stdout",
          "output_type": "stream",
          "text": [
            "money: fact, place, addition, well, seen, practice, lack, able, way, even\n",
            "lion: punishment, september, journal, nobel, actress, concept, british, england, opposed, united\n",
            "africa: europe, india, australia, japan, america, south, china, north, germany, region\n",
            "musician: actress, actor, writer, author, singer, born, addition, football, nine, seven\n",
            "dance: music, concept, country, study, writer, singer, actor, origin, art, contemporary\n",
            "\n",
            "\n"
          ]
        },
        {
          "name": "stderr",
          "output_type": "stream",
          "text": [
            "22996it [09:32, 43.96it/s]"
          ]
        },
        {
          "name": "stdout",
          "output_type": "stream",
          "text": [
            "| epoch   5 | 23000/32580 batches | loss    1.332 \n"
          ]
        },
        {
          "name": "stderr",
          "output_type": "stream",
          "text": [
            "23005it [09:32, 25.92it/s]"
          ]
        },
        {
          "name": "stdout",
          "output_type": "stream",
          "text": [
            "money: fact, place, addition, well, seen, practice, lack, able, way, even\n",
            "lion: punishment, september, journal, nobel, actress, concept, british, england, opposed, united\n",
            "africa: europe, india, australia, japan, america, south, china, north, germany, region\n",
            "musician: actress, actor, writer, author, singer, born, addition, football, nine, seven\n",
            "dance: music, concept, country, study, writer, singer, actor, origin, art, contemporary\n",
            "\n",
            "\n"
          ]
        },
        {
          "name": "stderr",
          "output_type": "stream",
          "text": [
            "23500it [09:44, 44.45it/s]"
          ]
        },
        {
          "name": "stdout",
          "output_type": "stream",
          "text": [
            "| epoch   5 | 23500/32580 batches | loss    1.333 \n"
          ]
        },
        {
          "name": "stderr",
          "output_type": "stream",
          "text": [
            "\r23505it [09:45, 26.08it/s]"
          ]
        },
        {
          "name": "stdout",
          "output_type": "stream",
          "text": [
            "money: fact, place, addition, well, seen, practice, lack, able, way, even\n",
            "lion: punishment, september, journal, nobel, actress, concept, british, england, opposed, united\n",
            "africa: europe, india, australia, japan, america, south, china, north, germany, region\n",
            "musician: actress, actor, writer, author, singer, born, addition, football, nine, seven\n",
            "dance: music, concept, country, study, writer, singer, actor, origin, art, contemporary\n",
            "\n",
            "\n"
          ]
        },
        {
          "name": "stderr",
          "output_type": "stream",
          "text": [
            "23996it [09:57, 44.64it/s]"
          ]
        },
        {
          "name": "stdout",
          "output_type": "stream",
          "text": [
            "| epoch   5 | 24000/32580 batches | loss    1.325 \n"
          ]
        },
        {
          "name": "stderr",
          "output_type": "stream",
          "text": [
            "24005it [09:57, 29.77it/s]"
          ]
        },
        {
          "name": "stdout",
          "output_type": "stream",
          "text": [
            "money: fact, place, addition, well, seen, practice, lack, able, way, even\n",
            "lion: punishment, september, journal, nobel, actress, concept, british, england, opposed, united\n",
            "africa: europe, india, australia, japan, america, south, china, north, germany, region\n",
            "musician: actress, actor, writer, author, singer, born, addition, football, nine, seven\n",
            "dance: music, concept, country, study, writer, singer, actor, origin, art, contemporary\n",
            "\n",
            "\n"
          ]
        },
        {
          "name": "stderr",
          "output_type": "stream",
          "text": [
            "24496it [10:09, 44.56it/s]"
          ]
        },
        {
          "name": "stdout",
          "output_type": "stream",
          "text": [
            "| epoch   5 | 24500/32580 batches | loss    1.329 \n"
          ]
        },
        {
          "name": "stderr",
          "output_type": "stream",
          "text": [
            "24505it [10:09, 29.52it/s]"
          ]
        },
        {
          "name": "stdout",
          "output_type": "stream",
          "text": [
            "money: fact, place, addition, well, seen, practice, lack, able, way, even\n",
            "lion: punishment, september, journal, nobel, actress, concept, british, england, opposed, united\n",
            "africa: europe, india, australia, japan, america, south, china, north, germany, region\n",
            "musician: actress, actor, writer, author, singer, born, addition, football, nine, seven\n",
            "dance: music, concept, country, study, writer, singer, actor, origin, art, contemporary\n",
            "\n",
            "\n"
          ]
        },
        {
          "name": "stderr",
          "output_type": "stream",
          "text": [
            "24997it [10:21, 44.94it/s]"
          ]
        },
        {
          "name": "stdout",
          "output_type": "stream",
          "text": [
            "| epoch   5 | 25000/32580 batches | loss    1.332 \n"
          ]
        },
        {
          "name": "stderr",
          "output_type": "stream",
          "text": [
            "25006it [10:22, 29.43it/s]"
          ]
        },
        {
          "name": "stdout",
          "output_type": "stream",
          "text": [
            "money: fact, place, addition, well, seen, practice, lack, able, way, even\n",
            "lion: punishment, september, journal, nobel, actress, concept, british, england, opposed, united\n",
            "africa: europe, india, australia, japan, america, south, china, north, germany, region\n",
            "musician: actress, actor, writer, author, singer, born, addition, football, nine, seven\n",
            "dance: music, concept, country, study, writer, singer, actor, origin, art, contemporary\n",
            "\n",
            "\n"
          ]
        },
        {
          "name": "stderr",
          "output_type": "stream",
          "text": [
            "25499it [10:34, 35.11it/s]"
          ]
        },
        {
          "name": "stdout",
          "output_type": "stream",
          "text": [
            "| epoch   5 | 25500/32580 batches | loss    1.335 \n"
          ]
        },
        {
          "name": "stderr",
          "output_type": "stream",
          "text": [
            "\r25503it [10:34, 18.89it/s]"
          ]
        },
        {
          "name": "stdout",
          "output_type": "stream",
          "text": [
            "money: fact, place, addition, well, seen, practice, lack, able, way, even\n",
            "lion: punishment, september, journal, nobel, actress, concept, british, england, opposed, united\n",
            "africa: europe, india, australia, japan, america, south, china, north, germany, region\n",
            "musician: actress, actor, writer, author, singer, born, addition, football, nine, seven\n",
            "dance: music, concept, country, study, writer, singer, actor, origin, art, contemporary\n",
            "\n",
            "\n"
          ]
        },
        {
          "name": "stderr",
          "output_type": "stream",
          "text": [
            "25999it [10:47, 44.55it/s]"
          ]
        },
        {
          "name": "stdout",
          "output_type": "stream",
          "text": [
            "| epoch   5 | 26000/32580 batches | loss    1.334 \n"
          ]
        },
        {
          "name": "stderr",
          "output_type": "stream",
          "text": [
            "26009it [10:47, 31.29it/s]"
          ]
        },
        {
          "name": "stdout",
          "output_type": "stream",
          "text": [
            "money: fact, place, addition, well, seen, practice, lack, able, way, even\n",
            "lion: punishment, september, journal, nobel, actress, concept, british, england, opposed, united\n",
            "africa: europe, india, australia, japan, america, south, china, north, germany, region\n",
            "musician: actress, actor, writer, author, singer, born, addition, football, nine, seven\n",
            "dance: music, concept, country, study, writer, singer, actor, origin, art, contemporary\n",
            "\n",
            "\n"
          ]
        },
        {
          "name": "stderr",
          "output_type": "stream",
          "text": [
            "26499it [10:59, 44.96it/s]"
          ]
        },
        {
          "name": "stdout",
          "output_type": "stream",
          "text": [
            "| epoch   5 | 26500/32580 batches | loss    1.332 \n"
          ]
        },
        {
          "name": "stderr",
          "output_type": "stream",
          "text": [
            "26509it [11:00, 30.86it/s]"
          ]
        },
        {
          "name": "stdout",
          "output_type": "stream",
          "text": [
            "money: fact, place, addition, well, seen, practice, lack, able, way, even\n",
            "lion: punishment, september, journal, nobel, actress, concept, british, england, opposed, united\n",
            "africa: europe, india, australia, japan, america, south, china, north, germany, region\n",
            "musician: actress, actor, writer, author, singer, born, addition, football, nine, seven\n",
            "dance: music, concept, country, study, writer, singer, actor, origin, art, contemporary\n",
            "\n",
            "\n"
          ]
        },
        {
          "name": "stderr",
          "output_type": "stream",
          "text": [
            "27000it [11:12, 37.47it/s]"
          ]
        },
        {
          "name": "stdout",
          "output_type": "stream",
          "text": [
            "| epoch   5 | 27000/32580 batches | loss    1.331 \n"
          ]
        },
        {
          "name": "stderr",
          "output_type": "stream",
          "text": [
            "27009it [11:12, 27.61it/s]"
          ]
        },
        {
          "name": "stdout",
          "output_type": "stream",
          "text": [
            "money: fact, place, addition, well, seen, practice, lack, able, way, even\n",
            "lion: punishment, september, journal, nobel, actress, concept, british, england, opposed, united\n",
            "africa: europe, india, australia, japan, america, south, china, north, germany, region\n",
            "musician: actress, actor, writer, author, singer, born, addition, football, nine, seven\n",
            "dance: music, concept, country, study, writer, singer, actor, origin, art, contemporary\n",
            "\n",
            "\n"
          ]
        },
        {
          "name": "stderr",
          "output_type": "stream",
          "text": [
            "27498it [11:24, 35.00it/s]"
          ]
        },
        {
          "name": "stdout",
          "output_type": "stream",
          "text": [
            "| epoch   5 | 27500/32580 batches | loss    1.333 \n"
          ]
        },
        {
          "name": "stderr",
          "output_type": "stream",
          "text": [
            "27506it [11:24, 21.38it/s]"
          ]
        },
        {
          "name": "stdout",
          "output_type": "stream",
          "text": [
            "money: fact, place, addition, well, seen, practice, lack, able, way, even\n",
            "lion: punishment, september, journal, nobel, actress, concept, british, england, opposed, united\n",
            "africa: europe, india, australia, japan, america, south, china, north, germany, region\n",
            "musician: actress, actor, writer, author, singer, born, addition, football, nine, seven\n",
            "dance: music, concept, country, study, writer, singer, actor, origin, art, contemporary\n",
            "\n",
            "\n"
          ]
        },
        {
          "name": "stderr",
          "output_type": "stream",
          "text": [
            "28000it [11:36, 37.43it/s]"
          ]
        },
        {
          "name": "stdout",
          "output_type": "stream",
          "text": [
            "| epoch   5 | 28000/32580 batches | loss    1.333 \n"
          ]
        },
        {
          "name": "stderr",
          "output_type": "stream",
          "text": [
            "\r28004it [11:36, 19.58it/s]"
          ]
        },
        {
          "name": "stdout",
          "output_type": "stream",
          "text": [
            "money: fact, place, addition, well, seen, practice, lack, able, way, even\n",
            "lion: punishment, september, journal, nobel, actress, concept, british, england, opposed, united\n",
            "africa: europe, india, australia, japan, america, south, china, north, germany, region\n",
            "musician: actress, actor, writer, author, singer, born, addition, football, nine, seven\n",
            "dance: music, concept, country, study, writer, singer, actor, origin, art, contemporary\n",
            "\n",
            "\n"
          ]
        },
        {
          "name": "stderr",
          "output_type": "stream",
          "text": [
            "28498it [11:48, 44.41it/s]"
          ]
        },
        {
          "name": "stdout",
          "output_type": "stream",
          "text": [
            "| epoch   5 | 28500/32580 batches | loss    1.331 \n"
          ]
        },
        {
          "name": "stderr",
          "output_type": "stream",
          "text": [
            "28507it [11:49, 29.11it/s]"
          ]
        },
        {
          "name": "stdout",
          "output_type": "stream",
          "text": [
            "money: fact, place, addition, well, seen, practice, lack, able, way, even\n",
            "lion: punishment, september, journal, nobel, actress, concept, british, england, opposed, united\n",
            "africa: europe, india, australia, japan, america, south, china, north, germany, region\n",
            "musician: actress, actor, writer, author, singer, born, addition, football, nine, seven\n",
            "dance: music, concept, country, study, writer, singer, actor, origin, art, contemporary\n",
            "\n",
            "\n"
          ]
        },
        {
          "name": "stderr",
          "output_type": "stream",
          "text": [
            "28997it [12:00, 44.08it/s]"
          ]
        },
        {
          "name": "stdout",
          "output_type": "stream",
          "text": [
            "| epoch   5 | 29000/32580 batches | loss    1.332 \n"
          ]
        },
        {
          "name": "stderr",
          "output_type": "stream",
          "text": [
            "29007it [12:01, 30.25it/s]"
          ]
        },
        {
          "name": "stdout",
          "output_type": "stream",
          "text": [
            "money: fact, place, addition, well, seen, practice, lack, able, way, even\n",
            "lion: punishment, september, journal, nobel, actress, concept, british, england, opposed, united\n",
            "africa: europe, india, australia, japan, america, south, china, north, germany, region\n",
            "musician: actress, actor, writer, author, singer, born, addition, football, nine, seven\n",
            "dance: music, concept, country, study, writer, singer, actor, origin, art, contemporary\n",
            "\n",
            "\n"
          ]
        },
        {
          "name": "stderr",
          "output_type": "stream",
          "text": [
            "29498it [12:13, 44.81it/s]"
          ]
        },
        {
          "name": "stdout",
          "output_type": "stream",
          "text": [
            "| epoch   5 | 29500/32580 batches | loss    1.329 \n"
          ]
        },
        {
          "name": "stderr",
          "output_type": "stream",
          "text": [
            "29508it [12:13, 30.96it/s]"
          ]
        },
        {
          "name": "stdout",
          "output_type": "stream",
          "text": [
            "money: fact, place, addition, well, seen, practice, lack, able, way, even\n",
            "lion: punishment, september, journal, nobel, actress, concept, british, england, opposed, united\n",
            "africa: europe, india, australia, japan, america, south, china, north, germany, region\n",
            "musician: actress, actor, writer, author, singer, born, addition, football, nine, seven\n",
            "dance: music, concept, country, study, writer, singer, actor, origin, art, contemporary\n",
            "\n",
            "\n"
          ]
        },
        {
          "name": "stderr",
          "output_type": "stream",
          "text": [
            "29999it [12:25, 44.05it/s]"
          ]
        },
        {
          "name": "stdout",
          "output_type": "stream",
          "text": [
            "| epoch   5 | 30000/32580 batches | loss    1.329 \n"
          ]
        },
        {
          "name": "stderr",
          "output_type": "stream",
          "text": [
            "\r30004it [12:26, 27.31it/s]"
          ]
        },
        {
          "name": "stdout",
          "output_type": "stream",
          "text": [
            "money: fact, place, addition, well, seen, practice, lack, able, way, even\n",
            "lion: punishment, september, journal, nobel, actress, concept, british, england, opposed, united\n",
            "africa: europe, india, australia, japan, america, south, china, north, germany, region\n",
            "musician: actress, actor, writer, author, singer, born, addition, football, nine, seven\n",
            "dance: music, concept, country, study, writer, singer, actor, origin, art, contemporary\n",
            "\n",
            "\n"
          ]
        },
        {
          "name": "stderr",
          "output_type": "stream",
          "text": [
            "30496it [12:38, 43.78it/s]"
          ]
        },
        {
          "name": "stdout",
          "output_type": "stream",
          "text": [
            "| epoch   5 | 30500/32580 batches | loss    1.328 \n"
          ]
        },
        {
          "name": "stderr",
          "output_type": "stream",
          "text": [
            "30505it [12:38, 29.53it/s]"
          ]
        },
        {
          "name": "stdout",
          "output_type": "stream",
          "text": [
            "money: fact, place, addition, well, seen, practice, lack, able, way, even\n",
            "lion: punishment, september, journal, nobel, actress, concept, british, england, opposed, united\n",
            "africa: europe, india, australia, japan, america, south, china, north, germany, region\n",
            "musician: actress, actor, writer, author, singer, born, addition, football, nine, seven\n",
            "dance: music, concept, country, study, writer, singer, actor, origin, art, contemporary\n",
            "\n",
            "\n"
          ]
        },
        {
          "name": "stderr",
          "output_type": "stream",
          "text": [
            "30999it [12:50, 44.11it/s]"
          ]
        },
        {
          "name": "stdout",
          "output_type": "stream",
          "text": [
            "| epoch   5 | 31000/32580 batches | loss    1.335 \n"
          ]
        },
        {
          "name": "stderr",
          "output_type": "stream",
          "text": [
            "31009it [12:51, 31.00it/s]"
          ]
        },
        {
          "name": "stdout",
          "output_type": "stream",
          "text": [
            "money: fact, place, addition, well, seen, practice, lack, able, way, even\n",
            "lion: punishment, september, journal, nobel, actress, concept, british, england, opposed, united\n",
            "africa: europe, india, australia, japan, america, south, china, north, germany, region\n",
            "musician: actress, actor, writer, author, singer, born, addition, football, nine, seven\n",
            "dance: music, concept, country, study, writer, singer, actor, origin, art, contemporary\n",
            "\n",
            "\n"
          ]
        },
        {
          "name": "stderr",
          "output_type": "stream",
          "text": [
            "31500it [13:03, 43.78it/s]"
          ]
        },
        {
          "name": "stdout",
          "output_type": "stream",
          "text": [
            "| epoch   5 | 31500/32580 batches | loss    1.328 \n"
          ]
        },
        {
          "name": "stderr",
          "output_type": "stream",
          "text": [
            "\r31505it [13:03, 27.11it/s]"
          ]
        },
        {
          "name": "stdout",
          "output_type": "stream",
          "text": [
            "money: fact, place, addition, well, seen, practice, lack, able, way, even\n",
            "lion: punishment, september, journal, nobel, actress, concept, british, england, opposed, united\n",
            "africa: europe, india, australia, japan, america, south, china, north, germany, region\n",
            "musician: actress, actor, writer, author, singer, born, addition, football, nine, seven\n",
            "dance: music, concept, country, study, writer, singer, actor, origin, art, contemporary\n",
            "\n",
            "\n"
          ]
        },
        {
          "name": "stderr",
          "output_type": "stream",
          "text": [
            "31997it [13:15, 34.38it/s]"
          ]
        },
        {
          "name": "stdout",
          "output_type": "stream",
          "text": [
            "| epoch   5 | 32000/32580 batches | loss    1.330 \n"
          ]
        },
        {
          "name": "stderr",
          "output_type": "stream",
          "text": [
            "32005it [13:15, 25.57it/s]"
          ]
        },
        {
          "name": "stdout",
          "output_type": "stream",
          "text": [
            "money: fact, place, addition, well, seen, practice, lack, able, way, even\n",
            "lion: punishment, september, journal, nobel, actress, concept, british, england, opposed, united\n",
            "africa: europe, india, australia, japan, america, south, china, north, germany, region\n",
            "musician: actress, actor, writer, author, singer, born, addition, football, nine, seven\n",
            "dance: music, concept, country, study, writer, singer, actor, origin, art, contemporary\n",
            "\n",
            "\n"
          ]
        },
        {
          "name": "stderr",
          "output_type": "stream",
          "text": [
            "32499it [13:27, 32.89it/s]"
          ]
        },
        {
          "name": "stdout",
          "output_type": "stream",
          "text": [
            "| epoch   5 | 32500/32580 batches | loss    1.332 \n"
          ]
        },
        {
          "name": "stderr",
          "output_type": "stream",
          "text": [
            "32506it [13:28, 20.11it/s]"
          ]
        },
        {
          "name": "stdout",
          "output_type": "stream",
          "text": [
            "money: fact, place, addition, well, seen, practice, lack, able, way, even\n",
            "lion: punishment, september, journal, nobel, actress, concept, british, england, opposed, united\n",
            "africa: europe, india, australia, japan, america, south, china, north, germany, region\n",
            "musician: actress, actor, writer, author, singer, born, addition, football, nine, seven\n",
            "dance: music, concept, country, study, writer, singer, actor, origin, art, contemporary\n",
            "\n",
            "\n"
          ]
        },
        {
          "name": "stderr",
          "output_type": "stream",
          "text": [
            "32580it [13:31, 40.17it/s]\n",
            "0it [00:00, ?it/s]"
          ]
        },
        {
          "name": "stdout",
          "output_type": "stream",
          "text": [
            "| epoch   6 |     0/32580 batches | loss    1.323 \n"
          ]
        },
        {
          "name": "stderr",
          "output_type": "stream",
          "text": [
            "5it [00:01,  4.70it/s]"
          ]
        },
        {
          "name": "stdout",
          "output_type": "stream",
          "text": [
            "money: fact, place, addition, well, seen, practice, lack, able, way, even\n",
            "lion: punishment, september, journal, nobel, actress, concept, british, england, opposed, united\n",
            "africa: europe, india, australia, japan, america, south, china, north, germany, region\n",
            "musician: actress, actor, writer, author, singer, born, addition, football, nine, seven\n",
            "dance: music, concept, country, study, writer, singer, actor, origin, art, contemporary\n",
            "\n",
            "\n"
          ]
        },
        {
          "name": "stderr",
          "output_type": "stream",
          "text": [
            "498it [00:13, 44.26it/s]"
          ]
        },
        {
          "name": "stdout",
          "output_type": "stream",
          "text": [
            "| epoch   6 |   500/32580 batches | loss    1.338 \n"
          ]
        },
        {
          "name": "stderr",
          "output_type": "stream",
          "text": [
            "507it [00:14, 29.43it/s]"
          ]
        },
        {
          "name": "stdout",
          "output_type": "stream",
          "text": [
            "money: fact, place, addition, well, seen, practice, lack, able, way, even\n",
            "lion: punishment, september, journal, nobel, actress, concept, british, england, opposed, united\n",
            "africa: europe, india, australia, japan, america, south, china, north, germany, region\n",
            "musician: actress, actor, writer, author, singer, born, addition, football, nine, seven\n",
            "dance: music, concept, country, study, writer, singer, actor, origin, art, contemporary\n",
            "\n",
            "\n"
          ]
        },
        {
          "name": "stderr",
          "output_type": "stream",
          "text": [
            "998it [00:26, 39.75it/s]"
          ]
        },
        {
          "name": "stdout",
          "output_type": "stream",
          "text": [
            "| epoch   6 |  1000/32580 batches | loss    1.331 \n"
          ]
        },
        {
          "name": "stderr",
          "output_type": "stream",
          "text": [
            "1006it [00:26, 27.74it/s]"
          ]
        },
        {
          "name": "stdout",
          "output_type": "stream",
          "text": [
            "money: fact, place, addition, well, seen, practice, lack, able, way, even\n",
            "lion: punishment, september, journal, nobel, actress, concept, british, england, opposed, united\n",
            "africa: europe, india, australia, japan, america, south, china, north, germany, region\n",
            "musician: actress, actor, writer, author, singer, born, addition, football, nine, seven\n",
            "dance: music, concept, country, study, writer, singer, actor, origin, art, contemporary\n",
            "\n",
            "\n"
          ]
        },
        {
          "name": "stderr",
          "output_type": "stream",
          "text": [
            "1496it [00:41, 44.93it/s]"
          ]
        },
        {
          "name": "stdout",
          "output_type": "stream",
          "text": [
            "| epoch   6 |  1500/32580 batches | loss    1.329 \n"
          ]
        },
        {
          "name": "stderr",
          "output_type": "stream",
          "text": [
            "1505it [00:41, 30.17it/s]"
          ]
        },
        {
          "name": "stdout",
          "output_type": "stream",
          "text": [
            "money: fact, place, addition, well, seen, practice, lack, able, way, even\n",
            "lion: punishment, september, journal, nobel, actress, concept, british, england, opposed, united\n",
            "africa: europe, india, australia, japan, america, south, china, north, germany, region\n",
            "musician: actress, actor, writer, author, singer, born, addition, football, nine, seven\n",
            "dance: music, concept, country, study, writer, singer, actor, origin, art, contemporary\n",
            "\n",
            "\n"
          ]
        },
        {
          "name": "stderr",
          "output_type": "stream",
          "text": [
            "1996it [00:53, 39.44it/s]"
          ]
        },
        {
          "name": "stdout",
          "output_type": "stream",
          "text": [
            "| epoch   6 |  2000/32580 batches | loss    1.333 \n"
          ]
        },
        {
          "name": "stderr",
          "output_type": "stream",
          "text": [
            "2005it [00:53, 27.73it/s]"
          ]
        },
        {
          "name": "stdout",
          "output_type": "stream",
          "text": [
            "money: fact, place, addition, well, seen, practice, lack, able, way, even\n",
            "lion: punishment, september, journal, nobel, actress, concept, british, england, opposed, united\n",
            "africa: europe, india, australia, japan, america, south, china, north, germany, region\n",
            "musician: actress, actor, writer, author, singer, born, addition, football, nine, seven\n",
            "dance: music, concept, country, study, writer, singer, actor, origin, art, contemporary\n",
            "\n",
            "\n"
          ]
        },
        {
          "name": "stderr",
          "output_type": "stream",
          "text": [
            "2497it [01:05, 34.61it/s]"
          ]
        },
        {
          "name": "stdout",
          "output_type": "stream",
          "text": [
            "| epoch   6 |  2500/32580 batches | loss    1.329 \n"
          ]
        },
        {
          "name": "stderr",
          "output_type": "stream",
          "text": [
            "2504it [01:06, 20.44it/s]"
          ]
        },
        {
          "name": "stdout",
          "output_type": "stream",
          "text": [
            "money: fact, place, addition, well, seen, practice, lack, able, way, even\n",
            "lion: punishment, september, journal, nobel, actress, concept, british, england, opposed, united\n",
            "africa: europe, india, australia, japan, america, south, china, north, germany, region\n",
            "musician: actress, actor, writer, author, singer, born, addition, football, nine, seven\n",
            "dance: music, concept, country, study, writer, singer, actor, origin, art, contemporary\n",
            "\n",
            "\n"
          ]
        },
        {
          "name": "stderr",
          "output_type": "stream",
          "text": [
            "3000it [01:18, 34.02it/s]"
          ]
        },
        {
          "name": "stdout",
          "output_type": "stream",
          "text": [
            "| epoch   6 |  3000/32580 batches | loss    1.330 \n"
          ]
        },
        {
          "name": "stderr",
          "output_type": "stream",
          "text": [
            "\r3004it [01:19, 18.78it/s]"
          ]
        },
        {
          "name": "stdout",
          "output_type": "stream",
          "text": [
            "money: fact, place, addition, well, seen, practice, lack, able, way, even\n",
            "lion: punishment, september, journal, nobel, actress, concept, british, england, opposed, united\n",
            "africa: europe, india, australia, japan, america, south, china, north, germany, region\n",
            "musician: actress, actor, writer, author, singer, born, addition, football, nine, seven\n",
            "dance: music, concept, country, study, writer, singer, actor, origin, art, contemporary\n",
            "\n",
            "\n"
          ]
        },
        {
          "name": "stderr",
          "output_type": "stream",
          "text": [
            "3496it [01:30, 40.24it/s]"
          ]
        },
        {
          "name": "stdout",
          "output_type": "stream",
          "text": [
            "| epoch   6 |  3500/32580 batches | loss    1.332 \n"
          ]
        },
        {
          "name": "stderr",
          "output_type": "stream",
          "text": [
            "3505it [01:31, 24.01it/s]"
          ]
        },
        {
          "name": "stdout",
          "output_type": "stream",
          "text": [
            "money: fact, place, addition, well, seen, practice, lack, able, way, even\n",
            "lion: punishment, september, journal, nobel, actress, concept, british, england, opposed, united\n",
            "africa: europe, india, australia, japan, america, south, china, north, germany, region\n",
            "musician: actress, actor, writer, author, singer, born, addition, football, nine, seven\n",
            "dance: music, concept, country, study, writer, singer, actor, origin, art, contemporary\n",
            "\n",
            "\n"
          ]
        },
        {
          "name": "stderr",
          "output_type": "stream",
          "text": [
            "3997it [01:43, 44.40it/s]"
          ]
        },
        {
          "name": "stdout",
          "output_type": "stream",
          "text": [
            "| epoch   6 |  4000/32580 batches | loss    1.327 \n"
          ]
        },
        {
          "name": "stderr",
          "output_type": "stream",
          "text": [
            "4006it [01:43, 29.38it/s]"
          ]
        },
        {
          "name": "stdout",
          "output_type": "stream",
          "text": [
            "money: fact, place, addition, well, seen, practice, lack, able, way, even\n",
            "lion: punishment, september, journal, nobel, actress, concept, british, england, opposed, united\n",
            "africa: europe, india, australia, japan, america, south, china, north, germany, region\n",
            "musician: actress, actor, writer, author, singer, born, addition, football, nine, seven\n",
            "dance: music, concept, country, study, writer, singer, actor, origin, art, contemporary\n",
            "\n",
            "\n"
          ]
        },
        {
          "name": "stderr",
          "output_type": "stream",
          "text": [
            "4496it [01:55, 43.73it/s]"
          ]
        },
        {
          "name": "stdout",
          "output_type": "stream",
          "text": [
            "| epoch   6 |  4500/32580 batches | loss    1.331 \n"
          ]
        },
        {
          "name": "stderr",
          "output_type": "stream",
          "text": [
            "4505it [01:55, 28.44it/s]"
          ]
        },
        {
          "name": "stdout",
          "output_type": "stream",
          "text": [
            "money: fact, place, addition, well, seen, practice, lack, able, way, even\n",
            "lion: punishment, september, journal, nobel, actress, concept, british, england, opposed, united\n",
            "africa: europe, india, australia, japan, america, south, china, north, germany, region\n",
            "musician: actress, actor, writer, author, singer, born, addition, football, nine, seven\n",
            "dance: music, concept, country, study, writer, singer, actor, origin, art, contemporary\n",
            "\n",
            "\n"
          ]
        },
        {
          "name": "stderr",
          "output_type": "stream",
          "text": [
            "4996it [02:08, 42.31it/s]"
          ]
        },
        {
          "name": "stdout",
          "output_type": "stream",
          "text": [
            "| epoch   6 |  5000/32580 batches | loss    1.331 \n"
          ]
        },
        {
          "name": "stderr",
          "output_type": "stream",
          "text": [
            "5005it [02:08, 28.99it/s]"
          ]
        },
        {
          "name": "stdout",
          "output_type": "stream",
          "text": [
            "money: fact, place, addition, well, seen, practice, lack, able, way, even\n",
            "lion: punishment, september, journal, nobel, actress, concept, british, england, opposed, united\n",
            "africa: europe, india, australia, japan, america, south, china, north, germany, region\n",
            "musician: actress, actor, writer, author, singer, born, addition, football, nine, seven\n",
            "dance: music, concept, country, study, writer, singer, actor, origin, art, contemporary\n",
            "\n",
            "\n"
          ]
        },
        {
          "name": "stderr",
          "output_type": "stream",
          "text": [
            "5496it [02:20, 43.93it/s]"
          ]
        },
        {
          "name": "stdout",
          "output_type": "stream",
          "text": [
            "| epoch   6 |  5500/32580 batches | loss    1.333 \n"
          ]
        },
        {
          "name": "stderr",
          "output_type": "stream",
          "text": [
            "5505it [02:21, 29.65it/s]"
          ]
        },
        {
          "name": "stdout",
          "output_type": "stream",
          "text": [
            "money: fact, place, addition, well, seen, practice, lack, able, way, even\n",
            "lion: punishment, september, journal, nobel, actress, concept, british, england, opposed, united\n",
            "africa: europe, india, australia, japan, america, south, china, north, germany, region\n",
            "musician: actress, actor, writer, author, singer, born, addition, football, nine, seven\n",
            "dance: music, concept, country, study, writer, singer, actor, origin, art, contemporary\n",
            "\n",
            "\n"
          ]
        },
        {
          "name": "stderr",
          "output_type": "stream",
          "text": [
            "6000it [02:33, 44.76it/s]"
          ]
        },
        {
          "name": "stdout",
          "output_type": "stream",
          "text": [
            "| epoch   6 |  6000/32580 batches | loss    1.332 \n"
          ]
        },
        {
          "name": "stderr",
          "output_type": "stream",
          "text": [
            "\r6005it [02:33, 26.94it/s]"
          ]
        },
        {
          "name": "stdout",
          "output_type": "stream",
          "text": [
            "money: fact, place, addition, well, seen, practice, lack, able, way, even\n",
            "lion: punishment, september, journal, nobel, actress, concept, british, england, opposed, united\n",
            "africa: europe, india, australia, japan, america, south, china, north, germany, region\n",
            "musician: actress, actor, writer, author, singer, born, addition, football, nine, seven\n",
            "dance: music, concept, country, study, writer, singer, actor, origin, art, contemporary\n",
            "\n",
            "\n"
          ]
        },
        {
          "name": "stderr",
          "output_type": "stream",
          "text": [
            "6496it [02:45, 44.96it/s]"
          ]
        },
        {
          "name": "stdout",
          "output_type": "stream",
          "text": [
            "| epoch   6 |  6500/32580 batches | loss    1.329 \n"
          ]
        },
        {
          "name": "stderr",
          "output_type": "stream",
          "text": [
            "6505it [02:46, 29.74it/s]"
          ]
        },
        {
          "name": "stdout",
          "output_type": "stream",
          "text": [
            "money: fact, place, addition, well, seen, practice, lack, able, way, even\n",
            "lion: punishment, september, journal, nobel, actress, concept, british, england, opposed, united\n",
            "africa: europe, india, australia, japan, america, south, china, north, germany, region\n",
            "musician: actress, actor, writer, author, singer, born, addition, football, nine, seven\n",
            "dance: music, concept, country, study, writer, singer, actor, origin, art, contemporary\n",
            "\n",
            "\n"
          ]
        },
        {
          "name": "stderr",
          "output_type": "stream",
          "text": [
            "6996it [02:57, 44.30it/s]"
          ]
        },
        {
          "name": "stdout",
          "output_type": "stream",
          "text": [
            "| epoch   6 |  7000/32580 batches | loss    1.330 \n"
          ]
        },
        {
          "name": "stderr",
          "output_type": "stream",
          "text": [
            "7005it [02:58, 29.56it/s]"
          ]
        },
        {
          "name": "stdout",
          "output_type": "stream",
          "text": [
            "money: fact, place, addition, well, seen, practice, lack, able, way, even\n",
            "lion: punishment, september, journal, nobel, actress, concept, british, england, opposed, united\n",
            "africa: europe, india, australia, japan, america, south, china, north, germany, region\n",
            "musician: actress, actor, writer, author, singer, born, addition, football, nine, seven\n",
            "dance: music, concept, country, study, writer, singer, actor, origin, art, contemporary\n",
            "\n",
            "\n"
          ]
        },
        {
          "name": "stderr",
          "output_type": "stream",
          "text": [
            "7496it [03:10, 33.94it/s]"
          ]
        },
        {
          "name": "stdout",
          "output_type": "stream",
          "text": [
            "| epoch   6 |  7500/32580 batches | loss    1.329 \n"
          ]
        },
        {
          "name": "stderr",
          "output_type": "stream",
          "text": [
            "7505it [03:10, 25.51it/s]"
          ]
        },
        {
          "name": "stdout",
          "output_type": "stream",
          "text": [
            "money: fact, place, addition, well, seen, practice, lack, able, way, even\n",
            "lion: punishment, september, journal, nobel, actress, concept, british, england, opposed, united\n",
            "africa: europe, india, australia, japan, america, south, china, north, germany, region\n",
            "musician: actress, actor, writer, author, singer, born, addition, football, nine, seven\n",
            "dance: music, concept, country, study, writer, singer, actor, origin, art, contemporary\n",
            "\n",
            "\n"
          ]
        },
        {
          "name": "stderr",
          "output_type": "stream",
          "text": [
            "7999it [03:22, 33.46it/s]"
          ]
        },
        {
          "name": "stdout",
          "output_type": "stream",
          "text": [
            "| epoch   6 |  8000/32580 batches | loss    1.333 \n"
          ]
        },
        {
          "name": "stderr",
          "output_type": "stream",
          "text": [
            "8007it [03:23, 21.57it/s]"
          ]
        },
        {
          "name": "stdout",
          "output_type": "stream",
          "text": [
            "money: fact, place, addition, well, seen, practice, lack, able, way, even\n",
            "lion: punishment, september, journal, nobel, actress, concept, british, england, opposed, united\n",
            "africa: europe, india, australia, japan, america, south, china, north, germany, region\n",
            "musician: actress, actor, writer, author, singer, born, addition, football, nine, seven\n",
            "dance: music, concept, country, study, writer, singer, actor, origin, art, contemporary\n",
            "\n",
            "\n"
          ]
        },
        {
          "name": "stderr",
          "output_type": "stream",
          "text": [
            "8497it [03:34, 37.90it/s]"
          ]
        },
        {
          "name": "stdout",
          "output_type": "stream",
          "text": [
            "| epoch   6 |  8500/32580 batches | loss    1.331 \n"
          ]
        },
        {
          "name": "stderr",
          "output_type": "stream",
          "text": [
            "8504it [03:35, 23.36it/s]"
          ]
        },
        {
          "name": "stdout",
          "output_type": "stream",
          "text": [
            "money: fact, place, addition, well, seen, practice, lack, able, way, even\n",
            "lion: punishment, september, journal, nobel, actress, concept, british, england, opposed, united\n",
            "africa: europe, india, australia, japan, america, south, china, north, germany, region\n",
            "musician: actress, actor, writer, author, singer, born, addition, football, nine, seven\n",
            "dance: music, concept, country, study, writer, singer, actor, origin, art, contemporary\n",
            "\n",
            "\n"
          ]
        },
        {
          "name": "stderr",
          "output_type": "stream",
          "text": [
            "9000it [03:47, 44.59it/s]"
          ]
        },
        {
          "name": "stdout",
          "output_type": "stream",
          "text": [
            "| epoch   6 |  9000/32580 batches | loss    1.334 \n"
          ]
        },
        {
          "name": "stderr",
          "output_type": "stream",
          "text": [
            "\r9005it [03:47, 27.39it/s]"
          ]
        },
        {
          "name": "stdout",
          "output_type": "stream",
          "text": [
            "money: fact, place, addition, well, seen, practice, lack, able, way, even\n",
            "lion: punishment, september, journal, nobel, actress, concept, british, england, opposed, united\n",
            "africa: europe, india, australia, japan, america, south, china, north, germany, region\n",
            "musician: actress, actor, writer, author, singer, born, addition, football, nine, seven\n",
            "dance: music, concept, country, study, writer, singer, actor, origin, art, contemporary\n",
            "\n",
            "\n"
          ]
        },
        {
          "name": "stderr",
          "output_type": "stream",
          "text": [
            "9500it [03:59, 43.47it/s]"
          ]
        },
        {
          "name": "stdout",
          "output_type": "stream",
          "text": [
            "| epoch   6 |  9500/32580 batches | loss    1.332 \n"
          ]
        },
        {
          "name": "stderr",
          "output_type": "stream",
          "text": [
            "\r9505it [03:59, 26.31it/s]"
          ]
        },
        {
          "name": "stdout",
          "output_type": "stream",
          "text": [
            "money: fact, place, addition, well, seen, practice, lack, able, way, even\n",
            "lion: punishment, september, journal, nobel, actress, concept, british, england, opposed, united\n",
            "africa: europe, india, australia, japan, america, south, china, north, germany, region\n",
            "musician: actress, actor, writer, author, singer, born, addition, football, nine, seven\n",
            "dance: music, concept, country, study, writer, singer, actor, origin, art, contemporary\n",
            "\n",
            "\n"
          ]
        },
        {
          "name": "stderr",
          "output_type": "stream",
          "text": [
            "9996it [04:12, 43.71it/s]"
          ]
        },
        {
          "name": "stdout",
          "output_type": "stream",
          "text": [
            "| epoch   6 | 10000/32580 batches | loss    1.329 \n"
          ]
        },
        {
          "name": "stderr",
          "output_type": "stream",
          "text": [
            "10005it [04:12, 29.37it/s]"
          ]
        },
        {
          "name": "stdout",
          "output_type": "stream",
          "text": [
            "money: fact, place, addition, well, seen, practice, lack, able, way, even\n",
            "lion: punishment, september, journal, nobel, actress, concept, british, england, opposed, united\n",
            "africa: europe, india, australia, japan, america, south, china, north, germany, region\n",
            "musician: actress, actor, writer, author, singer, born, addition, football, nine, seven\n",
            "dance: music, concept, country, study, writer, singer, actor, origin, art, contemporary\n",
            "\n",
            "\n"
          ]
        },
        {
          "name": "stderr",
          "output_type": "stream",
          "text": [
            "10496it [04:24, 44.98it/s]"
          ]
        },
        {
          "name": "stdout",
          "output_type": "stream",
          "text": [
            "| epoch   6 | 10500/32580 batches | loss    1.333 \n"
          ]
        },
        {
          "name": "stderr",
          "output_type": "stream",
          "text": [
            "10505it [04:24, 30.13it/s]"
          ]
        },
        {
          "name": "stdout",
          "output_type": "stream",
          "text": [
            "money: fact, place, addition, well, seen, practice, lack, able, way, even\n",
            "lion: punishment, september, journal, nobel, actress, concept, british, england, opposed, united\n",
            "africa: europe, india, australia, japan, america, south, china, north, germany, region\n",
            "musician: actress, actor, writer, author, singer, born, addition, football, nine, seven\n",
            "dance: music, concept, country, study, writer, singer, actor, origin, art, contemporary\n",
            "\n",
            "\n"
          ]
        },
        {
          "name": "stderr",
          "output_type": "stream",
          "text": [
            "10997it [04:36, 44.77it/s]"
          ]
        },
        {
          "name": "stdout",
          "output_type": "stream",
          "text": [
            "| epoch   6 | 11000/32580 batches | loss    1.331 \n"
          ]
        },
        {
          "name": "stderr",
          "output_type": "stream",
          "text": [
            "11007it [04:37, 30.60it/s]"
          ]
        },
        {
          "name": "stdout",
          "output_type": "stream",
          "text": [
            "money: fact, place, addition, well, seen, practice, lack, able, way, even\n",
            "lion: punishment, september, journal, nobel, actress, concept, british, england, opposed, united\n",
            "africa: europe, india, australia, japan, america, south, china, north, germany, region\n",
            "musician: actress, actor, writer, author, singer, born, addition, football, nine, seven\n",
            "dance: music, concept, country, study, writer, singer, actor, origin, art, contemporary\n",
            "\n",
            "\n"
          ]
        },
        {
          "name": "stderr",
          "output_type": "stream",
          "text": [
            "11496it [04:49, 42.39it/s]"
          ]
        },
        {
          "name": "stdout",
          "output_type": "stream",
          "text": [
            "| epoch   6 | 11500/32580 batches | loss    1.335 \n"
          ]
        },
        {
          "name": "stderr",
          "output_type": "stream",
          "text": [
            "11505it [04:49, 28.96it/s]"
          ]
        },
        {
          "name": "stdout",
          "output_type": "stream",
          "text": [
            "money: fact, place, addition, well, seen, practice, lack, able, way, even\n",
            "lion: punishment, september, journal, nobel, actress, concept, british, england, opposed, united\n",
            "africa: europe, india, australia, japan, america, south, china, north, germany, region\n",
            "musician: actress, actor, writer, author, singer, born, addition, football, nine, seven\n",
            "dance: music, concept, country, study, writer, singer, actor, origin, art, contemporary\n",
            "\n",
            "\n"
          ]
        },
        {
          "name": "stderr",
          "output_type": "stream",
          "text": [
            "12000it [05:01, 44.34it/s]"
          ]
        },
        {
          "name": "stdout",
          "output_type": "stream",
          "text": [
            "| epoch   6 | 12000/32580 batches | loss    1.333 \n"
          ]
        },
        {
          "name": "stderr",
          "output_type": "stream",
          "text": [
            "\r12005it [05:02, 27.27it/s]"
          ]
        },
        {
          "name": "stdout",
          "output_type": "stream",
          "text": [
            "money: fact, place, addition, well, seen, practice, lack, able, way, even\n",
            "lion: punishment, september, journal, nobel, actress, concept, british, england, opposed, united\n",
            "africa: europe, india, australia, japan, america, south, china, north, germany, region\n",
            "musician: actress, actor, writer, author, singer, born, addition, football, nine, seven\n",
            "dance: music, concept, country, study, writer, singer, actor, origin, art, contemporary\n",
            "\n",
            "\n"
          ]
        },
        {
          "name": "stderr",
          "output_type": "stream",
          "text": [
            "12500it [05:14, 33.47it/s]"
          ]
        },
        {
          "name": "stdout",
          "output_type": "stream",
          "text": [
            "| epoch   6 | 12500/32580 batches | loss    1.332 \n"
          ]
        },
        {
          "name": "stderr",
          "output_type": "stream",
          "text": [
            "\r12504it [05:15, 18.46it/s]"
          ]
        },
        {
          "name": "stdout",
          "output_type": "stream",
          "text": [
            "money: fact, place, addition, well, seen, practice, lack, able, way, even\n",
            "lion: punishment, september, journal, nobel, actress, concept, british, england, opposed, united\n",
            "africa: europe, india, australia, japan, america, south, china, north, germany, region\n",
            "musician: actress, actor, writer, author, singer, born, addition, football, nine, seven\n",
            "dance: music, concept, country, study, writer, singer, actor, origin, art, contemporary\n",
            "\n",
            "\n"
          ]
        },
        {
          "name": "stderr",
          "output_type": "stream",
          "text": [
            "12998it [05:27, 33.69it/s]"
          ]
        },
        {
          "name": "stdout",
          "output_type": "stream",
          "text": [
            "| epoch   6 | 13000/32580 batches | loss    1.334 \n"
          ]
        },
        {
          "name": "stderr",
          "output_type": "stream",
          "text": [
            "13006it [05:28, 22.85it/s]"
          ]
        },
        {
          "name": "stdout",
          "output_type": "stream",
          "text": [
            "money: fact, place, addition, well, seen, practice, lack, able, way, even\n",
            "lion: punishment, september, journal, nobel, actress, concept, british, england, opposed, united\n",
            "africa: europe, india, australia, japan, america, south, china, north, germany, region\n",
            "musician: actress, actor, writer, author, singer, born, addition, football, nine, seven\n",
            "dance: music, concept, country, study, writer, singer, actor, origin, art, contemporary\n",
            "\n",
            "\n"
          ]
        },
        {
          "name": "stderr",
          "output_type": "stream",
          "text": [
            "13498it [05:39, 34.99it/s]"
          ]
        },
        {
          "name": "stdout",
          "output_type": "stream",
          "text": [
            "| epoch   6 | 13500/32580 batches | loss    1.330 \n"
          ]
        },
        {
          "name": "stderr",
          "output_type": "stream",
          "text": [
            "13505it [05:40, 21.65it/s]"
          ]
        },
        {
          "name": "stdout",
          "output_type": "stream",
          "text": [
            "money: fact, place, addition, well, seen, practice, lack, able, way, even\n",
            "lion: punishment, september, journal, nobel, actress, concept, british, england, opposed, united\n",
            "africa: europe, india, australia, japan, america, south, china, north, germany, region\n",
            "musician: actress, actor, writer, author, singer, born, addition, football, nine, seven\n",
            "dance: music, concept, country, study, writer, singer, actor, origin, art, contemporary\n",
            "\n",
            "\n"
          ]
        },
        {
          "name": "stderr",
          "output_type": "stream",
          "text": [
            "13996it [05:51, 43.77it/s]"
          ]
        },
        {
          "name": "stdout",
          "output_type": "stream",
          "text": [
            "| epoch   6 | 14000/32580 batches | loss    1.333 \n"
          ]
        },
        {
          "name": "stderr",
          "output_type": "stream",
          "text": [
            "14005it [05:52, 26.38it/s]"
          ]
        },
        {
          "name": "stdout",
          "output_type": "stream",
          "text": [
            "money: fact, place, addition, well, seen, practice, lack, able, way, even\n",
            "lion: punishment, september, journal, nobel, actress, concept, british, england, opposed, united\n",
            "africa: europe, india, australia, japan, america, south, china, north, germany, region\n",
            "musician: actress, actor, writer, author, singer, born, addition, football, nine, seven\n",
            "dance: music, concept, country, study, writer, singer, actor, origin, art, contemporary\n",
            "\n",
            "\n"
          ]
        },
        {
          "name": "stderr",
          "output_type": "stream",
          "text": [
            "14496it [06:03, 44.26it/s]"
          ]
        },
        {
          "name": "stdout",
          "output_type": "stream",
          "text": [
            "| epoch   6 | 14500/32580 batches | loss    1.330 \n"
          ]
        },
        {
          "name": "stderr",
          "output_type": "stream",
          "text": [
            "14505it [06:04, 28.96it/s]"
          ]
        },
        {
          "name": "stdout",
          "output_type": "stream",
          "text": [
            "money: fact, place, addition, well, seen, practice, lack, able, way, even\n",
            "lion: punishment, september, journal, nobel, actress, concept, british, england, opposed, united\n",
            "africa: europe, india, australia, japan, america, south, china, north, germany, region\n",
            "musician: actress, actor, writer, author, singer, born, addition, football, nine, seven\n",
            "dance: music, concept, country, study, writer, singer, actor, origin, art, contemporary\n",
            "\n",
            "\n"
          ]
        },
        {
          "name": "stderr",
          "output_type": "stream",
          "text": [
            "14999it [06:16, 44.22it/s]"
          ]
        },
        {
          "name": "stdout",
          "output_type": "stream",
          "text": [
            "| epoch   6 | 15000/32580 batches | loss    1.334 \n"
          ]
        },
        {
          "name": "stderr",
          "output_type": "stream",
          "text": [
            "15009it [06:17, 30.48it/s]"
          ]
        },
        {
          "name": "stdout",
          "output_type": "stream",
          "text": [
            "money: fact, place, addition, well, seen, practice, lack, able, way, even\n",
            "lion: punishment, september, journal, nobel, actress, concept, british, england, opposed, united\n",
            "africa: europe, india, australia, japan, america, south, china, north, germany, region\n",
            "musician: actress, actor, writer, author, singer, born, addition, football, nine, seven\n",
            "dance: music, concept, country, study, writer, singer, actor, origin, art, contemporary\n",
            "\n",
            "\n"
          ]
        },
        {
          "name": "stderr",
          "output_type": "stream",
          "text": [
            "15500it [06:29, 44.61it/s]"
          ]
        },
        {
          "name": "stdout",
          "output_type": "stream",
          "text": [
            "| epoch   6 | 15500/32580 batches | loss    1.328 \n"
          ]
        },
        {
          "name": "stderr",
          "output_type": "stream",
          "text": [
            "\r15505it [06:29, 26.58it/s]"
          ]
        },
        {
          "name": "stdout",
          "output_type": "stream",
          "text": [
            "money: fact, place, addition, well, seen, practice, lack, able, way, even\n",
            "lion: punishment, september, journal, nobel, actress, concept, british, england, opposed, united\n",
            "africa: europe, india, australia, japan, america, south, china, north, germany, region\n",
            "musician: actress, actor, writer, author, singer, born, addition, football, nine, seven\n",
            "dance: music, concept, country, study, writer, singer, actor, origin, art, contemporary\n",
            "\n",
            "\n"
          ]
        },
        {
          "name": "stderr",
          "output_type": "stream",
          "text": [
            "15997it [06:41, 44.07it/s]"
          ]
        },
        {
          "name": "stdout",
          "output_type": "stream",
          "text": [
            "| epoch   6 | 16000/32580 batches | loss    1.328 \n"
          ]
        },
        {
          "name": "stderr",
          "output_type": "stream",
          "text": [
            "16006it [06:41, 29.35it/s]"
          ]
        },
        {
          "name": "stdout",
          "output_type": "stream",
          "text": [
            "money: fact, place, addition, well, seen, practice, lack, able, way, even\n",
            "lion: punishment, september, journal, nobel, actress, concept, british, england, opposed, united\n",
            "africa: europe, india, australia, japan, america, south, china, north, germany, region\n",
            "musician: actress, actor, writer, author, singer, born, addition, football, nine, seven\n",
            "dance: music, concept, country, study, writer, singer, actor, origin, art, contemporary\n",
            "\n",
            "\n"
          ]
        },
        {
          "name": "stderr",
          "output_type": "stream",
          "text": [
            "16497it [06:53, 44.36it/s]"
          ]
        },
        {
          "name": "stdout",
          "output_type": "stream",
          "text": [
            "| epoch   6 | 16500/32580 batches | loss    1.330 \n"
          ]
        },
        {
          "name": "stderr",
          "output_type": "stream",
          "text": [
            "16507it [06:54, 30.92it/s]"
          ]
        },
        {
          "name": "stdout",
          "output_type": "stream",
          "text": [
            "money: fact, place, addition, well, seen, practice, lack, able, way, even\n",
            "lion: punishment, september, journal, nobel, actress, concept, british, england, opposed, united\n",
            "africa: europe, india, australia, japan, america, south, china, north, germany, region\n",
            "musician: actress, actor, writer, author, singer, born, addition, football, nine, seven\n",
            "dance: music, concept, country, study, writer, singer, actor, origin, art, contemporary\n",
            "\n",
            "\n"
          ]
        },
        {
          "name": "stderr",
          "output_type": "stream",
          "text": [
            "16997it [07:06, 43.46it/s]"
          ]
        },
        {
          "name": "stdout",
          "output_type": "stream",
          "text": [
            "| epoch   6 | 17000/32580 batches | loss    1.333 \n"
          ]
        },
        {
          "name": "stderr",
          "output_type": "stream",
          "text": [
            "17006it [07:06, 29.65it/s]"
          ]
        },
        {
          "name": "stdout",
          "output_type": "stream",
          "text": [
            "money: fact, place, addition, well, seen, practice, lack, able, way, even\n",
            "lion: punishment, september, journal, nobel, actress, concept, british, england, opposed, united\n",
            "africa: europe, india, australia, japan, america, south, china, north, germany, region\n",
            "musician: actress, actor, writer, author, singer, born, addition, football, nine, seven\n",
            "dance: music, concept, country, study, writer, singer, actor, origin, art, contemporary\n",
            "\n",
            "\n"
          ]
        },
        {
          "name": "stderr",
          "output_type": "stream",
          "text": [
            "17496it [07:18, 43.53it/s]"
          ]
        },
        {
          "name": "stdout",
          "output_type": "stream",
          "text": [
            "| epoch   6 | 17500/32580 batches | loss    1.335 \n"
          ]
        },
        {
          "name": "stderr",
          "output_type": "stream",
          "text": [
            "17505it [07:19, 29.39it/s]"
          ]
        },
        {
          "name": "stdout",
          "output_type": "stream",
          "text": [
            "money: fact, place, addition, well, seen, practice, lack, able, way, even\n",
            "lion: punishment, september, journal, nobel, actress, concept, british, england, opposed, united\n",
            "africa: europe, india, australia, japan, america, south, china, north, germany, region\n",
            "musician: actress, actor, writer, author, singer, born, addition, football, nine, seven\n",
            "dance: music, concept, country, study, writer, singer, actor, origin, art, contemporary\n",
            "\n",
            "\n"
          ]
        },
        {
          "name": "stderr",
          "output_type": "stream",
          "text": [
            "17997it [07:30, 34.90it/s]"
          ]
        },
        {
          "name": "stdout",
          "output_type": "stream",
          "text": [
            "| epoch   6 | 18000/32580 batches | loss    1.331 \n"
          ]
        },
        {
          "name": "stderr",
          "output_type": "stream",
          "text": [
            "18004it [07:31, 20.83it/s]"
          ]
        },
        {
          "name": "stdout",
          "output_type": "stream",
          "text": [
            "money: fact, place, addition, well, seen, practice, lack, able, way, even\n",
            "lion: punishment, september, journal, nobel, actress, concept, british, england, opposed, united\n",
            "africa: europe, india, australia, japan, america, south, china, north, germany, region\n",
            "musician: actress, actor, writer, author, singer, born, addition, football, nine, seven\n",
            "dance: music, concept, country, study, writer, singer, actor, origin, art, contemporary\n",
            "\n",
            "\n"
          ]
        },
        {
          "name": "stderr",
          "output_type": "stream",
          "text": [
            "18499it [07:42, 34.62it/s]"
          ]
        },
        {
          "name": "stdout",
          "output_type": "stream",
          "text": [
            "| epoch   6 | 18500/32580 batches | loss    1.329 \n"
          ]
        },
        {
          "name": "stderr",
          "output_type": "stream",
          "text": [
            "18507it [07:43, 22.34it/s]"
          ]
        },
        {
          "name": "stdout",
          "output_type": "stream",
          "text": [
            "money: fact, place, addition, well, seen, practice, lack, able, way, even\n",
            "lion: punishment, september, journal, nobel, actress, concept, british, england, opposed, united\n",
            "africa: europe, india, australia, japan, america, south, china, north, germany, region\n",
            "musician: actress, actor, writer, author, singer, born, addition, football, nine, seven\n",
            "dance: music, concept, country, study, writer, singer, actor, origin, art, contemporary\n",
            "\n",
            "\n"
          ]
        },
        {
          "name": "stderr",
          "output_type": "stream",
          "text": [
            "18998it [07:54, 44.22it/s]"
          ]
        },
        {
          "name": "stdout",
          "output_type": "stream",
          "text": [
            "| epoch   6 | 19000/32580 batches | loss    1.332 \n"
          ]
        },
        {
          "name": "stderr",
          "output_type": "stream",
          "text": [
            "19008it [07:55, 30.48it/s]"
          ]
        },
        {
          "name": "stdout",
          "output_type": "stream",
          "text": [
            "money: fact, place, addition, well, seen, practice, lack, able, way, even\n",
            "lion: punishment, september, journal, nobel, actress, concept, british, england, opposed, united\n",
            "africa: europe, india, australia, japan, america, south, china, north, germany, region\n",
            "musician: actress, actor, writer, author, singer, born, addition, football, nine, seven\n",
            "dance: music, concept, country, study, writer, singer, actor, origin, art, contemporary\n",
            "\n",
            "\n"
          ]
        },
        {
          "name": "stderr",
          "output_type": "stream",
          "text": [
            "19496it [08:07, 44.69it/s]"
          ]
        },
        {
          "name": "stdout",
          "output_type": "stream",
          "text": [
            "| epoch   6 | 19500/32580 batches | loss    1.331 \n"
          ]
        },
        {
          "name": "stderr",
          "output_type": "stream",
          "text": [
            "19505it [08:07, 28.90it/s]"
          ]
        },
        {
          "name": "stdout",
          "output_type": "stream",
          "text": [
            "money: fact, place, addition, well, seen, practice, lack, able, way, even\n",
            "lion: punishment, september, journal, nobel, actress, concept, british, england, opposed, united\n",
            "africa: europe, india, australia, japan, america, south, china, north, germany, region\n",
            "musician: actress, actor, writer, author, singer, born, addition, football, nine, seven\n",
            "dance: music, concept, country, study, writer, singer, actor, origin, art, contemporary\n",
            "\n",
            "\n"
          ]
        },
        {
          "name": "stderr",
          "output_type": "stream",
          "text": [
            "19996it [08:19, 44.66it/s]"
          ]
        },
        {
          "name": "stdout",
          "output_type": "stream",
          "text": [
            "| epoch   6 | 20000/32580 batches | loss    1.330 \n"
          ]
        },
        {
          "name": "stderr",
          "output_type": "stream",
          "text": [
            "20005it [08:20, 30.10it/s]"
          ]
        },
        {
          "name": "stdout",
          "output_type": "stream",
          "text": [
            "money: fact, place, addition, well, seen, practice, lack, able, way, even\n",
            "lion: punishment, september, journal, nobel, actress, concept, british, england, opposed, united\n",
            "africa: europe, india, australia, japan, america, south, china, north, germany, region\n",
            "musician: actress, actor, writer, author, singer, born, addition, football, nine, seven\n",
            "dance: music, concept, country, study, writer, singer, actor, origin, art, contemporary\n",
            "\n",
            "\n"
          ]
        },
        {
          "name": "stderr",
          "output_type": "stream",
          "text": [
            "20496it [08:32, 43.52it/s]"
          ]
        },
        {
          "name": "stdout",
          "output_type": "stream",
          "text": [
            "| epoch   6 | 20500/32580 batches | loss    1.335 \n"
          ]
        },
        {
          "name": "stderr",
          "output_type": "stream",
          "text": [
            "20505it [08:32, 29.85it/s]"
          ]
        },
        {
          "name": "stdout",
          "output_type": "stream",
          "text": [
            "money: fact, place, addition, well, seen, practice, lack, able, way, even\n",
            "lion: punishment, september, journal, nobel, actress, concept, british, england, opposed, united\n",
            "africa: europe, india, australia, japan, america, south, china, north, germany, region\n",
            "musician: actress, actor, writer, author, singer, born, addition, football, nine, seven\n",
            "dance: music, concept, country, study, writer, singer, actor, origin, art, contemporary\n",
            "\n",
            "\n"
          ]
        },
        {
          "name": "stderr",
          "output_type": "stream",
          "text": [
            "20996it [08:44, 45.15it/s]"
          ]
        },
        {
          "name": "stdout",
          "output_type": "stream",
          "text": [
            "| epoch   6 | 21000/32580 batches | loss    1.332 \n"
          ]
        },
        {
          "name": "stderr",
          "output_type": "stream",
          "text": [
            "21005it [08:45, 30.01it/s]"
          ]
        },
        {
          "name": "stdout",
          "output_type": "stream",
          "text": [
            "money: fact, place, addition, well, seen, practice, lack, able, way, even\n",
            "lion: punishment, september, journal, nobel, actress, concept, british, england, opposed, united\n",
            "africa: europe, india, australia, japan, america, south, china, north, germany, region\n",
            "musician: actress, actor, writer, author, singer, born, addition, football, nine, seven\n",
            "dance: music, concept, country, study, writer, singer, actor, origin, art, contemporary\n",
            "\n",
            "\n"
          ]
        },
        {
          "name": "stderr",
          "output_type": "stream",
          "text": [
            "21500it [08:57, 44.97it/s]"
          ]
        },
        {
          "name": "stdout",
          "output_type": "stream",
          "text": [
            "| epoch   6 | 21500/32580 batches | loss    1.328 \n"
          ]
        },
        {
          "name": "stderr",
          "output_type": "stream",
          "text": [
            "\r21505it [08:57, 27.10it/s]"
          ]
        },
        {
          "name": "stdout",
          "output_type": "stream",
          "text": [
            "money: fact, place, addition, well, seen, practice, lack, able, way, even\n",
            "lion: punishment, september, journal, nobel, actress, concept, british, england, opposed, united\n",
            "africa: europe, india, australia, japan, america, south, china, north, germany, region\n",
            "musician: actress, actor, writer, author, singer, born, addition, football, nine, seven\n",
            "dance: music, concept, country, study, writer, singer, actor, origin, art, contemporary\n",
            "\n",
            "\n"
          ]
        },
        {
          "name": "stderr",
          "output_type": "stream",
          "text": [
            "22000it [09:09, 44.03it/s]"
          ]
        },
        {
          "name": "stdout",
          "output_type": "stream",
          "text": [
            "| epoch   6 | 22000/32580 batches | loss    1.331 \n"
          ]
        },
        {
          "name": "stderr",
          "output_type": "stream",
          "text": [
            "\r22005it [09:09, 26.77it/s]"
          ]
        },
        {
          "name": "stdout",
          "output_type": "stream",
          "text": [
            "money: fact, place, addition, well, seen, practice, lack, able, way, even\n",
            "lion: punishment, september, journal, nobel, actress, concept, british, england, opposed, united\n",
            "africa: europe, india, australia, japan, america, south, china, north, germany, region\n",
            "musician: actress, actor, writer, author, singer, born, addition, football, nine, seven\n",
            "dance: music, concept, country, study, writer, singer, actor, origin, art, contemporary\n",
            "\n",
            "\n"
          ]
        },
        {
          "name": "stderr",
          "output_type": "stream",
          "text": [
            "22497it [09:22, 31.13it/s]"
          ]
        },
        {
          "name": "stdout",
          "output_type": "stream",
          "text": [
            "| epoch   6 | 22500/32580 batches | loss    1.333 \n"
          ]
        },
        {
          "name": "stderr",
          "output_type": "stream",
          "text": [
            "22504it [09:22, 20.44it/s]"
          ]
        },
        {
          "name": "stdout",
          "output_type": "stream",
          "text": [
            "money: fact, place, addition, well, seen, practice, lack, able, way, even\n",
            "lion: punishment, september, journal, nobel, actress, concept, british, england, opposed, united\n",
            "africa: europe, india, australia, japan, america, south, china, north, germany, region\n",
            "musician: actress, actor, writer, author, singer, born, addition, football, nine, seven\n",
            "dance: music, concept, country, study, writer, singer, actor, origin, art, contemporary\n",
            "\n",
            "\n"
          ]
        },
        {
          "name": "stderr",
          "output_type": "stream",
          "text": [
            "22999it [09:35, 32.76it/s]"
          ]
        },
        {
          "name": "stdout",
          "output_type": "stream",
          "text": [
            "| epoch   6 | 23000/32580 batches | loss    1.332 \n"
          ]
        },
        {
          "name": "stderr",
          "output_type": "stream",
          "text": [
            "\r23003it [09:35, 17.81it/s]"
          ]
        },
        {
          "name": "stdout",
          "output_type": "stream",
          "text": [
            "money: fact, place, addition, well, seen, practice, lack, able, way, even\n",
            "lion: punishment, september, journal, nobel, actress, concept, british, england, opposed, united\n",
            "africa: europe, india, australia, japan, america, south, china, north, germany, region\n",
            "musician: actress, actor, writer, author, singer, born, addition, football, nine, seven\n",
            "dance: music, concept, country, study, writer, singer, actor, origin, art, contemporary\n",
            "\n",
            "\n"
          ]
        },
        {
          "name": "stderr",
          "output_type": "stream",
          "text": [
            "23498it [09:47, 35.82it/s]"
          ]
        },
        {
          "name": "stdout",
          "output_type": "stream",
          "text": [
            "| epoch   6 | 23500/32580 batches | loss    1.330 \n"
          ]
        },
        {
          "name": "stderr",
          "output_type": "stream",
          "text": [
            "23506it [09:47, 22.02it/s]"
          ]
        },
        {
          "name": "stdout",
          "output_type": "stream",
          "text": [
            "money: fact, place, addition, well, seen, practice, lack, able, way, even\n",
            "lion: punishment, september, journal, nobel, actress, concept, british, england, opposed, united\n",
            "africa: europe, india, australia, japan, america, south, china, north, germany, region\n",
            "musician: actress, actor, writer, author, singer, born, addition, football, nine, seven\n",
            "dance: music, concept, country, study, writer, singer, actor, origin, art, contemporary\n",
            "\n",
            "\n"
          ]
        },
        {
          "name": "stderr",
          "output_type": "stream",
          "text": [
            "23996it [09:59, 44.89it/s]"
          ]
        },
        {
          "name": "stdout",
          "output_type": "stream",
          "text": [
            "| epoch   6 | 24000/32580 batches | loss    1.329 \n"
          ]
        },
        {
          "name": "stderr",
          "output_type": "stream",
          "text": [
            "24005it [09:59, 30.22it/s]"
          ]
        },
        {
          "name": "stdout",
          "output_type": "stream",
          "text": [
            "money: fact, place, addition, well, seen, practice, lack, able, way, even\n",
            "lion: punishment, september, journal, nobel, actress, concept, british, england, opposed, united\n",
            "africa: europe, india, australia, japan, america, south, china, north, germany, region\n",
            "musician: actress, actor, writer, author, singer, born, addition, football, nine, seven\n",
            "dance: music, concept, country, study, writer, singer, actor, origin, art, contemporary\n",
            "\n",
            "\n"
          ]
        },
        {
          "name": "stderr",
          "output_type": "stream",
          "text": [
            "24500it [10:14, 34.29it/s]"
          ]
        },
        {
          "name": "stdout",
          "output_type": "stream",
          "text": [
            "| epoch   6 | 24500/32580 batches | loss    1.329 \n"
          ]
        },
        {
          "name": "stderr",
          "output_type": "stream",
          "text": [
            "\r24504it [10:15, 19.34it/s]"
          ]
        },
        {
          "name": "stdout",
          "output_type": "stream",
          "text": [
            "money: fact, place, addition, well, seen, practice, lack, able, way, even\n",
            "lion: punishment, september, journal, nobel, actress, concept, british, england, opposed, united\n",
            "africa: europe, india, australia, japan, america, south, china, north, germany, region\n",
            "musician: actress, actor, writer, author, singer, born, addition, football, nine, seven\n",
            "dance: music, concept, country, study, writer, singer, actor, origin, art, contemporary\n",
            "\n",
            "\n"
          ]
        },
        {
          "name": "stderr",
          "output_type": "stream",
          "text": [
            "24999it [10:26, 43.91it/s]"
          ]
        },
        {
          "name": "stdout",
          "output_type": "stream",
          "text": [
            "| epoch   6 | 25000/32580 batches | loss    1.329 \n"
          ]
        },
        {
          "name": "stderr",
          "output_type": "stream",
          "text": [
            "25009it [10:27, 30.81it/s]"
          ]
        },
        {
          "name": "stdout",
          "output_type": "stream",
          "text": [
            "money: fact, place, addition, well, seen, practice, lack, able, way, even\n",
            "lion: punishment, september, journal, nobel, actress, concept, british, england, opposed, united\n",
            "africa: europe, india, australia, japan, america, south, china, north, germany, region\n",
            "musician: actress, actor, writer, author, singer, born, addition, football, nine, seven\n",
            "dance: music, concept, country, study, writer, singer, actor, origin, art, contemporary\n",
            "\n",
            "\n"
          ]
        },
        {
          "name": "stderr",
          "output_type": "stream",
          "text": [
            "25500it [10:39, 43.89it/s]"
          ]
        },
        {
          "name": "stdout",
          "output_type": "stream",
          "text": [
            "| epoch   6 | 25500/32580 batches | loss    1.330 \n"
          ]
        },
        {
          "name": "stderr",
          "output_type": "stream",
          "text": [
            "\r25505it [10:39, 27.09it/s]"
          ]
        },
        {
          "name": "stdout",
          "output_type": "stream",
          "text": [
            "money: fact, place, addition, well, seen, practice, lack, able, way, even\n",
            "lion: punishment, september, journal, nobel, actress, concept, british, england, opposed, united\n",
            "africa: europe, india, australia, japan, america, south, china, north, germany, region\n",
            "musician: actress, actor, writer, author, singer, born, addition, football, nine, seven\n",
            "dance: music, concept, country, study, writer, singer, actor, origin, art, contemporary\n",
            "\n",
            "\n"
          ]
        },
        {
          "name": "stderr",
          "output_type": "stream",
          "text": [
            "25996it [10:51, 44.59it/s]"
          ]
        },
        {
          "name": "stdout",
          "output_type": "stream",
          "text": [
            "| epoch   6 | 26000/32580 batches | loss    1.328 \n"
          ]
        },
        {
          "name": "stderr",
          "output_type": "stream",
          "text": [
            "26005it [10:52, 30.07it/s]"
          ]
        },
        {
          "name": "stdout",
          "output_type": "stream",
          "text": [
            "money: fact, place, addition, well, seen, practice, lack, able, way, even\n",
            "lion: punishment, september, journal, nobel, actress, concept, british, england, opposed, united\n",
            "africa: europe, india, australia, japan, america, south, china, north, germany, region\n",
            "musician: actress, actor, writer, author, singer, born, addition, football, nine, seven\n",
            "dance: music, concept, country, study, writer, singer, actor, origin, art, contemporary\n",
            "\n",
            "\n"
          ]
        },
        {
          "name": "stderr",
          "output_type": "stream",
          "text": [
            "26496it [11:04, 44.09it/s]"
          ]
        },
        {
          "name": "stdout",
          "output_type": "stream",
          "text": [
            "| epoch   6 | 26500/32580 batches | loss    1.329 \n"
          ]
        },
        {
          "name": "stderr",
          "output_type": "stream",
          "text": [
            "26505it [11:04, 29.34it/s]"
          ]
        },
        {
          "name": "stdout",
          "output_type": "stream",
          "text": [
            "money: fact, place, addition, well, seen, practice, lack, able, way, even\n",
            "lion: punishment, september, journal, nobel, actress, concept, british, england, opposed, united\n",
            "africa: europe, india, australia, japan, america, south, china, north, germany, region\n",
            "musician: actress, actor, writer, author, singer, born, addition, football, nine, seven\n",
            "dance: music, concept, country, study, writer, singer, actor, origin, art, contemporary\n",
            "\n",
            "\n"
          ]
        },
        {
          "name": "stderr",
          "output_type": "stream",
          "text": [
            "26999it [11:16, 44.01it/s]"
          ]
        },
        {
          "name": "stdout",
          "output_type": "stream",
          "text": [
            "| epoch   6 | 27000/32580 batches | loss    1.328 \n"
          ]
        },
        {
          "name": "stderr",
          "output_type": "stream",
          "text": [
            "\r27004it [11:17, 27.08it/s]"
          ]
        },
        {
          "name": "stdout",
          "output_type": "stream",
          "text": [
            "money: fact, place, addition, well, seen, practice, lack, able, way, even\n",
            "lion: punishment, september, journal, nobel, actress, concept, british, england, opposed, united\n",
            "africa: europe, india, australia, japan, america, south, china, north, germany, region\n",
            "musician: actress, actor, writer, author, singer, born, addition, football, nine, seven\n",
            "dance: music, concept, country, study, writer, singer, actor, origin, art, contemporary\n",
            "\n",
            "\n"
          ]
        },
        {
          "name": "stderr",
          "output_type": "stream",
          "text": [
            "27496it [11:29, 45.01it/s]"
          ]
        },
        {
          "name": "stdout",
          "output_type": "stream",
          "text": [
            "| epoch   6 | 27500/32580 batches | loss    1.330 \n"
          ]
        },
        {
          "name": "stderr",
          "output_type": "stream",
          "text": [
            "27505it [11:29, 29.45it/s]"
          ]
        },
        {
          "name": "stdout",
          "output_type": "stream",
          "text": [
            "money: fact, place, addition, well, seen, practice, lack, able, way, even\n",
            "lion: punishment, september, journal, nobel, actress, concept, british, england, opposed, united\n",
            "africa: europe, india, australia, japan, america, south, china, north, germany, region\n",
            "musician: actress, actor, writer, author, singer, born, addition, football, nine, seven\n",
            "dance: music, concept, country, study, writer, singer, actor, origin, art, contemporary\n",
            "\n",
            "\n"
          ]
        },
        {
          "name": "stderr",
          "output_type": "stream",
          "text": [
            "27996it [11:41, 44.39it/s]"
          ]
        },
        {
          "name": "stdout",
          "output_type": "stream",
          "text": [
            "| epoch   6 | 28000/32580 batches | loss    1.326 \n"
          ]
        },
        {
          "name": "stderr",
          "output_type": "stream",
          "text": [
            "28005it [11:41, 29.18it/s]"
          ]
        },
        {
          "name": "stdout",
          "output_type": "stream",
          "text": [
            "money: fact, place, addition, well, seen, practice, lack, able, way, even\n",
            "lion: punishment, september, journal, nobel, actress, concept, british, england, opposed, united\n",
            "africa: europe, india, australia, japan, america, south, china, north, germany, region\n",
            "musician: actress, actor, writer, author, singer, born, addition, football, nine, seven\n",
            "dance: music, concept, country, study, writer, singer, actor, origin, art, contemporary\n",
            "\n",
            "\n"
          ]
        },
        {
          "name": "stderr",
          "output_type": "stream",
          "text": [
            "28500it [11:54, 39.38it/s]"
          ]
        },
        {
          "name": "stdout",
          "output_type": "stream",
          "text": [
            "| epoch   6 | 28500/32580 batches | loss    1.330 \n"
          ]
        },
        {
          "name": "stderr",
          "output_type": "stream",
          "text": [
            "28509it [11:54, 28.08it/s]"
          ]
        },
        {
          "name": "stdout",
          "output_type": "stream",
          "text": [
            "money: fact, place, addition, well, seen, practice, lack, able, way, even\n",
            "lion: punishment, september, journal, nobel, actress, concept, british, england, opposed, united\n",
            "africa: europe, india, australia, japan, america, south, china, north, germany, region\n",
            "musician: actress, actor, writer, author, singer, born, addition, football, nine, seven\n",
            "dance: music, concept, country, study, writer, singer, actor, origin, art, contemporary\n",
            "\n",
            "\n"
          ]
        },
        {
          "name": "stderr",
          "output_type": "stream",
          "text": [
            "28997it [12:06, 33.71it/s]"
          ]
        },
        {
          "name": "stdout",
          "output_type": "stream",
          "text": [
            "| epoch   6 | 29000/32580 batches | loss    1.330 \n"
          ]
        },
        {
          "name": "stderr",
          "output_type": "stream",
          "text": [
            "29004it [12:06, 19.93it/s]"
          ]
        },
        {
          "name": "stdout",
          "output_type": "stream",
          "text": [
            "money: fact, place, addition, well, seen, practice, lack, able, way, even\n",
            "lion: punishment, september, journal, nobel, actress, concept, british, england, opposed, united\n",
            "africa: europe, india, australia, japan, america, south, china, north, germany, region\n",
            "musician: actress, actor, writer, author, singer, born, addition, football, nine, seven\n",
            "dance: music, concept, country, study, writer, singer, actor, origin, art, contemporary\n",
            "\n",
            "\n"
          ]
        },
        {
          "name": "stderr",
          "output_type": "stream",
          "text": [
            "29500it [12:18, 36.22it/s]"
          ]
        },
        {
          "name": "stdout",
          "output_type": "stream",
          "text": [
            "| epoch   6 | 29500/32580 batches | loss    1.331 \n"
          ]
        },
        {
          "name": "stderr",
          "output_type": "stream",
          "text": [
            "\r29504it [12:18, 19.66it/s]"
          ]
        },
        {
          "name": "stdout",
          "output_type": "stream",
          "text": [
            "money: fact, place, addition, well, seen, practice, lack, able, way, even\n",
            "lion: punishment, september, journal, nobel, actress, concept, british, england, opposed, united\n",
            "africa: europe, india, australia, japan, america, south, china, north, germany, region\n",
            "musician: actress, actor, writer, author, singer, born, addition, football, nine, seven\n",
            "dance: music, concept, country, study, writer, singer, actor, origin, art, contemporary\n",
            "\n",
            "\n"
          ]
        },
        {
          "name": "stderr",
          "output_type": "stream",
          "text": [
            "29997it [12:30, 44.71it/s]"
          ]
        },
        {
          "name": "stdout",
          "output_type": "stream",
          "text": [
            "| epoch   6 | 30000/32580 batches | loss    1.331 \n"
          ]
        },
        {
          "name": "stderr",
          "output_type": "stream",
          "text": [
            "30006it [12:31, 30.04it/s]"
          ]
        },
        {
          "name": "stdout",
          "output_type": "stream",
          "text": [
            "money: fact, place, addition, well, seen, practice, lack, able, way, even\n",
            "lion: punishment, september, journal, nobel, actress, concept, british, england, opposed, united\n",
            "africa: europe, india, australia, japan, america, south, china, north, germany, region\n",
            "musician: actress, actor, writer, author, singer, born, addition, football, nine, seven\n",
            "dance: music, concept, country, study, writer, singer, actor, origin, art, contemporary\n",
            "\n",
            "\n"
          ]
        },
        {
          "name": "stderr",
          "output_type": "stream",
          "text": [
            "30500it [12:43, 44.19it/s]"
          ]
        },
        {
          "name": "stdout",
          "output_type": "stream",
          "text": [
            "| epoch   6 | 30500/32580 batches | loss    1.332 \n"
          ]
        },
        {
          "name": "stderr",
          "output_type": "stream",
          "text": [
            "\r30505it [12:43, 26.49it/s]"
          ]
        },
        {
          "name": "stdout",
          "output_type": "stream",
          "text": [
            "money: fact, place, addition, well, seen, practice, lack, able, way, even\n",
            "lion: punishment, september, journal, nobel, actress, concept, british, england, opposed, united\n",
            "africa: europe, india, australia, japan, america, south, china, north, germany, region\n",
            "musician: actress, actor, writer, author, singer, born, addition, football, nine, seven\n",
            "dance: music, concept, country, study, writer, singer, actor, origin, art, contemporary\n",
            "\n",
            "\n"
          ]
        },
        {
          "name": "stderr",
          "output_type": "stream",
          "text": [
            "31000it [12:55, 44.19it/s]"
          ]
        },
        {
          "name": "stdout",
          "output_type": "stream",
          "text": [
            "| epoch   6 | 31000/32580 batches | loss    1.330 \n"
          ]
        },
        {
          "name": "stderr",
          "output_type": "stream",
          "text": [
            "\r31005it [12:55, 26.49it/s]"
          ]
        },
        {
          "name": "stdout",
          "output_type": "stream",
          "text": [
            "money: fact, place, addition, well, seen, practice, lack, able, way, even\n",
            "lion: punishment, september, journal, nobel, actress, concept, british, england, opposed, united\n",
            "africa: europe, india, australia, japan, america, south, china, north, germany, region\n",
            "musician: actress, actor, writer, author, singer, born, addition, football, nine, seven\n",
            "dance: music, concept, country, study, writer, singer, actor, origin, art, contemporary\n",
            "\n",
            "\n"
          ]
        },
        {
          "name": "stderr",
          "output_type": "stream",
          "text": [
            "31500it [13:07, 43.30it/s]"
          ]
        },
        {
          "name": "stdout",
          "output_type": "stream",
          "text": [
            "| epoch   6 | 31500/32580 batches | loss    1.327 \n"
          ]
        },
        {
          "name": "stderr",
          "output_type": "stream",
          "text": [
            "\r31505it [13:08, 26.26it/s]"
          ]
        },
        {
          "name": "stdout",
          "output_type": "stream",
          "text": [
            "money: fact, place, addition, well, seen, practice, lack, able, way, even\n",
            "lion: punishment, september, journal, nobel, actress, concept, british, england, opposed, united\n",
            "africa: europe, india, australia, japan, america, south, china, north, germany, region\n",
            "musician: actress, actor, writer, author, singer, born, addition, football, nine, seven\n",
            "dance: music, concept, country, study, writer, singer, actor, origin, art, contemporary\n",
            "\n",
            "\n"
          ]
        },
        {
          "name": "stderr",
          "output_type": "stream",
          "text": [
            "31996it [13:20, 44.68it/s]"
          ]
        },
        {
          "name": "stdout",
          "output_type": "stream",
          "text": [
            "| epoch   6 | 32000/32580 batches | loss    1.333 \n"
          ]
        },
        {
          "name": "stderr",
          "output_type": "stream",
          "text": [
            "32005it [13:20, 29.64it/s]"
          ]
        },
        {
          "name": "stdout",
          "output_type": "stream",
          "text": [
            "money: fact, place, addition, well, seen, practice, lack, able, way, even\n",
            "lion: punishment, september, journal, nobel, actress, concept, british, england, opposed, united\n",
            "africa: europe, india, australia, japan, america, south, china, north, germany, region\n",
            "musician: actress, actor, writer, author, singer, born, addition, football, nine, seven\n",
            "dance: music, concept, country, study, writer, singer, actor, origin, art, contemporary\n",
            "\n",
            "\n"
          ]
        },
        {
          "name": "stderr",
          "output_type": "stream",
          "text": [
            "32499it [13:33, 40.80it/s]"
          ]
        },
        {
          "name": "stdout",
          "output_type": "stream",
          "text": [
            "| epoch   6 | 32500/32580 batches | loss    1.332 \n"
          ]
        },
        {
          "name": "stderr",
          "output_type": "stream",
          "text": [
            "32509it [13:34, 29.76it/s]"
          ]
        },
        {
          "name": "stdout",
          "output_type": "stream",
          "text": [
            "money: fact, place, addition, well, seen, practice, lack, able, way, even\n",
            "lion: punishment, september, journal, nobel, actress, concept, british, england, opposed, united\n",
            "africa: europe, india, australia, japan, america, south, china, north, germany, region\n",
            "musician: actress, actor, writer, author, singer, born, addition, football, nine, seven\n",
            "dance: music, concept, country, study, writer, singer, actor, origin, art, contemporary\n",
            "\n",
            "\n"
          ]
        },
        {
          "name": "stderr",
          "output_type": "stream",
          "text": [
            "32580it [13:37, 39.87it/s]\n",
            "0it [00:00, ?it/s]"
          ]
        },
        {
          "name": "stdout",
          "output_type": "stream",
          "text": [
            "| epoch   7 |     0/32580 batches | loss    1.343 \n"
          ]
        },
        {
          "name": "stderr",
          "output_type": "stream",
          "text": [
            "5it [00:01,  4.55it/s]"
          ]
        },
        {
          "name": "stdout",
          "output_type": "stream",
          "text": [
            "money: fact, place, addition, well, seen, practice, lack, able, way, even\n",
            "lion: punishment, september, journal, nobel, actress, concept, british, england, opposed, united\n",
            "africa: europe, india, australia, japan, america, south, china, north, germany, region\n",
            "musician: actress, actor, writer, author, singer, born, addition, football, nine, seven\n",
            "dance: music, concept, country, study, writer, singer, actor, origin, art, contemporary\n",
            "\n",
            "\n"
          ]
        },
        {
          "name": "stderr",
          "output_type": "stream",
          "text": [
            "497it [00:13, 43.82it/s]"
          ]
        },
        {
          "name": "stdout",
          "output_type": "stream",
          "text": [
            "| epoch   7 |   500/32580 batches | loss    1.332 \n"
          ]
        },
        {
          "name": "stderr",
          "output_type": "stream",
          "text": [
            "506it [00:13, 29.62it/s]"
          ]
        },
        {
          "name": "stdout",
          "output_type": "stream",
          "text": [
            "money: fact, place, addition, well, seen, practice, lack, able, way, even\n",
            "lion: punishment, september, journal, nobel, actress, concept, british, england, opposed, united\n",
            "africa: europe, india, australia, japan, america, south, china, north, germany, region\n",
            "musician: actress, actor, writer, author, singer, born, addition, football, nine, seven\n",
            "dance: music, concept, country, study, writer, singer, actor, origin, art, contemporary\n",
            "\n",
            "\n"
          ]
        },
        {
          "name": "stderr",
          "output_type": "stream",
          "text": [
            "998it [00:25, 43.92it/s]"
          ]
        },
        {
          "name": "stdout",
          "output_type": "stream",
          "text": [
            "| epoch   7 |  1000/32580 batches | loss    1.328 \n"
          ]
        },
        {
          "name": "stderr",
          "output_type": "stream",
          "text": [
            "1007it [00:26, 29.61it/s]"
          ]
        },
        {
          "name": "stdout",
          "output_type": "stream",
          "text": [
            "money: fact, place, addition, well, seen, practice, lack, able, way, even\n",
            "lion: punishment, september, journal, nobel, actress, concept, british, england, opposed, united\n",
            "africa: europe, india, australia, japan, america, south, china, north, germany, region\n",
            "musician: actress, actor, writer, author, singer, born, addition, football, nine, seven\n",
            "dance: music, concept, country, study, writer, singer, actor, origin, art, contemporary\n",
            "\n",
            "\n"
          ]
        },
        {
          "name": "stderr",
          "output_type": "stream",
          "text": [
            "1497it [00:38, 43.63it/s]"
          ]
        },
        {
          "name": "stdout",
          "output_type": "stream",
          "text": [
            "| epoch   7 |  1500/32580 batches | loss    1.331 \n"
          ]
        },
        {
          "name": "stderr",
          "output_type": "stream",
          "text": [
            "1506it [00:38, 29.22it/s]"
          ]
        },
        {
          "name": "stdout",
          "output_type": "stream",
          "text": [
            "money: fact, place, addition, well, seen, practice, lack, able, way, even\n",
            "lion: punishment, september, journal, nobel, actress, concept, british, england, opposed, united\n",
            "africa: europe, india, australia, japan, america, south, china, north, germany, region\n",
            "musician: actress, actor, writer, author, singer, born, addition, football, nine, seven\n",
            "dance: music, concept, country, study, writer, singer, actor, origin, art, contemporary\n",
            "\n",
            "\n"
          ]
        },
        {
          "name": "stderr",
          "output_type": "stream",
          "text": [
            "1997it [00:50, 43.80it/s]"
          ]
        },
        {
          "name": "stdout",
          "output_type": "stream",
          "text": [
            "| epoch   7 |  2000/32580 batches | loss    1.329 \n"
          ]
        },
        {
          "name": "stderr",
          "output_type": "stream",
          "text": [
            "2006it [00:51, 29.91it/s]"
          ]
        },
        {
          "name": "stdout",
          "output_type": "stream",
          "text": [
            "money: fact, place, addition, well, seen, practice, lack, able, way, even\n",
            "lion: punishment, september, journal, nobel, actress, concept, british, england, opposed, united\n",
            "africa: europe, india, australia, japan, america, south, china, north, germany, region\n",
            "musician: actress, actor, writer, author, singer, born, addition, football, nine, seven\n",
            "dance: music, concept, country, study, writer, singer, actor, origin, art, contemporary\n",
            "\n",
            "\n"
          ]
        },
        {
          "name": "stderr",
          "output_type": "stream",
          "text": [
            "2500it [01:03, 39.75it/s]"
          ]
        },
        {
          "name": "stdout",
          "output_type": "stream",
          "text": [
            "| epoch   7 |  2500/32580 batches | loss    1.327 \n"
          ]
        },
        {
          "name": "stderr",
          "output_type": "stream",
          "text": [
            "\r2504it [01:03, 23.36it/s]"
          ]
        },
        {
          "name": "stdout",
          "output_type": "stream",
          "text": [
            "money: fact, place, addition, well, seen, practice, lack, able, way, even\n",
            "lion: punishment, september, journal, nobel, actress, concept, british, england, opposed, united\n",
            "africa: europe, india, australia, japan, america, south, china, north, germany, region\n",
            "musician: actress, actor, writer, author, singer, born, addition, football, nine, seven\n",
            "dance: music, concept, country, study, writer, singer, actor, origin, art, contemporary\n",
            "\n",
            "\n"
          ]
        },
        {
          "name": "stderr",
          "output_type": "stream",
          "text": [
            "2997it [01:15, 34.82it/s]"
          ]
        },
        {
          "name": "stdout",
          "output_type": "stream",
          "text": [
            "| epoch   7 |  3000/32580 batches | loss    1.334 \n"
          ]
        },
        {
          "name": "stderr",
          "output_type": "stream",
          "text": [
            "3004it [01:16, 20.77it/s]"
          ]
        },
        {
          "name": "stdout",
          "output_type": "stream",
          "text": [
            "money: fact, place, addition, well, seen, practice, lack, able, way, even\n",
            "lion: punishment, september, journal, nobel, actress, concept, british, england, opposed, united\n",
            "africa: europe, india, australia, japan, america, south, china, north, germany, region\n",
            "musician: actress, actor, writer, author, singer, born, addition, football, nine, seven\n",
            "dance: music, concept, country, study, writer, singer, actor, origin, art, contemporary\n",
            "\n",
            "\n"
          ]
        },
        {
          "name": "stderr",
          "output_type": "stream",
          "text": [
            "3499it [01:27, 36.28it/s]"
          ]
        },
        {
          "name": "stdout",
          "output_type": "stream",
          "text": [
            "| epoch   7 |  3500/32580 batches | loss    1.330 \n"
          ]
        },
        {
          "name": "stderr",
          "output_type": "stream",
          "text": [
            "\r3503it [01:28, 19.92it/s]"
          ]
        },
        {
          "name": "stdout",
          "output_type": "stream",
          "text": [
            "money: fact, place, addition, well, seen, practice, lack, able, way, even\n",
            "lion: punishment, september, journal, nobel, actress, concept, british, england, opposed, united\n",
            "africa: europe, india, australia, japan, america, south, china, north, germany, region\n",
            "musician: actress, actor, writer, author, singer, born, addition, football, nine, seven\n",
            "dance: music, concept, country, study, writer, singer, actor, origin, art, contemporary\n",
            "\n",
            "\n"
          ]
        },
        {
          "name": "stderr",
          "output_type": "stream",
          "text": [
            "3998it [01:39, 44.16it/s]"
          ]
        },
        {
          "name": "stdout",
          "output_type": "stream",
          "text": [
            "| epoch   7 |  4000/32580 batches | loss    1.335 \n"
          ]
        },
        {
          "name": "stderr",
          "output_type": "stream",
          "text": [
            "4008it [01:40, 30.39it/s]"
          ]
        },
        {
          "name": "stdout",
          "output_type": "stream",
          "text": [
            "money: fact, place, addition, well, seen, practice, lack, able, way, even\n",
            "lion: punishment, september, journal, nobel, actress, concept, british, england, opposed, united\n",
            "africa: europe, india, australia, japan, america, south, china, north, germany, region\n",
            "musician: actress, actor, writer, author, singer, born, addition, football, nine, seven\n",
            "dance: music, concept, country, study, writer, singer, actor, origin, art, contemporary\n",
            "\n",
            "\n"
          ]
        },
        {
          "name": "stderr",
          "output_type": "stream",
          "text": [
            "4498it [01:52, 43.87it/s]"
          ]
        },
        {
          "name": "stdout",
          "output_type": "stream",
          "text": [
            "| epoch   7 |  4500/32580 batches | loss    1.326 \n"
          ]
        },
        {
          "name": "stderr",
          "output_type": "stream",
          "text": [
            "4507it [01:52, 29.21it/s]"
          ]
        },
        {
          "name": "stdout",
          "output_type": "stream",
          "text": [
            "money: fact, place, addition, well, seen, practice, lack, able, way, even\n",
            "lion: punishment, september, journal, nobel, actress, concept, british, england, opposed, united\n",
            "africa: europe, india, australia, japan, america, south, china, north, germany, region\n",
            "musician: actress, actor, writer, author, singer, born, addition, football, nine, seven\n",
            "dance: music, concept, country, study, writer, singer, actor, origin, art, contemporary\n",
            "\n",
            "\n"
          ]
        },
        {
          "name": "stderr",
          "output_type": "stream",
          "text": [
            "4999it [02:05, 44.42it/s]"
          ]
        },
        {
          "name": "stdout",
          "output_type": "stream",
          "text": [
            "| epoch   7 |  5000/32580 batches | loss    1.334 \n"
          ]
        },
        {
          "name": "stderr",
          "output_type": "stream",
          "text": [
            "\r5004it [02:05, 27.07it/s]"
          ]
        },
        {
          "name": "stdout",
          "output_type": "stream",
          "text": [
            "money: fact, place, addition, well, seen, practice, lack, able, way, even\n",
            "lion: punishment, september, journal, nobel, actress, concept, british, england, opposed, united\n",
            "africa: europe, india, australia, japan, america, south, china, north, germany, region\n",
            "musician: actress, actor, writer, author, singer, born, addition, football, nine, seven\n",
            "dance: music, concept, country, study, writer, singer, actor, origin, art, contemporary\n",
            "\n",
            "\n"
          ]
        },
        {
          "name": "stderr",
          "output_type": "stream",
          "text": [
            "5499it [02:17, 44.24it/s]"
          ]
        },
        {
          "name": "stdout",
          "output_type": "stream",
          "text": [
            "| epoch   7 |  5500/32580 batches | loss    1.331 \n"
          ]
        },
        {
          "name": "stderr",
          "output_type": "stream",
          "text": [
            "5509it [02:17, 30.37it/s]"
          ]
        },
        {
          "name": "stdout",
          "output_type": "stream",
          "text": [
            "money: fact, place, addition, well, seen, practice, lack, able, way, even\n",
            "lion: punishment, september, journal, nobel, actress, concept, british, england, opposed, united\n",
            "africa: europe, india, australia, japan, america, south, china, north, germany, region\n",
            "musician: actress, actor, writer, author, singer, born, addition, football, nine, seven\n",
            "dance: music, concept, country, study, writer, singer, actor, origin, art, contemporary\n",
            "\n",
            "\n"
          ]
        },
        {
          "name": "stderr",
          "output_type": "stream",
          "text": [
            "6000it [02:29, 44.06it/s]"
          ]
        },
        {
          "name": "stdout",
          "output_type": "stream",
          "text": [
            "| epoch   7 |  6000/32580 batches | loss    1.334 \n"
          ]
        },
        {
          "name": "stderr",
          "output_type": "stream",
          "text": [
            "\r6005it [02:30, 25.90it/s]"
          ]
        },
        {
          "name": "stdout",
          "output_type": "stream",
          "text": [
            "money: fact, place, addition, well, seen, practice, lack, able, way, even\n",
            "lion: punishment, september, journal, nobel, actress, concept, british, england, opposed, united\n",
            "africa: europe, india, australia, japan, america, south, china, north, germany, region\n",
            "musician: actress, actor, writer, author, singer, born, addition, football, nine, seven\n",
            "dance: music, concept, country, study, writer, singer, actor, origin, art, contemporary\n",
            "\n",
            "\n"
          ]
        },
        {
          "name": "stderr",
          "output_type": "stream",
          "text": [
            "6496it [02:42, 44.00it/s]"
          ]
        },
        {
          "name": "stdout",
          "output_type": "stream",
          "text": [
            "| epoch   7 |  6500/32580 batches | loss    1.331 \n"
          ]
        },
        {
          "name": "stderr",
          "output_type": "stream",
          "text": [
            "6505it [02:42, 29.25it/s]"
          ]
        },
        {
          "name": "stdout",
          "output_type": "stream",
          "text": [
            "money: fact, place, addition, well, seen, practice, lack, able, way, even\n",
            "lion: punishment, september, journal, nobel, actress, concept, british, england, opposed, united\n",
            "africa: europe, india, australia, japan, america, south, china, north, germany, region\n",
            "musician: actress, actor, writer, author, singer, born, addition, football, nine, seven\n",
            "dance: music, concept, country, study, writer, singer, actor, origin, art, contemporary\n",
            "\n",
            "\n"
          ]
        },
        {
          "name": "stderr",
          "output_type": "stream",
          "text": [
            "6999it [02:54, 44.14it/s]"
          ]
        },
        {
          "name": "stdout",
          "output_type": "stream",
          "text": [
            "| epoch   7 |  7000/32580 batches | loss    1.328 \n"
          ]
        },
        {
          "name": "stderr",
          "output_type": "stream",
          "text": [
            "\r7004it [02:55, 27.16it/s]"
          ]
        },
        {
          "name": "stdout",
          "output_type": "stream",
          "text": [
            "money: fact, place, addition, well, seen, practice, lack, able, way, even\n",
            "lion: punishment, september, journal, nobel, actress, concept, british, england, opposed, united\n",
            "africa: europe, india, australia, japan, america, south, china, north, germany, region\n",
            "musician: actress, actor, writer, author, singer, born, addition, football, nine, seven\n",
            "dance: music, concept, country, study, writer, singer, actor, origin, art, contemporary\n",
            "\n",
            "\n"
          ]
        },
        {
          "name": "stderr",
          "output_type": "stream",
          "text": [
            "7498it [03:07, 38.13it/s]"
          ]
        },
        {
          "name": "stdout",
          "output_type": "stream",
          "text": [
            "| epoch   7 |  7500/32580 batches | loss    1.332 \n"
          ]
        },
        {
          "name": "stderr",
          "output_type": "stream",
          "text": [
            "7506it [03:07, 27.12it/s]"
          ]
        },
        {
          "name": "stdout",
          "output_type": "stream",
          "text": [
            "money: fact, place, addition, well, seen, practice, lack, able, way, even\n",
            "lion: punishment, september, journal, nobel, actress, concept, british, england, opposed, united\n",
            "africa: europe, india, australia, japan, america, south, china, north, germany, region\n",
            "musician: actress, actor, writer, author, singer, born, addition, football, nine, seven\n",
            "dance: music, concept, country, study, writer, singer, actor, origin, art, contemporary\n",
            "\n",
            "\n"
          ]
        },
        {
          "name": "stderr",
          "output_type": "stream",
          "text": [
            "7999it [03:19, 35.48it/s]"
          ]
        },
        {
          "name": "stdout",
          "output_type": "stream",
          "text": [
            "| epoch   7 |  8000/32580 batches | loss    1.327 \n"
          ]
        },
        {
          "name": "stderr",
          "output_type": "stream",
          "text": [
            "\r8003it [03:19, 18.46it/s]"
          ]
        },
        {
          "name": "stdout",
          "output_type": "stream",
          "text": [
            "money: fact, place, addition, well, seen, practice, lack, able, way, even\n",
            "lion: punishment, september, journal, nobel, actress, concept, british, england, opposed, united\n",
            "africa: europe, india, australia, japan, america, south, china, north, germany, region\n",
            "musician: actress, actor, writer, author, singer, born, addition, football, nine, seven\n",
            "dance: music, concept, country, study, writer, singer, actor, origin, art, contemporary\n",
            "\n",
            "\n"
          ]
        },
        {
          "name": "stderr",
          "output_type": "stream",
          "text": [
            "8500it [03:31, 36.79it/s]"
          ]
        },
        {
          "name": "stdout",
          "output_type": "stream",
          "text": [
            "| epoch   7 |  8500/32580 batches | loss    1.330 \n"
          ]
        },
        {
          "name": "stderr",
          "output_type": "stream",
          "text": [
            "\r8504it [03:31, 19.81it/s]"
          ]
        },
        {
          "name": "stdout",
          "output_type": "stream",
          "text": [
            "money: fact, place, addition, well, seen, practice, lack, able, way, even\n",
            "lion: punishment, september, journal, nobel, actress, concept, british, england, opposed, united\n",
            "africa: europe, india, australia, japan, america, south, china, north, germany, region\n",
            "musician: actress, actor, writer, author, singer, born, addition, football, nine, seven\n",
            "dance: music, concept, country, study, writer, singer, actor, origin, art, contemporary\n",
            "\n",
            "\n"
          ]
        },
        {
          "name": "stderr",
          "output_type": "stream",
          "text": [
            "8999it [03:43, 44.90it/s]"
          ]
        },
        {
          "name": "stdout",
          "output_type": "stream",
          "text": [
            "| epoch   7 |  9000/32580 batches | loss    1.331 \n"
          ]
        },
        {
          "name": "stderr",
          "output_type": "stream",
          "text": [
            "\r9004it [03:44, 27.20it/s]"
          ]
        },
        {
          "name": "stdout",
          "output_type": "stream",
          "text": [
            "money: fact, place, addition, well, seen, practice, lack, able, way, even\n",
            "lion: punishment, september, journal, nobel, actress, concept, british, england, opposed, united\n",
            "africa: europe, india, australia, japan, america, south, china, north, germany, region\n",
            "musician: actress, actor, writer, author, singer, born, addition, football, nine, seven\n",
            "dance: music, concept, country, study, writer, singer, actor, origin, art, contemporary\n",
            "\n",
            "\n"
          ]
        },
        {
          "name": "stderr",
          "output_type": "stream",
          "text": [
            "9500it [03:56, 44.56it/s]"
          ]
        },
        {
          "name": "stdout",
          "output_type": "stream",
          "text": [
            "| epoch   7 |  9500/32580 batches | loss    1.328 \n"
          ]
        },
        {
          "name": "stderr",
          "output_type": "stream",
          "text": [
            "\r9505it [03:56, 27.17it/s]"
          ]
        },
        {
          "name": "stdout",
          "output_type": "stream",
          "text": [
            "money: fact, place, addition, well, seen, practice, lack, able, way, even\n",
            "lion: punishment, september, journal, nobel, actress, concept, british, england, opposed, united\n",
            "africa: europe, india, australia, japan, america, south, china, north, germany, region\n",
            "musician: actress, actor, writer, author, singer, born, addition, football, nine, seven\n",
            "dance: music, concept, country, study, writer, singer, actor, origin, art, contemporary\n",
            "\n",
            "\n"
          ]
        },
        {
          "name": "stderr",
          "output_type": "stream",
          "text": [
            "9997it [04:09, 44.89it/s]"
          ]
        },
        {
          "name": "stdout",
          "output_type": "stream",
          "text": [
            "| epoch   7 | 10000/32580 batches | loss    1.329 \n"
          ]
        },
        {
          "name": "stderr",
          "output_type": "stream",
          "text": [
            "10006it [04:09, 29.50it/s]"
          ]
        },
        {
          "name": "stdout",
          "output_type": "stream",
          "text": [
            "money: fact, place, addition, well, seen, practice, lack, able, way, even\n",
            "lion: punishment, september, journal, nobel, actress, concept, british, england, opposed, united\n",
            "africa: europe, india, australia, japan, america, south, china, north, germany, region\n",
            "musician: actress, actor, writer, author, singer, born, addition, football, nine, seven\n",
            "dance: music, concept, country, study, writer, singer, actor, origin, art, contemporary\n",
            "\n",
            "\n"
          ]
        },
        {
          "name": "stderr",
          "output_type": "stream",
          "text": [
            "10497it [04:21, 44.74it/s]"
          ]
        },
        {
          "name": "stdout",
          "output_type": "stream",
          "text": [
            "| epoch   7 | 10500/32580 batches | loss    1.331 \n"
          ]
        },
        {
          "name": "stderr",
          "output_type": "stream",
          "text": [
            "10507it [04:22, 31.08it/s]"
          ]
        },
        {
          "name": "stdout",
          "output_type": "stream",
          "text": [
            "money: fact, place, addition, well, seen, practice, lack, able, way, even\n",
            "lion: punishment, september, journal, nobel, actress, concept, british, england, opposed, united\n",
            "africa: europe, india, australia, japan, america, south, china, north, germany, region\n",
            "musician: actress, actor, writer, author, singer, born, addition, football, nine, seven\n",
            "dance: music, concept, country, study, writer, singer, actor, origin, art, contemporary\n",
            "\n",
            "\n"
          ]
        },
        {
          "name": "stderr",
          "output_type": "stream",
          "text": [
            "10996it [04:36, 43.66it/s]"
          ]
        },
        {
          "name": "stdout",
          "output_type": "stream",
          "text": [
            "| epoch   7 | 11000/32580 batches | loss    1.332 \n"
          ]
        },
        {
          "name": "stderr",
          "output_type": "stream",
          "text": [
            "11005it [04:37, 29.10it/s]"
          ]
        },
        {
          "name": "stdout",
          "output_type": "stream",
          "text": [
            "money: fact, place, addition, well, seen, practice, lack, able, way, even\n",
            "lion: punishment, september, journal, nobel, actress, concept, british, england, opposed, united\n",
            "africa: europe, india, australia, japan, america, south, china, north, germany, region\n",
            "musician: actress, actor, writer, author, singer, born, addition, football, nine, seven\n",
            "dance: music, concept, country, study, writer, singer, actor, origin, art, contemporary\n",
            "\n",
            "\n"
          ]
        },
        {
          "name": "stderr",
          "output_type": "stream",
          "text": [
            "11496it [04:49, 43.83it/s]"
          ]
        },
        {
          "name": "stdout",
          "output_type": "stream",
          "text": [
            "| epoch   7 | 11500/32580 batches | loss    1.330 \n"
          ]
        },
        {
          "name": "stderr",
          "output_type": "stream",
          "text": [
            "11505it [04:49, 29.00it/s]"
          ]
        },
        {
          "name": "stdout",
          "output_type": "stream",
          "text": [
            "money: fact, place, addition, well, seen, practice, lack, able, way, even\n",
            "lion: punishment, september, journal, nobel, actress, concept, british, england, opposed, united\n",
            "africa: europe, india, australia, japan, america, south, china, north, germany, region\n",
            "musician: actress, actor, writer, author, singer, born, addition, football, nine, seven\n",
            "dance: music, concept, country, study, writer, singer, actor, origin, art, contemporary\n",
            "\n",
            "\n"
          ]
        },
        {
          "name": "stderr",
          "output_type": "stream",
          "text": [
            "11998it [05:01, 43.81it/s]"
          ]
        },
        {
          "name": "stdout",
          "output_type": "stream",
          "text": [
            "| epoch   7 | 12000/32580 batches | loss    1.332 \n"
          ]
        },
        {
          "name": "stderr",
          "output_type": "stream",
          "text": [
            "12008it [05:02, 30.86it/s]"
          ]
        },
        {
          "name": "stdout",
          "output_type": "stream",
          "text": [
            "money: fact, place, addition, well, seen, practice, lack, able, way, even\n",
            "lion: punishment, september, journal, nobel, actress, concept, british, england, opposed, united\n",
            "africa: europe, india, australia, japan, america, south, china, north, germany, region\n",
            "musician: actress, actor, writer, author, singer, born, addition, football, nine, seven\n",
            "dance: music, concept, country, study, writer, singer, actor, origin, art, contemporary\n",
            "\n",
            "\n"
          ]
        },
        {
          "name": "stderr",
          "output_type": "stream",
          "text": [
            "12497it [05:14, 43.36it/s]"
          ]
        },
        {
          "name": "stdout",
          "output_type": "stream",
          "text": [
            "| epoch   7 | 12500/32580 batches | loss    1.326 \n"
          ]
        },
        {
          "name": "stderr",
          "output_type": "stream",
          "text": [
            "12506it [05:14, 29.58it/s]"
          ]
        },
        {
          "name": "stdout",
          "output_type": "stream",
          "text": [
            "money: fact, place, addition, well, seen, practice, lack, able, way, even\n",
            "lion: punishment, september, journal, nobel, actress, concept, british, england, opposed, united\n",
            "africa: europe, india, australia, japan, america, south, china, north, germany, region\n",
            "musician: actress, actor, writer, author, singer, born, addition, football, nine, seven\n",
            "dance: music, concept, country, study, writer, singer, actor, origin, art, contemporary\n",
            "\n",
            "\n"
          ]
        },
        {
          "name": "stderr",
          "output_type": "stream",
          "text": [
            "12996it [05:26, 44.57it/s]"
          ]
        },
        {
          "name": "stdout",
          "output_type": "stream",
          "text": [
            "| epoch   7 | 13000/32580 batches | loss    1.329 \n"
          ]
        },
        {
          "name": "stderr",
          "output_type": "stream",
          "text": [
            "13005it [05:27, 30.26it/s]"
          ]
        },
        {
          "name": "stdout",
          "output_type": "stream",
          "text": [
            "money: fact, place, addition, well, seen, practice, lack, able, way, even\n",
            "lion: punishment, september, journal, nobel, actress, concept, british, england, opposed, united\n",
            "africa: europe, india, australia, japan, america, south, china, north, germany, region\n",
            "musician: actress, actor, writer, author, singer, born, addition, football, nine, seven\n",
            "dance: music, concept, country, study, writer, singer, actor, origin, art, contemporary\n",
            "\n",
            "\n"
          ]
        },
        {
          "name": "stderr",
          "output_type": "stream",
          "text": [
            "13497it [05:39, 42.07it/s]"
          ]
        },
        {
          "name": "stdout",
          "output_type": "stream",
          "text": [
            "| epoch   7 | 13500/32580 batches | loss    1.329 \n"
          ]
        },
        {
          "name": "stderr",
          "output_type": "stream",
          "text": [
            "13506it [05:39, 28.79it/s]"
          ]
        },
        {
          "name": "stdout",
          "output_type": "stream",
          "text": [
            "money: fact, place, addition, well, seen, practice, lack, able, way, even\n",
            "lion: punishment, september, journal, nobel, actress, concept, british, england, opposed, united\n",
            "africa: europe, india, australia, japan, america, south, china, north, germany, region\n",
            "musician: actress, actor, writer, author, singer, born, addition, football, nine, seven\n",
            "dance: music, concept, country, study, writer, singer, actor, origin, art, contemporary\n",
            "\n",
            "\n"
          ]
        },
        {
          "name": "stderr",
          "output_type": "stream",
          "text": [
            "14000it [05:52, 33.40it/s]"
          ]
        },
        {
          "name": "stdout",
          "output_type": "stream",
          "text": [
            "| epoch   7 | 14000/32580 batches | loss    1.329 \n"
          ]
        },
        {
          "name": "stderr",
          "output_type": "stream",
          "text": [
            "\r14004it [05:52, 18.27it/s]"
          ]
        },
        {
          "name": "stdout",
          "output_type": "stream",
          "text": [
            "money: fact, place, addition, well, seen, practice, lack, able, way, even\n",
            "lion: punishment, september, journal, nobel, actress, concept, british, england, opposed, united\n",
            "africa: europe, india, australia, japan, america, south, china, north, germany, region\n",
            "musician: actress, actor, writer, author, singer, born, addition, football, nine, seven\n",
            "dance: music, concept, country, study, writer, singer, actor, origin, art, contemporary\n",
            "\n",
            "\n"
          ]
        },
        {
          "name": "stderr",
          "output_type": "stream",
          "text": [
            "14498it [06:04, 34.35it/s]"
          ]
        },
        {
          "name": "stdout",
          "output_type": "stream",
          "text": [
            "| epoch   7 | 14500/32580 batches | loss    1.330 \n"
          ]
        },
        {
          "name": "stderr",
          "output_type": "stream",
          "text": [
            "14506it [06:04, 22.53it/s]"
          ]
        },
        {
          "name": "stdout",
          "output_type": "stream",
          "text": [
            "money: fact, place, addition, well, seen, practice, lack, able, way, even\n",
            "lion: punishment, september, journal, nobel, actress, concept, british, england, opposed, united\n",
            "africa: europe, india, australia, japan, america, south, china, north, germany, region\n",
            "musician: actress, actor, writer, author, singer, born, addition, football, nine, seven\n",
            "dance: music, concept, country, study, writer, singer, actor, origin, art, contemporary\n",
            "\n",
            "\n"
          ]
        },
        {
          "name": "stderr",
          "output_type": "stream",
          "text": [
            "14996it [06:16, 44.05it/s]"
          ]
        },
        {
          "name": "stdout",
          "output_type": "stream",
          "text": [
            "| epoch   7 | 15000/32580 batches | loss    1.328 \n"
          ]
        },
        {
          "name": "stderr",
          "output_type": "stream",
          "text": [
            "15005it [06:16, 25.59it/s]"
          ]
        },
        {
          "name": "stdout",
          "output_type": "stream",
          "text": [
            "money: fact, place, addition, well, seen, practice, lack, able, way, even\n",
            "lion: punishment, september, journal, nobel, actress, concept, british, england, opposed, united\n",
            "africa: europe, india, australia, japan, america, south, china, north, germany, region\n",
            "musician: actress, actor, writer, author, singer, born, addition, football, nine, seven\n",
            "dance: music, concept, country, study, writer, singer, actor, origin, art, contemporary\n",
            "\n",
            "\n"
          ]
        },
        {
          "name": "stderr",
          "output_type": "stream",
          "text": [
            "15500it [06:28, 42.87it/s]"
          ]
        },
        {
          "name": "stdout",
          "output_type": "stream",
          "text": [
            "| epoch   7 | 15500/32580 batches | loss    1.331 \n"
          ]
        },
        {
          "name": "stderr",
          "output_type": "stream",
          "text": [
            "\r15505it [06:29, 26.32it/s]"
          ]
        },
        {
          "name": "stdout",
          "output_type": "stream",
          "text": [
            "money: fact, place, addition, well, seen, practice, lack, able, way, even\n",
            "lion: punishment, september, journal, nobel, actress, concept, british, england, opposed, united\n",
            "africa: europe, india, australia, japan, america, south, china, north, germany, region\n",
            "musician: actress, actor, writer, author, singer, born, addition, football, nine, seven\n",
            "dance: music, concept, country, study, writer, singer, actor, origin, art, contemporary\n",
            "\n",
            "\n"
          ]
        },
        {
          "name": "stderr",
          "output_type": "stream",
          "text": [
            "15997it [06:41, 44.30it/s]"
          ]
        },
        {
          "name": "stdout",
          "output_type": "stream",
          "text": [
            "| epoch   7 | 16000/32580 batches | loss    1.326 \n"
          ]
        },
        {
          "name": "stderr",
          "output_type": "stream",
          "text": [
            "16006it [06:41, 28.97it/s]"
          ]
        },
        {
          "name": "stdout",
          "output_type": "stream",
          "text": [
            "money: fact, place, addition, well, seen, practice, lack, able, way, even\n",
            "lion: punishment, september, journal, nobel, actress, concept, british, england, opposed, united\n",
            "africa: europe, india, australia, japan, america, south, china, north, germany, region\n",
            "musician: actress, actor, writer, author, singer, born, addition, football, nine, seven\n",
            "dance: music, concept, country, study, writer, singer, actor, origin, art, contemporary\n",
            "\n",
            "\n"
          ]
        },
        {
          "name": "stderr",
          "output_type": "stream",
          "text": [
            "16500it [06:53, 44.50it/s]"
          ]
        },
        {
          "name": "stdout",
          "output_type": "stream",
          "text": [
            "| epoch   7 | 16500/32580 batches | loss    1.332 \n"
          ]
        },
        {
          "name": "stderr",
          "output_type": "stream",
          "text": [
            "\r16505it [06:54, 26.74it/s]"
          ]
        },
        {
          "name": "stdout",
          "output_type": "stream",
          "text": [
            "money: fact, place, addition, well, seen, practice, lack, able, way, even\n",
            "lion: punishment, september, journal, nobel, actress, concept, british, england, opposed, united\n",
            "africa: europe, india, australia, japan, america, south, china, north, germany, region\n",
            "musician: actress, actor, writer, author, singer, born, addition, football, nine, seven\n",
            "dance: music, concept, country, study, writer, singer, actor, origin, art, contemporary\n",
            "\n",
            "\n"
          ]
        },
        {
          "name": "stderr",
          "output_type": "stream",
          "text": [
            "16998it [07:06, 44.68it/s]"
          ]
        },
        {
          "name": "stdout",
          "output_type": "stream",
          "text": [
            "| epoch   7 | 17000/32580 batches | loss    1.329 \n"
          ]
        },
        {
          "name": "stderr",
          "output_type": "stream",
          "text": [
            "17007it [07:06, 29.18it/s]"
          ]
        },
        {
          "name": "stdout",
          "output_type": "stream",
          "text": [
            "money: fact, place, addition, well, seen, practice, lack, able, way, even\n",
            "lion: punishment, september, journal, nobel, actress, concept, british, england, opposed, united\n",
            "africa: europe, india, australia, japan, america, south, china, north, germany, region\n",
            "musician: actress, actor, writer, author, singer, born, addition, football, nine, seven\n",
            "dance: music, concept, country, study, writer, singer, actor, origin, art, contemporary\n",
            "\n",
            "\n"
          ]
        },
        {
          "name": "stderr",
          "output_type": "stream",
          "text": [
            "17497it [07:18, 43.59it/s]"
          ]
        },
        {
          "name": "stdout",
          "output_type": "stream",
          "text": [
            "| epoch   7 | 17500/32580 batches | loss    1.331 \n"
          ]
        },
        {
          "name": "stderr",
          "output_type": "stream",
          "text": [
            "17506it [07:19, 29.59it/s]"
          ]
        },
        {
          "name": "stdout",
          "output_type": "stream",
          "text": [
            "money: fact, place, addition, well, seen, practice, lack, able, way, even\n",
            "lion: punishment, september, journal, nobel, actress, concept, british, england, opposed, united\n",
            "africa: europe, india, australia, japan, america, south, china, north, germany, region\n",
            "musician: actress, actor, writer, author, singer, born, addition, football, nine, seven\n",
            "dance: music, concept, country, study, writer, singer, actor, origin, art, contemporary\n",
            "\n",
            "\n"
          ]
        },
        {
          "name": "stderr",
          "output_type": "stream",
          "text": [
            "17998it [07:31, 43.67it/s]"
          ]
        },
        {
          "name": "stdout",
          "output_type": "stream",
          "text": [
            "| epoch   7 | 18000/32580 batches | loss    1.333 \n"
          ]
        },
        {
          "name": "stderr",
          "output_type": "stream",
          "text": [
            "18007it [07:31, 29.53it/s]"
          ]
        },
        {
          "name": "stdout",
          "output_type": "stream",
          "text": [
            "money: fact, place, addition, well, seen, practice, lack, able, way, even\n",
            "lion: punishment, september, journal, nobel, actress, concept, british, england, opposed, united\n",
            "africa: europe, india, australia, japan, america, south, china, north, germany, region\n",
            "musician: actress, actor, writer, author, singer, born, addition, football, nine, seven\n",
            "dance: music, concept, country, study, writer, singer, actor, origin, art, contemporary\n",
            "\n",
            "\n"
          ]
        },
        {
          "name": "stderr",
          "output_type": "stream",
          "text": [
            "18496it [07:43, 41.13it/s]"
          ]
        },
        {
          "name": "stdout",
          "output_type": "stream",
          "text": [
            "| epoch   7 | 18500/32580 batches | loss    1.328 \n"
          ]
        },
        {
          "name": "stderr",
          "output_type": "stream",
          "text": [
            "18505it [07:44, 28.47it/s]"
          ]
        },
        {
          "name": "stdout",
          "output_type": "stream",
          "text": [
            "money: fact, place, addition, well, seen, practice, lack, able, way, even\n",
            "lion: punishment, september, journal, nobel, actress, concept, british, england, opposed, united\n",
            "africa: europe, india, australia, japan, america, south, china, north, germany, region\n",
            "musician: actress, actor, writer, author, singer, born, addition, football, nine, seven\n",
            "dance: music, concept, country, study, writer, singer, actor, origin, art, contemporary\n",
            "\n",
            "\n"
          ]
        },
        {
          "name": "stderr",
          "output_type": "stream",
          "text": [
            "18999it [07:55, 34.73it/s]"
          ]
        },
        {
          "name": "stdout",
          "output_type": "stream",
          "text": [
            "| epoch   7 | 19000/32580 batches | loss    1.332 \n"
          ]
        },
        {
          "name": "stderr",
          "output_type": "stream",
          "text": [
            "\r19003it [07:56, 18.80it/s]"
          ]
        },
        {
          "name": "stdout",
          "output_type": "stream",
          "text": [
            "money: fact, place, addition, well, seen, practice, lack, able, way, even\n",
            "lion: punishment, september, journal, nobel, actress, concept, british, england, opposed, united\n",
            "africa: europe, india, australia, japan, america, south, china, north, germany, region\n",
            "musician: actress, actor, writer, author, singer, born, addition, football, nine, seven\n",
            "dance: music, concept, country, study, writer, singer, actor, origin, art, contemporary\n",
            "\n",
            "\n"
          ]
        },
        {
          "name": "stderr",
          "output_type": "stream",
          "text": [
            "19499it [08:07, 33.76it/s]"
          ]
        },
        {
          "name": "stdout",
          "output_type": "stream",
          "text": [
            "| epoch   7 | 19500/32580 batches | loss    1.332 \n"
          ]
        },
        {
          "name": "stderr",
          "output_type": "stream",
          "text": [
            "19506it [08:08, 21.60it/s]"
          ]
        },
        {
          "name": "stdout",
          "output_type": "stream",
          "text": [
            "money: fact, place, addition, well, seen, practice, lack, able, way, even\n",
            "lion: punishment, september, journal, nobel, actress, concept, british, england, opposed, united\n",
            "africa: europe, india, australia, japan, america, south, china, north, germany, region\n",
            "musician: actress, actor, writer, author, singer, born, addition, football, nine, seven\n",
            "dance: music, concept, country, study, writer, singer, actor, origin, art, contemporary\n",
            "\n",
            "\n"
          ]
        },
        {
          "name": "stderr",
          "output_type": "stream",
          "text": [
            "19996it [08:20, 41.91it/s]"
          ]
        },
        {
          "name": "stdout",
          "output_type": "stream",
          "text": [
            "| epoch   7 | 20000/32580 batches | loss    1.335 \n"
          ]
        },
        {
          "name": "stderr",
          "output_type": "stream",
          "text": [
            "20005it [08:21, 24.26it/s]"
          ]
        },
        {
          "name": "stdout",
          "output_type": "stream",
          "text": [
            "money: fact, place, addition, well, seen, practice, lack, able, way, even\n",
            "lion: punishment, september, journal, nobel, actress, concept, british, england, opposed, united\n",
            "africa: europe, india, australia, japan, america, south, china, north, germany, region\n",
            "musician: actress, actor, writer, author, singer, born, addition, football, nine, seven\n",
            "dance: music, concept, country, study, writer, singer, actor, origin, art, contemporary\n",
            "\n",
            "\n"
          ]
        },
        {
          "name": "stderr",
          "output_type": "stream",
          "text": [
            "20497it [08:33, 44.51it/s]"
          ]
        },
        {
          "name": "stdout",
          "output_type": "stream",
          "text": [
            "| epoch   7 | 20500/32580 batches | loss    1.334 \n"
          ]
        },
        {
          "name": "stderr",
          "output_type": "stream",
          "text": [
            "20506it [08:33, 28.91it/s]"
          ]
        },
        {
          "name": "stdout",
          "output_type": "stream",
          "text": [
            "money: fact, place, addition, well, seen, practice, lack, able, way, even\n",
            "lion: punishment, september, journal, nobel, actress, concept, british, england, opposed, united\n",
            "africa: europe, india, australia, japan, america, south, china, north, germany, region\n",
            "musician: actress, actor, writer, author, singer, born, addition, football, nine, seven\n",
            "dance: music, concept, country, study, writer, singer, actor, origin, art, contemporary\n",
            "\n",
            "\n"
          ]
        },
        {
          "name": "stderr",
          "output_type": "stream",
          "text": [
            "21000it [08:46, 44.13it/s]"
          ]
        },
        {
          "name": "stdout",
          "output_type": "stream",
          "text": [
            "| epoch   7 | 21000/32580 batches | loss    1.334 \n"
          ]
        },
        {
          "name": "stderr",
          "output_type": "stream",
          "text": [
            "\r21005it [08:46, 27.21it/s]"
          ]
        },
        {
          "name": "stdout",
          "output_type": "stream",
          "text": [
            "money: fact, place, addition, well, seen, practice, lack, able, way, even\n",
            "lion: punishment, september, journal, nobel, actress, concept, british, england, opposed, united\n",
            "africa: europe, india, australia, japan, america, south, china, north, germany, region\n",
            "musician: actress, actor, writer, author, singer, born, addition, football, nine, seven\n",
            "dance: music, concept, country, study, writer, singer, actor, origin, art, contemporary\n",
            "\n",
            "\n"
          ]
        },
        {
          "name": "stderr",
          "output_type": "stream",
          "text": [
            "21500it [08:58, 43.61it/s]"
          ]
        },
        {
          "name": "stdout",
          "output_type": "stream",
          "text": [
            "| epoch   7 | 21500/32580 batches | loss    1.328 \n"
          ]
        },
        {
          "name": "stderr",
          "output_type": "stream",
          "text": [
            "\r21505it [08:58, 26.65it/s]"
          ]
        },
        {
          "name": "stdout",
          "output_type": "stream",
          "text": [
            "money: fact, place, addition, well, seen, practice, lack, able, way, even\n",
            "lion: punishment, september, journal, nobel, actress, concept, british, england, opposed, united\n",
            "africa: europe, india, australia, japan, america, south, china, north, germany, region\n",
            "musician: actress, actor, writer, author, singer, born, addition, football, nine, seven\n",
            "dance: music, concept, country, study, writer, singer, actor, origin, art, contemporary\n",
            "\n",
            "\n"
          ]
        },
        {
          "name": "stderr",
          "output_type": "stream",
          "text": [
            "21999it [09:10, 43.91it/s]"
          ]
        },
        {
          "name": "stdout",
          "output_type": "stream",
          "text": [
            "| epoch   7 | 22000/32580 batches | loss    1.331 \n"
          ]
        },
        {
          "name": "stderr",
          "output_type": "stream",
          "text": [
            "\r22004it [09:11, 26.07it/s]"
          ]
        },
        {
          "name": "stdout",
          "output_type": "stream",
          "text": [
            "money: fact, place, addition, well, seen, practice, lack, able, way, even\n",
            "lion: punishment, september, journal, nobel, actress, concept, british, england, opposed, united\n",
            "africa: europe, india, australia, japan, america, south, china, north, germany, region\n",
            "musician: actress, actor, writer, author, singer, born, addition, football, nine, seven\n",
            "dance: music, concept, country, study, writer, singer, actor, origin, art, contemporary\n",
            "\n",
            "\n"
          ]
        },
        {
          "name": "stderr",
          "output_type": "stream",
          "text": [
            "22498it [09:23, 44.51it/s]"
          ]
        },
        {
          "name": "stdout",
          "output_type": "stream",
          "text": [
            "| epoch   7 | 22500/32580 batches | loss    1.331 \n"
          ]
        },
        {
          "name": "stderr",
          "output_type": "stream",
          "text": [
            "22508it [09:23, 30.89it/s]"
          ]
        },
        {
          "name": "stdout",
          "output_type": "stream",
          "text": [
            "money: fact, place, addition, well, seen, practice, lack, able, way, even\n",
            "lion: punishment, september, journal, nobel, actress, concept, british, england, opposed, united\n",
            "africa: europe, india, australia, japan, america, south, china, north, germany, region\n",
            "musician: actress, actor, writer, author, singer, born, addition, football, nine, seven\n",
            "dance: music, concept, country, study, writer, singer, actor, origin, art, contemporary\n",
            "\n",
            "\n"
          ]
        },
        {
          "name": "stderr",
          "output_type": "stream",
          "text": [
            "23000it [09:38, 43.58it/s]"
          ]
        },
        {
          "name": "stdout",
          "output_type": "stream",
          "text": [
            "| epoch   7 | 23000/32580 batches | loss    1.330 \n"
          ]
        },
        {
          "name": "stderr",
          "output_type": "stream",
          "text": [
            "\r23005it [09:38, 26.95it/s]"
          ]
        },
        {
          "name": "stdout",
          "output_type": "stream",
          "text": [
            "money: fact, place, addition, well, seen, practice, lack, able, way, even\n",
            "lion: punishment, september, journal, nobel, actress, concept, british, england, opposed, united\n",
            "africa: europe, india, australia, japan, america, south, china, north, germany, region\n",
            "musician: actress, actor, writer, author, singer, born, addition, football, nine, seven\n",
            "dance: music, concept, country, study, writer, singer, actor, origin, art, contemporary\n",
            "\n",
            "\n"
          ]
        },
        {
          "name": "stderr",
          "output_type": "stream",
          "text": [
            "23499it [09:51, 41.76it/s]"
          ]
        },
        {
          "name": "stdout",
          "output_type": "stream",
          "text": [
            "| epoch   7 | 23500/32580 batches | loss    1.330 \n"
          ]
        },
        {
          "name": "stderr",
          "output_type": "stream",
          "text": [
            "23509it [09:51, 29.98it/s]"
          ]
        },
        {
          "name": "stdout",
          "output_type": "stream",
          "text": [
            "money: fact, place, addition, well, seen, practice, lack, able, way, even\n",
            "lion: punishment, september, journal, nobel, actress, concept, british, england, opposed, united\n",
            "africa: europe, india, australia, japan, america, south, china, north, germany, region\n",
            "musician: actress, actor, writer, author, singer, born, addition, football, nine, seven\n",
            "dance: music, concept, country, study, writer, singer, actor, origin, art, contemporary\n",
            "\n",
            "\n"
          ]
        },
        {
          "name": "stderr",
          "output_type": "stream",
          "text": [
            "23997it [10:03, 44.23it/s]"
          ]
        },
        {
          "name": "stdout",
          "output_type": "stream",
          "text": [
            "| epoch   7 | 24000/32580 batches | loss    1.330 \n"
          ]
        },
        {
          "name": "stderr",
          "output_type": "stream",
          "text": [
            "24006it [10:03, 30.16it/s]"
          ]
        },
        {
          "name": "stdout",
          "output_type": "stream",
          "text": [
            "money: fact, place, addition, well, seen, practice, lack, able, way, even\n",
            "lion: punishment, september, journal, nobel, actress, concept, british, england, opposed, united\n",
            "africa: europe, india, australia, japan, america, south, china, north, germany, region\n",
            "musician: actress, actor, writer, author, singer, born, addition, football, nine, seven\n",
            "dance: music, concept, country, study, writer, singer, actor, origin, art, contemporary\n",
            "\n",
            "\n"
          ]
        },
        {
          "name": "stderr",
          "output_type": "stream",
          "text": [
            "24498it [10:16, 43.30it/s]"
          ]
        },
        {
          "name": "stdout",
          "output_type": "stream",
          "text": [
            "| epoch   7 | 24500/32580 batches | loss    1.332 \n"
          ]
        },
        {
          "name": "stderr",
          "output_type": "stream",
          "text": [
            "24507it [10:16, 28.74it/s]"
          ]
        },
        {
          "name": "stdout",
          "output_type": "stream",
          "text": [
            "money: fact, place, addition, well, seen, practice, lack, able, way, even\n",
            "lion: punishment, september, journal, nobel, actress, concept, british, england, opposed, united\n",
            "africa: europe, india, australia, japan, america, south, china, north, germany, region\n",
            "musician: actress, actor, writer, author, singer, born, addition, football, nine, seven\n",
            "dance: music, concept, country, study, writer, singer, actor, origin, art, contemporary\n",
            "\n",
            "\n"
          ]
        },
        {
          "name": "stderr",
          "output_type": "stream",
          "text": [
            "24998it [10:28, 35.11it/s]"
          ]
        },
        {
          "name": "stdout",
          "output_type": "stream",
          "text": [
            "| epoch   7 | 25000/32580 batches | loss    1.333 \n"
          ]
        },
        {
          "name": "stderr",
          "output_type": "stream",
          "text": [
            "25006it [10:28, 21.26it/s]"
          ]
        },
        {
          "name": "stdout",
          "output_type": "stream",
          "text": [
            "money: fact, place, addition, well, seen, practice, lack, able, way, even\n",
            "lion: punishment, september, journal, nobel, actress, concept, british, england, opposed, united\n",
            "africa: europe, india, australia, japan, america, south, china, north, germany, region\n",
            "musician: actress, actor, writer, author, singer, born, addition, football, nine, seven\n",
            "dance: music, concept, country, study, writer, singer, actor, origin, art, contemporary\n",
            "\n",
            "\n"
          ]
        },
        {
          "name": "stderr",
          "output_type": "stream",
          "text": [
            "25499it [10:40, 34.36it/s]"
          ]
        },
        {
          "name": "stdout",
          "output_type": "stream",
          "text": [
            "| epoch   7 | 25500/32580 batches | loss    1.330 \n"
          ]
        },
        {
          "name": "stderr",
          "output_type": "stream",
          "text": [
            "\r25503it [10:40, 18.09it/s]"
          ]
        },
        {
          "name": "stdout",
          "output_type": "stream",
          "text": [
            "money: fact, place, addition, well, seen, practice, lack, able, way, even\n",
            "lion: punishment, september, journal, nobel, actress, concept, british, england, opposed, united\n",
            "africa: europe, india, australia, japan, america, south, china, north, germany, region\n",
            "musician: actress, actor, writer, author, singer, born, addition, football, nine, seven\n",
            "dance: music, concept, country, study, writer, singer, actor, origin, art, contemporary\n",
            "\n",
            "\n"
          ]
        },
        {
          "name": "stderr",
          "output_type": "stream",
          "text": [
            "26000it [10:52, 44.28it/s]"
          ]
        },
        {
          "name": "stdout",
          "output_type": "stream",
          "text": [
            "| epoch   7 | 26000/32580 batches | loss    1.329 \n"
          ]
        },
        {
          "name": "stderr",
          "output_type": "stream",
          "text": [
            "\r26005it [10:53, 25.67it/s]"
          ]
        },
        {
          "name": "stdout",
          "output_type": "stream",
          "text": [
            "money: fact, place, addition, well, seen, practice, lack, able, way, even\n",
            "lion: punishment, september, journal, nobel, actress, concept, british, england, opposed, united\n",
            "africa: europe, india, australia, japan, america, south, china, north, germany, region\n",
            "musician: actress, actor, writer, author, singer, born, addition, football, nine, seven\n",
            "dance: music, concept, country, study, writer, singer, actor, origin, art, contemporary\n",
            "\n",
            "\n"
          ]
        },
        {
          "name": "stderr",
          "output_type": "stream",
          "text": [
            "26499it [11:05, 44.66it/s]"
          ]
        },
        {
          "name": "stdout",
          "output_type": "stream",
          "text": [
            "| epoch   7 | 26500/32580 batches | loss    1.329 \n"
          ]
        },
        {
          "name": "stderr",
          "output_type": "stream",
          "text": [
            "26509it [11:05, 30.54it/s]"
          ]
        },
        {
          "name": "stdout",
          "output_type": "stream",
          "text": [
            "money: fact, place, addition, well, seen, practice, lack, able, way, even\n",
            "lion: punishment, september, journal, nobel, actress, concept, british, england, opposed, united\n",
            "africa: europe, india, australia, japan, america, south, china, north, germany, region\n",
            "musician: actress, actor, writer, author, singer, born, addition, football, nine, seven\n",
            "dance: music, concept, country, study, writer, singer, actor, origin, art, contemporary\n",
            "\n",
            "\n"
          ]
        },
        {
          "name": "stderr",
          "output_type": "stream",
          "text": [
            "26996it [11:17, 44.26it/s]"
          ]
        },
        {
          "name": "stdout",
          "output_type": "stream",
          "text": [
            "| epoch   7 | 27000/32580 batches | loss    1.330 \n"
          ]
        },
        {
          "name": "stderr",
          "output_type": "stream",
          "text": [
            "27005it [11:17, 29.77it/s]"
          ]
        },
        {
          "name": "stdout",
          "output_type": "stream",
          "text": [
            "money: fact, place, addition, well, seen, practice, lack, able, way, even\n",
            "lion: punishment, september, journal, nobel, actress, concept, british, england, opposed, united\n",
            "africa: europe, india, australia, japan, america, south, china, north, germany, region\n",
            "musician: actress, actor, writer, author, singer, born, addition, football, nine, seven\n",
            "dance: music, concept, country, study, writer, singer, actor, origin, art, contemporary\n",
            "\n",
            "\n"
          ]
        },
        {
          "name": "stderr",
          "output_type": "stream",
          "text": [
            "27496it [11:30, 44.09it/s]"
          ]
        },
        {
          "name": "stdout",
          "output_type": "stream",
          "text": [
            "| epoch   7 | 27500/32580 batches | loss    1.333 \n"
          ]
        },
        {
          "name": "stderr",
          "output_type": "stream",
          "text": [
            "27505it [11:30, 29.15it/s]"
          ]
        },
        {
          "name": "stdout",
          "output_type": "stream",
          "text": [
            "money: fact, place, addition, well, seen, practice, lack, able, way, even\n",
            "lion: punishment, september, journal, nobel, actress, concept, british, england, opposed, united\n",
            "africa: europe, india, australia, japan, america, south, china, north, germany, region\n",
            "musician: actress, actor, writer, author, singer, born, addition, football, nine, seven\n",
            "dance: music, concept, country, study, writer, singer, actor, origin, art, contemporary\n",
            "\n",
            "\n"
          ]
        },
        {
          "name": "stderr",
          "output_type": "stream",
          "text": [
            "27997it [11:42, 43.87it/s]"
          ]
        },
        {
          "name": "stdout",
          "output_type": "stream",
          "text": [
            "| epoch   7 | 28000/32580 batches | loss    1.329 \n"
          ]
        },
        {
          "name": "stderr",
          "output_type": "stream",
          "text": [
            "28006it [11:43, 28.73it/s]"
          ]
        },
        {
          "name": "stdout",
          "output_type": "stream",
          "text": [
            "money: fact, place, addition, well, seen, practice, lack, able, way, even\n",
            "lion: punishment, september, journal, nobel, actress, concept, british, england, opposed, united\n",
            "africa: europe, india, australia, japan, america, south, china, north, germany, region\n",
            "musician: actress, actor, writer, author, singer, born, addition, football, nine, seven\n",
            "dance: music, concept, country, study, writer, singer, actor, origin, art, contemporary\n",
            "\n",
            "\n"
          ]
        },
        {
          "name": "stderr",
          "output_type": "stream",
          "text": [
            "28496it [11:55, 43.46it/s]"
          ]
        },
        {
          "name": "stdout",
          "output_type": "stream",
          "text": [
            "| epoch   7 | 28500/32580 batches | loss    1.333 \n"
          ]
        },
        {
          "name": "stderr",
          "output_type": "stream",
          "text": [
            "28505it [11:55, 29.48it/s]"
          ]
        },
        {
          "name": "stdout",
          "output_type": "stream",
          "text": [
            "money: fact, place, addition, well, seen, practice, lack, able, way, even\n",
            "lion: punishment, september, journal, nobel, actress, concept, british, england, opposed, united\n",
            "africa: europe, india, australia, japan, america, south, china, north, germany, region\n",
            "musician: actress, actor, writer, author, singer, born, addition, football, nine, seven\n",
            "dance: music, concept, country, study, writer, singer, actor, origin, art, contemporary\n",
            "\n",
            "\n"
          ]
        },
        {
          "name": "stderr",
          "output_type": "stream",
          "text": [
            "28999it [12:08, 44.42it/s]"
          ]
        },
        {
          "name": "stdout",
          "output_type": "stream",
          "text": [
            "| epoch   7 | 29000/32580 batches | loss    1.328 \n"
          ]
        },
        {
          "name": "stderr",
          "output_type": "stream",
          "text": [
            "29009it [12:08, 30.25it/s]"
          ]
        },
        {
          "name": "stdout",
          "output_type": "stream",
          "text": [
            "money: fact, place, addition, well, seen, practice, lack, able, way, even\n",
            "lion: punishment, september, journal, nobel, actress, concept, british, england, opposed, united\n",
            "africa: europe, india, australia, japan, america, south, china, north, germany, region\n",
            "musician: actress, actor, writer, author, singer, born, addition, football, nine, seven\n",
            "dance: music, concept, country, study, writer, singer, actor, origin, art, contemporary\n",
            "\n",
            "\n"
          ]
        },
        {
          "name": "stderr",
          "output_type": "stream",
          "text": [
            "29497it [12:20, 43.15it/s]"
          ]
        },
        {
          "name": "stdout",
          "output_type": "stream",
          "text": [
            "| epoch   7 | 29500/32580 batches | loss    1.330 \n"
          ]
        },
        {
          "name": "stderr",
          "output_type": "stream",
          "text": [
            "29506it [12:20, 28.99it/s]"
          ]
        },
        {
          "name": "stdout",
          "output_type": "stream",
          "text": [
            "money: fact, place, addition, well, seen, practice, lack, able, way, even\n",
            "lion: punishment, september, journal, nobel, actress, concept, british, england, opposed, united\n",
            "africa: europe, india, australia, japan, america, south, china, north, germany, region\n",
            "musician: actress, actor, writer, author, singer, born, addition, football, nine, seven\n",
            "dance: music, concept, country, study, writer, singer, actor, origin, art, contemporary\n",
            "\n",
            "\n"
          ]
        },
        {
          "name": "stderr",
          "output_type": "stream",
          "text": [
            "29997it [12:33, 41.90it/s]"
          ]
        },
        {
          "name": "stdout",
          "output_type": "stream",
          "text": [
            "| epoch   7 | 30000/32580 batches | loss    1.330 \n"
          ]
        },
        {
          "name": "stderr",
          "output_type": "stream",
          "text": [
            "30006it [12:34, 29.08it/s]"
          ]
        },
        {
          "name": "stdout",
          "output_type": "stream",
          "text": [
            "money: fact, place, addition, well, seen, practice, lack, able, way, even\n",
            "lion: punishment, september, journal, nobel, actress, concept, british, england, opposed, united\n",
            "africa: europe, india, australia, japan, america, south, china, north, germany, region\n",
            "musician: actress, actor, writer, author, singer, born, addition, football, nine, seven\n",
            "dance: music, concept, country, study, writer, singer, actor, origin, art, contemporary\n",
            "\n",
            "\n"
          ]
        },
        {
          "name": "stderr",
          "output_type": "stream",
          "text": [
            "30499it [12:46, 33.32it/s]"
          ]
        },
        {
          "name": "stdout",
          "output_type": "stream",
          "text": [
            "| epoch   7 | 30500/32580 batches | loss    1.334 \n"
          ]
        },
        {
          "name": "stderr",
          "output_type": "stream",
          "text": [
            "\r30503it [12:46, 17.85it/s]"
          ]
        },
        {
          "name": "stdout",
          "output_type": "stream",
          "text": [
            "money: fact, place, addition, well, seen, practice, lack, able, way, even\n",
            "lion: punishment, september, journal, nobel, actress, concept, british, england, opposed, united\n",
            "africa: europe, india, australia, japan, america, south, china, north, germany, region\n",
            "musician: actress, actor, writer, author, singer, born, addition, football, nine, seven\n",
            "dance: music, concept, country, study, writer, singer, actor, origin, art, contemporary\n",
            "\n",
            "\n"
          ]
        },
        {
          "name": "stderr",
          "output_type": "stream",
          "text": [
            "30997it [12:58, 34.88it/s]"
          ]
        },
        {
          "name": "stdout",
          "output_type": "stream",
          "text": [
            "| epoch   7 | 31000/32580 batches | loss    1.332 \n"
          ]
        },
        {
          "name": "stderr",
          "output_type": "stream",
          "text": [
            "31004it [12:58, 20.73it/s]"
          ]
        },
        {
          "name": "stdout",
          "output_type": "stream",
          "text": [
            "money: fact, place, addition, well, seen, practice, lack, able, way, even\n",
            "lion: punishment, september, journal, nobel, actress, concept, british, england, opposed, united\n",
            "africa: europe, india, australia, japan, america, south, china, north, germany, region\n",
            "musician: actress, actor, writer, author, singer, born, addition, football, nine, seven\n",
            "dance: music, concept, country, study, writer, singer, actor, origin, art, contemporary\n",
            "\n",
            "\n"
          ]
        },
        {
          "name": "stderr",
          "output_type": "stream",
          "text": [
            "31500it [13:10, 43.82it/s]"
          ]
        },
        {
          "name": "stdout",
          "output_type": "stream",
          "text": [
            "| epoch   7 | 31500/32580 batches | loss    1.333 \n"
          ]
        },
        {
          "name": "stderr",
          "output_type": "stream",
          "text": [
            "\r31505it [13:10, 27.03it/s]"
          ]
        },
        {
          "name": "stdout",
          "output_type": "stream",
          "text": [
            "money: fact, place, addition, well, seen, practice, lack, able, way, even\n",
            "lion: punishment, september, journal, nobel, actress, concept, british, england, opposed, united\n",
            "africa: europe, india, australia, japan, america, south, china, north, germany, region\n",
            "musician: actress, actor, writer, author, singer, born, addition, football, nine, seven\n",
            "dance: music, concept, country, study, writer, singer, actor, origin, art, contemporary\n",
            "\n",
            "\n"
          ]
        },
        {
          "name": "stderr",
          "output_type": "stream",
          "text": [
            "31996it [13:22, 44.13it/s]"
          ]
        },
        {
          "name": "stdout",
          "output_type": "stream",
          "text": [
            "| epoch   7 | 32000/32580 batches | loss    1.337 \n"
          ]
        },
        {
          "name": "stderr",
          "output_type": "stream",
          "text": [
            "32005it [13:23, 29.43it/s]"
          ]
        },
        {
          "name": "stdout",
          "output_type": "stream",
          "text": [
            "money: fact, place, addition, well, seen, practice, lack, able, way, even\n",
            "lion: punishment, september, journal, nobel, actress, concept, british, england, opposed, united\n",
            "africa: europe, india, australia, japan, america, south, china, north, germany, region\n",
            "musician: actress, actor, writer, author, singer, born, addition, football, nine, seven\n",
            "dance: music, concept, country, study, writer, singer, actor, origin, art, contemporary\n",
            "\n",
            "\n"
          ]
        },
        {
          "name": "stderr",
          "output_type": "stream",
          "text": [
            "32500it [13:35, 43.77it/s]"
          ]
        },
        {
          "name": "stdout",
          "output_type": "stream",
          "text": [
            "| epoch   7 | 32500/32580 batches | loss    1.331 \n"
          ]
        },
        {
          "name": "stderr",
          "output_type": "stream",
          "text": [
            "\r32505it [13:35, 26.90it/s]"
          ]
        },
        {
          "name": "stdout",
          "output_type": "stream",
          "text": [
            "money: fact, place, addition, well, seen, practice, lack, able, way, even\n",
            "lion: punishment, september, journal, nobel, actress, concept, british, england, opposed, united\n",
            "africa: europe, india, australia, japan, america, south, china, north, germany, region\n",
            "musician: actress, actor, writer, author, singer, born, addition, football, nine, seven\n",
            "dance: music, concept, country, study, writer, singer, actor, origin, art, contemporary\n",
            "\n",
            "\n"
          ]
        },
        {
          "name": "stderr",
          "output_type": "stream",
          "text": [
            "32580it [13:38, 39.80it/s]\n",
            "0it [00:00, ?it/s]"
          ]
        },
        {
          "name": "stdout",
          "output_type": "stream",
          "text": [
            "| epoch   8 |     0/32580 batches | loss    1.317 \n"
          ]
        },
        {
          "name": "stderr",
          "output_type": "stream",
          "text": [
            "4it [00:02,  2.43it/s]"
          ]
        },
        {
          "name": "stdout",
          "output_type": "stream",
          "text": [
            "money: fact, place, addition, well, seen, practice, lack, able, way, even\n",
            "lion: punishment, september, journal, nobel, actress, concept, british, england, opposed, united\n",
            "africa: europe, india, australia, japan, america, south, china, north, germany, region\n",
            "musician: actress, actor, writer, author, singer, born, addition, football, nine, seven\n",
            "dance: music, concept, country, study, writer, singer, actor, origin, art, contemporary\n",
            "\n",
            "\n"
          ]
        },
        {
          "name": "stderr",
          "output_type": "stream",
          "text": [
            "497it [00:13, 36.18it/s]"
          ]
        },
        {
          "name": "stdout",
          "output_type": "stream",
          "text": [
            "| epoch   8 |   500/32580 batches | loss    1.328 \n"
          ]
        },
        {
          "name": "stderr",
          "output_type": "stream",
          "text": [
            "504it [00:14, 21.39it/s]"
          ]
        },
        {
          "name": "stdout",
          "output_type": "stream",
          "text": [
            "money: fact, place, addition, well, seen, practice, lack, able, way, even\n",
            "lion: punishment, september, journal, nobel, actress, concept, british, england, opposed, united\n",
            "africa: europe, india, australia, japan, america, south, china, north, germany, region\n",
            "musician: actress, actor, writer, author, singer, born, addition, football, nine, seven\n",
            "dance: music, concept, country, study, writer, singer, actor, origin, art, contemporary\n",
            "\n",
            "\n"
          ]
        },
        {
          "name": "stderr",
          "output_type": "stream",
          "text": [
            "1000it [00:26, 44.52it/s]"
          ]
        },
        {
          "name": "stdout",
          "output_type": "stream",
          "text": [
            "| epoch   8 |  1000/32580 batches | loss    1.333 \n"
          ]
        },
        {
          "name": "stderr",
          "output_type": "stream",
          "text": [
            "\r1005it [00:26, 27.11it/s]"
          ]
        },
        {
          "name": "stdout",
          "output_type": "stream",
          "text": [
            "money: fact, place, addition, well, seen, practice, lack, able, way, even\n",
            "lion: punishment, september, journal, nobel, actress, concept, british, england, opposed, united\n",
            "africa: europe, india, australia, japan, america, south, china, north, germany, region\n",
            "musician: actress, actor, writer, author, singer, born, addition, football, nine, seven\n",
            "dance: music, concept, country, study, writer, singer, actor, origin, art, contemporary\n",
            "\n",
            "\n"
          ]
        },
        {
          "name": "stderr",
          "output_type": "stream",
          "text": [
            "1500it [00:38, 44.37it/s]"
          ]
        },
        {
          "name": "stdout",
          "output_type": "stream",
          "text": [
            "| epoch   8 |  1500/32580 batches | loss    1.329 \n"
          ]
        },
        {
          "name": "stderr",
          "output_type": "stream",
          "text": [
            "\r1505it [00:38, 27.12it/s]"
          ]
        },
        {
          "name": "stdout",
          "output_type": "stream",
          "text": [
            "money: fact, place, addition, well, seen, practice, lack, able, way, even\n",
            "lion: punishment, september, journal, nobel, actress, concept, british, england, opposed, united\n",
            "africa: europe, india, australia, japan, america, south, china, north, germany, region\n",
            "musician: actress, actor, writer, author, singer, born, addition, football, nine, seven\n",
            "dance: music, concept, country, study, writer, singer, actor, origin, art, contemporary\n",
            "\n",
            "\n"
          ]
        },
        {
          "name": "stderr",
          "output_type": "stream",
          "text": [
            "2000it [00:51, 43.50it/s]"
          ]
        },
        {
          "name": "stdout",
          "output_type": "stream",
          "text": [
            "| epoch   8 |  2000/32580 batches | loss    1.335 \n"
          ]
        },
        {
          "name": "stderr",
          "output_type": "stream",
          "text": [
            "\r2005it [00:51, 27.12it/s]"
          ]
        },
        {
          "name": "stdout",
          "output_type": "stream",
          "text": [
            "money: fact, place, addition, well, seen, practice, lack, able, way, even\n",
            "lion: punishment, september, journal, nobel, actress, concept, british, england, opposed, united\n",
            "africa: europe, india, australia, japan, america, south, china, north, germany, region\n",
            "musician: actress, actor, writer, author, singer, born, addition, football, nine, seven\n",
            "dance: music, concept, country, study, writer, singer, actor, origin, art, contemporary\n",
            "\n",
            "\n"
          ]
        },
        {
          "name": "stderr",
          "output_type": "stream",
          "text": [
            "2498it [01:03, 43.62it/s]"
          ]
        },
        {
          "name": "stdout",
          "output_type": "stream",
          "text": [
            "| epoch   8 |  2500/32580 batches | loss    1.333 \n"
          ]
        },
        {
          "name": "stderr",
          "output_type": "stream",
          "text": [
            "2507it [01:03, 27.38it/s]"
          ]
        },
        {
          "name": "stdout",
          "output_type": "stream",
          "text": [
            "money: fact, place, addition, well, seen, practice, lack, able, way, even\n",
            "lion: punishment, september, journal, nobel, actress, concept, british, england, opposed, united\n",
            "africa: europe, india, australia, japan, america, south, china, north, germany, region\n",
            "musician: actress, actor, writer, author, singer, born, addition, football, nine, seven\n",
            "dance: music, concept, country, study, writer, singer, actor, origin, art, contemporary\n",
            "\n",
            "\n"
          ]
        },
        {
          "name": "stderr",
          "output_type": "stream",
          "text": [
            "2999it [01:16, 44.38it/s]"
          ]
        },
        {
          "name": "stdout",
          "output_type": "stream",
          "text": [
            "| epoch   8 |  3000/32580 batches | loss    1.331 \n"
          ]
        },
        {
          "name": "stderr",
          "output_type": "stream",
          "text": [
            "3009it [01:16, 30.57it/s]"
          ]
        },
        {
          "name": "stdout",
          "output_type": "stream",
          "text": [
            "money: fact, place, addition, well, seen, practice, lack, able, way, even\n",
            "lion: punishment, september, journal, nobel, actress, concept, british, england, opposed, united\n",
            "africa: europe, india, australia, japan, america, south, china, north, germany, region\n",
            "musician: actress, actor, writer, author, singer, born, addition, football, nine, seven\n",
            "dance: music, concept, country, study, writer, singer, actor, origin, art, contemporary\n",
            "\n",
            "\n"
          ]
        },
        {
          "name": "stderr",
          "output_type": "stream",
          "text": [
            "3498it [01:28, 43.89it/s]"
          ]
        },
        {
          "name": "stdout",
          "output_type": "stream",
          "text": [
            "| epoch   8 |  3500/32580 batches | loss    1.332 \n"
          ]
        },
        {
          "name": "stderr",
          "output_type": "stream",
          "text": [
            "3508it [01:29, 30.44it/s]"
          ]
        },
        {
          "name": "stdout",
          "output_type": "stream",
          "text": [
            "money: fact, place, addition, well, seen, practice, lack, able, way, even\n",
            "lion: punishment, september, journal, nobel, actress, concept, british, england, opposed, united\n",
            "africa: europe, india, australia, japan, america, south, china, north, germany, region\n",
            "musician: actress, actor, writer, author, singer, born, addition, football, nine, seven\n",
            "dance: music, concept, country, study, writer, singer, actor, origin, art, contemporary\n",
            "\n",
            "\n"
          ]
        },
        {
          "name": "stderr",
          "output_type": "stream",
          "text": [
            "3997it [01:41, 43.22it/s]"
          ]
        },
        {
          "name": "stdout",
          "output_type": "stream",
          "text": [
            "| epoch   8 |  4000/32580 batches | loss    1.330 \n"
          ]
        },
        {
          "name": "stderr",
          "output_type": "stream",
          "text": [
            "4006it [01:41, 29.28it/s]"
          ]
        },
        {
          "name": "stdout",
          "output_type": "stream",
          "text": [
            "money: fact, place, addition, well, seen, practice, lack, able, way, even\n",
            "lion: punishment, september, journal, nobel, actress, concept, british, england, opposed, united\n",
            "africa: europe, india, australia, japan, america, south, china, north, germany, region\n",
            "musician: actress, actor, writer, author, singer, born, addition, football, nine, seven\n",
            "dance: music, concept, country, study, writer, singer, actor, origin, art, contemporary\n",
            "\n",
            "\n"
          ]
        },
        {
          "name": "stderr",
          "output_type": "stream",
          "text": [
            "4500it [01:53, 33.87it/s]"
          ]
        },
        {
          "name": "stdout",
          "output_type": "stream",
          "text": [
            "| epoch   8 |  4500/32580 batches | loss    1.333 \n"
          ]
        },
        {
          "name": "stderr",
          "output_type": "stream",
          "text": [
            "4509it [01:54, 26.33it/s]"
          ]
        },
        {
          "name": "stdout",
          "output_type": "stream",
          "text": [
            "money: fact, place, addition, well, seen, practice, lack, able, way, even\n",
            "lion: punishment, september, journal, nobel, actress, concept, british, england, opposed, united\n",
            "africa: europe, india, australia, japan, america, south, china, north, germany, region\n",
            "musician: actress, actor, writer, author, singer, born, addition, football, nine, seven\n",
            "dance: music, concept, country, study, writer, singer, actor, origin, art, contemporary\n",
            "\n",
            "\n"
          ]
        },
        {
          "name": "stderr",
          "output_type": "stream",
          "text": [
            "4998it [02:05, 34.31it/s]"
          ]
        },
        {
          "name": "stdout",
          "output_type": "stream",
          "text": [
            "| epoch   8 |  5000/32580 batches | loss    1.333 \n"
          ]
        },
        {
          "name": "stderr",
          "output_type": "stream",
          "text": [
            "5005it [02:06, 20.49it/s]"
          ]
        },
        {
          "name": "stdout",
          "output_type": "stream",
          "text": [
            "money: fact, place, addition, well, seen, practice, lack, able, way, even\n",
            "lion: punishment, september, journal, nobel, actress, concept, british, england, opposed, united\n",
            "africa: europe, india, australia, japan, america, south, china, north, germany, region\n",
            "musician: actress, actor, writer, author, singer, born, addition, football, nine, seven\n",
            "dance: music, concept, country, study, writer, singer, actor, origin, art, contemporary\n",
            "\n",
            "\n"
          ]
        },
        {
          "name": "stderr",
          "output_type": "stream",
          "text": [
            "5499it [02:17, 37.73it/s]"
          ]
        },
        {
          "name": "stdout",
          "output_type": "stream",
          "text": [
            "| epoch   8 |  5500/32580 batches | loss    1.333 \n"
          ]
        },
        {
          "name": "stderr",
          "output_type": "stream",
          "text": [
            "\r5503it [02:18, 20.94it/s]"
          ]
        },
        {
          "name": "stdout",
          "output_type": "stream",
          "text": [
            "money: fact, place, addition, well, seen, practice, lack, able, way, even\n",
            "lion: punishment, september, journal, nobel, actress, concept, british, england, opposed, united\n",
            "africa: europe, india, australia, japan, america, south, china, north, germany, region\n",
            "musician: actress, actor, writer, author, singer, born, addition, football, nine, seven\n",
            "dance: music, concept, country, study, writer, singer, actor, origin, art, contemporary\n",
            "\n",
            "\n"
          ]
        },
        {
          "name": "stderr",
          "output_type": "stream",
          "text": [
            "5997it [02:30, 44.23it/s]"
          ]
        },
        {
          "name": "stdout",
          "output_type": "stream",
          "text": [
            "| epoch   8 |  6000/32580 batches | loss    1.330 \n"
          ]
        },
        {
          "name": "stderr",
          "output_type": "stream",
          "text": [
            "6006it [02:30, 29.15it/s]"
          ]
        },
        {
          "name": "stdout",
          "output_type": "stream",
          "text": [
            "money: fact, place, addition, well, seen, practice, lack, able, way, even\n",
            "lion: punishment, september, journal, nobel, actress, concept, british, england, opposed, united\n",
            "africa: europe, india, australia, japan, america, south, china, north, germany, region\n",
            "musician: actress, actor, writer, author, singer, born, addition, football, nine, seven\n",
            "dance: music, concept, country, study, writer, singer, actor, origin, art, contemporary\n",
            "\n",
            "\n"
          ]
        },
        {
          "name": "stderr",
          "output_type": "stream",
          "text": [
            "6499it [02:42, 44.19it/s]"
          ]
        },
        {
          "name": "stdout",
          "output_type": "stream",
          "text": [
            "| epoch   8 |  6500/32580 batches | loss    1.332 \n"
          ]
        },
        {
          "name": "stderr",
          "output_type": "stream",
          "text": [
            "6509it [02:43, 30.54it/s]"
          ]
        },
        {
          "name": "stdout",
          "output_type": "stream",
          "text": [
            "money: fact, place, addition, well, seen, practice, lack, able, way, even\n",
            "lion: punishment, september, journal, nobel, actress, concept, british, england, opposed, united\n",
            "africa: europe, india, australia, japan, america, south, china, north, germany, region\n",
            "musician: actress, actor, writer, author, singer, born, addition, football, nine, seven\n",
            "dance: music, concept, country, study, writer, singer, actor, origin, art, contemporary\n",
            "\n",
            "\n"
          ]
        },
        {
          "name": "stderr",
          "output_type": "stream",
          "text": [
            "6998it [02:56, 38.42it/s]"
          ]
        },
        {
          "name": "stdout",
          "output_type": "stream",
          "text": [
            "| epoch   8 |  7000/32580 batches | loss    1.334 \n"
          ]
        },
        {
          "name": "stderr",
          "output_type": "stream",
          "text": [
            "7006it [02:56, 25.80it/s]"
          ]
        },
        {
          "name": "stdout",
          "output_type": "stream",
          "text": [
            "money: fact, place, addition, well, seen, practice, lack, able, way, even\n",
            "lion: punishment, september, journal, nobel, actress, concept, british, england, opposed, united\n",
            "africa: europe, india, australia, japan, america, south, china, north, germany, region\n",
            "musician: actress, actor, writer, author, singer, born, addition, football, nine, seven\n",
            "dance: music, concept, country, study, writer, singer, actor, origin, art, contemporary\n",
            "\n",
            "\n"
          ]
        },
        {
          "name": "stderr",
          "output_type": "stream",
          "text": [
            "7499it [03:08, 43.90it/s]"
          ]
        },
        {
          "name": "stdout",
          "output_type": "stream",
          "text": [
            "| epoch   8 |  7500/32580 batches | loss    1.330 \n"
          ]
        },
        {
          "name": "stderr",
          "output_type": "stream",
          "text": [
            "7509it [03:09, 30.15it/s]"
          ]
        },
        {
          "name": "stdout",
          "output_type": "stream",
          "text": [
            "money: fact, place, addition, well, seen, practice, lack, able, way, even\n",
            "lion: punishment, september, journal, nobel, actress, concept, british, england, opposed, united\n",
            "africa: europe, india, australia, japan, america, south, china, north, germany, region\n",
            "musician: actress, actor, writer, author, singer, born, addition, football, nine, seven\n",
            "dance: music, concept, country, study, writer, singer, actor, origin, art, contemporary\n",
            "\n",
            "\n"
          ]
        },
        {
          "name": "stderr",
          "output_type": "stream",
          "text": [
            "7999it [03:21, 43.74it/s]"
          ]
        },
        {
          "name": "stdout",
          "output_type": "stream",
          "text": [
            "| epoch   8 |  8000/32580 batches | loss    1.330 \n"
          ]
        },
        {
          "name": "stderr",
          "output_type": "stream",
          "text": [
            "\r8004it [03:21, 26.92it/s]"
          ]
        },
        {
          "name": "stdout",
          "output_type": "stream",
          "text": [
            "money: fact, place, addition, well, seen, practice, lack, able, way, even\n",
            "lion: punishment, september, journal, nobel, actress, concept, british, england, opposed, united\n",
            "africa: europe, india, australia, japan, america, south, china, north, germany, region\n",
            "musician: actress, actor, writer, author, singer, born, addition, football, nine, seven\n",
            "dance: music, concept, country, study, writer, singer, actor, origin, art, contemporary\n",
            "\n",
            "\n"
          ]
        },
        {
          "name": "stderr",
          "output_type": "stream",
          "text": [
            "8499it [03:33, 42.30it/s]"
          ]
        },
        {
          "name": "stdout",
          "output_type": "stream",
          "text": [
            "| epoch   8 |  8500/32580 batches | loss    1.328 \n"
          ]
        },
        {
          "name": "stderr",
          "output_type": "stream",
          "text": [
            "8509it [03:34, 29.39it/s]"
          ]
        },
        {
          "name": "stdout",
          "output_type": "stream",
          "text": [
            "money: fact, place, addition, well, seen, practice, lack, able, way, even\n",
            "lion: punishment, september, journal, nobel, actress, concept, british, england, opposed, united\n",
            "africa: europe, india, australia, japan, america, south, china, north, germany, region\n",
            "musician: actress, actor, writer, author, singer, born, addition, football, nine, seven\n",
            "dance: music, concept, country, study, writer, singer, actor, origin, art, contemporary\n",
            "\n",
            "\n"
          ]
        },
        {
          "name": "stderr",
          "output_type": "stream",
          "text": [
            "8998it [03:46, 43.76it/s]"
          ]
        },
        {
          "name": "stdout",
          "output_type": "stream",
          "text": [
            "| epoch   8 |  9000/32580 batches | loss    1.332 \n"
          ]
        },
        {
          "name": "stderr",
          "output_type": "stream",
          "text": [
            "9008it [03:46, 30.56it/s]"
          ]
        },
        {
          "name": "stdout",
          "output_type": "stream",
          "text": [
            "money: fact, place, addition, well, seen, practice, lack, able, way, even\n",
            "lion: punishment, september, journal, nobel, actress, concept, british, england, opposed, united\n",
            "africa: europe, india, australia, japan, america, south, china, north, germany, region\n",
            "musician: actress, actor, writer, author, singer, born, addition, football, nine, seven\n",
            "dance: music, concept, country, study, writer, singer, actor, origin, art, contemporary\n",
            "\n",
            "\n"
          ]
        },
        {
          "name": "stderr",
          "output_type": "stream",
          "text": [
            "9500it [03:59, 39.98it/s]"
          ]
        },
        {
          "name": "stdout",
          "output_type": "stream",
          "text": [
            "| epoch   8 |  9500/32580 batches | loss    1.335 \n"
          ]
        },
        {
          "name": "stderr",
          "output_type": "stream",
          "text": [
            "9508it [03:59, 26.03it/s]"
          ]
        },
        {
          "name": "stdout",
          "output_type": "stream",
          "text": [
            "money: fact, place, addition, well, seen, practice, lack, able, way, even\n",
            "lion: punishment, september, journal, nobel, actress, concept, british, england, opposed, united\n",
            "africa: europe, india, australia, japan, america, south, china, north, germany, region\n",
            "musician: actress, actor, writer, author, singer, born, addition, football, nine, seven\n",
            "dance: music, concept, country, study, writer, singer, actor, origin, art, contemporary\n",
            "\n",
            "\n"
          ]
        },
        {
          "name": "stderr",
          "output_type": "stream",
          "text": [
            "10000it [04:11, 33.58it/s]"
          ]
        },
        {
          "name": "stdout",
          "output_type": "stream",
          "text": [
            "| epoch   8 | 10000/32580 batches | loss    1.334 \n"
          ]
        },
        {
          "name": "stderr",
          "output_type": "stream",
          "text": [
            "\r10004it [04:12, 18.46it/s]"
          ]
        },
        {
          "name": "stdout",
          "output_type": "stream",
          "text": [
            "money: fact, place, addition, well, seen, practice, lack, able, way, even\n",
            "lion: punishment, september, journal, nobel, actress, concept, british, england, opposed, united\n",
            "africa: europe, india, australia, japan, america, south, china, north, germany, region\n",
            "musician: actress, actor, writer, author, singer, born, addition, football, nine, seven\n",
            "dance: music, concept, country, study, writer, singer, actor, origin, art, contemporary\n",
            "\n",
            "\n"
          ]
        },
        {
          "name": "stderr",
          "output_type": "stream",
          "text": [
            "10500it [04:23, 33.36it/s]"
          ]
        },
        {
          "name": "stdout",
          "output_type": "stream",
          "text": [
            "| epoch   8 | 10500/32580 batches | loss    1.332 \n"
          ]
        },
        {
          "name": "stderr",
          "output_type": "stream",
          "text": [
            "\r10504it [04:24, 18.25it/s]"
          ]
        },
        {
          "name": "stdout",
          "output_type": "stream",
          "text": [
            "money: fact, place, addition, well, seen, practice, lack, able, way, even\n",
            "lion: punishment, september, journal, nobel, actress, concept, british, england, opposed, united\n",
            "africa: europe, india, australia, japan, america, south, china, north, germany, region\n",
            "musician: actress, actor, writer, author, singer, born, addition, football, nine, seven\n",
            "dance: music, concept, country, study, writer, singer, actor, origin, art, contemporary\n",
            "\n",
            "\n"
          ]
        },
        {
          "name": "stderr",
          "output_type": "stream",
          "text": [
            "10999it [04:35, 44.58it/s]"
          ]
        },
        {
          "name": "stdout",
          "output_type": "stream",
          "text": [
            "| epoch   8 | 11000/32580 batches | loss    1.334 \n"
          ]
        },
        {
          "name": "stderr",
          "output_type": "stream",
          "text": [
            "\r11004it [04:36, 23.68it/s]"
          ]
        },
        {
          "name": "stdout",
          "output_type": "stream",
          "text": [
            "money: fact, place, addition, well, seen, practice, lack, able, way, even\n",
            "lion: punishment, september, journal, nobel, actress, concept, british, england, opposed, united\n",
            "africa: europe, india, australia, japan, america, south, china, north, germany, region\n",
            "musician: actress, actor, writer, author, singer, born, addition, football, nine, seven\n",
            "dance: music, concept, country, study, writer, singer, actor, origin, art, contemporary\n",
            "\n",
            "\n"
          ]
        },
        {
          "name": "stderr",
          "output_type": "stream",
          "text": [
            "11499it [04:48, 44.29it/s]"
          ]
        },
        {
          "name": "stdout",
          "output_type": "stream",
          "text": [
            "| epoch   8 | 11500/32580 batches | loss    1.331 \n"
          ]
        },
        {
          "name": "stderr",
          "output_type": "stream",
          "text": [
            "\r11504it [04:48, 27.09it/s]"
          ]
        },
        {
          "name": "stdout",
          "output_type": "stream",
          "text": [
            "money: fact, place, addition, well, seen, practice, lack, able, way, even\n",
            "lion: punishment, september, journal, nobel, actress, concept, british, england, opposed, united\n",
            "africa: europe, india, australia, japan, america, south, china, north, germany, region\n",
            "musician: actress, actor, writer, author, singer, born, addition, football, nine, seven\n",
            "dance: music, concept, country, study, writer, singer, actor, origin, art, contemporary\n",
            "\n",
            "\n"
          ]
        },
        {
          "name": "stderr",
          "output_type": "stream",
          "text": [
            "11997it [05:00, 43.85it/s]"
          ]
        },
        {
          "name": "stdout",
          "output_type": "stream",
          "text": [
            "| epoch   8 | 12000/32580 batches | loss    1.329 \n"
          ]
        },
        {
          "name": "stderr",
          "output_type": "stream",
          "text": [
            "12006it [05:01, 29.07it/s]"
          ]
        },
        {
          "name": "stdout",
          "output_type": "stream",
          "text": [
            "money: fact, place, addition, well, seen, practice, lack, able, way, even\n",
            "lion: punishment, september, journal, nobel, actress, concept, british, england, opposed, united\n",
            "africa: europe, india, australia, japan, america, south, china, north, germany, region\n",
            "musician: actress, actor, writer, author, singer, born, addition, football, nine, seven\n",
            "dance: music, concept, country, study, writer, singer, actor, origin, art, contemporary\n",
            "\n",
            "\n"
          ]
        },
        {
          "name": "stderr",
          "output_type": "stream",
          "text": [
            "12498it [05:13, 44.20it/s]"
          ]
        },
        {
          "name": "stdout",
          "output_type": "stream",
          "text": [
            "| epoch   8 | 12500/32580 batches | loss    1.332 \n"
          ]
        },
        {
          "name": "stderr",
          "output_type": "stream",
          "text": [
            "12507it [05:13, 29.35it/s]"
          ]
        },
        {
          "name": "stdout",
          "output_type": "stream",
          "text": [
            "money: fact, place, addition, well, seen, practice, lack, able, way, even\n",
            "lion: punishment, september, journal, nobel, actress, concept, british, england, opposed, united\n",
            "africa: europe, india, australia, japan, america, south, china, north, germany, region\n",
            "musician: actress, actor, writer, author, singer, born, addition, football, nine, seven\n",
            "dance: music, concept, country, study, writer, singer, actor, origin, art, contemporary\n",
            "\n",
            "\n"
          ]
        },
        {
          "name": "stderr",
          "output_type": "stream",
          "text": [
            "12998it [05:26, 43.94it/s]"
          ]
        },
        {
          "name": "stdout",
          "output_type": "stream",
          "text": [
            "| epoch   8 | 13000/32580 batches | loss    1.334 \n"
          ]
        },
        {
          "name": "stderr",
          "output_type": "stream",
          "text": [
            "13007it [05:26, 29.33it/s]"
          ]
        },
        {
          "name": "stdout",
          "output_type": "stream",
          "text": [
            "money: fact, place, addition, well, seen, practice, lack, able, way, even\n",
            "lion: punishment, september, journal, nobel, actress, concept, british, england, opposed, united\n",
            "africa: europe, india, australia, japan, america, south, china, north, germany, region\n",
            "musician: actress, actor, writer, author, singer, born, addition, football, nine, seven\n",
            "dance: music, concept, country, study, writer, singer, actor, origin, art, contemporary\n",
            "\n",
            "\n"
          ]
        },
        {
          "name": "stderr",
          "output_type": "stream",
          "text": [
            "13499it [05:41, 43.40it/s]"
          ]
        },
        {
          "name": "stdout",
          "output_type": "stream",
          "text": [
            "| epoch   8 | 13500/32580 batches | loss    1.329 \n"
          ]
        },
        {
          "name": "stderr",
          "output_type": "stream",
          "text": [
            "13509it [05:41, 30.53it/s]"
          ]
        },
        {
          "name": "stdout",
          "output_type": "stream",
          "text": [
            "money: fact, place, addition, well, seen, practice, lack, able, way, even\n",
            "lion: punishment, september, journal, nobel, actress, concept, british, england, opposed, united\n",
            "africa: europe, india, australia, japan, america, south, china, north, germany, region\n",
            "musician: actress, actor, writer, author, singer, born, addition, football, nine, seven\n",
            "dance: music, concept, country, study, writer, singer, actor, origin, art, contemporary\n",
            "\n",
            "\n"
          ]
        },
        {
          "name": "stderr",
          "output_type": "stream",
          "text": [
            "13999it [05:54, 43.24it/s]"
          ]
        },
        {
          "name": "stdout",
          "output_type": "stream",
          "text": [
            "| epoch   8 | 14000/32580 batches | loss    1.327 \n"
          ]
        },
        {
          "name": "stderr",
          "output_type": "stream",
          "text": [
            "14009it [05:54, 30.27it/s]"
          ]
        },
        {
          "name": "stdout",
          "output_type": "stream",
          "text": [
            "money: fact, place, addition, well, seen, practice, lack, able, way, even\n",
            "lion: punishment, september, journal, nobel, actress, concept, british, england, opposed, united\n",
            "africa: europe, india, australia, japan, america, south, china, north, germany, region\n",
            "musician: actress, actor, writer, author, singer, born, addition, football, nine, seven\n",
            "dance: music, concept, country, study, writer, singer, actor, origin, art, contemporary\n",
            "\n",
            "\n"
          ]
        },
        {
          "name": "stderr",
          "output_type": "stream",
          "text": [
            "14498it [06:06, 43.63it/s]"
          ]
        },
        {
          "name": "stdout",
          "output_type": "stream",
          "text": [
            "| epoch   8 | 14500/32580 batches | loss    1.332 \n"
          ]
        },
        {
          "name": "stderr",
          "output_type": "stream",
          "text": [
            "14508it [06:07, 30.21it/s]"
          ]
        },
        {
          "name": "stdout",
          "output_type": "stream",
          "text": [
            "money: fact, place, addition, well, seen, practice, lack, able, way, even\n",
            "lion: punishment, september, journal, nobel, actress, concept, british, england, opposed, united\n",
            "africa: europe, india, australia, japan, america, south, china, north, germany, region\n",
            "musician: actress, actor, writer, author, singer, born, addition, football, nine, seven\n",
            "dance: music, concept, country, study, writer, singer, actor, origin, art, contemporary\n",
            "\n",
            "\n"
          ]
        },
        {
          "name": "stderr",
          "output_type": "stream",
          "text": [
            "14997it [06:19, 44.36it/s]"
          ]
        },
        {
          "name": "stdout",
          "output_type": "stream",
          "text": [
            "| epoch   8 | 15000/32580 batches | loss    1.326 \n"
          ]
        },
        {
          "name": "stderr",
          "output_type": "stream",
          "text": [
            "15007it [06:19, 30.15it/s]"
          ]
        },
        {
          "name": "stdout",
          "output_type": "stream",
          "text": [
            "money: fact, place, addition, well, seen, practice, lack, able, way, even\n",
            "lion: punishment, september, journal, nobel, actress, concept, british, england, opposed, united\n",
            "africa: europe, india, australia, japan, america, south, china, north, germany, region\n",
            "musician: actress, actor, writer, author, singer, born, addition, football, nine, seven\n",
            "dance: music, concept, country, study, writer, singer, actor, origin, art, contemporary\n",
            "\n",
            "\n"
          ]
        },
        {
          "name": "stderr",
          "output_type": "stream",
          "text": [
            "15497it [06:31, 43.68it/s]"
          ]
        },
        {
          "name": "stdout",
          "output_type": "stream",
          "text": [
            "| epoch   8 | 15500/32580 batches | loss    1.328 \n"
          ]
        },
        {
          "name": "stderr",
          "output_type": "stream",
          "text": [
            "15506it [06:32, 29.41it/s]"
          ]
        },
        {
          "name": "stdout",
          "output_type": "stream",
          "text": [
            "money: fact, place, addition, well, seen, practice, lack, able, way, even\n",
            "lion: punishment, september, journal, nobel, actress, concept, british, england, opposed, united\n",
            "africa: europe, india, australia, japan, america, south, china, north, germany, region\n",
            "musician: actress, actor, writer, author, singer, born, addition, football, nine, seven\n",
            "dance: music, concept, country, study, writer, singer, actor, origin, art, contemporary\n",
            "\n",
            "\n"
          ]
        },
        {
          "name": "stderr",
          "output_type": "stream",
          "text": [
            "15999it [06:44, 35.23it/s]"
          ]
        },
        {
          "name": "stdout",
          "output_type": "stream",
          "text": [
            "| epoch   8 | 16000/32580 batches | loss    1.326 \n"
          ]
        },
        {
          "name": "stderr",
          "output_type": "stream",
          "text": [
            "16007it [06:44, 21.67it/s]"
          ]
        },
        {
          "name": "stdout",
          "output_type": "stream",
          "text": [
            "money: fact, place, addition, well, seen, practice, lack, able, way, even\n",
            "lion: punishment, september, journal, nobel, actress, concept, british, england, opposed, united\n",
            "africa: europe, india, australia, japan, america, south, china, north, germany, region\n",
            "musician: actress, actor, writer, author, singer, born, addition, football, nine, seven\n",
            "dance: music, concept, country, study, writer, singer, actor, origin, art, contemporary\n",
            "\n",
            "\n"
          ]
        },
        {
          "name": "stderr",
          "output_type": "stream",
          "text": [
            "16500it [06:56, 34.68it/s]"
          ]
        },
        {
          "name": "stdout",
          "output_type": "stream",
          "text": [
            "| epoch   8 | 16500/32580 batches | loss    1.336 \n"
          ]
        },
        {
          "name": "stderr",
          "output_type": "stream",
          "text": [
            "\r16504it [06:56, 18.32it/s]"
          ]
        },
        {
          "name": "stdout",
          "output_type": "stream",
          "text": [
            "money: fact, place, addition, well, seen, practice, lack, able, way, even\n",
            "lion: punishment, september, journal, nobel, actress, concept, british, england, opposed, united\n",
            "africa: europe, india, australia, japan, america, south, china, north, germany, region\n",
            "musician: actress, actor, writer, author, singer, born, addition, football, nine, seven\n",
            "dance: music, concept, country, study, writer, singer, actor, origin, art, contemporary\n",
            "\n",
            "\n"
          ]
        },
        {
          "name": "stderr",
          "output_type": "stream",
          "text": [
            "16998it [07:09, 32.80it/s]"
          ]
        },
        {
          "name": "stdout",
          "output_type": "stream",
          "text": [
            "| epoch   8 | 17000/32580 batches | loss    1.334 \n"
          ]
        },
        {
          "name": "stderr",
          "output_type": "stream",
          "text": [
            "17006it [07:10, 20.54it/s]"
          ]
        },
        {
          "name": "stdout",
          "output_type": "stream",
          "text": [
            "money: fact, place, addition, well, seen, practice, lack, able, way, even\n",
            "lion: punishment, september, journal, nobel, actress, concept, british, england, opposed, united\n",
            "africa: europe, india, australia, japan, america, south, china, north, germany, region\n",
            "musician: actress, actor, writer, author, singer, born, addition, football, nine, seven\n",
            "dance: music, concept, country, study, writer, singer, actor, origin, art, contemporary\n",
            "\n",
            "\n"
          ]
        },
        {
          "name": "stderr",
          "output_type": "stream",
          "text": [
            "17497it [07:22, 43.56it/s]"
          ]
        },
        {
          "name": "stdout",
          "output_type": "stream",
          "text": [
            "| epoch   8 | 17500/32580 batches | loss    1.333 \n"
          ]
        },
        {
          "name": "stderr",
          "output_type": "stream",
          "text": [
            "17506it [07:22, 27.69it/s]"
          ]
        },
        {
          "name": "stdout",
          "output_type": "stream",
          "text": [
            "money: fact, place, addition, well, seen, practice, lack, able, way, even\n",
            "lion: punishment, september, journal, nobel, actress, concept, british, england, opposed, united\n",
            "africa: europe, india, australia, japan, america, south, china, north, germany, region\n",
            "musician: actress, actor, writer, author, singer, born, addition, football, nine, seven\n",
            "dance: music, concept, country, study, writer, singer, actor, origin, art, contemporary\n",
            "\n",
            "\n"
          ]
        },
        {
          "name": "stderr",
          "output_type": "stream",
          "text": [
            "17999it [07:34, 44.52it/s]"
          ]
        },
        {
          "name": "stdout",
          "output_type": "stream",
          "text": [
            "| epoch   8 | 18000/32580 batches | loss    1.332 \n"
          ]
        },
        {
          "name": "stderr",
          "output_type": "stream",
          "text": [
            "\r18004it [07:34, 26.54it/s]"
          ]
        },
        {
          "name": "stdout",
          "output_type": "stream",
          "text": [
            "money: fact, place, addition, well, seen, practice, lack, able, way, even\n",
            "lion: punishment, september, journal, nobel, actress, concept, british, england, opposed, united\n",
            "africa: europe, india, australia, japan, america, south, china, north, germany, region\n",
            "musician: actress, actor, writer, author, singer, born, addition, football, nine, seven\n",
            "dance: music, concept, country, study, writer, singer, actor, origin, art, contemporary\n",
            "\n",
            "\n"
          ]
        },
        {
          "name": "stderr",
          "output_type": "stream",
          "text": [
            "18500it [07:47, 43.80it/s]"
          ]
        },
        {
          "name": "stdout",
          "output_type": "stream",
          "text": [
            "| epoch   8 | 18500/32580 batches | loss    1.330 \n"
          ]
        },
        {
          "name": "stderr",
          "output_type": "stream",
          "text": [
            "\r18505it [07:47, 27.19it/s]"
          ]
        },
        {
          "name": "stdout",
          "output_type": "stream",
          "text": [
            "money: fact, place, addition, well, seen, practice, lack, able, way, even\n",
            "lion: punishment, september, journal, nobel, actress, concept, british, england, opposed, united\n",
            "africa: europe, india, australia, japan, america, south, china, north, germany, region\n",
            "musician: actress, actor, writer, author, singer, born, addition, football, nine, seven\n",
            "dance: music, concept, country, study, writer, singer, actor, origin, art, contemporary\n",
            "\n",
            "\n"
          ]
        },
        {
          "name": "stderr",
          "output_type": "stream",
          "text": [
            "18999it [07:59, 43.45it/s]"
          ]
        },
        {
          "name": "stdout",
          "output_type": "stream",
          "text": [
            "| epoch   8 | 19000/32580 batches | loss    1.334 \n"
          ]
        },
        {
          "name": "stderr",
          "output_type": "stream",
          "text": [
            "\r19004it [07:59, 26.75it/s]"
          ]
        },
        {
          "name": "stdout",
          "output_type": "stream",
          "text": [
            "money: fact, place, addition, well, seen, practice, lack, able, way, even\n",
            "lion: punishment, september, journal, nobel, actress, concept, british, england, opposed, united\n",
            "africa: europe, india, australia, japan, america, south, china, north, germany, region\n",
            "musician: actress, actor, writer, author, singer, born, addition, football, nine, seven\n",
            "dance: music, concept, country, study, writer, singer, actor, origin, art, contemporary\n",
            "\n",
            "\n"
          ]
        },
        {
          "name": "stderr",
          "output_type": "stream",
          "text": [
            "19498it [08:12, 43.97it/s]"
          ]
        },
        {
          "name": "stdout",
          "output_type": "stream",
          "text": [
            "| epoch   8 | 19500/32580 batches | loss    1.329 \n"
          ]
        },
        {
          "name": "stderr",
          "output_type": "stream",
          "text": [
            "19507it [08:12, 29.74it/s]"
          ]
        },
        {
          "name": "stdout",
          "output_type": "stream",
          "text": [
            "money: fact, place, addition, well, seen, practice, lack, able, way, even\n",
            "lion: punishment, september, journal, nobel, actress, concept, british, england, opposed, united\n",
            "africa: europe, india, australia, japan, america, south, china, north, germany, region\n",
            "musician: actress, actor, writer, author, singer, born, addition, football, nine, seven\n",
            "dance: music, concept, country, study, writer, singer, actor, origin, art, contemporary\n",
            "\n",
            "\n"
          ]
        },
        {
          "name": "stderr",
          "output_type": "stream",
          "text": [
            "19997it [08:24, 44.60it/s]"
          ]
        },
        {
          "name": "stdout",
          "output_type": "stream",
          "text": [
            "| epoch   8 | 20000/32580 batches | loss    1.330 \n"
          ]
        },
        {
          "name": "stderr",
          "output_type": "stream",
          "text": [
            "20006it [08:25, 29.41it/s]"
          ]
        },
        {
          "name": "stdout",
          "output_type": "stream",
          "text": [
            "money: fact, place, addition, well, seen, practice, lack, able, way, even\n",
            "lion: punishment, september, journal, nobel, actress, concept, british, england, opposed, united\n",
            "africa: europe, india, australia, japan, america, south, china, north, germany, region\n",
            "musician: actress, actor, writer, author, singer, born, addition, football, nine, seven\n",
            "dance: music, concept, country, study, writer, singer, actor, origin, art, contemporary\n",
            "\n",
            "\n"
          ]
        },
        {
          "name": "stderr",
          "output_type": "stream",
          "text": [
            "20500it [08:37, 43.73it/s]"
          ]
        },
        {
          "name": "stdout",
          "output_type": "stream",
          "text": [
            "| epoch   8 | 20500/32580 batches | loss    1.329 \n"
          ]
        },
        {
          "name": "stderr",
          "output_type": "stream",
          "text": [
            "\r20505it [08:37, 26.48it/s]"
          ]
        },
        {
          "name": "stdout",
          "output_type": "stream",
          "text": [
            "money: fact, place, addition, well, seen, practice, lack, able, way, even\n",
            "lion: punishment, september, journal, nobel, actress, concept, british, england, opposed, united\n",
            "africa: europe, india, australia, japan, america, south, china, north, germany, region\n",
            "musician: actress, actor, writer, author, singer, born, addition, football, nine, seven\n",
            "dance: music, concept, country, study, writer, singer, actor, origin, art, contemporary\n",
            "\n",
            "\n"
          ]
        },
        {
          "name": "stderr",
          "output_type": "stream",
          "text": [
            "20999it [08:49, 40.71it/s]"
          ]
        },
        {
          "name": "stdout",
          "output_type": "stream",
          "text": [
            "| epoch   8 | 21000/32580 batches | loss    1.331 \n"
          ]
        },
        {
          "name": "stderr",
          "output_type": "stream",
          "text": [
            "\r21004it [08:50, 24.76it/s]"
          ]
        },
        {
          "name": "stdout",
          "output_type": "stream",
          "text": [
            "money: fact, place, addition, well, seen, practice, lack, able, way, even\n",
            "lion: punishment, september, journal, nobel, actress, concept, british, england, opposed, united\n",
            "africa: europe, india, australia, japan, america, south, china, north, germany, region\n",
            "musician: actress, actor, writer, author, singer, born, addition, football, nine, seven\n",
            "dance: music, concept, country, study, writer, singer, actor, origin, art, contemporary\n",
            "\n",
            "\n"
          ]
        },
        {
          "name": "stderr",
          "output_type": "stream",
          "text": [
            "21498it [09:02, 32.75it/s]"
          ]
        },
        {
          "name": "stdout",
          "output_type": "stream",
          "text": [
            "| epoch   8 | 21500/32580 batches | loss    1.330 \n"
          ]
        },
        {
          "name": "stderr",
          "output_type": "stream",
          "text": [
            "21506it [09:02, 21.04it/s]"
          ]
        },
        {
          "name": "stdout",
          "output_type": "stream",
          "text": [
            "money: fact, place, addition, well, seen, practice, lack, able, way, even\n",
            "lion: punishment, september, journal, nobel, actress, concept, british, england, opposed, united\n",
            "africa: europe, india, australia, japan, america, south, china, north, germany, region\n",
            "musician: actress, actor, writer, author, singer, born, addition, football, nine, seven\n",
            "dance: music, concept, country, study, writer, singer, actor, origin, art, contemporary\n",
            "\n",
            "\n"
          ]
        },
        {
          "name": "stderr",
          "output_type": "stream",
          "text": [
            "21999it [09:14, 32.61it/s]"
          ]
        },
        {
          "name": "stdout",
          "output_type": "stream",
          "text": [
            "| epoch   8 | 22000/32580 batches | loss    1.333 \n"
          ]
        },
        {
          "name": "stderr",
          "output_type": "stream",
          "text": [
            "22007it [09:15, 21.10it/s]"
          ]
        },
        {
          "name": "stdout",
          "output_type": "stream",
          "text": [
            "money: fact, place, addition, well, seen, practice, lack, able, way, even\n",
            "lion: punishment, september, journal, nobel, actress, concept, british, england, opposed, united\n",
            "africa: europe, india, australia, japan, america, south, china, north, germany, region\n",
            "musician: actress, actor, writer, author, singer, born, addition, football, nine, seven\n",
            "dance: music, concept, country, study, writer, singer, actor, origin, art, contemporary\n",
            "\n",
            "\n"
          ]
        },
        {
          "name": "stderr",
          "output_type": "stream",
          "text": [
            "22500it [09:26, 44.47it/s]"
          ]
        },
        {
          "name": "stdout",
          "output_type": "stream",
          "text": [
            "| epoch   8 | 22500/32580 batches | loss    1.327 \n"
          ]
        },
        {
          "name": "stderr",
          "output_type": "stream",
          "text": [
            "\r22505it [09:27, 26.50it/s]"
          ]
        },
        {
          "name": "stdout",
          "output_type": "stream",
          "text": [
            "money: fact, place, addition, well, seen, practice, lack, able, way, even\n",
            "lion: punishment, september, journal, nobel, actress, concept, british, england, opposed, united\n",
            "africa: europe, india, australia, japan, america, south, china, north, germany, region\n",
            "musician: actress, actor, writer, author, singer, born, addition, football, nine, seven\n",
            "dance: music, concept, country, study, writer, singer, actor, origin, art, contemporary\n",
            "\n",
            "\n"
          ]
        },
        {
          "name": "stderr",
          "output_type": "stream",
          "text": [
            "22999it [09:39, 43.46it/s]"
          ]
        },
        {
          "name": "stdout",
          "output_type": "stream",
          "text": [
            "| epoch   8 | 23000/32580 batches | loss    1.331 \n"
          ]
        },
        {
          "name": "stderr",
          "output_type": "stream",
          "text": [
            "23009it [09:39, 30.40it/s]"
          ]
        },
        {
          "name": "stdout",
          "output_type": "stream",
          "text": [
            "money: fact, place, addition, well, seen, practice, lack, able, way, even\n",
            "lion: punishment, september, journal, nobel, actress, concept, british, england, opposed, united\n",
            "africa: europe, india, australia, japan, america, south, china, north, germany, region\n",
            "musician: actress, actor, writer, author, singer, born, addition, football, nine, seven\n",
            "dance: music, concept, country, study, writer, singer, actor, origin, art, contemporary\n",
            "\n",
            "\n"
          ]
        },
        {
          "name": "stderr",
          "output_type": "stream",
          "text": [
            "23498it [09:51, 43.39it/s]"
          ]
        },
        {
          "name": "stdout",
          "output_type": "stream",
          "text": [
            "| epoch   8 | 23500/32580 batches | loss    1.331 \n"
          ]
        },
        {
          "name": "stderr",
          "output_type": "stream",
          "text": [
            "23507it [09:52, 29.34it/s]"
          ]
        },
        {
          "name": "stdout",
          "output_type": "stream",
          "text": [
            "money: fact, place, addition, well, seen, practice, lack, able, way, even\n",
            "lion: punishment, september, journal, nobel, actress, concept, british, england, opposed, united\n",
            "africa: europe, india, australia, japan, america, south, china, north, germany, region\n",
            "musician: actress, actor, writer, author, singer, born, addition, football, nine, seven\n",
            "dance: music, concept, country, study, writer, singer, actor, origin, art, contemporary\n",
            "\n",
            "\n"
          ]
        },
        {
          "name": "stderr",
          "output_type": "stream",
          "text": [
            "24000it [10:04, 44.19it/s]"
          ]
        },
        {
          "name": "stdout",
          "output_type": "stream",
          "text": [
            "| epoch   8 | 24000/32580 batches | loss    1.326 \n"
          ]
        },
        {
          "name": "stderr",
          "output_type": "stream",
          "text": [
            "\r24005it [10:04, 26.91it/s]"
          ]
        },
        {
          "name": "stdout",
          "output_type": "stream",
          "text": [
            "money: fact, place, addition, well, seen, practice, lack, able, way, even\n",
            "lion: punishment, september, journal, nobel, actress, concept, british, england, opposed, united\n",
            "africa: europe, india, australia, japan, america, south, china, north, germany, region\n",
            "musician: actress, actor, writer, author, singer, born, addition, football, nine, seven\n",
            "dance: music, concept, country, study, writer, singer, actor, origin, art, contemporary\n",
            "\n",
            "\n"
          ]
        },
        {
          "name": "stderr",
          "output_type": "stream",
          "text": [
            "24500it [10:17, 43.92it/s]"
          ]
        },
        {
          "name": "stdout",
          "output_type": "stream",
          "text": [
            "| epoch   8 | 24500/32580 batches | loss    1.329 \n"
          ]
        },
        {
          "name": "stderr",
          "output_type": "stream",
          "text": [
            "\r24505it [10:17, 26.63it/s]"
          ]
        },
        {
          "name": "stdout",
          "output_type": "stream",
          "text": [
            "money: fact, place, addition, well, seen, practice, lack, able, way, even\n",
            "lion: punishment, september, journal, nobel, actress, concept, british, england, opposed, united\n",
            "africa: europe, india, australia, japan, america, south, china, north, germany, region\n",
            "musician: actress, actor, writer, author, singer, born, addition, football, nine, seven\n",
            "dance: music, concept, country, study, writer, singer, actor, origin, art, contemporary\n",
            "\n",
            "\n"
          ]
        },
        {
          "name": "stderr",
          "output_type": "stream",
          "text": [
            "24999it [10:29, 43.57it/s]"
          ]
        },
        {
          "name": "stdout",
          "output_type": "stream",
          "text": [
            "| epoch   8 | 25000/32580 batches | loss    1.328 \n"
          ]
        },
        {
          "name": "stderr",
          "output_type": "stream",
          "text": [
            "25009it [10:30, 29.98it/s]"
          ]
        },
        {
          "name": "stdout",
          "output_type": "stream",
          "text": [
            "money: fact, place, addition, well, seen, practice, lack, able, way, even\n",
            "lion: punishment, september, journal, nobel, actress, concept, british, england, opposed, united\n",
            "africa: europe, india, australia, japan, america, south, china, north, germany, region\n",
            "musician: actress, actor, writer, author, singer, born, addition, football, nine, seven\n",
            "dance: music, concept, country, study, writer, singer, actor, origin, art, contemporary\n",
            "\n",
            "\n"
          ]
        },
        {
          "name": "stderr",
          "output_type": "stream",
          "text": [
            "25500it [10:44, 44.32it/s]"
          ]
        },
        {
          "name": "stdout",
          "output_type": "stream",
          "text": [
            "| epoch   8 | 25500/32580 batches | loss    1.332 \n"
          ]
        },
        {
          "name": "stderr",
          "output_type": "stream",
          "text": [
            "\r25505it [10:45, 26.91it/s]"
          ]
        },
        {
          "name": "stdout",
          "output_type": "stream",
          "text": [
            "money: fact, place, addition, well, seen, practice, lack, able, way, even\n",
            "lion: punishment, september, journal, nobel, actress, concept, british, england, opposed, united\n",
            "africa: europe, india, australia, japan, america, south, china, north, germany, region\n",
            "musician: actress, actor, writer, author, singer, born, addition, football, nine, seven\n",
            "dance: music, concept, country, study, writer, singer, actor, origin, art, contemporary\n",
            "\n",
            "\n"
          ]
        },
        {
          "name": "stderr",
          "output_type": "stream",
          "text": [
            "26000it [10:57, 44.06it/s]"
          ]
        },
        {
          "name": "stdout",
          "output_type": "stream",
          "text": [
            "| epoch   8 | 26000/32580 batches | loss    1.331 \n"
          ]
        },
        {
          "name": "stderr",
          "output_type": "stream",
          "text": [
            "\r26005it [10:57, 26.28it/s]"
          ]
        },
        {
          "name": "stdout",
          "output_type": "stream",
          "text": [
            "money: fact, place, addition, well, seen, practice, lack, able, way, even\n",
            "lion: punishment, september, journal, nobel, actress, concept, british, england, opposed, united\n",
            "africa: europe, india, australia, japan, america, south, china, north, germany, region\n",
            "musician: actress, actor, writer, author, singer, born, addition, football, nine, seven\n",
            "dance: music, concept, country, study, writer, singer, actor, origin, art, contemporary\n",
            "\n",
            "\n"
          ]
        },
        {
          "name": "stderr",
          "output_type": "stream",
          "text": [
            "26498it [11:09, 43.09it/s]"
          ]
        },
        {
          "name": "stdout",
          "output_type": "stream",
          "text": [
            "| epoch   8 | 26500/32580 batches | loss    1.327 \n"
          ]
        },
        {
          "name": "stderr",
          "output_type": "stream",
          "text": [
            "26507it [11:10, 29.29it/s]"
          ]
        },
        {
          "name": "stdout",
          "output_type": "stream",
          "text": [
            "money: fact, place, addition, well, seen, practice, lack, able, way, even\n",
            "lion: punishment, september, journal, nobel, actress, concept, british, england, opposed, united\n",
            "africa: europe, india, australia, japan, america, south, china, north, germany, region\n",
            "musician: actress, actor, writer, author, singer, born, addition, football, nine, seven\n",
            "dance: music, concept, country, study, writer, singer, actor, origin, art, contemporary\n",
            "\n",
            "\n"
          ]
        },
        {
          "name": "stderr",
          "output_type": "stream",
          "text": [
            "26996it [11:23, 43.41it/s]"
          ]
        },
        {
          "name": "stdout",
          "output_type": "stream",
          "text": [
            "| epoch   8 | 27000/32580 batches | loss    1.332 \n"
          ]
        },
        {
          "name": "stderr",
          "output_type": "stream",
          "text": [
            "27005it [11:23, 29.50it/s]"
          ]
        },
        {
          "name": "stdout",
          "output_type": "stream",
          "text": [
            "money: fact, place, addition, well, seen, practice, lack, able, way, even\n",
            "lion: punishment, september, journal, nobel, actress, concept, british, england, opposed, united\n",
            "africa: europe, india, australia, japan, america, south, china, north, germany, region\n",
            "musician: actress, actor, writer, author, singer, born, addition, football, nine, seven\n",
            "dance: music, concept, country, study, writer, singer, actor, origin, art, contemporary\n",
            "\n",
            "\n"
          ]
        },
        {
          "name": "stderr",
          "output_type": "stream",
          "text": [
            "27500it [11:36, 42.42it/s]"
          ]
        },
        {
          "name": "stdout",
          "output_type": "stream",
          "text": [
            "| epoch   8 | 27500/32580 batches | loss    1.334 \n"
          ]
        },
        {
          "name": "stderr",
          "output_type": "stream",
          "text": [
            "\r27505it [11:36, 26.42it/s]"
          ]
        },
        {
          "name": "stdout",
          "output_type": "stream",
          "text": [
            "money: fact, place, addition, well, seen, practice, lack, able, way, even\n",
            "lion: punishment, september, journal, nobel, actress, concept, british, england, opposed, united\n",
            "africa: europe, india, australia, japan, america, south, china, north, germany, region\n",
            "musician: actress, actor, writer, author, singer, born, addition, football, nine, seven\n",
            "dance: music, concept, country, study, writer, singer, actor, origin, art, contemporary\n",
            "\n",
            "\n"
          ]
        },
        {
          "name": "stderr",
          "output_type": "stream",
          "text": [
            "27998it [11:48, 34.28it/s]"
          ]
        },
        {
          "name": "stdout",
          "output_type": "stream",
          "text": [
            "| epoch   8 | 28000/32580 batches | loss    1.330 \n"
          ]
        },
        {
          "name": "stderr",
          "output_type": "stream",
          "text": [
            "28006it [11:48, 21.73it/s]"
          ]
        },
        {
          "name": "stdout",
          "output_type": "stream",
          "text": [
            "money: fact, place, addition, well, seen, practice, lack, able, way, even\n",
            "lion: punishment, september, journal, nobel, actress, concept, british, england, opposed, united\n",
            "africa: europe, india, australia, japan, america, south, china, north, germany, region\n",
            "musician: actress, actor, writer, author, singer, born, addition, football, nine, seven\n",
            "dance: music, concept, country, study, writer, singer, actor, origin, art, contemporary\n",
            "\n",
            "\n"
          ]
        },
        {
          "name": "stderr",
          "output_type": "stream",
          "text": [
            "28499it [12:00, 34.77it/s]"
          ]
        },
        {
          "name": "stdout",
          "output_type": "stream",
          "text": [
            "| epoch   8 | 28500/32580 batches | loss    1.328 \n"
          ]
        },
        {
          "name": "stderr",
          "output_type": "stream",
          "text": [
            "\r28503it [12:00, 18.91it/s]"
          ]
        },
        {
          "name": "stdout",
          "output_type": "stream",
          "text": [
            "money: fact, place, addition, well, seen, practice, lack, able, way, even\n",
            "lion: punishment, september, journal, nobel, actress, concept, british, england, opposed, united\n",
            "africa: europe, india, australia, japan, america, south, china, north, germany, region\n",
            "musician: actress, actor, writer, author, singer, born, addition, football, nine, seven\n",
            "dance: music, concept, country, study, writer, singer, actor, origin, art, contemporary\n",
            "\n",
            "\n"
          ]
        },
        {
          "name": "stderr",
          "output_type": "stream",
          "text": [
            "29000it [12:12, 43.69it/s]"
          ]
        },
        {
          "name": "stdout",
          "output_type": "stream",
          "text": [
            "| epoch   8 | 29000/32580 batches | loss    1.332 \n"
          ]
        },
        {
          "name": "stderr",
          "output_type": "stream",
          "text": [
            "\r29005it [12:13, 25.78it/s]"
          ]
        },
        {
          "name": "stdout",
          "output_type": "stream",
          "text": [
            "money: fact, place, addition, well, seen, practice, lack, able, way, even\n",
            "lion: punishment, september, journal, nobel, actress, concept, british, england, opposed, united\n",
            "africa: europe, india, australia, japan, america, south, china, north, germany, region\n",
            "musician: actress, actor, writer, author, singer, born, addition, football, nine, seven\n",
            "dance: music, concept, country, study, writer, singer, actor, origin, art, contemporary\n",
            "\n",
            "\n"
          ]
        },
        {
          "name": "stderr",
          "output_type": "stream",
          "text": [
            "29496it [12:25, 43.76it/s]"
          ]
        },
        {
          "name": "stdout",
          "output_type": "stream",
          "text": [
            "| epoch   8 | 29500/32580 batches | loss    1.330 \n"
          ]
        },
        {
          "name": "stderr",
          "output_type": "stream",
          "text": [
            "29505it [12:25, 29.50it/s]"
          ]
        },
        {
          "name": "stdout",
          "output_type": "stream",
          "text": [
            "money: fact, place, addition, well, seen, practice, lack, able, way, even\n",
            "lion: punishment, september, journal, nobel, actress, concept, british, england, opposed, united\n",
            "africa: europe, india, australia, japan, america, south, china, north, germany, region\n",
            "musician: actress, actor, writer, author, singer, born, addition, football, nine, seven\n",
            "dance: music, concept, country, study, writer, singer, actor, origin, art, contemporary\n",
            "\n",
            "\n"
          ]
        },
        {
          "name": "stderr",
          "output_type": "stream",
          "text": [
            "29999it [12:37, 43.62it/s]"
          ]
        },
        {
          "name": "stdout",
          "output_type": "stream",
          "text": [
            "| epoch   8 | 30000/32580 batches | loss    1.331 \n"
          ]
        },
        {
          "name": "stderr",
          "output_type": "stream",
          "text": [
            "\r30004it [12:38, 26.90it/s]"
          ]
        },
        {
          "name": "stdout",
          "output_type": "stream",
          "text": [
            "money: fact, place, addition, well, seen, practice, lack, able, way, even\n",
            "lion: punishment, september, journal, nobel, actress, concept, british, england, opposed, united\n",
            "africa: europe, india, australia, japan, america, south, china, north, germany, region\n",
            "musician: actress, actor, writer, author, singer, born, addition, football, nine, seven\n",
            "dance: music, concept, country, study, writer, singer, actor, origin, art, contemporary\n",
            "\n",
            "\n"
          ]
        },
        {
          "name": "stderr",
          "output_type": "stream",
          "text": [
            "30498it [12:50, 43.40it/s]"
          ]
        },
        {
          "name": "stdout",
          "output_type": "stream",
          "text": [
            "| epoch   8 | 30500/32580 batches | loss    1.334 \n"
          ]
        },
        {
          "name": "stderr",
          "output_type": "stream",
          "text": [
            "30507it [12:50, 28.86it/s]"
          ]
        },
        {
          "name": "stdout",
          "output_type": "stream",
          "text": [
            "money: fact, place, addition, well, seen, practice, lack, able, way, even\n",
            "lion: punishment, september, journal, nobel, actress, concept, british, england, opposed, united\n",
            "africa: europe, india, australia, japan, america, south, china, north, germany, region\n",
            "musician: actress, actor, writer, author, singer, born, addition, football, nine, seven\n",
            "dance: music, concept, country, study, writer, singer, actor, origin, art, contemporary\n",
            "\n",
            "\n"
          ]
        },
        {
          "name": "stderr",
          "output_type": "stream",
          "text": [
            "30996it [13:02, 43.57it/s]"
          ]
        },
        {
          "name": "stdout",
          "output_type": "stream",
          "text": [
            "| epoch   8 | 31000/32580 batches | loss    1.328 \n"
          ]
        },
        {
          "name": "stderr",
          "output_type": "stream",
          "text": [
            "31005it [13:03, 28.53it/s]"
          ]
        },
        {
          "name": "stdout",
          "output_type": "stream",
          "text": [
            "money: fact, place, addition, well, seen, practice, lack, able, way, even\n",
            "lion: punishment, september, journal, nobel, actress, concept, british, england, opposed, united\n",
            "africa: europe, india, australia, japan, america, south, china, north, germany, region\n",
            "musician: actress, actor, writer, author, singer, born, addition, football, nine, seven\n",
            "dance: music, concept, country, study, writer, singer, actor, origin, art, contemporary\n",
            "\n",
            "\n"
          ]
        },
        {
          "name": "stderr",
          "output_type": "stream",
          "text": [
            "31499it [13:15, 44.71it/s]"
          ]
        },
        {
          "name": "stdout",
          "output_type": "stream",
          "text": [
            "| epoch   8 | 31500/32580 batches | loss    1.330 \n"
          ]
        },
        {
          "name": "stderr",
          "output_type": "stream",
          "text": [
            "\r31504it [13:15, 26.67it/s]"
          ]
        },
        {
          "name": "stdout",
          "output_type": "stream",
          "text": [
            "money: fact, place, addition, well, seen, practice, lack, able, way, even\n",
            "lion: punishment, september, journal, nobel, actress, concept, british, england, opposed, united\n",
            "africa: europe, india, australia, japan, america, south, china, north, germany, region\n",
            "musician: actress, actor, writer, author, singer, born, addition, football, nine, seven\n",
            "dance: music, concept, country, study, writer, singer, actor, origin, art, contemporary\n",
            "\n",
            "\n"
          ]
        },
        {
          "name": "stderr",
          "output_type": "stream",
          "text": [
            "31996it [13:27, 43.83it/s]"
          ]
        },
        {
          "name": "stdout",
          "output_type": "stream",
          "text": [
            "| epoch   8 | 32000/32580 batches | loss    1.327 \n"
          ]
        },
        {
          "name": "stderr",
          "output_type": "stream",
          "text": [
            "32005it [13:28, 29.60it/s]"
          ]
        },
        {
          "name": "stdout",
          "output_type": "stream",
          "text": [
            "money: fact, place, addition, well, seen, practice, lack, able, way, even\n",
            "lion: punishment, september, journal, nobel, actress, concept, british, england, opposed, united\n",
            "africa: europe, india, australia, japan, america, south, china, north, germany, region\n",
            "musician: actress, actor, writer, author, singer, born, addition, football, nine, seven\n",
            "dance: music, concept, country, study, writer, singer, actor, origin, art, contemporary\n",
            "\n",
            "\n"
          ]
        },
        {
          "name": "stderr",
          "output_type": "stream",
          "text": [
            "32500it [13:40, 35.94it/s]"
          ]
        },
        {
          "name": "stdout",
          "output_type": "stream",
          "text": [
            "| epoch   8 | 32500/32580 batches | loss    1.329 \n"
          ]
        },
        {
          "name": "stderr",
          "output_type": "stream",
          "text": [
            "32509it [13:40, 27.26it/s]"
          ]
        },
        {
          "name": "stdout",
          "output_type": "stream",
          "text": [
            "money: fact, place, addition, well, seen, practice, lack, able, way, even\n",
            "lion: punishment, september, journal, nobel, actress, concept, british, england, opposed, united\n",
            "africa: europe, india, australia, japan, america, south, china, north, germany, region\n",
            "musician: actress, actor, writer, author, singer, born, addition, football, nine, seven\n",
            "dance: music, concept, country, study, writer, singer, actor, origin, art, contemporary\n",
            "\n",
            "\n"
          ]
        },
        {
          "name": "stderr",
          "output_type": "stream",
          "text": [
            "32580it [13:43, 39.56it/s]\n",
            "0it [00:00, ?it/s]"
          ]
        },
        {
          "name": "stdout",
          "output_type": "stream",
          "text": [
            "| epoch   9 |     0/32580 batches | loss    1.341 \n"
          ]
        },
        {
          "name": "stderr",
          "output_type": "stream",
          "text": [
            "5it [00:01,  4.56it/s]"
          ]
        },
        {
          "name": "stdout",
          "output_type": "stream",
          "text": [
            "money: fact, place, addition, well, seen, practice, lack, able, way, even\n",
            "lion: punishment, september, journal, nobel, actress, concept, british, england, opposed, united\n",
            "africa: europe, india, australia, japan, america, south, china, north, germany, region\n",
            "musician: actress, actor, writer, author, singer, born, addition, football, nine, seven\n",
            "dance: music, concept, country, study, writer, singer, actor, origin, art, contemporary\n",
            "\n",
            "\n"
          ]
        },
        {
          "name": "stderr",
          "output_type": "stream",
          "text": [
            "498it [00:13, 43.67it/s]"
          ]
        },
        {
          "name": "stdout",
          "output_type": "stream",
          "text": [
            "| epoch   9 |   500/32580 batches | loss    1.333 \n"
          ]
        },
        {
          "name": "stderr",
          "output_type": "stream",
          "text": [
            "507it [00:14, 28.86it/s]"
          ]
        },
        {
          "name": "stdout",
          "output_type": "stream",
          "text": [
            "money: fact, place, addition, well, seen, practice, lack, able, way, even\n",
            "lion: punishment, september, journal, nobel, actress, concept, british, england, opposed, united\n",
            "africa: europe, india, australia, japan, america, south, china, north, germany, region\n",
            "musician: actress, actor, writer, author, singer, born, addition, football, nine, seven\n",
            "dance: music, concept, country, study, writer, singer, actor, origin, art, contemporary\n",
            "\n",
            "\n"
          ]
        },
        {
          "name": "stderr",
          "output_type": "stream",
          "text": [
            "1000it [00:26, 43.02it/s]"
          ]
        },
        {
          "name": "stdout",
          "output_type": "stream",
          "text": [
            "| epoch   9 |  1000/32580 batches | loss    1.328 \n"
          ]
        },
        {
          "name": "stderr",
          "output_type": "stream",
          "text": [
            "\r1005it [00:26, 26.13it/s]"
          ]
        },
        {
          "name": "stdout",
          "output_type": "stream",
          "text": [
            "money: fact, place, addition, well, seen, practice, lack, able, way, even\n",
            "lion: punishment, september, journal, nobel, actress, concept, british, england, opposed, united\n",
            "africa: europe, india, australia, japan, america, south, china, north, germany, region\n",
            "musician: actress, actor, writer, author, singer, born, addition, football, nine, seven\n",
            "dance: music, concept, country, study, writer, singer, actor, origin, art, contemporary\n",
            "\n",
            "\n"
          ]
        },
        {
          "name": "stderr",
          "output_type": "stream",
          "text": [
            "1498it [00:38, 39.71it/s]"
          ]
        },
        {
          "name": "stdout",
          "output_type": "stream",
          "text": [
            "| epoch   9 |  1500/32580 batches | loss    1.333 \n"
          ]
        },
        {
          "name": "stderr",
          "output_type": "stream",
          "text": [
            "1507it [00:39, 28.20it/s]"
          ]
        },
        {
          "name": "stdout",
          "output_type": "stream",
          "text": [
            "money: fact, place, addition, well, seen, practice, lack, able, way, even\n",
            "lion: punishment, september, journal, nobel, actress, concept, british, england, opposed, united\n",
            "africa: europe, india, australia, japan, america, south, china, north, germany, region\n",
            "musician: actress, actor, writer, author, singer, born, addition, football, nine, seven\n",
            "dance: music, concept, country, study, writer, singer, actor, origin, art, contemporary\n",
            "\n",
            "\n"
          ]
        },
        {
          "name": "stderr",
          "output_type": "stream",
          "text": [
            "1998it [00:51, 32.96it/s]"
          ]
        },
        {
          "name": "stdout",
          "output_type": "stream",
          "text": [
            "| epoch   9 |  2000/32580 batches | loss    1.331 \n"
          ]
        },
        {
          "name": "stderr",
          "output_type": "stream",
          "text": [
            "2006it [00:51, 21.38it/s]"
          ]
        },
        {
          "name": "stdout",
          "output_type": "stream",
          "text": [
            "money: fact, place, addition, well, seen, practice, lack, able, way, even\n",
            "lion: punishment, september, journal, nobel, actress, concept, british, england, opposed, united\n",
            "africa: europe, india, australia, japan, america, south, china, north, germany, region\n",
            "musician: actress, actor, writer, author, singer, born, addition, football, nine, seven\n",
            "dance: music, concept, country, study, writer, singer, actor, origin, art, contemporary\n",
            "\n",
            "\n"
          ]
        },
        {
          "name": "stderr",
          "output_type": "stream",
          "text": [
            "2499it [01:03, 35.73it/s]"
          ]
        },
        {
          "name": "stdout",
          "output_type": "stream",
          "text": [
            "| epoch   9 |  2500/32580 batches | loss    1.330 \n"
          ]
        },
        {
          "name": "stderr",
          "output_type": "stream",
          "text": [
            "2507it [01:03, 23.09it/s]"
          ]
        },
        {
          "name": "stdout",
          "output_type": "stream",
          "text": [
            "money: fact, place, addition, well, seen, practice, lack, able, way, even\n",
            "lion: punishment, september, journal, nobel, actress, concept, british, england, opposed, united\n",
            "africa: europe, india, australia, japan, america, south, china, north, germany, region\n",
            "musician: actress, actor, writer, author, singer, born, addition, football, nine, seven\n",
            "dance: music, concept, country, study, writer, singer, actor, origin, art, contemporary\n",
            "\n",
            "\n"
          ]
        },
        {
          "name": "stderr",
          "output_type": "stream",
          "text": [
            "2998it [01:15, 43.96it/s]"
          ]
        },
        {
          "name": "stdout",
          "output_type": "stream",
          "text": [
            "| epoch   9 |  3000/32580 batches | loss    1.334 \n"
          ]
        },
        {
          "name": "stderr",
          "output_type": "stream",
          "text": [
            "3008it [01:16, 30.19it/s]"
          ]
        },
        {
          "name": "stdout",
          "output_type": "stream",
          "text": [
            "money: fact, place, addition, well, seen, practice, lack, able, way, even\n",
            "lion: punishment, september, journal, nobel, actress, concept, british, england, opposed, united\n",
            "africa: europe, india, australia, japan, america, south, china, north, germany, region\n",
            "musician: actress, actor, writer, author, singer, born, addition, football, nine, seven\n",
            "dance: music, concept, country, study, writer, singer, actor, origin, art, contemporary\n",
            "\n",
            "\n"
          ]
        },
        {
          "name": "stderr",
          "output_type": "stream",
          "text": [
            "3496it [01:28, 43.37it/s]"
          ]
        },
        {
          "name": "stdout",
          "output_type": "stream",
          "text": [
            "| epoch   9 |  3500/32580 batches | loss    1.332 \n"
          ]
        },
        {
          "name": "stderr",
          "output_type": "stream",
          "text": [
            "3505it [01:28, 27.86it/s]"
          ]
        },
        {
          "name": "stdout",
          "output_type": "stream",
          "text": [
            "money: fact, place, addition, well, seen, practice, lack, able, way, even\n",
            "lion: punishment, september, journal, nobel, actress, concept, british, england, opposed, united\n",
            "africa: europe, india, australia, japan, america, south, china, north, germany, region\n",
            "musician: actress, actor, writer, author, singer, born, addition, football, nine, seven\n",
            "dance: music, concept, country, study, writer, singer, actor, origin, art, contemporary\n",
            "\n",
            "\n"
          ]
        },
        {
          "name": "stderr",
          "output_type": "stream",
          "text": [
            "3998it [01:40, 43.18it/s]"
          ]
        },
        {
          "name": "stdout",
          "output_type": "stream",
          "text": [
            "| epoch   9 |  4000/32580 batches | loss    1.327 \n"
          ]
        },
        {
          "name": "stderr",
          "output_type": "stream",
          "text": [
            "\r4003it [01:41, 23.29it/s]"
          ]
        },
        {
          "name": "stdout",
          "output_type": "stream",
          "text": [
            "money: fact, place, addition, well, seen, practice, lack, able, way, even\n",
            "lion: punishment, september, journal, nobel, actress, concept, british, england, opposed, united\n",
            "africa: europe, india, australia, japan, america, south, china, north, germany, region\n",
            "musician: actress, actor, writer, author, singer, born, addition, football, nine, seven\n",
            "dance: music, concept, country, study, writer, singer, actor, origin, art, contemporary\n",
            "\n",
            "\n"
          ]
        },
        {
          "name": "stderr",
          "output_type": "stream",
          "text": [
            "4500it [01:54, 43.67it/s]"
          ]
        },
        {
          "name": "stdout",
          "output_type": "stream",
          "text": [
            "| epoch   9 |  4500/32580 batches | loss    1.329 \n"
          ]
        },
        {
          "name": "stderr",
          "output_type": "stream",
          "text": [
            "\r4505it [01:54, 26.79it/s]"
          ]
        },
        {
          "name": "stdout",
          "output_type": "stream",
          "text": [
            "money: fact, place, addition, well, seen, practice, lack, able, way, even\n",
            "lion: punishment, september, journal, nobel, actress, concept, british, england, opposed, united\n",
            "africa: europe, india, australia, japan, america, south, china, north, germany, region\n",
            "musician: actress, actor, writer, author, singer, born, addition, football, nine, seven\n",
            "dance: music, concept, country, study, writer, singer, actor, origin, art, contemporary\n",
            "\n",
            "\n"
          ]
        },
        {
          "name": "stderr",
          "output_type": "stream",
          "text": [
            "5000it [02:06, 44.61it/s]"
          ]
        },
        {
          "name": "stdout",
          "output_type": "stream",
          "text": [
            "| epoch   9 |  5000/32580 batches | loss    1.332 \n"
          ]
        },
        {
          "name": "stderr",
          "output_type": "stream",
          "text": [
            "\r5005it [02:07, 26.55it/s]"
          ]
        },
        {
          "name": "stdout",
          "output_type": "stream",
          "text": [
            "money: fact, place, addition, well, seen, practice, lack, able, way, even\n",
            "lion: punishment, september, journal, nobel, actress, concept, british, england, opposed, united\n",
            "africa: europe, india, australia, japan, america, south, china, north, germany, region\n",
            "musician: actress, actor, writer, author, singer, born, addition, football, nine, seven\n",
            "dance: music, concept, country, study, writer, singer, actor, origin, art, contemporary\n",
            "\n",
            "\n"
          ]
        },
        {
          "name": "stderr",
          "output_type": "stream",
          "text": [
            "5498it [02:19, 42.17it/s]"
          ]
        },
        {
          "name": "stdout",
          "output_type": "stream",
          "text": [
            "| epoch   9 |  5500/32580 batches | loss    1.329 \n"
          ]
        },
        {
          "name": "stderr",
          "output_type": "stream",
          "text": [
            "5507it [02:20, 28.74it/s]"
          ]
        },
        {
          "name": "stdout",
          "output_type": "stream",
          "text": [
            "money: fact, place, addition, well, seen, practice, lack, able, way, even\n",
            "lion: punishment, september, journal, nobel, actress, concept, british, england, opposed, united\n",
            "africa: europe, india, australia, japan, america, south, china, north, germany, region\n",
            "musician: actress, actor, writer, author, singer, born, addition, football, nine, seven\n",
            "dance: music, concept, country, study, writer, singer, actor, origin, art, contemporary\n",
            "\n",
            "\n"
          ]
        },
        {
          "name": "stderr",
          "output_type": "stream",
          "text": [
            "5996it [02:32, 43.69it/s]"
          ]
        },
        {
          "name": "stdout",
          "output_type": "stream",
          "text": [
            "| epoch   9 |  6000/32580 batches | loss    1.333 \n"
          ]
        },
        {
          "name": "stderr",
          "output_type": "stream",
          "text": [
            "6005it [02:32, 28.53it/s]"
          ]
        },
        {
          "name": "stdout",
          "output_type": "stream",
          "text": [
            "money: fact, place, addition, well, seen, practice, lack, able, way, even\n",
            "lion: punishment, september, journal, nobel, actress, concept, british, england, opposed, united\n",
            "africa: europe, india, australia, japan, america, south, china, north, germany, region\n",
            "musician: actress, actor, writer, author, singer, born, addition, football, nine, seven\n",
            "dance: music, concept, country, study, writer, singer, actor, origin, art, contemporary\n",
            "\n",
            "\n"
          ]
        },
        {
          "name": "stderr",
          "output_type": "stream",
          "text": [
            "6500it [02:44, 42.76it/s]"
          ]
        },
        {
          "name": "stdout",
          "output_type": "stream",
          "text": [
            "| epoch   9 |  6500/32580 batches | loss    1.329 \n"
          ]
        },
        {
          "name": "stderr",
          "output_type": "stream",
          "text": [
            "\r6505it [02:45, 26.44it/s]"
          ]
        },
        {
          "name": "stdout",
          "output_type": "stream",
          "text": [
            "money: fact, place, addition, well, seen, practice, lack, able, way, even\n",
            "lion: punishment, september, journal, nobel, actress, concept, british, england, opposed, united\n",
            "africa: europe, india, australia, japan, america, south, china, north, germany, region\n",
            "musician: actress, actor, writer, author, singer, born, addition, football, nine, seven\n",
            "dance: music, concept, country, study, writer, singer, actor, origin, art, contemporary\n",
            "\n",
            "\n"
          ]
        },
        {
          "name": "stderr",
          "output_type": "stream",
          "text": [
            "6999it [02:57, 33.96it/s]"
          ]
        },
        {
          "name": "stdout",
          "output_type": "stream",
          "text": [
            "| epoch   9 |  7000/32580 batches | loss    1.332 \n"
          ]
        },
        {
          "name": "stderr",
          "output_type": "stream",
          "text": [
            "7006it [02:57, 20.91it/s]"
          ]
        },
        {
          "name": "stdout",
          "output_type": "stream",
          "text": [
            "money: fact, place, addition, well, seen, practice, lack, able, way, even\n",
            "lion: punishment, september, journal, nobel, actress, concept, british, england, opposed, united\n",
            "africa: europe, india, australia, japan, america, south, china, north, germany, region\n",
            "musician: actress, actor, writer, author, singer, born, addition, football, nine, seven\n",
            "dance: music, concept, country, study, writer, singer, actor, origin, art, contemporary\n",
            "\n",
            "\n"
          ]
        },
        {
          "name": "stderr",
          "output_type": "stream",
          "text": [
            "7499it [03:09, 31.38it/s]"
          ]
        },
        {
          "name": "stdout",
          "output_type": "stream",
          "text": [
            "| epoch   9 |  7500/32580 batches | loss    1.333 \n"
          ]
        },
        {
          "name": "stderr",
          "output_type": "stream",
          "text": [
            "\r7503it [03:09, 18.05it/s]"
          ]
        },
        {
          "name": "stdout",
          "output_type": "stream",
          "text": [
            "money: fact, place, addition, well, seen, practice, lack, able, way, even\n",
            "lion: punishment, september, journal, nobel, actress, concept, british, england, opposed, united\n",
            "africa: europe, india, australia, japan, america, south, china, north, germany, region\n",
            "musician: actress, actor, writer, author, singer, born, addition, football, nine, seven\n",
            "dance: music, concept, country, study, writer, singer, actor, origin, art, contemporary\n",
            "\n",
            "\n"
          ]
        },
        {
          "name": "stderr",
          "output_type": "stream",
          "text": [
            "7999it [03:21, 44.16it/s]"
          ]
        },
        {
          "name": "stdout",
          "output_type": "stream",
          "text": [
            "| epoch   9 |  8000/32580 batches | loss    1.330 \n"
          ]
        },
        {
          "name": "stderr",
          "output_type": "stream",
          "text": [
            "\r8004it [03:21, 27.05it/s]"
          ]
        },
        {
          "name": "stdout",
          "output_type": "stream",
          "text": [
            "money: fact, place, addition, well, seen, practice, lack, able, way, even\n",
            "lion: punishment, september, journal, nobel, actress, concept, british, england, opposed, united\n",
            "africa: europe, india, australia, japan, america, south, china, north, germany, region\n",
            "musician: actress, actor, writer, author, singer, born, addition, football, nine, seven\n",
            "dance: music, concept, country, study, writer, singer, actor, origin, art, contemporary\n",
            "\n",
            "\n"
          ]
        },
        {
          "name": "stderr",
          "output_type": "stream",
          "text": [
            "8496it [03:34, 44.25it/s]"
          ]
        },
        {
          "name": "stdout",
          "output_type": "stream",
          "text": [
            "| epoch   9 |  8500/32580 batches | loss    1.328 \n"
          ]
        },
        {
          "name": "stderr",
          "output_type": "stream",
          "text": [
            "8505it [03:34, 29.62it/s]"
          ]
        },
        {
          "name": "stdout",
          "output_type": "stream",
          "text": [
            "money: fact, place, addition, well, seen, practice, lack, able, way, even\n",
            "lion: punishment, september, journal, nobel, actress, concept, british, england, opposed, united\n",
            "africa: europe, india, australia, japan, america, south, china, north, germany, region\n",
            "musician: actress, actor, writer, author, singer, born, addition, football, nine, seven\n",
            "dance: music, concept, country, study, writer, singer, actor, origin, art, contemporary\n",
            "\n",
            "\n"
          ]
        },
        {
          "name": "stderr",
          "output_type": "stream",
          "text": [
            "8997it [03:46, 43.65it/s]"
          ]
        },
        {
          "name": "stdout",
          "output_type": "stream",
          "text": [
            "| epoch   9 |  9000/32580 batches | loss    1.327 \n"
          ]
        },
        {
          "name": "stderr",
          "output_type": "stream",
          "text": [
            "9006it [03:46, 29.51it/s]"
          ]
        },
        {
          "name": "stdout",
          "output_type": "stream",
          "text": [
            "money: fact, place, addition, well, seen, practice, lack, able, way, even\n",
            "lion: punishment, september, journal, nobel, actress, concept, british, england, opposed, united\n",
            "africa: europe, india, australia, japan, america, south, china, north, germany, region\n",
            "musician: actress, actor, writer, author, singer, born, addition, football, nine, seven\n",
            "dance: music, concept, country, study, writer, singer, actor, origin, art, contemporary\n",
            "\n",
            "\n"
          ]
        },
        {
          "name": "stderr",
          "output_type": "stream",
          "text": [
            "9499it [03:59, 44.53it/s]"
          ]
        },
        {
          "name": "stdout",
          "output_type": "stream",
          "text": [
            "| epoch   9 |  9500/32580 batches | loss    1.329 \n"
          ]
        },
        {
          "name": "stderr",
          "output_type": "stream",
          "text": [
            "9508it [03:59, 29.52it/s]"
          ]
        },
        {
          "name": "stdout",
          "output_type": "stream",
          "text": [
            "money: fact, place, addition, well, seen, practice, lack, able, way, even\n",
            "lion: punishment, september, journal, nobel, actress, concept, british, england, opposed, united\n",
            "africa: europe, india, australia, japan, america, south, china, north, germany, region\n",
            "musician: actress, actor, writer, author, singer, born, addition, football, nine, seven\n",
            "dance: music, concept, country, study, writer, singer, actor, origin, art, contemporary\n",
            "\n",
            "\n"
          ]
        },
        {
          "name": "stderr",
          "output_type": "stream",
          "text": [
            "9996it [04:11, 44.28it/s]"
          ]
        },
        {
          "name": "stdout",
          "output_type": "stream",
          "text": [
            "| epoch   9 | 10000/32580 batches | loss    1.333 \n"
          ]
        },
        {
          "name": "stderr",
          "output_type": "stream",
          "text": [
            "10005it [04:11, 29.01it/s]"
          ]
        },
        {
          "name": "stdout",
          "output_type": "stream",
          "text": [
            "money: fact, place, addition, well, seen, practice, lack, able, way, even\n",
            "lion: punishment, september, journal, nobel, actress, concept, british, england, opposed, united\n",
            "africa: europe, india, australia, japan, america, south, china, north, germany, region\n",
            "musician: actress, actor, writer, author, singer, born, addition, football, nine, seven\n",
            "dance: music, concept, country, study, writer, singer, actor, origin, art, contemporary\n",
            "\n",
            "\n"
          ]
        },
        {
          "name": "stderr",
          "output_type": "stream",
          "text": [
            "10498it [04:24, 43.73it/s]"
          ]
        },
        {
          "name": "stdout",
          "output_type": "stream",
          "text": [
            "| epoch   9 | 10500/32580 batches | loss    1.330 \n"
          ]
        },
        {
          "name": "stderr",
          "output_type": "stream",
          "text": [
            "10507it [04:24, 29.01it/s]"
          ]
        },
        {
          "name": "stdout",
          "output_type": "stream",
          "text": [
            "money: fact, place, addition, well, seen, practice, lack, able, way, even\n",
            "lion: punishment, september, journal, nobel, actress, concept, british, england, opposed, united\n",
            "africa: europe, india, australia, japan, america, south, china, north, germany, region\n",
            "musician: actress, actor, writer, author, singer, born, addition, football, nine, seven\n",
            "dance: music, concept, country, study, writer, singer, actor, origin, art, contemporary\n",
            "\n",
            "\n"
          ]
        },
        {
          "name": "stderr",
          "output_type": "stream",
          "text": [
            "10997it [04:36, 43.69it/s]"
          ]
        },
        {
          "name": "stdout",
          "output_type": "stream",
          "text": [
            "| epoch   9 | 11000/32580 batches | loss    1.335 \n"
          ]
        },
        {
          "name": "stderr",
          "output_type": "stream",
          "text": [
            "11007it [04:37, 30.02it/s]"
          ]
        },
        {
          "name": "stdout",
          "output_type": "stream",
          "text": [
            "money: fact, place, addition, well, seen, practice, lack, able, way, even\n",
            "lion: punishment, september, journal, nobel, actress, concept, british, england, opposed, united\n",
            "africa: europe, india, australia, japan, america, south, china, north, germany, region\n",
            "musician: actress, actor, writer, author, singer, born, addition, football, nine, seven\n",
            "dance: music, concept, country, study, writer, singer, actor, origin, art, contemporary\n",
            "\n",
            "\n"
          ]
        },
        {
          "name": "stderr",
          "output_type": "stream",
          "text": [
            "11498it [04:49, 32.88it/s]"
          ]
        },
        {
          "name": "stdout",
          "output_type": "stream",
          "text": [
            "| epoch   9 | 11500/32580 batches | loss    1.332 \n"
          ]
        },
        {
          "name": "stderr",
          "output_type": "stream",
          "text": [
            "11506it [04:49, 24.29it/s]"
          ]
        },
        {
          "name": "stdout",
          "output_type": "stream",
          "text": [
            "money: fact, place, addition, well, seen, practice, lack, able, way, even\n",
            "lion: punishment, september, journal, nobel, actress, concept, british, england, opposed, united\n",
            "africa: europe, india, australia, japan, america, south, china, north, germany, region\n",
            "musician: actress, actor, writer, author, singer, born, addition, football, nine, seven\n",
            "dance: music, concept, country, study, writer, singer, actor, origin, art, contemporary\n",
            "\n",
            "\n"
          ]
        },
        {
          "name": "stderr",
          "output_type": "stream",
          "text": [
            "11999it [05:01, 33.58it/s]"
          ]
        },
        {
          "name": "stdout",
          "output_type": "stream",
          "text": [
            "| epoch   9 | 12000/32580 batches | loss    1.330 \n"
          ]
        },
        {
          "name": "stderr",
          "output_type": "stream",
          "text": [
            "12007it [05:01, 21.62it/s]"
          ]
        },
        {
          "name": "stdout",
          "output_type": "stream",
          "text": [
            "money: fact, place, addition, well, seen, practice, lack, able, way, even\n",
            "lion: punishment, september, journal, nobel, actress, concept, british, england, opposed, united\n",
            "africa: europe, india, australia, japan, america, south, china, north, germany, region\n",
            "musician: actress, actor, writer, author, singer, born, addition, football, nine, seven\n",
            "dance: music, concept, country, study, writer, singer, actor, origin, art, contemporary\n",
            "\n",
            "\n"
          ]
        },
        {
          "name": "stderr",
          "output_type": "stream",
          "text": [
            "12499it [05:13, 36.67it/s]"
          ]
        },
        {
          "name": "stdout",
          "output_type": "stream",
          "text": [
            "| epoch   9 | 12500/32580 batches | loss    1.329 \n"
          ]
        },
        {
          "name": "stderr",
          "output_type": "stream",
          "text": [
            "12507it [05:14, 22.33it/s]"
          ]
        },
        {
          "name": "stdout",
          "output_type": "stream",
          "text": [
            "money: fact, place, addition, well, seen, practice, lack, able, way, even\n",
            "lion: punishment, september, journal, nobel, actress, concept, british, england, opposed, united\n",
            "africa: europe, india, australia, japan, america, south, china, north, germany, region\n",
            "musician: actress, actor, writer, author, singer, born, addition, football, nine, seven\n",
            "dance: music, concept, country, study, writer, singer, actor, origin, art, contemporary\n",
            "\n",
            "\n"
          ]
        },
        {
          "name": "stderr",
          "output_type": "stream",
          "text": [
            "12997it [05:26, 43.24it/s]"
          ]
        },
        {
          "name": "stdout",
          "output_type": "stream",
          "text": [
            "| epoch   9 | 13000/32580 batches | loss    1.330 \n"
          ]
        },
        {
          "name": "stderr",
          "output_type": "stream",
          "text": [
            "13007it [05:26, 30.24it/s]"
          ]
        },
        {
          "name": "stdout",
          "output_type": "stream",
          "text": [
            "money: fact, place, addition, well, seen, practice, lack, able, way, even\n",
            "lion: punishment, september, journal, nobel, actress, concept, british, england, opposed, united\n",
            "africa: europe, india, australia, japan, america, south, china, north, germany, region\n",
            "musician: actress, actor, writer, author, singer, born, addition, football, nine, seven\n",
            "dance: music, concept, country, study, writer, singer, actor, origin, art, contemporary\n",
            "\n",
            "\n"
          ]
        },
        {
          "name": "stderr",
          "output_type": "stream",
          "text": [
            "13498it [05:38, 43.39it/s]"
          ]
        },
        {
          "name": "stdout",
          "output_type": "stream",
          "text": [
            "| epoch   9 | 13500/32580 batches | loss    1.333 \n"
          ]
        },
        {
          "name": "stderr",
          "output_type": "stream",
          "text": [
            "13508it [05:39, 30.43it/s]"
          ]
        },
        {
          "name": "stdout",
          "output_type": "stream",
          "text": [
            "money: fact, place, addition, well, seen, practice, lack, able, way, even\n",
            "lion: punishment, september, journal, nobel, actress, concept, british, england, opposed, united\n",
            "africa: europe, india, australia, japan, america, south, china, north, germany, region\n",
            "musician: actress, actor, writer, author, singer, born, addition, football, nine, seven\n",
            "dance: music, concept, country, study, writer, singer, actor, origin, art, contemporary\n",
            "\n",
            "\n"
          ]
        },
        {
          "name": "stderr",
          "output_type": "stream",
          "text": [
            "14000it [05:51, 43.38it/s]"
          ]
        },
        {
          "name": "stdout",
          "output_type": "stream",
          "text": [
            "| epoch   9 | 14000/32580 batches | loss    1.334 \n"
          ]
        },
        {
          "name": "stderr",
          "output_type": "stream",
          "text": [
            "\r14005it [05:51, 22.90it/s]"
          ]
        },
        {
          "name": "stdout",
          "output_type": "stream",
          "text": [
            "money: fact, place, addition, well, seen, practice, lack, able, way, even\n",
            "lion: punishment, september, journal, nobel, actress, concept, british, england, opposed, united\n",
            "africa: europe, india, australia, japan, america, south, china, north, germany, region\n",
            "musician: actress, actor, writer, author, singer, born, addition, football, nine, seven\n",
            "dance: music, concept, country, study, writer, singer, actor, origin, art, contemporary\n",
            "\n",
            "\n"
          ]
        },
        {
          "name": "stderr",
          "output_type": "stream",
          "text": [
            "14500it [06:04, 44.55it/s]"
          ]
        },
        {
          "name": "stdout",
          "output_type": "stream",
          "text": [
            "| epoch   9 | 14500/32580 batches | loss    1.327 \n"
          ]
        },
        {
          "name": "stderr",
          "output_type": "stream",
          "text": [
            "\r14505it [06:05, 26.98it/s]"
          ]
        },
        {
          "name": "stdout",
          "output_type": "stream",
          "text": [
            "money: fact, place, addition, well, seen, practice, lack, able, way, even\n",
            "lion: punishment, september, journal, nobel, actress, concept, british, england, opposed, united\n",
            "africa: europe, india, australia, japan, america, south, china, north, germany, region\n",
            "musician: actress, actor, writer, author, singer, born, addition, football, nine, seven\n",
            "dance: music, concept, country, study, writer, singer, actor, origin, art, contemporary\n",
            "\n",
            "\n"
          ]
        },
        {
          "name": "stderr",
          "output_type": "stream",
          "text": [
            "14999it [06:17, 43.24it/s]"
          ]
        },
        {
          "name": "stdout",
          "output_type": "stream",
          "text": [
            "| epoch   9 | 15000/32580 batches | loss    1.334 \n"
          ]
        },
        {
          "name": "stderr",
          "output_type": "stream",
          "text": [
            "\r15004it [06:17, 26.45it/s]"
          ]
        },
        {
          "name": "stdout",
          "output_type": "stream",
          "text": [
            "money: fact, place, addition, well, seen, practice, lack, able, way, even\n",
            "lion: punishment, september, journal, nobel, actress, concept, british, england, opposed, united\n",
            "africa: europe, india, australia, japan, america, south, china, north, germany, region\n",
            "musician: actress, actor, writer, author, singer, born, addition, football, nine, seven\n",
            "dance: music, concept, country, study, writer, singer, actor, origin, art, contemporary\n",
            "\n",
            "\n"
          ]
        },
        {
          "name": "stderr",
          "output_type": "stream",
          "text": [
            "15499it [06:29, 43.36it/s]"
          ]
        },
        {
          "name": "stdout",
          "output_type": "stream",
          "text": [
            "| epoch   9 | 15500/32580 batches | loss    1.335 \n"
          ]
        },
        {
          "name": "stderr",
          "output_type": "stream",
          "text": [
            "15509it [06:30, 30.61it/s]"
          ]
        },
        {
          "name": "stdout",
          "output_type": "stream",
          "text": [
            "money: fact, place, addition, well, seen, practice, lack, able, way, even\n",
            "lion: punishment, september, journal, nobel, actress, concept, british, england, opposed, united\n",
            "africa: europe, india, australia, japan, america, south, china, north, germany, region\n",
            "musician: actress, actor, writer, author, singer, born, addition, football, nine, seven\n",
            "dance: music, concept, country, study, writer, singer, actor, origin, art, contemporary\n",
            "\n",
            "\n"
          ]
        },
        {
          "name": "stderr",
          "output_type": "stream",
          "text": [
            "15998it [06:42, 44.10it/s]"
          ]
        },
        {
          "name": "stdout",
          "output_type": "stream",
          "text": [
            "| epoch   9 | 16000/32580 batches | loss    1.337 \n"
          ]
        },
        {
          "name": "stderr",
          "output_type": "stream",
          "text": [
            "16007it [06:42, 29.82it/s]"
          ]
        },
        {
          "name": "stdout",
          "output_type": "stream",
          "text": [
            "money: fact, place, addition, well, seen, practice, lack, able, way, even\n",
            "lion: punishment, september, journal, nobel, actress, concept, british, england, opposed, united\n",
            "africa: europe, india, australia, japan, america, south, china, north, germany, region\n",
            "musician: actress, actor, writer, author, singer, born, addition, football, nine, seven\n",
            "dance: music, concept, country, study, writer, singer, actor, origin, art, contemporary\n",
            "\n",
            "\n"
          ]
        },
        {
          "name": "stderr",
          "output_type": "stream",
          "text": [
            "16496it [06:57, 43.28it/s]"
          ]
        },
        {
          "name": "stdout",
          "output_type": "stream",
          "text": [
            "| epoch   9 | 16500/32580 batches | loss    1.332 \n"
          ]
        },
        {
          "name": "stderr",
          "output_type": "stream",
          "text": [
            "16505it [06:58, 28.89it/s]"
          ]
        },
        {
          "name": "stdout",
          "output_type": "stream",
          "text": [
            "money: fact, place, addition, well, seen, practice, lack, able, way, even\n",
            "lion: punishment, september, journal, nobel, actress, concept, british, england, opposed, united\n",
            "africa: europe, india, australia, japan, america, south, china, north, germany, region\n",
            "musician: actress, actor, writer, author, singer, born, addition, football, nine, seven\n",
            "dance: music, concept, country, study, writer, singer, actor, origin, art, contemporary\n",
            "\n",
            "\n"
          ]
        },
        {
          "name": "stderr",
          "output_type": "stream",
          "text": [
            "16996it [07:10, 43.77it/s]"
          ]
        },
        {
          "name": "stdout",
          "output_type": "stream",
          "text": [
            "| epoch   9 | 17000/32580 batches | loss    1.333 \n"
          ]
        },
        {
          "name": "stderr",
          "output_type": "stream",
          "text": [
            "17005it [07:10, 29.21it/s]"
          ]
        },
        {
          "name": "stdout",
          "output_type": "stream",
          "text": [
            "money: fact, place, addition, well, seen, practice, lack, able, way, even\n",
            "lion: punishment, september, journal, nobel, actress, concept, british, england, opposed, united\n",
            "africa: europe, india, australia, japan, america, south, china, north, germany, region\n",
            "musician: actress, actor, writer, author, singer, born, addition, football, nine, seven\n",
            "dance: music, concept, country, study, writer, singer, actor, origin, art, contemporary\n",
            "\n",
            "\n"
          ]
        },
        {
          "name": "stderr",
          "output_type": "stream",
          "text": [
            "17500it [07:22, 38.25it/s]"
          ]
        },
        {
          "name": "stdout",
          "output_type": "stream",
          "text": [
            "| epoch   9 | 17500/32580 batches | loss    1.329 \n"
          ]
        },
        {
          "name": "stderr",
          "output_type": "stream",
          "text": [
            "17508it [07:23, 26.79it/s]"
          ]
        },
        {
          "name": "stdout",
          "output_type": "stream",
          "text": [
            "money: fact, place, addition, well, seen, practice, lack, able, way, even\n",
            "lion: punishment, september, journal, nobel, actress, concept, british, england, opposed, united\n",
            "africa: europe, india, australia, japan, america, south, china, north, germany, region\n",
            "musician: actress, actor, writer, author, singer, born, addition, football, nine, seven\n",
            "dance: music, concept, country, study, writer, singer, actor, origin, art, contemporary\n",
            "\n",
            "\n"
          ]
        },
        {
          "name": "stderr",
          "output_type": "stream",
          "text": [
            "18000it [07:35, 33.53it/s]"
          ]
        },
        {
          "name": "stdout",
          "output_type": "stream",
          "text": [
            "| epoch   9 | 18000/32580 batches | loss    1.331 \n"
          ]
        },
        {
          "name": "stderr",
          "output_type": "stream",
          "text": [
            "\r18004it [07:36, 18.36it/s]"
          ]
        },
        {
          "name": "stdout",
          "output_type": "stream",
          "text": [
            "money: fact, place, addition, well, seen, practice, lack, able, way, even\n",
            "lion: punishment, september, journal, nobel, actress, concept, british, england, opposed, united\n",
            "africa: europe, india, australia, japan, america, south, china, north, germany, region\n",
            "musician: actress, actor, writer, author, singer, born, addition, football, nine, seven\n",
            "dance: music, concept, country, study, writer, singer, actor, origin, art, contemporary\n",
            "\n",
            "\n"
          ]
        },
        {
          "name": "stderr",
          "output_type": "stream",
          "text": [
            "18497it [07:47, 36.58it/s]"
          ]
        },
        {
          "name": "stdout",
          "output_type": "stream",
          "text": [
            "| epoch   9 | 18500/32580 batches | loss    1.332 \n"
          ]
        },
        {
          "name": "stderr",
          "output_type": "stream",
          "text": [
            "18504it [07:48, 20.66it/s]"
          ]
        },
        {
          "name": "stdout",
          "output_type": "stream",
          "text": [
            "money: fact, place, addition, well, seen, practice, lack, able, way, even\n",
            "lion: punishment, september, journal, nobel, actress, concept, british, england, opposed, united\n",
            "africa: europe, india, australia, japan, america, south, china, north, germany, region\n",
            "musician: actress, actor, writer, author, singer, born, addition, football, nine, seven\n",
            "dance: music, concept, country, study, writer, singer, actor, origin, art, contemporary\n",
            "\n",
            "\n"
          ]
        },
        {
          "name": "stderr",
          "output_type": "stream",
          "text": [
            "18999it [08:00, 44.34it/s]"
          ]
        },
        {
          "name": "stdout",
          "output_type": "stream",
          "text": [
            "| epoch   9 | 19000/32580 batches | loss    1.328 \n"
          ]
        },
        {
          "name": "stderr",
          "output_type": "stream",
          "text": [
            "\r19004it [08:00, 26.67it/s]"
          ]
        },
        {
          "name": "stdout",
          "output_type": "stream",
          "text": [
            "money: fact, place, addition, well, seen, practice, lack, able, way, even\n",
            "lion: punishment, september, journal, nobel, actress, concept, british, england, opposed, united\n",
            "africa: europe, india, australia, japan, america, south, china, north, germany, region\n",
            "musician: actress, actor, writer, author, singer, born, addition, football, nine, seven\n",
            "dance: music, concept, country, study, writer, singer, actor, origin, art, contemporary\n",
            "\n",
            "\n"
          ]
        },
        {
          "name": "stderr",
          "output_type": "stream",
          "text": [
            "19499it [08:12, 43.68it/s]"
          ]
        },
        {
          "name": "stdout",
          "output_type": "stream",
          "text": [
            "| epoch   9 | 19500/32580 batches | loss    1.331 \n"
          ]
        },
        {
          "name": "stderr",
          "output_type": "stream",
          "text": [
            "19509it [08:13, 29.59it/s]"
          ]
        },
        {
          "name": "stdout",
          "output_type": "stream",
          "text": [
            "money: fact, place, addition, well, seen, practice, lack, able, way, even\n",
            "lion: punishment, september, journal, nobel, actress, concept, british, england, opposed, united\n",
            "africa: europe, india, australia, japan, america, south, china, north, germany, region\n",
            "musician: actress, actor, writer, author, singer, born, addition, football, nine, seven\n",
            "dance: music, concept, country, study, writer, singer, actor, origin, art, contemporary\n",
            "\n",
            "\n"
          ]
        },
        {
          "name": "stderr",
          "output_type": "stream",
          "text": [
            "20000it [08:25, 42.82it/s]"
          ]
        },
        {
          "name": "stdout",
          "output_type": "stream",
          "text": [
            "| epoch   9 | 20000/32580 batches | loss    1.335 \n"
          ]
        },
        {
          "name": "stderr",
          "output_type": "stream",
          "text": [
            "\r20005it [08:25, 26.43it/s]"
          ]
        },
        {
          "name": "stdout",
          "output_type": "stream",
          "text": [
            "money: fact, place, addition, well, seen, practice, lack, able, way, even\n",
            "lion: punishment, september, journal, nobel, actress, concept, british, england, opposed, united\n",
            "africa: europe, india, australia, japan, america, south, china, north, germany, region\n",
            "musician: actress, actor, writer, author, singer, born, addition, football, nine, seven\n",
            "dance: music, concept, country, study, writer, singer, actor, origin, art, contemporary\n",
            "\n",
            "\n"
          ]
        },
        {
          "name": "stderr",
          "output_type": "stream",
          "text": [
            "20500it [08:38, 43.76it/s]"
          ]
        },
        {
          "name": "stdout",
          "output_type": "stream",
          "text": [
            "| epoch   9 | 20500/32580 batches | loss    1.329 \n"
          ]
        },
        {
          "name": "stderr",
          "output_type": "stream",
          "text": [
            "\r20505it [08:38, 26.70it/s]"
          ]
        },
        {
          "name": "stdout",
          "output_type": "stream",
          "text": [
            "money: fact, place, addition, well, seen, practice, lack, able, way, even\n",
            "lion: punishment, september, journal, nobel, actress, concept, british, england, opposed, united\n",
            "africa: europe, india, australia, japan, america, south, china, north, germany, region\n",
            "musician: actress, actor, writer, author, singer, born, addition, football, nine, seven\n",
            "dance: music, concept, country, study, writer, singer, actor, origin, art, contemporary\n",
            "\n",
            "\n"
          ]
        },
        {
          "name": "stderr",
          "output_type": "stream",
          "text": [
            "20999it [08:50, 43.83it/s]"
          ]
        },
        {
          "name": "stdout",
          "output_type": "stream",
          "text": [
            "| epoch   9 | 21000/32580 batches | loss    1.326 \n"
          ]
        },
        {
          "name": "stderr",
          "output_type": "stream",
          "text": [
            "\r21004it [08:50, 26.94it/s]"
          ]
        },
        {
          "name": "stdout",
          "output_type": "stream",
          "text": [
            "money: fact, place, addition, well, seen, practice, lack, able, way, even\n",
            "lion: punishment, september, journal, nobel, actress, concept, british, england, opposed, united\n",
            "africa: europe, india, australia, japan, america, south, china, north, germany, region\n",
            "musician: actress, actor, writer, author, singer, born, addition, football, nine, seven\n",
            "dance: music, concept, country, study, writer, singer, actor, origin, art, contemporary\n",
            "\n",
            "\n"
          ]
        },
        {
          "name": "stderr",
          "output_type": "stream",
          "text": [
            "21500it [09:02, 44.53it/s]"
          ]
        },
        {
          "name": "stdout",
          "output_type": "stream",
          "text": [
            "| epoch   9 | 21500/32580 batches | loss    1.333 \n"
          ]
        },
        {
          "name": "stderr",
          "output_type": "stream",
          "text": [
            "\r21505it [09:03, 26.97it/s]"
          ]
        },
        {
          "name": "stdout",
          "output_type": "stream",
          "text": [
            "money: fact, place, addition, well, seen, practice, lack, able, way, even\n",
            "lion: punishment, september, journal, nobel, actress, concept, british, england, opposed, united\n",
            "africa: europe, india, australia, japan, america, south, china, north, germany, region\n",
            "musician: actress, actor, writer, author, singer, born, addition, football, nine, seven\n",
            "dance: music, concept, country, study, writer, singer, actor, origin, art, contemporary\n",
            "\n",
            "\n"
          ]
        },
        {
          "name": "stderr",
          "output_type": "stream",
          "text": [
            "22000it [09:15, 43.63it/s]"
          ]
        },
        {
          "name": "stdout",
          "output_type": "stream",
          "text": [
            "| epoch   9 | 22000/32580 batches | loss    1.334 \n"
          ]
        },
        {
          "name": "stderr",
          "output_type": "stream",
          "text": [
            "\r22005it [09:15, 25.76it/s]"
          ]
        },
        {
          "name": "stdout",
          "output_type": "stream",
          "text": [
            "money: fact, place, addition, well, seen, practice, lack, able, way, even\n",
            "lion: punishment, september, journal, nobel, actress, concept, british, england, opposed, united\n",
            "africa: europe, india, australia, japan, america, south, china, north, germany, region\n",
            "musician: actress, actor, writer, author, singer, born, addition, football, nine, seven\n",
            "dance: music, concept, country, study, writer, singer, actor, origin, art, contemporary\n",
            "\n",
            "\n"
          ]
        },
        {
          "name": "stderr",
          "output_type": "stream",
          "text": [
            "22498it [09:28, 31.91it/s]"
          ]
        },
        {
          "name": "stdout",
          "output_type": "stream",
          "text": [
            "| epoch   9 | 22500/32580 batches | loss    1.332 \n"
          ]
        },
        {
          "name": "stderr",
          "output_type": "stream",
          "text": [
            "22506it [09:28, 23.10it/s]"
          ]
        },
        {
          "name": "stdout",
          "output_type": "stream",
          "text": [
            "money: fact, place, addition, well, seen, practice, lack, able, way, even\n",
            "lion: punishment, september, journal, nobel, actress, concept, british, england, opposed, united\n",
            "africa: europe, india, australia, japan, america, south, china, north, germany, region\n",
            "musician: actress, actor, writer, author, singer, born, addition, football, nine, seven\n",
            "dance: music, concept, country, study, writer, singer, actor, origin, art, contemporary\n",
            "\n",
            "\n"
          ]
        },
        {
          "name": "stderr",
          "output_type": "stream",
          "text": [
            "22997it [09:40, 33.27it/s]"
          ]
        },
        {
          "name": "stdout",
          "output_type": "stream",
          "text": [
            "| epoch   9 | 23000/32580 batches | loss    1.335 \n"
          ]
        },
        {
          "name": "stderr",
          "output_type": "stream",
          "text": [
            "23004it [09:40, 20.34it/s]"
          ]
        },
        {
          "name": "stdout",
          "output_type": "stream",
          "text": [
            "money: fact, place, addition, well, seen, practice, lack, able, way, even\n",
            "lion: punishment, september, journal, nobel, actress, concept, british, england, opposed, united\n",
            "africa: europe, india, australia, japan, america, south, china, north, germany, region\n",
            "musician: actress, actor, writer, author, singer, born, addition, football, nine, seven\n",
            "dance: music, concept, country, study, writer, singer, actor, origin, art, contemporary\n",
            "\n",
            "\n"
          ]
        },
        {
          "name": "stderr",
          "output_type": "stream",
          "text": [
            "23498it [09:52, 38.56it/s]"
          ]
        },
        {
          "name": "stdout",
          "output_type": "stream",
          "text": [
            "| epoch   9 | 23500/32580 batches | loss    1.328 \n"
          ]
        },
        {
          "name": "stderr",
          "output_type": "stream",
          "text": [
            "23506it [09:52, 23.05it/s]"
          ]
        },
        {
          "name": "stdout",
          "output_type": "stream",
          "text": [
            "money: fact, place, addition, well, seen, practice, lack, able, way, even\n",
            "lion: punishment, september, journal, nobel, actress, concept, british, england, opposed, united\n",
            "africa: europe, india, australia, japan, america, south, china, north, germany, region\n",
            "musician: actress, actor, writer, author, singer, born, addition, football, nine, seven\n",
            "dance: music, concept, country, study, writer, singer, actor, origin, art, contemporary\n",
            "\n",
            "\n"
          ]
        },
        {
          "name": "stderr",
          "output_type": "stream",
          "text": [
            "23998it [10:05, 33.41it/s]"
          ]
        },
        {
          "name": "stdout",
          "output_type": "stream",
          "text": [
            "| epoch   9 | 24000/32580 batches | loss    1.329 \n"
          ]
        },
        {
          "name": "stderr",
          "output_type": "stream",
          "text": [
            "24006it [10:05, 21.63it/s]"
          ]
        },
        {
          "name": "stdout",
          "output_type": "stream",
          "text": [
            "money: fact, place, addition, well, seen, practice, lack, able, way, even\n",
            "lion: punishment, september, journal, nobel, actress, concept, british, england, opposed, united\n",
            "africa: europe, india, australia, japan, america, south, china, north, germany, region\n",
            "musician: actress, actor, writer, author, singer, born, addition, football, nine, seven\n",
            "dance: music, concept, country, study, writer, singer, actor, origin, art, contemporary\n",
            "\n",
            "\n"
          ]
        },
        {
          "name": "stderr",
          "output_type": "stream",
          "text": [
            "24500it [10:18, 43.78it/s]"
          ]
        },
        {
          "name": "stdout",
          "output_type": "stream",
          "text": [
            "| epoch   9 | 24500/32580 batches | loss    1.330 \n"
          ]
        },
        {
          "name": "stderr",
          "output_type": "stream",
          "text": [
            "\r24505it [10:19, 26.77it/s]"
          ]
        },
        {
          "name": "stdout",
          "output_type": "stream",
          "text": [
            "money: fact, place, addition, well, seen, practice, lack, able, way, even\n",
            "lion: punishment, september, journal, nobel, actress, concept, british, england, opposed, united\n",
            "africa: europe, india, australia, japan, america, south, china, north, germany, region\n",
            "musician: actress, actor, writer, author, singer, born, addition, football, nine, seven\n",
            "dance: music, concept, country, study, writer, singer, actor, origin, art, contemporary\n",
            "\n",
            "\n"
          ]
        },
        {
          "name": "stderr",
          "output_type": "stream",
          "text": [
            "24998it [10:31, 43.66it/s]"
          ]
        },
        {
          "name": "stdout",
          "output_type": "stream",
          "text": [
            "| epoch   9 | 25000/32580 batches | loss    1.328 \n"
          ]
        },
        {
          "name": "stderr",
          "output_type": "stream",
          "text": [
            "25007it [10:31, 29.64it/s]"
          ]
        },
        {
          "name": "stdout",
          "output_type": "stream",
          "text": [
            "money: fact, place, addition, well, seen, practice, lack, able, way, even\n",
            "lion: punishment, september, journal, nobel, actress, concept, british, england, opposed, united\n",
            "africa: europe, india, australia, japan, america, south, china, north, germany, region\n",
            "musician: actress, actor, writer, author, singer, born, addition, football, nine, seven\n",
            "dance: music, concept, country, study, writer, singer, actor, origin, art, contemporary\n",
            "\n",
            "\n"
          ]
        },
        {
          "name": "stderr",
          "output_type": "stream",
          "text": [
            "25500it [10:44, 43.26it/s]"
          ]
        },
        {
          "name": "stdout",
          "output_type": "stream",
          "text": [
            "| epoch   9 | 25500/32580 batches | loss    1.329 \n"
          ]
        },
        {
          "name": "stderr",
          "output_type": "stream",
          "text": [
            "\r25505it [10:44, 26.18it/s]"
          ]
        },
        {
          "name": "stdout",
          "output_type": "stream",
          "text": [
            "money: fact, place, addition, well, seen, practice, lack, able, way, even\n",
            "lion: punishment, september, journal, nobel, actress, concept, british, england, opposed, united\n",
            "africa: europe, india, australia, japan, america, south, china, north, germany, region\n",
            "musician: actress, actor, writer, author, singer, born, addition, football, nine, seven\n",
            "dance: music, concept, country, study, writer, singer, actor, origin, art, contemporary\n",
            "\n",
            "\n"
          ]
        },
        {
          "name": "stderr",
          "output_type": "stream",
          "text": [
            "25998it [10:56, 44.33it/s]"
          ]
        },
        {
          "name": "stdout",
          "output_type": "stream",
          "text": [
            "| epoch   9 | 26000/32580 batches | loss    1.331 \n"
          ]
        },
        {
          "name": "stderr",
          "output_type": "stream",
          "text": [
            "26007it [10:57, 29.02it/s]"
          ]
        },
        {
          "name": "stdout",
          "output_type": "stream",
          "text": [
            "money: fact, place, addition, well, seen, practice, lack, able, way, even\n",
            "lion: punishment, september, journal, nobel, actress, concept, british, england, opposed, united\n",
            "africa: europe, india, australia, japan, america, south, china, north, germany, region\n",
            "musician: actress, actor, writer, author, singer, born, addition, football, nine, seven\n",
            "dance: music, concept, country, study, writer, singer, actor, origin, art, contemporary\n",
            "\n",
            "\n"
          ]
        },
        {
          "name": "stderr",
          "output_type": "stream",
          "text": [
            "26496it [11:09, 44.05it/s]"
          ]
        },
        {
          "name": "stdout",
          "output_type": "stream",
          "text": [
            "| epoch   9 | 26500/32580 batches | loss    1.328 \n"
          ]
        },
        {
          "name": "stderr",
          "output_type": "stream",
          "text": [
            "26505it [11:09, 29.46it/s]"
          ]
        },
        {
          "name": "stdout",
          "output_type": "stream",
          "text": [
            "money: fact, place, addition, well, seen, practice, lack, able, way, even\n",
            "lion: punishment, september, journal, nobel, actress, concept, british, england, opposed, united\n",
            "africa: europe, india, australia, japan, america, south, china, north, germany, region\n",
            "musician: actress, actor, writer, author, singer, born, addition, football, nine, seven\n",
            "dance: music, concept, country, study, writer, singer, actor, origin, art, contemporary\n",
            "\n",
            "\n"
          ]
        },
        {
          "name": "stderr",
          "output_type": "stream",
          "text": [
            "26999it [11:21, 39.42it/s]"
          ]
        },
        {
          "name": "stdout",
          "output_type": "stream",
          "text": [
            "| epoch   9 | 27000/32580 batches | loss    1.330 \n"
          ]
        },
        {
          "name": "stderr",
          "output_type": "stream",
          "text": [
            "27008it [11:22, 27.92it/s]"
          ]
        },
        {
          "name": "stdout",
          "output_type": "stream",
          "text": [
            "money: fact, place, addition, well, seen, practice, lack, able, way, even\n",
            "lion: punishment, september, journal, nobel, actress, concept, british, england, opposed, united\n",
            "africa: europe, india, australia, japan, america, south, china, north, germany, region\n",
            "musician: actress, actor, writer, author, singer, born, addition, football, nine, seven\n",
            "dance: music, concept, country, study, writer, singer, actor, origin, art, contemporary\n",
            "\n",
            "\n"
          ]
        },
        {
          "name": "stderr",
          "output_type": "stream",
          "text": [
            "27498it [11:33, 33.30it/s]"
          ]
        },
        {
          "name": "stdout",
          "output_type": "stream",
          "text": [
            "| epoch   9 | 27500/32580 batches | loss    1.327 \n"
          ]
        },
        {
          "name": "stderr",
          "output_type": "stream",
          "text": [
            "27505it [11:34, 20.30it/s]"
          ]
        },
        {
          "name": "stdout",
          "output_type": "stream",
          "text": [
            "money: fact, place, addition, well, seen, practice, lack, able, way, even\n",
            "lion: punishment, september, journal, nobel, actress, concept, british, england, opposed, united\n",
            "africa: europe, india, australia, japan, america, south, china, north, germany, region\n",
            "musician: actress, actor, writer, author, singer, born, addition, football, nine, seven\n",
            "dance: music, concept, country, study, writer, singer, actor, origin, art, contemporary\n",
            "\n",
            "\n"
          ]
        },
        {
          "name": "stderr",
          "output_type": "stream",
          "text": [
            "27998it [11:46, 33.31it/s]"
          ]
        },
        {
          "name": "stdout",
          "output_type": "stream",
          "text": [
            "| epoch   9 | 28000/32580 batches | loss    1.332 \n"
          ]
        },
        {
          "name": "stderr",
          "output_type": "stream",
          "text": [
            "\r28002it [11:46, 18.31it/s]"
          ]
        },
        {
          "name": "stdout",
          "output_type": "stream",
          "text": [
            "money: fact, place, addition, well, seen, practice, lack, able, way, even\n",
            "lion: punishment, september, journal, nobel, actress, concept, british, england, opposed, united\n",
            "africa: europe, india, australia, japan, america, south, china, north, germany, region\n",
            "musician: actress, actor, writer, author, singer, born, addition, football, nine, seven\n",
            "dance: music, concept, country, study, writer, singer, actor, origin, art, contemporary\n",
            "\n",
            "\n"
          ]
        },
        {
          "name": "stderr",
          "output_type": "stream",
          "text": [
            "28499it [11:58, 43.23it/s]"
          ]
        },
        {
          "name": "stdout",
          "output_type": "stream",
          "text": [
            "| epoch   9 | 28500/32580 batches | loss    1.324 \n"
          ]
        },
        {
          "name": "stderr",
          "output_type": "stream",
          "text": [
            "28509it [11:59, 30.34it/s]"
          ]
        },
        {
          "name": "stdout",
          "output_type": "stream",
          "text": [
            "money: fact, place, addition, well, seen, practice, lack, able, way, even\n",
            "lion: punishment, september, journal, nobel, actress, concept, british, england, opposed, united\n",
            "africa: europe, india, australia, japan, america, south, china, north, germany, region\n",
            "musician: actress, actor, writer, author, singer, born, addition, football, nine, seven\n",
            "dance: music, concept, country, study, writer, singer, actor, origin, art, contemporary\n",
            "\n",
            "\n"
          ]
        },
        {
          "name": "stderr",
          "output_type": "stream",
          "text": [
            "28996it [12:11, 43.39it/s]"
          ]
        },
        {
          "name": "stdout",
          "output_type": "stream",
          "text": [
            "| epoch   9 | 29000/32580 batches | loss    1.327 \n"
          ]
        },
        {
          "name": "stderr",
          "output_type": "stream",
          "text": [
            "29005it [12:11, 29.70it/s]"
          ]
        },
        {
          "name": "stdout",
          "output_type": "stream",
          "text": [
            "money: fact, place, addition, well, seen, practice, lack, able, way, even\n",
            "lion: punishment, september, journal, nobel, actress, concept, british, england, opposed, united\n",
            "africa: europe, india, australia, japan, america, south, china, north, germany, region\n",
            "musician: actress, actor, writer, author, singer, born, addition, football, nine, seven\n",
            "dance: music, concept, country, study, writer, singer, actor, origin, art, contemporary\n",
            "\n",
            "\n"
          ]
        },
        {
          "name": "stderr",
          "output_type": "stream",
          "text": [
            "29498it [12:23, 43.55it/s]"
          ]
        },
        {
          "name": "stdout",
          "output_type": "stream",
          "text": [
            "| epoch   9 | 29500/32580 batches | loss    1.335 \n"
          ]
        },
        {
          "name": "stderr",
          "output_type": "stream",
          "text": [
            "29508it [12:24, 30.18it/s]"
          ]
        },
        {
          "name": "stdout",
          "output_type": "stream",
          "text": [
            "money: fact, place, addition, well, seen, practice, lack, able, way, even\n",
            "lion: punishment, september, journal, nobel, actress, concept, british, england, opposed, united\n",
            "africa: europe, india, australia, japan, america, south, china, north, germany, region\n",
            "musician: actress, actor, writer, author, singer, born, addition, football, nine, seven\n",
            "dance: music, concept, country, study, writer, singer, actor, origin, art, contemporary\n",
            "\n",
            "\n"
          ]
        },
        {
          "name": "stderr",
          "output_type": "stream",
          "text": [
            "30000it [12:36, 43.20it/s]"
          ]
        },
        {
          "name": "stdout",
          "output_type": "stream",
          "text": [
            "| epoch   9 | 30000/32580 batches | loss    1.328 \n"
          ]
        },
        {
          "name": "stderr",
          "output_type": "stream",
          "text": [
            "\r30005it [12:36, 26.54it/s]"
          ]
        },
        {
          "name": "stdout",
          "output_type": "stream",
          "text": [
            "money: fact, place, addition, well, seen, practice, lack, able, way, even\n",
            "lion: punishment, september, journal, nobel, actress, concept, british, england, opposed, united\n",
            "africa: europe, india, australia, japan, america, south, china, north, germany, region\n",
            "musician: actress, actor, writer, author, singer, born, addition, football, nine, seven\n",
            "dance: music, concept, country, study, writer, singer, actor, origin, art, contemporary\n",
            "\n",
            "\n"
          ]
        },
        {
          "name": "stderr",
          "output_type": "stream",
          "text": [
            "30499it [12:49, 43.66it/s]"
          ]
        },
        {
          "name": "stdout",
          "output_type": "stream",
          "text": [
            "| epoch   9 | 30500/32580 batches | loss    1.332 \n"
          ]
        },
        {
          "name": "stderr",
          "output_type": "stream",
          "text": [
            "30509it [12:49, 30.77it/s]"
          ]
        },
        {
          "name": "stdout",
          "output_type": "stream",
          "text": [
            "money: fact, place, addition, well, seen, practice, lack, able, way, even\n",
            "lion: punishment, september, journal, nobel, actress, concept, british, england, opposed, united\n",
            "africa: europe, india, australia, japan, america, south, china, north, germany, region\n",
            "musician: actress, actor, writer, author, singer, born, addition, football, nine, seven\n",
            "dance: music, concept, country, study, writer, singer, actor, origin, art, contemporary\n",
            "\n",
            "\n"
          ]
        },
        {
          "name": "stderr",
          "output_type": "stream",
          "text": [
            "30999it [13:01, 43.93it/s]"
          ]
        },
        {
          "name": "stdout",
          "output_type": "stream",
          "text": [
            "| epoch   9 | 31000/32580 batches | loss    1.333 \n"
          ]
        },
        {
          "name": "stderr",
          "output_type": "stream",
          "text": [
            "\r31004it [13:01, 26.87it/s]"
          ]
        },
        {
          "name": "stdout",
          "output_type": "stream",
          "text": [
            "money: fact, place, addition, well, seen, practice, lack, able, way, even\n",
            "lion: punishment, september, journal, nobel, actress, concept, british, england, opposed, united\n",
            "africa: europe, india, australia, japan, america, south, china, north, germany, region\n",
            "musician: actress, actor, writer, author, singer, born, addition, football, nine, seven\n",
            "dance: music, concept, country, study, writer, singer, actor, origin, art, contemporary\n",
            "\n",
            "\n"
          ]
        },
        {
          "name": "stderr",
          "output_type": "stream",
          "text": [
            "31497it [13:14, 43.44it/s]"
          ]
        },
        {
          "name": "stdout",
          "output_type": "stream",
          "text": [
            "| epoch   9 | 31500/32580 batches | loss    1.327 \n"
          ]
        },
        {
          "name": "stderr",
          "output_type": "stream",
          "text": [
            "31506it [13:14, 29.41it/s]"
          ]
        },
        {
          "name": "stdout",
          "output_type": "stream",
          "text": [
            "money: fact, place, addition, well, seen, practice, lack, able, way, even\n",
            "lion: punishment, september, journal, nobel, actress, concept, british, england, opposed, united\n",
            "africa: europe, india, australia, japan, america, south, china, north, germany, region\n",
            "musician: actress, actor, writer, author, singer, born, addition, football, nine, seven\n",
            "dance: music, concept, country, study, writer, singer, actor, origin, art, contemporary\n",
            "\n",
            "\n"
          ]
        },
        {
          "name": "stderr",
          "output_type": "stream",
          "text": [
            "32000it [13:26, 37.44it/s]"
          ]
        },
        {
          "name": "stdout",
          "output_type": "stream",
          "text": [
            "| epoch   9 | 32000/32580 batches | loss    1.332 \n"
          ]
        },
        {
          "name": "stderr",
          "output_type": "stream",
          "text": [
            "32008it [13:27, 25.98it/s]"
          ]
        },
        {
          "name": "stdout",
          "output_type": "stream",
          "text": [
            "money: fact, place, addition, well, seen, practice, lack, able, way, even\n",
            "lion: punishment, september, journal, nobel, actress, concept, british, england, opposed, united\n",
            "africa: europe, india, australia, japan, america, south, china, north, germany, region\n",
            "musician: actress, actor, writer, author, singer, born, addition, football, nine, seven\n",
            "dance: music, concept, country, study, writer, singer, actor, origin, art, contemporary\n",
            "\n",
            "\n"
          ]
        },
        {
          "name": "stderr",
          "output_type": "stream",
          "text": [
            "32498it [13:38, 34.86it/s]"
          ]
        },
        {
          "name": "stdout",
          "output_type": "stream",
          "text": [
            "| epoch   9 | 32500/32580 batches | loss    1.329 \n"
          ]
        },
        {
          "name": "stderr",
          "output_type": "stream",
          "text": [
            "32505it [13:39, 20.68it/s]"
          ]
        },
        {
          "name": "stdout",
          "output_type": "stream",
          "text": [
            "money: fact, place, addition, well, seen, practice, lack, able, way, even\n",
            "lion: punishment, september, journal, nobel, actress, concept, british, england, opposed, united\n",
            "africa: europe, india, australia, japan, america, south, china, north, germany, region\n",
            "musician: actress, actor, writer, author, singer, born, addition, football, nine, seven\n",
            "dance: music, concept, country, study, writer, singer, actor, origin, art, contemporary\n",
            "\n",
            "\n"
          ]
        },
        {
          "name": "stderr",
          "output_type": "stream",
          "text": [
            "32580it [13:42, 39.61it/s]\n",
            "0it [00:00, ?it/s]"
          ]
        },
        {
          "name": "stdout",
          "output_type": "stream",
          "text": [
            "| epoch  10 |     0/32580 batches | loss    1.375 \n"
          ]
        },
        {
          "name": "stderr",
          "output_type": "stream",
          "text": [
            "5it [00:01,  4.59it/s]"
          ]
        },
        {
          "name": "stdout",
          "output_type": "stream",
          "text": [
            "money: fact, place, addition, well, seen, practice, lack, able, way, even\n",
            "lion: punishment, september, journal, nobel, actress, concept, british, england, opposed, united\n",
            "africa: europe, india, australia, japan, america, south, china, north, germany, region\n",
            "musician: actress, actor, writer, author, singer, born, addition, football, nine, seven\n",
            "dance: music, concept, country, study, writer, singer, actor, origin, art, contemporary\n",
            "\n",
            "\n"
          ]
        },
        {
          "name": "stderr",
          "output_type": "stream",
          "text": [
            "496it [00:13, 43.72it/s]"
          ]
        },
        {
          "name": "stdout",
          "output_type": "stream",
          "text": [
            "| epoch  10 |   500/32580 batches | loss    1.328 \n"
          ]
        },
        {
          "name": "stderr",
          "output_type": "stream",
          "text": [
            "505it [00:14, 29.33it/s]"
          ]
        },
        {
          "name": "stdout",
          "output_type": "stream",
          "text": [
            "money: fact, place, addition, well, seen, practice, lack, able, way, even\n",
            "lion: punishment, september, journal, nobel, actress, concept, british, england, opposed, united\n",
            "africa: europe, india, australia, japan, america, south, china, north, germany, region\n",
            "musician: actress, actor, writer, author, singer, born, addition, football, nine, seven\n",
            "dance: music, concept, country, study, writer, singer, actor, origin, art, contemporary\n",
            "\n",
            "\n"
          ]
        },
        {
          "name": "stderr",
          "output_type": "stream",
          "text": [
            "997it [00:26, 36.50it/s]"
          ]
        },
        {
          "name": "stdout",
          "output_type": "stream",
          "text": [
            "| epoch  10 |  1000/32580 batches | loss    1.332 \n"
          ]
        },
        {
          "name": "stderr",
          "output_type": "stream",
          "text": [
            "1005it [00:26, 26.35it/s]"
          ]
        },
        {
          "name": "stdout",
          "output_type": "stream",
          "text": [
            "money: fact, place, addition, well, seen, practice, lack, able, way, even\n",
            "lion: punishment, september, journal, nobel, actress, concept, british, england, opposed, united\n",
            "africa: europe, india, australia, japan, america, south, china, north, germany, region\n",
            "musician: actress, actor, writer, author, singer, born, addition, football, nine, seven\n",
            "dance: music, concept, country, study, writer, singer, actor, origin, art, contemporary\n",
            "\n",
            "\n"
          ]
        },
        {
          "name": "stderr",
          "output_type": "stream",
          "text": [
            "1497it [00:38, 34.68it/s]"
          ]
        },
        {
          "name": "stdout",
          "output_type": "stream",
          "text": [
            "| epoch  10 |  1500/32580 batches | loss    1.333 \n"
          ]
        },
        {
          "name": "stderr",
          "output_type": "stream",
          "text": [
            "1504it [00:39, 20.50it/s]"
          ]
        },
        {
          "name": "stdout",
          "output_type": "stream",
          "text": [
            "money: fact, place, addition, well, seen, practice, lack, able, way, even\n",
            "lion: punishment, september, journal, nobel, actress, concept, british, england, opposed, united\n",
            "africa: europe, india, australia, japan, america, south, china, north, germany, region\n",
            "musician: actress, actor, writer, author, singer, born, addition, football, nine, seven\n",
            "dance: music, concept, country, study, writer, singer, actor, origin, art, contemporary\n",
            "\n",
            "\n"
          ]
        },
        {
          "name": "stderr",
          "output_type": "stream",
          "text": [
            "1998it [00:51, 43.80it/s]"
          ]
        },
        {
          "name": "stdout",
          "output_type": "stream",
          "text": [
            "| epoch  10 |  2000/32580 batches | loss    1.328 \n"
          ]
        },
        {
          "name": "stderr",
          "output_type": "stream",
          "text": [
            "2008it [00:52, 30.38it/s]"
          ]
        },
        {
          "name": "stdout",
          "output_type": "stream",
          "text": [
            "money: fact, place, addition, well, seen, practice, lack, able, way, even\n",
            "lion: punishment, september, journal, nobel, actress, concept, british, england, opposed, united\n",
            "africa: europe, india, australia, japan, america, south, china, north, germany, region\n",
            "musician: actress, actor, writer, author, singer, born, addition, football, nine, seven\n",
            "dance: music, concept, country, study, writer, singer, actor, origin, art, contemporary\n",
            "\n",
            "\n"
          ]
        },
        {
          "name": "stderr",
          "output_type": "stream",
          "text": [
            "2496it [01:04, 43.99it/s]"
          ]
        },
        {
          "name": "stdout",
          "output_type": "stream",
          "text": [
            "| epoch  10 |  2500/32580 batches | loss    1.330 \n"
          ]
        },
        {
          "name": "stderr",
          "output_type": "stream",
          "text": [
            "2505it [01:04, 29.25it/s]"
          ]
        },
        {
          "name": "stdout",
          "output_type": "stream",
          "text": [
            "money: fact, place, addition, well, seen, practice, lack, able, way, even\n",
            "lion: punishment, september, journal, nobel, actress, concept, british, england, opposed, united\n",
            "africa: europe, india, australia, japan, america, south, china, north, germany, region\n",
            "musician: actress, actor, writer, author, singer, born, addition, football, nine, seven\n",
            "dance: music, concept, country, study, writer, singer, actor, origin, art, contemporary\n",
            "\n",
            "\n"
          ]
        },
        {
          "name": "stderr",
          "output_type": "stream",
          "text": [
            "3000it [01:16, 43.50it/s]"
          ]
        },
        {
          "name": "stdout",
          "output_type": "stream",
          "text": [
            "| epoch  10 |  3000/32580 batches | loss    1.329 \n"
          ]
        },
        {
          "name": "stderr",
          "output_type": "stream",
          "text": [
            "\r3005it [01:17, 26.79it/s]"
          ]
        },
        {
          "name": "stdout",
          "output_type": "stream",
          "text": [
            "money: fact, place, addition, well, seen, practice, lack, able, way, even\n",
            "lion: punishment, september, journal, nobel, actress, concept, british, england, opposed, united\n",
            "africa: europe, india, australia, japan, america, south, china, north, germany, region\n",
            "musician: actress, actor, writer, author, singer, born, addition, football, nine, seven\n",
            "dance: music, concept, country, study, writer, singer, actor, origin, art, contemporary\n",
            "\n",
            "\n"
          ]
        },
        {
          "name": "stderr",
          "output_type": "stream",
          "text": [
            "3500it [01:29, 43.78it/s]"
          ]
        },
        {
          "name": "stdout",
          "output_type": "stream",
          "text": [
            "| epoch  10 |  3500/32580 batches | loss    1.331 \n"
          ]
        },
        {
          "name": "stderr",
          "output_type": "stream",
          "text": [
            "\r3505it [01:29, 25.94it/s]"
          ]
        },
        {
          "name": "stdout",
          "output_type": "stream",
          "text": [
            "money: fact, place, addition, well, seen, practice, lack, able, way, even\n",
            "lion: punishment, september, journal, nobel, actress, concept, british, england, opposed, united\n",
            "africa: europe, india, australia, japan, america, south, china, north, germany, region\n",
            "musician: actress, actor, writer, author, singer, born, addition, football, nine, seven\n",
            "dance: music, concept, country, study, writer, singer, actor, origin, art, contemporary\n",
            "\n",
            "\n"
          ]
        },
        {
          "name": "stderr",
          "output_type": "stream",
          "text": [
            "3999it [01:42, 43.42it/s]"
          ]
        },
        {
          "name": "stdout",
          "output_type": "stream",
          "text": [
            "| epoch  10 |  4000/32580 batches | loss    1.332 \n"
          ]
        },
        {
          "name": "stderr",
          "output_type": "stream",
          "text": [
            "4009it [01:42, 30.11it/s]"
          ]
        },
        {
          "name": "stdout",
          "output_type": "stream",
          "text": [
            "money: fact, place, addition, well, seen, practice, lack, able, way, even\n",
            "lion: punishment, september, journal, nobel, actress, concept, british, england, opposed, united\n",
            "africa: europe, india, australia, japan, america, south, china, north, germany, region\n",
            "musician: actress, actor, writer, author, singer, born, addition, football, nine, seven\n",
            "dance: music, concept, country, study, writer, singer, actor, origin, art, contemporary\n",
            "\n",
            "\n"
          ]
        },
        {
          "name": "stderr",
          "output_type": "stream",
          "text": [
            "4497it [01:54, 43.43it/s]"
          ]
        },
        {
          "name": "stdout",
          "output_type": "stream",
          "text": [
            "| epoch  10 |  4500/32580 batches | loss    1.327 \n"
          ]
        },
        {
          "name": "stderr",
          "output_type": "stream",
          "text": [
            "4506it [01:55, 29.50it/s]"
          ]
        },
        {
          "name": "stdout",
          "output_type": "stream",
          "text": [
            "money: fact, place, addition, well, seen, practice, lack, able, way, even\n",
            "lion: punishment, september, journal, nobel, actress, concept, british, england, opposed, united\n",
            "africa: europe, india, australia, japan, america, south, china, north, germany, region\n",
            "musician: actress, actor, writer, author, singer, born, addition, football, nine, seven\n",
            "dance: music, concept, country, study, writer, singer, actor, origin, art, contemporary\n",
            "\n",
            "\n"
          ]
        },
        {
          "name": "stderr",
          "output_type": "stream",
          "text": [
            "4999it [02:07, 39.70it/s]"
          ]
        },
        {
          "name": "stdout",
          "output_type": "stream",
          "text": [
            "| epoch  10 |  5000/32580 batches | loss    1.334 \n"
          ]
        },
        {
          "name": "stderr",
          "output_type": "stream",
          "text": [
            "5007it [02:07, 27.77it/s]"
          ]
        },
        {
          "name": "stdout",
          "output_type": "stream",
          "text": [
            "money: fact, place, addition, well, seen, practice, lack, able, way, even\n",
            "lion: punishment, september, journal, nobel, actress, concept, british, england, opposed, united\n",
            "africa: europe, india, australia, japan, america, south, china, north, germany, region\n",
            "musician: actress, actor, writer, author, singer, born, addition, football, nine, seven\n",
            "dance: music, concept, country, study, writer, singer, actor, origin, art, contemporary\n",
            "\n",
            "\n"
          ]
        },
        {
          "name": "stderr",
          "output_type": "stream",
          "text": [
            "5500it [02:19, 33.33it/s]"
          ]
        },
        {
          "name": "stdout",
          "output_type": "stream",
          "text": [
            "| epoch  10 |  5500/32580 batches | loss    1.335 \n"
          ]
        },
        {
          "name": "stderr",
          "output_type": "stream",
          "text": [
            "\r5504it [02:20, 19.42it/s]"
          ]
        },
        {
          "name": "stdout",
          "output_type": "stream",
          "text": [
            "money: fact, place, addition, well, seen, practice, lack, able, way, even\n",
            "lion: punishment, september, journal, nobel, actress, concept, british, england, opposed, united\n",
            "africa: europe, india, australia, japan, america, south, china, north, germany, region\n",
            "musician: actress, actor, writer, author, singer, born, addition, football, nine, seven\n",
            "dance: music, concept, country, study, writer, singer, actor, origin, art, contemporary\n",
            "\n",
            "\n"
          ]
        },
        {
          "name": "stderr",
          "output_type": "stream",
          "text": [
            "5998it [02:31, 32.67it/s]"
          ]
        },
        {
          "name": "stdout",
          "output_type": "stream",
          "text": [
            "| epoch  10 |  6000/32580 batches | loss    1.330 \n"
          ]
        },
        {
          "name": "stderr",
          "output_type": "stream",
          "text": [
            "6006it [02:32, 21.72it/s]"
          ]
        },
        {
          "name": "stdout",
          "output_type": "stream",
          "text": [
            "money: fact, place, addition, well, seen, practice, lack, able, way, even\n",
            "lion: punishment, september, journal, nobel, actress, concept, british, england, opposed, united\n",
            "africa: europe, india, australia, japan, america, south, china, north, germany, region\n",
            "musician: actress, actor, writer, author, singer, born, addition, football, nine, seven\n",
            "dance: music, concept, country, study, writer, singer, actor, origin, art, contemporary\n",
            "\n",
            "\n"
          ]
        },
        {
          "name": "stderr",
          "output_type": "stream",
          "text": [
            "6496it [02:44, 43.39it/s]"
          ]
        },
        {
          "name": "stdout",
          "output_type": "stream",
          "text": [
            "| epoch  10 |  6500/32580 batches | loss    1.334 \n"
          ]
        },
        {
          "name": "stderr",
          "output_type": "stream",
          "text": [
            "6505it [02:44, 29.18it/s]"
          ]
        },
        {
          "name": "stdout",
          "output_type": "stream",
          "text": [
            "money: fact, place, addition, well, seen, practice, lack, able, way, even\n",
            "lion: punishment, september, journal, nobel, actress, concept, british, england, opposed, united\n",
            "africa: europe, india, australia, japan, america, south, china, north, germany, region\n",
            "musician: actress, actor, writer, author, singer, born, addition, football, nine, seven\n",
            "dance: music, concept, country, study, writer, singer, actor, origin, art, contemporary\n",
            "\n",
            "\n"
          ]
        },
        {
          "name": "stderr",
          "output_type": "stream",
          "text": [
            "6996it [02:56, 43.14it/s]"
          ]
        },
        {
          "name": "stdout",
          "output_type": "stream",
          "text": [
            "| epoch  10 |  7000/32580 batches | loss    1.331 \n"
          ]
        },
        {
          "name": "stderr",
          "output_type": "stream",
          "text": [
            "7005it [03:00,  6.15it/s]"
          ]
        },
        {
          "name": "stdout",
          "output_type": "stream",
          "text": [
            "money: fact, place, addition, well, seen, practice, lack, able, way, even\n",
            "lion: punishment, september, journal, nobel, actress, concept, british, england, opposed, united\n",
            "africa: europe, india, australia, japan, america, south, china, north, germany, region\n",
            "musician: actress, actor, writer, author, singer, born, addition, football, nine, seven\n",
            "dance: music, concept, country, study, writer, singer, actor, origin, art, contemporary\n",
            "\n",
            "\n"
          ]
        },
        {
          "name": "stderr",
          "output_type": "stream",
          "text": [
            "7500it [03:12, 43.74it/s]"
          ]
        },
        {
          "name": "stdout",
          "output_type": "stream",
          "text": [
            "| epoch  10 |  7500/32580 batches | loss    1.325 \n"
          ]
        },
        {
          "name": "stderr",
          "output_type": "stream",
          "text": [
            "\r7505it [03:12, 26.48it/s]"
          ]
        },
        {
          "name": "stdout",
          "output_type": "stream",
          "text": [
            "money: fact, place, addition, well, seen, practice, lack, able, way, even\n",
            "lion: punishment, september, journal, nobel, actress, concept, british, england, opposed, united\n",
            "africa: europe, india, australia, japan, america, south, china, north, germany, region\n",
            "musician: actress, actor, writer, author, singer, born, addition, football, nine, seven\n",
            "dance: music, concept, country, study, writer, singer, actor, origin, art, contemporary\n",
            "\n",
            "\n"
          ]
        },
        {
          "name": "stderr",
          "output_type": "stream",
          "text": [
            "8000it [03:24, 44.01it/s]"
          ]
        },
        {
          "name": "stdout",
          "output_type": "stream",
          "text": [
            "| epoch  10 |  8000/32580 batches | loss    1.329 \n"
          ]
        },
        {
          "name": "stderr",
          "output_type": "stream",
          "text": [
            "\r8005it [03:24, 26.38it/s]"
          ]
        },
        {
          "name": "stdout",
          "output_type": "stream",
          "text": [
            "money: fact, place, addition, well, seen, practice, lack, able, way, even\n",
            "lion: punishment, september, journal, nobel, actress, concept, british, england, opposed, united\n",
            "africa: europe, india, australia, japan, america, south, china, north, germany, region\n",
            "musician: actress, actor, writer, author, singer, born, addition, football, nine, seven\n",
            "dance: music, concept, country, study, writer, singer, actor, origin, art, contemporary\n",
            "\n",
            "\n"
          ]
        },
        {
          "name": "stderr",
          "output_type": "stream",
          "text": [
            "8497it [03:37, 43.78it/s]"
          ]
        },
        {
          "name": "stdout",
          "output_type": "stream",
          "text": [
            "| epoch  10 |  8500/32580 batches | loss    1.329 \n"
          ]
        },
        {
          "name": "stderr",
          "output_type": "stream",
          "text": [
            "8506it [03:37, 29.61it/s]"
          ]
        },
        {
          "name": "stdout",
          "output_type": "stream",
          "text": [
            "money: fact, place, addition, well, seen, practice, lack, able, way, even\n",
            "lion: punishment, september, journal, nobel, actress, concept, british, england, opposed, united\n",
            "africa: europe, india, australia, japan, america, south, china, north, germany, region\n",
            "musician: actress, actor, writer, author, singer, born, addition, football, nine, seven\n",
            "dance: music, concept, country, study, writer, singer, actor, origin, art, contemporary\n",
            "\n",
            "\n"
          ]
        },
        {
          "name": "stderr",
          "output_type": "stream",
          "text": [
            "8999it [03:49, 44.06it/s]"
          ]
        },
        {
          "name": "stdout",
          "output_type": "stream",
          "text": [
            "| epoch  10 |  9000/32580 batches | loss    1.327 \n"
          ]
        },
        {
          "name": "stderr",
          "output_type": "stream",
          "text": [
            "9009it [03:50, 29.47it/s]"
          ]
        },
        {
          "name": "stdout",
          "output_type": "stream",
          "text": [
            "money: fact, place, addition, well, seen, practice, lack, able, way, even\n",
            "lion: punishment, september, journal, nobel, actress, concept, british, england, opposed, united\n",
            "africa: europe, india, australia, japan, america, south, china, north, germany, region\n",
            "musician: actress, actor, writer, author, singer, born, addition, football, nine, seven\n",
            "dance: music, concept, country, study, writer, singer, actor, origin, art, contemporary\n",
            "\n",
            "\n"
          ]
        },
        {
          "name": "stderr",
          "output_type": "stream",
          "text": [
            "9497it [04:02, 43.57it/s]"
          ]
        },
        {
          "name": "stdout",
          "output_type": "stream",
          "text": [
            "| epoch  10 |  9500/32580 batches | loss    1.335 \n"
          ]
        },
        {
          "name": "stderr",
          "output_type": "stream",
          "text": [
            "9507it [04:02, 30.08it/s]"
          ]
        },
        {
          "name": "stdout",
          "output_type": "stream",
          "text": [
            "money: fact, place, addition, well, seen, practice, lack, able, way, even\n",
            "lion: punishment, september, journal, nobel, actress, concept, british, england, opposed, united\n",
            "africa: europe, india, australia, japan, america, south, china, north, germany, region\n",
            "musician: actress, actor, writer, author, singer, born, addition, football, nine, seven\n",
            "dance: music, concept, country, study, writer, singer, actor, origin, art, contemporary\n",
            "\n",
            "\n"
          ]
        },
        {
          "name": "stderr",
          "output_type": "stream",
          "text": [
            "10000it [04:15, 43.29it/s]"
          ]
        },
        {
          "name": "stdout",
          "output_type": "stream",
          "text": [
            "| epoch  10 | 10000/32580 batches | loss    1.331 \n"
          ]
        },
        {
          "name": "stderr",
          "output_type": "stream",
          "text": [
            "\r10005it [04:15, 26.76it/s]"
          ]
        },
        {
          "name": "stdout",
          "output_type": "stream",
          "text": [
            "money: fact, place, addition, well, seen, practice, lack, able, way, even\n",
            "lion: punishment, september, journal, nobel, actress, concept, british, england, opposed, united\n",
            "africa: europe, india, australia, japan, america, south, china, north, germany, region\n",
            "musician: actress, actor, writer, author, singer, born, addition, football, nine, seven\n",
            "dance: music, concept, country, study, writer, singer, actor, origin, art, contemporary\n",
            "\n",
            "\n"
          ]
        },
        {
          "name": "stderr",
          "output_type": "stream",
          "text": [
            "10499it [04:27, 43.86it/s]"
          ]
        },
        {
          "name": "stdout",
          "output_type": "stream",
          "text": [
            "| epoch  10 | 10500/32580 batches | loss    1.331 \n"
          ]
        },
        {
          "name": "stderr",
          "output_type": "stream",
          "text": [
            "10509it [04:28, 30.06it/s]"
          ]
        },
        {
          "name": "stdout",
          "output_type": "stream",
          "text": [
            "money: fact, place, addition, well, seen, practice, lack, able, way, even\n",
            "lion: punishment, september, journal, nobel, actress, concept, british, england, opposed, united\n",
            "africa: europe, india, australia, japan, america, south, china, north, germany, region\n",
            "musician: actress, actor, writer, author, singer, born, addition, football, nine, seven\n",
            "dance: music, concept, country, study, writer, singer, actor, origin, art, contemporary\n",
            "\n",
            "\n"
          ]
        },
        {
          "name": "stderr",
          "output_type": "stream",
          "text": [
            "10997it [04:40, 34.24it/s]"
          ]
        },
        {
          "name": "stdout",
          "output_type": "stream",
          "text": [
            "| epoch  10 | 11000/32580 batches | loss    1.331 \n"
          ]
        },
        {
          "name": "stderr",
          "output_type": "stream",
          "text": [
            "11005it [04:40, 25.03it/s]"
          ]
        },
        {
          "name": "stdout",
          "output_type": "stream",
          "text": [
            "money: fact, place, addition, well, seen, practice, lack, able, way, even\n",
            "lion: punishment, september, journal, nobel, actress, concept, british, england, opposed, united\n",
            "africa: europe, india, australia, japan, america, south, china, north, germany, region\n",
            "musician: actress, actor, writer, author, singer, born, addition, football, nine, seven\n",
            "dance: music, concept, country, study, writer, singer, actor, origin, art, contemporary\n",
            "\n",
            "\n"
          ]
        },
        {
          "name": "stderr",
          "output_type": "stream",
          "text": [
            "11497it [04:52, 28.56it/s]"
          ]
        },
        {
          "name": "stdout",
          "output_type": "stream",
          "text": [
            "| epoch  10 | 11500/32580 batches | loss    1.330 \n"
          ]
        },
        {
          "name": "stderr",
          "output_type": "stream",
          "text": [
            "11504it [04:53, 17.98it/s]"
          ]
        },
        {
          "name": "stdout",
          "output_type": "stream",
          "text": [
            "money: fact, place, addition, well, seen, practice, lack, able, way, even\n",
            "lion: punishment, september, journal, nobel, actress, concept, british, england, opposed, united\n",
            "africa: europe, india, australia, japan, america, south, china, north, germany, region\n",
            "musician: actress, actor, writer, author, singer, born, addition, football, nine, seven\n",
            "dance: music, concept, country, study, writer, singer, actor, origin, art, contemporary\n",
            "\n",
            "\n"
          ]
        },
        {
          "name": "stderr",
          "output_type": "stream",
          "text": [
            "12000it [05:05, 43.39it/s]"
          ]
        },
        {
          "name": "stdout",
          "output_type": "stream",
          "text": [
            "| epoch  10 | 12000/32580 batches | loss    1.330 \n"
          ]
        },
        {
          "name": "stderr",
          "output_type": "stream",
          "text": [
            "\r12005it [05:06, 26.41it/s]"
          ]
        },
        {
          "name": "stdout",
          "output_type": "stream",
          "text": [
            "money: fact, place, addition, well, seen, practice, lack, able, way, even\n",
            "lion: punishment, september, journal, nobel, actress, concept, british, england, opposed, united\n",
            "africa: europe, india, australia, japan, america, south, china, north, germany, region\n",
            "musician: actress, actor, writer, author, singer, born, addition, football, nine, seven\n",
            "dance: music, concept, country, study, writer, singer, actor, origin, art, contemporary\n",
            "\n",
            "\n"
          ]
        },
        {
          "name": "stderr",
          "output_type": "stream",
          "text": [
            "12500it [05:18, 43.53it/s]"
          ]
        },
        {
          "name": "stdout",
          "output_type": "stream",
          "text": [
            "| epoch  10 | 12500/32580 batches | loss    1.331 \n"
          ]
        },
        {
          "name": "stderr",
          "output_type": "stream",
          "text": [
            "\r12505it [05:18, 25.63it/s]"
          ]
        },
        {
          "name": "stdout",
          "output_type": "stream",
          "text": [
            "money: fact, place, addition, well, seen, practice, lack, able, way, even\n",
            "lion: punishment, september, journal, nobel, actress, concept, british, england, opposed, united\n",
            "africa: europe, india, australia, japan, america, south, china, north, germany, region\n",
            "musician: actress, actor, writer, author, singer, born, addition, football, nine, seven\n",
            "dance: music, concept, country, study, writer, singer, actor, origin, art, contemporary\n",
            "\n",
            "\n"
          ]
        },
        {
          "name": "stderr",
          "output_type": "stream",
          "text": [
            "12996it [05:31, 44.15it/s]"
          ]
        },
        {
          "name": "stdout",
          "output_type": "stream",
          "text": [
            "| epoch  10 | 13000/32580 batches | loss    1.340 \n"
          ]
        },
        {
          "name": "stderr",
          "output_type": "stream",
          "text": [
            "13005it [05:31, 28.36it/s]"
          ]
        },
        {
          "name": "stdout",
          "output_type": "stream",
          "text": [
            "money: fact, place, addition, well, seen, practice, lack, able, way, even\n",
            "lion: punishment, september, journal, nobel, actress, concept, british, england, opposed, united\n",
            "africa: europe, india, australia, japan, america, south, china, north, germany, region\n",
            "musician: actress, actor, writer, author, singer, born, addition, football, nine, seven\n",
            "dance: music, concept, country, study, writer, singer, actor, origin, art, contemporary\n",
            "\n",
            "\n"
          ]
        },
        {
          "name": "stderr",
          "output_type": "stream",
          "text": [
            "13499it [05:43, 43.30it/s]"
          ]
        },
        {
          "name": "stdout",
          "output_type": "stream",
          "text": [
            "| epoch  10 | 13500/32580 batches | loss    1.331 \n"
          ]
        },
        {
          "name": "stderr",
          "output_type": "stream",
          "text": [
            "13509it [05:44, 30.11it/s]"
          ]
        },
        {
          "name": "stdout",
          "output_type": "stream",
          "text": [
            "money: fact, place, addition, well, seen, practice, lack, able, way, even\n",
            "lion: punishment, september, journal, nobel, actress, concept, british, england, opposed, united\n",
            "africa: europe, india, australia, japan, america, south, china, north, germany, region\n",
            "musician: actress, actor, writer, author, singer, born, addition, football, nine, seven\n",
            "dance: music, concept, country, study, writer, singer, actor, origin, art, contemporary\n",
            "\n",
            "\n"
          ]
        },
        {
          "name": "stderr",
          "output_type": "stream",
          "text": [
            "13997it [05:56, 44.45it/s]"
          ]
        },
        {
          "name": "stdout",
          "output_type": "stream",
          "text": [
            "| epoch  10 | 14000/32580 batches | loss    1.331 \n"
          ]
        },
        {
          "name": "stderr",
          "output_type": "stream",
          "text": [
            "14006it [05:56, 29.55it/s]"
          ]
        },
        {
          "name": "stdout",
          "output_type": "stream",
          "text": [
            "money: fact, place, addition, well, seen, practice, lack, able, way, even\n",
            "lion: punishment, september, journal, nobel, actress, concept, british, england, opposed, united\n",
            "africa: europe, india, australia, japan, america, south, china, north, germany, region\n",
            "musician: actress, actor, writer, author, singer, born, addition, football, nine, seven\n",
            "dance: music, concept, country, study, writer, singer, actor, origin, art, contemporary\n",
            "\n",
            "\n"
          ]
        },
        {
          "name": "stderr",
          "output_type": "stream",
          "text": [
            "14499it [06:09, 43.95it/s]"
          ]
        },
        {
          "name": "stdout",
          "output_type": "stream",
          "text": [
            "| epoch  10 | 14500/32580 batches | loss    1.327 \n"
          ]
        },
        {
          "name": "stderr",
          "output_type": "stream",
          "text": [
            "\r14504it [06:09, 26.79it/s]"
          ]
        },
        {
          "name": "stdout",
          "output_type": "stream",
          "text": [
            "money: fact, place, addition, well, seen, practice, lack, able, way, even\n",
            "lion: punishment, september, journal, nobel, actress, concept, british, england, opposed, united\n",
            "africa: europe, india, australia, japan, america, south, china, north, germany, region\n",
            "musician: actress, actor, writer, author, singer, born, addition, football, nine, seven\n",
            "dance: music, concept, country, study, writer, singer, actor, origin, art, contemporary\n",
            "\n",
            "\n"
          ]
        },
        {
          "name": "stderr",
          "output_type": "stream",
          "text": [
            "15000it [06:21, 44.44it/s]"
          ]
        },
        {
          "name": "stdout",
          "output_type": "stream",
          "text": [
            "| epoch  10 | 15000/32580 batches | loss    1.331 \n"
          ]
        },
        {
          "name": "stderr",
          "output_type": "stream",
          "text": [
            "\r15005it [06:22, 26.80it/s]"
          ]
        },
        {
          "name": "stdout",
          "output_type": "stream",
          "text": [
            "money: fact, place, addition, well, seen, practice, lack, able, way, even\n",
            "lion: punishment, september, journal, nobel, actress, concept, british, england, opposed, united\n",
            "africa: europe, india, australia, japan, america, south, china, north, germany, region\n",
            "musician: actress, actor, writer, author, singer, born, addition, football, nine, seven\n",
            "dance: music, concept, country, study, writer, singer, actor, origin, art, contemporary\n",
            "\n",
            "\n"
          ]
        },
        {
          "name": "stderr",
          "output_type": "stream",
          "text": [
            "15500it [06:34, 39.07it/s]"
          ]
        },
        {
          "name": "stdout",
          "output_type": "stream",
          "text": [
            "| epoch  10 | 15500/32580 batches | loss    1.331 \n"
          ]
        },
        {
          "name": "stderr",
          "output_type": "stream",
          "text": [
            "\r15504it [06:34, 24.02it/s]"
          ]
        },
        {
          "name": "stdout",
          "output_type": "stream",
          "text": [
            "money: fact, place, addition, well, seen, practice, lack, able, way, even\n",
            "lion: punishment, september, journal, nobel, actress, concept, british, england, opposed, united\n",
            "africa: europe, india, australia, japan, america, south, china, north, germany, region\n",
            "musician: actress, actor, writer, author, singer, born, addition, football, nine, seven\n",
            "dance: music, concept, country, study, writer, singer, actor, origin, art, contemporary\n",
            "\n",
            "\n"
          ]
        },
        {
          "name": "stderr",
          "output_type": "stream",
          "text": [
            "15997it [06:46, 33.26it/s]"
          ]
        },
        {
          "name": "stdout",
          "output_type": "stream",
          "text": [
            "| epoch  10 | 16000/32580 batches | loss    1.326 \n"
          ]
        },
        {
          "name": "stderr",
          "output_type": "stream",
          "text": [
            "16004it [06:47, 20.25it/s]"
          ]
        },
        {
          "name": "stdout",
          "output_type": "stream",
          "text": [
            "money: fact, place, addition, well, seen, practice, lack, able, way, even\n",
            "lion: punishment, september, journal, nobel, actress, concept, british, england, opposed, united\n",
            "africa: europe, india, australia, japan, america, south, china, north, germany, region\n",
            "musician: actress, actor, writer, author, singer, born, addition, football, nine, seven\n",
            "dance: music, concept, country, study, writer, singer, actor, origin, art, contemporary\n",
            "\n",
            "\n"
          ]
        },
        {
          "name": "stderr",
          "output_type": "stream",
          "text": [
            "16499it [06:58, 33.32it/s]"
          ]
        },
        {
          "name": "stdout",
          "output_type": "stream",
          "text": [
            "| epoch  10 | 16500/32580 batches | loss    1.330 \n"
          ]
        },
        {
          "name": "stderr",
          "output_type": "stream",
          "text": [
            "16506it [06:59, 20.86it/s]"
          ]
        },
        {
          "name": "stdout",
          "output_type": "stream",
          "text": [
            "money: fact, place, addition, well, seen, practice, lack, able, way, even\n",
            "lion: punishment, september, journal, nobel, actress, concept, british, england, opposed, united\n",
            "africa: europe, india, australia, japan, america, south, china, north, germany, region\n",
            "musician: actress, actor, writer, author, singer, born, addition, football, nine, seven\n",
            "dance: music, concept, country, study, writer, singer, actor, origin, art, contemporary\n",
            "\n",
            "\n"
          ]
        },
        {
          "name": "stderr",
          "output_type": "stream",
          "text": [
            "17000it [07:11, 43.67it/s]"
          ]
        },
        {
          "name": "stdout",
          "output_type": "stream",
          "text": [
            "| epoch  10 | 17000/32580 batches | loss    1.332 \n"
          ]
        },
        {
          "name": "stderr",
          "output_type": "stream",
          "text": [
            "\r17005it [07:11, 26.58it/s]"
          ]
        },
        {
          "name": "stdout",
          "output_type": "stream",
          "text": [
            "money: fact, place, addition, well, seen, practice, lack, able, way, even\n",
            "lion: punishment, september, journal, nobel, actress, concept, british, england, opposed, united\n",
            "africa: europe, india, australia, japan, america, south, china, north, germany, region\n",
            "musician: actress, actor, writer, author, singer, born, addition, football, nine, seven\n",
            "dance: music, concept, country, study, writer, singer, actor, origin, art, contemporary\n",
            "\n",
            "\n"
          ]
        },
        {
          "name": "stderr",
          "output_type": "stream",
          "text": [
            "17498it [07:23, 42.34it/s]"
          ]
        },
        {
          "name": "stdout",
          "output_type": "stream",
          "text": [
            "| epoch  10 | 17500/32580 batches | loss    1.326 \n"
          ]
        },
        {
          "name": "stderr",
          "output_type": "stream",
          "text": [
            "17508it [07:24, 30.04it/s]"
          ]
        },
        {
          "name": "stdout",
          "output_type": "stream",
          "text": [
            "money: fact, place, addition, well, seen, practice, lack, able, way, even\n",
            "lion: punishment, september, journal, nobel, actress, concept, british, england, opposed, united\n",
            "africa: europe, india, australia, japan, america, south, china, north, germany, region\n",
            "musician: actress, actor, writer, author, singer, born, addition, football, nine, seven\n",
            "dance: music, concept, country, study, writer, singer, actor, origin, art, contemporary\n",
            "\n",
            "\n"
          ]
        },
        {
          "name": "stderr",
          "output_type": "stream",
          "text": [
            "17996it [07:36, 43.98it/s]"
          ]
        },
        {
          "name": "stdout",
          "output_type": "stream",
          "text": [
            "| epoch  10 | 18000/32580 batches | loss    1.331 \n"
          ]
        },
        {
          "name": "stderr",
          "output_type": "stream",
          "text": [
            "18005it [07:36, 29.10it/s]"
          ]
        },
        {
          "name": "stdout",
          "output_type": "stream",
          "text": [
            "money: fact, place, addition, well, seen, practice, lack, able, way, even\n",
            "lion: punishment, september, journal, nobel, actress, concept, british, england, opposed, united\n",
            "africa: europe, india, australia, japan, america, south, china, north, germany, region\n",
            "musician: actress, actor, writer, author, singer, born, addition, football, nine, seven\n",
            "dance: music, concept, country, study, writer, singer, actor, origin, art, contemporary\n",
            "\n",
            "\n"
          ]
        },
        {
          "name": "stderr",
          "output_type": "stream",
          "text": [
            "18498it [07:48, 44.19it/s]"
          ]
        },
        {
          "name": "stdout",
          "output_type": "stream",
          "text": [
            "| epoch  10 | 18500/32580 batches | loss    1.331 \n"
          ]
        },
        {
          "name": "stderr",
          "output_type": "stream",
          "text": [
            "18507it [07:49, 29.50it/s]"
          ]
        },
        {
          "name": "stdout",
          "output_type": "stream",
          "text": [
            "money: fact, place, addition, well, seen, practice, lack, able, way, even\n",
            "lion: punishment, september, journal, nobel, actress, concept, british, england, opposed, united\n",
            "africa: europe, india, australia, japan, america, south, china, north, germany, region\n",
            "musician: actress, actor, writer, author, singer, born, addition, football, nine, seven\n",
            "dance: music, concept, country, study, writer, singer, actor, origin, art, contemporary\n",
            "\n",
            "\n"
          ]
        },
        {
          "name": "stderr",
          "output_type": "stream",
          "text": [
            "18997it [08:01, 43.90it/s]"
          ]
        },
        {
          "name": "stdout",
          "output_type": "stream",
          "text": [
            "| epoch  10 | 19000/32580 batches | loss    1.331 \n"
          ]
        },
        {
          "name": "stderr",
          "output_type": "stream",
          "text": [
            "19007it [08:01, 29.70it/s]"
          ]
        },
        {
          "name": "stdout",
          "output_type": "stream",
          "text": [
            "money: fact, place, addition, well, seen, practice, lack, able, way, even\n",
            "lion: punishment, september, journal, nobel, actress, concept, british, england, opposed, united\n",
            "africa: europe, india, australia, japan, america, south, china, north, germany, region\n",
            "musician: actress, actor, writer, author, singer, born, addition, football, nine, seven\n",
            "dance: music, concept, country, study, writer, singer, actor, origin, art, contemporary\n",
            "\n",
            "\n"
          ]
        },
        {
          "name": "stderr",
          "output_type": "stream",
          "text": [
            "19498it [08:13, 42.66it/s]"
          ]
        },
        {
          "name": "stdout",
          "output_type": "stream",
          "text": [
            "| epoch  10 | 19500/32580 batches | loss    1.335 \n"
          ]
        },
        {
          "name": "stderr",
          "output_type": "stream",
          "text": [
            "19507it [08:14, 29.11it/s]"
          ]
        },
        {
          "name": "stdout",
          "output_type": "stream",
          "text": [
            "money: fact, place, addition, well, seen, practice, lack, able, way, even\n",
            "lion: punishment, september, journal, nobel, actress, concept, british, england, opposed, united\n",
            "africa: europe, india, australia, japan, america, south, china, north, germany, region\n",
            "musician: actress, actor, writer, author, singer, born, addition, football, nine, seven\n",
            "dance: music, concept, country, study, writer, singer, actor, origin, art, contemporary\n",
            "\n",
            "\n"
          ]
        },
        {
          "name": "stderr",
          "output_type": "stream",
          "text": [
            "19996it [08:26, 42.42it/s]"
          ]
        },
        {
          "name": "stdout",
          "output_type": "stream",
          "text": [
            "| epoch  10 | 20000/32580 batches | loss    1.333 \n"
          ]
        },
        {
          "name": "stderr",
          "output_type": "stream",
          "text": [
            "20005it [08:26, 29.35it/s]"
          ]
        },
        {
          "name": "stdout",
          "output_type": "stream",
          "text": [
            "money: fact, place, addition, well, seen, practice, lack, able, way, even\n",
            "lion: punishment, september, journal, nobel, actress, concept, british, england, opposed, united\n",
            "africa: europe, india, australia, japan, america, south, china, north, germany, region\n",
            "musician: actress, actor, writer, author, singer, born, addition, football, nine, seven\n",
            "dance: music, concept, country, study, writer, singer, actor, origin, art, contemporary\n",
            "\n",
            "\n"
          ]
        },
        {
          "name": "stderr",
          "output_type": "stream",
          "text": [
            "20499it [08:39, 33.13it/s]"
          ]
        },
        {
          "name": "stdout",
          "output_type": "stream",
          "text": [
            "| epoch  10 | 20500/32580 batches | loss    1.333 \n"
          ]
        },
        {
          "name": "stderr",
          "output_type": "stream",
          "text": [
            "20507it [08:39, 22.57it/s]"
          ]
        },
        {
          "name": "stdout",
          "output_type": "stream",
          "text": [
            "money: fact, place, addition, well, seen, practice, lack, able, way, even\n",
            "lion: punishment, september, journal, nobel, actress, concept, british, england, opposed, united\n",
            "africa: europe, india, australia, japan, america, south, china, north, germany, region\n",
            "musician: actress, actor, writer, author, singer, born, addition, football, nine, seven\n",
            "dance: music, concept, country, study, writer, singer, actor, origin, art, contemporary\n",
            "\n",
            "\n"
          ]
        },
        {
          "name": "stderr",
          "output_type": "stream",
          "text": [
            "20998it [08:51, 33.24it/s]"
          ]
        },
        {
          "name": "stdout",
          "output_type": "stream",
          "text": [
            "| epoch  10 | 21000/32580 batches | loss    1.329 \n"
          ]
        },
        {
          "name": "stderr",
          "output_type": "stream",
          "text": [
            "21006it [08:51, 21.78it/s]"
          ]
        },
        {
          "name": "stdout",
          "output_type": "stream",
          "text": [
            "money: fact, place, addition, well, seen, practice, lack, able, way, even\n",
            "lion: punishment, september, journal, nobel, actress, concept, british, england, opposed, united\n",
            "africa: europe, india, australia, japan, america, south, china, north, germany, region\n",
            "musician: actress, actor, writer, author, singer, born, addition, football, nine, seven\n",
            "dance: music, concept, country, study, writer, singer, actor, origin, art, contemporary\n",
            "\n",
            "\n"
          ]
        },
        {
          "name": "stderr",
          "output_type": "stream",
          "text": [
            "21498it [09:03, 40.25it/s]"
          ]
        },
        {
          "name": "stdout",
          "output_type": "stream",
          "text": [
            "| epoch  10 | 21500/32580 batches | loss    1.332 \n"
          ]
        },
        {
          "name": "stderr",
          "output_type": "stream",
          "text": [
            "\r21503it [09:03, 21.75it/s]"
          ]
        },
        {
          "name": "stdout",
          "output_type": "stream",
          "text": [
            "money: fact, place, addition, well, seen, practice, lack, able, way, even\n",
            "lion: punishment, september, journal, nobel, actress, concept, british, england, opposed, united\n",
            "africa: europe, india, australia, japan, america, south, china, north, germany, region\n",
            "musician: actress, actor, writer, author, singer, born, addition, football, nine, seven\n",
            "dance: music, concept, country, study, writer, singer, actor, origin, art, contemporary\n",
            "\n",
            "\n"
          ]
        },
        {
          "name": "stderr",
          "output_type": "stream",
          "text": [
            "21996it [09:17, 44.09it/s]"
          ]
        },
        {
          "name": "stdout",
          "output_type": "stream",
          "text": [
            "| epoch  10 | 22000/32580 batches | loss    1.331 \n"
          ]
        },
        {
          "name": "stderr",
          "output_type": "stream",
          "text": [
            "22005it [09:17, 29.27it/s]"
          ]
        },
        {
          "name": "stdout",
          "output_type": "stream",
          "text": [
            "money: fact, place, addition, well, seen, practice, lack, able, way, even\n",
            "lion: punishment, september, journal, nobel, actress, concept, british, england, opposed, united\n",
            "africa: europe, india, australia, japan, america, south, china, north, germany, region\n",
            "musician: actress, actor, writer, author, singer, born, addition, football, nine, seven\n",
            "dance: music, concept, country, study, writer, singer, actor, origin, art, contemporary\n",
            "\n",
            "\n"
          ]
        },
        {
          "name": "stderr",
          "output_type": "stream",
          "text": [
            "22497it [09:29, 44.41it/s]"
          ]
        },
        {
          "name": "stdout",
          "output_type": "stream",
          "text": [
            "| epoch  10 | 22500/32580 batches | loss    1.329 \n"
          ]
        },
        {
          "name": "stderr",
          "output_type": "stream",
          "text": [
            "22506it [09:30, 29.45it/s]"
          ]
        },
        {
          "name": "stdout",
          "output_type": "stream",
          "text": [
            "money: fact, place, addition, well, seen, practice, lack, able, way, even\n",
            "lion: punishment, september, journal, nobel, actress, concept, british, england, opposed, united\n",
            "africa: europe, india, australia, japan, america, south, china, north, germany, region\n",
            "musician: actress, actor, writer, author, singer, born, addition, football, nine, seven\n",
            "dance: music, concept, country, study, writer, singer, actor, origin, art, contemporary\n",
            "\n",
            "\n"
          ]
        },
        {
          "name": "stderr",
          "output_type": "stream",
          "text": [
            "22998it [09:42, 43.78it/s]"
          ]
        },
        {
          "name": "stdout",
          "output_type": "stream",
          "text": [
            "| epoch  10 | 23000/32580 batches | loss    1.328 \n"
          ]
        },
        {
          "name": "stderr",
          "output_type": "stream",
          "text": [
            "23008it [09:42, 29.33it/s]"
          ]
        },
        {
          "name": "stdout",
          "output_type": "stream",
          "text": [
            "money: fact, place, addition, well, seen, practice, lack, able, way, even\n",
            "lion: punishment, september, journal, nobel, actress, concept, british, england, opposed, united\n",
            "africa: europe, india, australia, japan, america, south, china, north, germany, region\n",
            "musician: actress, actor, writer, author, singer, born, addition, football, nine, seven\n",
            "dance: music, concept, country, study, writer, singer, actor, origin, art, contemporary\n",
            "\n",
            "\n"
          ]
        },
        {
          "name": "stderr",
          "output_type": "stream",
          "text": [
            "23498it [09:55, 43.85it/s]"
          ]
        },
        {
          "name": "stdout",
          "output_type": "stream",
          "text": [
            "| epoch  10 | 23500/32580 batches | loss    1.330 \n"
          ]
        },
        {
          "name": "stderr",
          "output_type": "stream",
          "text": [
            "23507it [09:55, 29.23it/s]"
          ]
        },
        {
          "name": "stdout",
          "output_type": "stream",
          "text": [
            "money: fact, place, addition, well, seen, practice, lack, able, way, even\n",
            "lion: punishment, september, journal, nobel, actress, concept, british, england, opposed, united\n",
            "africa: europe, india, australia, japan, america, south, china, north, germany, region\n",
            "musician: actress, actor, writer, author, singer, born, addition, football, nine, seven\n",
            "dance: music, concept, country, study, writer, singer, actor, origin, art, contemporary\n",
            "\n",
            "\n"
          ]
        },
        {
          "name": "stderr",
          "output_type": "stream",
          "text": [
            "23998it [10:07, 44.00it/s]"
          ]
        },
        {
          "name": "stdout",
          "output_type": "stream",
          "text": [
            "| epoch  10 | 24000/32580 batches | loss    1.331 \n"
          ]
        },
        {
          "name": "stderr",
          "output_type": "stream",
          "text": [
            "24007it [10:08, 29.30it/s]"
          ]
        },
        {
          "name": "stdout",
          "output_type": "stream",
          "text": [
            "money: fact, place, addition, well, seen, practice, lack, able, way, even\n",
            "lion: punishment, september, journal, nobel, actress, concept, british, england, opposed, united\n",
            "africa: europe, india, australia, japan, america, south, china, north, germany, region\n",
            "musician: actress, actor, writer, author, singer, born, addition, football, nine, seven\n",
            "dance: music, concept, country, study, writer, singer, actor, origin, art, contemporary\n",
            "\n",
            "\n"
          ]
        },
        {
          "name": "stderr",
          "output_type": "stream",
          "text": [
            "24496it [10:20, 37.51it/s]"
          ]
        },
        {
          "name": "stdout",
          "output_type": "stream",
          "text": [
            "| epoch  10 | 24500/32580 batches | loss    1.330 \n"
          ]
        },
        {
          "name": "stderr",
          "output_type": "stream",
          "text": [
            "24505it [10:20, 27.21it/s]"
          ]
        },
        {
          "name": "stdout",
          "output_type": "stream",
          "text": [
            "money: fact, place, addition, well, seen, practice, lack, able, way, even\n",
            "lion: punishment, september, journal, nobel, actress, concept, british, england, opposed, united\n",
            "africa: europe, india, australia, japan, america, south, china, north, germany, region\n",
            "musician: actress, actor, writer, author, singer, born, addition, football, nine, seven\n",
            "dance: music, concept, country, study, writer, singer, actor, origin, art, contemporary\n",
            "\n",
            "\n"
          ]
        },
        {
          "name": "stderr",
          "output_type": "stream",
          "text": [
            "24998it [10:32, 34.75it/s]"
          ]
        },
        {
          "name": "stdout",
          "output_type": "stream",
          "text": [
            "| epoch  10 | 25000/32580 batches | loss    1.331 \n"
          ]
        },
        {
          "name": "stderr",
          "output_type": "stream",
          "text": [
            "25006it [10:32, 21.63it/s]"
          ]
        },
        {
          "name": "stdout",
          "output_type": "stream",
          "text": [
            "money: fact, place, addition, well, seen, practice, lack, able, way, even\n",
            "lion: punishment, september, journal, nobel, actress, concept, british, england, opposed, united\n",
            "africa: europe, india, australia, japan, america, south, china, north, germany, region\n",
            "musician: actress, actor, writer, author, singer, born, addition, football, nine, seven\n",
            "dance: music, concept, country, study, writer, singer, actor, origin, art, contemporary\n",
            "\n",
            "\n"
          ]
        },
        {
          "name": "stderr",
          "output_type": "stream",
          "text": [
            "25498it [10:44, 35.02it/s]"
          ]
        },
        {
          "name": "stdout",
          "output_type": "stream",
          "text": [
            "| epoch  10 | 25500/32580 batches | loss    1.331 \n"
          ]
        },
        {
          "name": "stderr",
          "output_type": "stream",
          "text": [
            "25506it [10:45, 21.46it/s]"
          ]
        },
        {
          "name": "stdout",
          "output_type": "stream",
          "text": [
            "money: fact, place, addition, well, seen, practice, lack, able, way, even\n",
            "lion: punishment, september, journal, nobel, actress, concept, british, england, opposed, united\n",
            "africa: europe, india, australia, japan, america, south, china, north, germany, region\n",
            "musician: actress, actor, writer, author, singer, born, addition, football, nine, seven\n",
            "dance: music, concept, country, study, writer, singer, actor, origin, art, contemporary\n",
            "\n",
            "\n"
          ]
        },
        {
          "name": "stderr",
          "output_type": "stream",
          "text": [
            "25998it [10:59, 34.81it/s]"
          ]
        },
        {
          "name": "stdout",
          "output_type": "stream",
          "text": [
            "| epoch  10 | 26000/32580 batches | loss    1.334 \n"
          ]
        },
        {
          "name": "stderr",
          "output_type": "stream",
          "text": [
            "26006it [11:00, 21.61it/s]"
          ]
        },
        {
          "name": "stdout",
          "output_type": "stream",
          "text": [
            "money: fact, place, addition, well, seen, practice, lack, able, way, even\n",
            "lion: punishment, september, journal, nobel, actress, concept, british, england, opposed, united\n",
            "africa: europe, india, australia, japan, america, south, china, north, germany, region\n",
            "musician: actress, actor, writer, author, singer, born, addition, football, nine, seven\n",
            "dance: music, concept, country, study, writer, singer, actor, origin, art, contemporary\n",
            "\n",
            "\n"
          ]
        },
        {
          "name": "stderr",
          "output_type": "stream",
          "text": [
            "26500it [11:12, 34.47it/s]"
          ]
        },
        {
          "name": "stdout",
          "output_type": "stream",
          "text": [
            "| epoch  10 | 26500/32580 batches | loss    1.332 \n"
          ]
        },
        {
          "name": "stderr",
          "output_type": "stream",
          "text": [
            "\r26504it [11:12, 18.70it/s]"
          ]
        },
        {
          "name": "stdout",
          "output_type": "stream",
          "text": [
            "money: fact, place, addition, well, seen, practice, lack, able, way, even\n",
            "lion: punishment, september, journal, nobel, actress, concept, british, england, opposed, united\n",
            "africa: europe, india, australia, japan, america, south, china, north, germany, region\n",
            "musician: actress, actor, writer, author, singer, born, addition, football, nine, seven\n",
            "dance: music, concept, country, study, writer, singer, actor, origin, art, contemporary\n",
            "\n",
            "\n"
          ]
        },
        {
          "name": "stderr",
          "output_type": "stream",
          "text": [
            "27000it [11:24, 44.24it/s]"
          ]
        },
        {
          "name": "stdout",
          "output_type": "stream",
          "text": [
            "| epoch  10 | 27000/32580 batches | loss    1.331 \n"
          ]
        },
        {
          "name": "stderr",
          "output_type": "stream",
          "text": [
            "\r27005it [11:24, 26.75it/s]"
          ]
        },
        {
          "name": "stdout",
          "output_type": "stream",
          "text": [
            "money: fact, place, addition, well, seen, practice, lack, able, way, even\n",
            "lion: punishment, september, journal, nobel, actress, concept, british, england, opposed, united\n",
            "africa: europe, india, australia, japan, america, south, china, north, germany, region\n",
            "musician: actress, actor, writer, author, singer, born, addition, football, nine, seven\n",
            "dance: music, concept, country, study, writer, singer, actor, origin, art, contemporary\n",
            "\n",
            "\n"
          ]
        },
        {
          "name": "stderr",
          "output_type": "stream",
          "text": [
            "27498it [11:36, 43.90it/s]"
          ]
        },
        {
          "name": "stdout",
          "output_type": "stream",
          "text": [
            "| epoch  10 | 27500/32580 batches | loss    1.331 \n"
          ]
        },
        {
          "name": "stderr",
          "output_type": "stream",
          "text": [
            "27508it [11:37, 30.14it/s]"
          ]
        },
        {
          "name": "stdout",
          "output_type": "stream",
          "text": [
            "money: fact, place, addition, well, seen, practice, lack, able, way, even\n",
            "lion: punishment, september, journal, nobel, actress, concept, british, england, opposed, united\n",
            "africa: europe, india, australia, japan, america, south, china, north, germany, region\n",
            "musician: actress, actor, writer, author, singer, born, addition, football, nine, seven\n",
            "dance: music, concept, country, study, writer, singer, actor, origin, art, contemporary\n",
            "\n",
            "\n"
          ]
        },
        {
          "name": "stderr",
          "output_type": "stream",
          "text": [
            "28000it [11:49, 44.62it/s]"
          ]
        },
        {
          "name": "stdout",
          "output_type": "stream",
          "text": [
            "| epoch  10 | 28000/32580 batches | loss    1.330 \n"
          ]
        },
        {
          "name": "stderr",
          "output_type": "stream",
          "text": [
            "\r28005it [11:49, 26.93it/s]"
          ]
        },
        {
          "name": "stdout",
          "output_type": "stream",
          "text": [
            "money: fact, place, addition, well, seen, practice, lack, able, way, even\n",
            "lion: punishment, september, journal, nobel, actress, concept, british, england, opposed, united\n",
            "africa: europe, india, australia, japan, america, south, china, north, germany, region\n",
            "musician: actress, actor, writer, author, singer, born, addition, football, nine, seven\n",
            "dance: music, concept, country, study, writer, singer, actor, origin, art, contemporary\n",
            "\n",
            "\n"
          ]
        },
        {
          "name": "stderr",
          "output_type": "stream",
          "text": [
            "28498it [12:02, 43.68it/s]"
          ]
        },
        {
          "name": "stdout",
          "output_type": "stream",
          "text": [
            "| epoch  10 | 28500/32580 batches | loss    1.330 \n"
          ]
        },
        {
          "name": "stderr",
          "output_type": "stream",
          "text": [
            "28507it [12:02, 29.61it/s]"
          ]
        },
        {
          "name": "stdout",
          "output_type": "stream",
          "text": [
            "money: fact, place, addition, well, seen, practice, lack, able, way, even\n",
            "lion: punishment, september, journal, nobel, actress, concept, british, england, opposed, united\n",
            "africa: europe, india, australia, japan, america, south, china, north, germany, region\n",
            "musician: actress, actor, writer, author, singer, born, addition, football, nine, seven\n",
            "dance: music, concept, country, study, writer, singer, actor, origin, art, contemporary\n",
            "\n",
            "\n"
          ]
        },
        {
          "name": "stderr",
          "output_type": "stream",
          "text": [
            "28996it [12:14, 43.49it/s]"
          ]
        },
        {
          "name": "stdout",
          "output_type": "stream",
          "text": [
            "| epoch  10 | 29000/32580 batches | loss    1.332 \n"
          ]
        },
        {
          "name": "stderr",
          "output_type": "stream",
          "text": [
            "29005it [12:15, 29.09it/s]"
          ]
        },
        {
          "name": "stdout",
          "output_type": "stream",
          "text": [
            "money: fact, place, addition, well, seen, practice, lack, able, way, even\n",
            "lion: punishment, september, journal, nobel, actress, concept, british, england, opposed, united\n",
            "africa: europe, india, australia, japan, america, south, china, north, germany, region\n",
            "musician: actress, actor, writer, author, singer, born, addition, football, nine, seven\n",
            "dance: music, concept, country, study, writer, singer, actor, origin, art, contemporary\n",
            "\n",
            "\n"
          ]
        },
        {
          "name": "stderr",
          "output_type": "stream",
          "text": [
            "29497it [12:27, 44.37it/s]"
          ]
        },
        {
          "name": "stdout",
          "output_type": "stream",
          "text": [
            "| epoch  10 | 29500/32580 batches | loss    1.333 \n"
          ]
        },
        {
          "name": "stderr",
          "output_type": "stream",
          "text": [
            "29506it [12:27, 29.33it/s]"
          ]
        },
        {
          "name": "stdout",
          "output_type": "stream",
          "text": [
            "money: fact, place, addition, well, seen, practice, lack, able, way, even\n",
            "lion: punishment, september, journal, nobel, actress, concept, british, england, opposed, united\n",
            "africa: europe, india, australia, japan, america, south, china, north, germany, region\n",
            "musician: actress, actor, writer, author, singer, born, addition, football, nine, seven\n",
            "dance: music, concept, country, study, writer, singer, actor, origin, art, contemporary\n",
            "\n",
            "\n"
          ]
        },
        {
          "name": "stderr",
          "output_type": "stream",
          "text": [
            "30000it [12:40, 42.73it/s]"
          ]
        },
        {
          "name": "stdout",
          "output_type": "stream",
          "text": [
            "| epoch  10 | 30000/32580 batches | loss    1.328 \n"
          ]
        },
        {
          "name": "stderr",
          "output_type": "stream",
          "text": [
            "\r30005it [12:40, 26.41it/s]"
          ]
        },
        {
          "name": "stdout",
          "output_type": "stream",
          "text": [
            "money: fact, place, addition, well, seen, practice, lack, able, way, even\n",
            "lion: punishment, september, journal, nobel, actress, concept, british, england, opposed, united\n",
            "africa: europe, india, australia, japan, america, south, china, north, germany, region\n",
            "musician: actress, actor, writer, author, singer, born, addition, football, nine, seven\n",
            "dance: music, concept, country, study, writer, singer, actor, origin, art, contemporary\n",
            "\n",
            "\n"
          ]
        },
        {
          "name": "stderr",
          "output_type": "stream",
          "text": [
            "30497it [12:52, 32.37it/s]"
          ]
        },
        {
          "name": "stdout",
          "output_type": "stream",
          "text": [
            "| epoch  10 | 30500/32580 batches | loss    1.332 \n"
          ]
        },
        {
          "name": "stderr",
          "output_type": "stream",
          "text": [
            "30504it [12:53, 21.67it/s]"
          ]
        },
        {
          "name": "stdout",
          "output_type": "stream",
          "text": [
            "money: fact, place, addition, well, seen, practice, lack, able, way, even\n",
            "lion: punishment, september, journal, nobel, actress, concept, british, england, opposed, united\n",
            "africa: europe, india, australia, japan, america, south, china, north, germany, region\n",
            "musician: actress, actor, writer, author, singer, born, addition, football, nine, seven\n",
            "dance: music, concept, country, study, writer, singer, actor, origin, art, contemporary\n",
            "\n",
            "\n"
          ]
        },
        {
          "name": "stderr",
          "output_type": "stream",
          "text": [
            "30998it [13:05, 33.58it/s]"
          ]
        },
        {
          "name": "stdout",
          "output_type": "stream",
          "text": [
            "| epoch  10 | 31000/32580 batches | loss    1.335 \n"
          ]
        },
        {
          "name": "stderr",
          "output_type": "stream",
          "text": [
            "31006it [13:05, 21.89it/s]"
          ]
        },
        {
          "name": "stdout",
          "output_type": "stream",
          "text": [
            "money: fact, place, addition, well, seen, practice, lack, able, way, even\n",
            "lion: punishment, september, journal, nobel, actress, concept, british, england, opposed, united\n",
            "africa: europe, india, australia, japan, america, south, china, north, germany, region\n",
            "musician: actress, actor, writer, author, singer, born, addition, football, nine, seven\n",
            "dance: music, concept, country, study, writer, singer, actor, origin, art, contemporary\n",
            "\n",
            "\n"
          ]
        },
        {
          "name": "stderr",
          "output_type": "stream",
          "text": [
            "31498it [13:17, 35.35it/s]"
          ]
        },
        {
          "name": "stdout",
          "output_type": "stream",
          "text": [
            "| epoch  10 | 31500/32580 batches | loss    1.330 \n"
          ]
        },
        {
          "name": "stderr",
          "output_type": "stream",
          "text": [
            "31505it [13:17, 21.03it/s]"
          ]
        },
        {
          "name": "stdout",
          "output_type": "stream",
          "text": [
            "money: fact, place, addition, well, seen, practice, lack, able, way, even\n",
            "lion: punishment, september, journal, nobel, actress, concept, british, england, opposed, united\n",
            "africa: europe, india, australia, japan, america, south, china, north, germany, region\n",
            "musician: actress, actor, writer, author, singer, born, addition, football, nine, seven\n",
            "dance: music, concept, country, study, writer, singer, actor, origin, art, contemporary\n",
            "\n",
            "\n"
          ]
        },
        {
          "name": "stderr",
          "output_type": "stream",
          "text": [
            "31999it [13:31, 44.27it/s]"
          ]
        },
        {
          "name": "stdout",
          "output_type": "stream",
          "text": [
            "| epoch  10 | 32000/32580 batches | loss    1.335 \n"
          ]
        },
        {
          "name": "stderr",
          "output_type": "stream",
          "text": [
            "32009it [13:31, 30.87it/s]"
          ]
        },
        {
          "name": "stdout",
          "output_type": "stream",
          "text": [
            "money: fact, place, addition, well, seen, practice, lack, able, way, even\n",
            "lion: punishment, september, journal, nobel, actress, concept, british, england, opposed, united\n",
            "africa: europe, india, australia, japan, america, south, china, north, germany, region\n",
            "musician: actress, actor, writer, author, singer, born, addition, football, nine, seven\n",
            "dance: music, concept, country, study, writer, singer, actor, origin, art, contemporary\n",
            "\n",
            "\n"
          ]
        },
        {
          "name": "stderr",
          "output_type": "stream",
          "text": [
            "32498it [13:43, 44.05it/s]"
          ]
        },
        {
          "name": "stdout",
          "output_type": "stream",
          "text": [
            "| epoch  10 | 32500/32580 batches | loss    1.335 \n"
          ]
        },
        {
          "name": "stderr",
          "output_type": "stream",
          "text": [
            "32507it [13:44, 28.99it/s]"
          ]
        },
        {
          "name": "stdout",
          "output_type": "stream",
          "text": [
            "money: fact, place, addition, well, seen, practice, lack, able, way, even\n",
            "lion: punishment, september, journal, nobel, actress, concept, british, england, opposed, united\n",
            "africa: europe, india, australia, japan, america, south, china, north, germany, region\n",
            "musician: actress, actor, writer, author, singer, born, addition, football, nine, seven\n",
            "dance: music, concept, country, study, writer, singer, actor, origin, art, contemporary\n",
            "\n",
            "\n"
          ]
        },
        {
          "name": "stderr",
          "output_type": "stream",
          "text": [
            "32580it [13:47, 39.39it/s]\n"
          ]
        }
      ],
      "source": [
        "for epoch in range(1, NUM_EPOCHS + 1):\n",
        "    epoch_start_time = time.time()\n",
        "\n",
        "    train(train_dl, model, optimizer, epoch)\n",
        "    # We have a learning rate scheduler here\n",
        "    # Basically, given the state of the optimizer, this lowers the learning rate in a smart way\n",
        "    scheduler.step()"
      ]
    }
  ],
  "metadata": {
    "accelerator": "GPU",
    "colab": {
      "gpuType": "T4",
      "provenance": []
    },
    "kernelspec": {
      "display_name": "Python 3",
      "name": "python3"
    },
    "language_info": {
      "codemirror_mode": {
        "name": "ipython",
        "version": 3
      },
      "file_extension": ".py",
      "mimetype": "text/x-python",
      "name": "python",
      "nbconvert_exporter": "python",
      "pygments_lexer": "ipython3",
      "version": "3.8.15"
    }
  },
  "nbformat": 4,
  "nbformat_minor": 5
}
