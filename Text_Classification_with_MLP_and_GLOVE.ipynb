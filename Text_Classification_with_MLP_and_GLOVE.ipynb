{
  "cells": [
    {
      "cell_type": "code",
      "execution_count": 1,
      "id": "080d50fc",
      "metadata": {
        "colab": {
          "base_uri": "https://localhost:8080/"
        },
        "id": "080d50fc",
        "outputId": "e1b8a1ed-9d64-43e2-c456-f25135a36111"
      },
      "outputs": [
        {
          "name": "stdout",
          "output_type": "stream",
          "text": [
            "Collecting portalocker\n",
            "  Downloading portalocker-2.8.2-py3-none-any.whl (17 kB)\n",
            "Installing collected packages: portalocker\n",
            "Successfully installed portalocker-2.8.2\n",
            "Collecting torchmetrics\n",
            "  Downloading torchmetrics-1.2.0-py3-none-any.whl (805 kB)\n",
            "\u001b[2K     \u001b[90m━━━━━━━━━━━━━━━━━━━━━━━━━━━━━━━━━━━━━━━━\u001b[0m \u001b[32m805.2/805.2 kB\u001b[0m \u001b[31m14.8 MB/s\u001b[0m eta \u001b[36m0:00:00\u001b[0m\n",
            "\u001b[?25hRequirement already satisfied: numpy>1.20.0 in /usr/local/lib/python3.10/dist-packages (from torchmetrics) (1.23.5)\n",
            "Requirement already satisfied: torch>=1.8.1 in /usr/local/lib/python3.10/dist-packages (from torchmetrics) (2.1.0+cu118)\n",
            "Collecting lightning-utilities>=0.8.0 (from torchmetrics)\n",
            "  Downloading lightning_utilities-0.9.0-py3-none-any.whl (23 kB)\n",
            "Requirement already satisfied: packaging>=17.1 in /usr/local/lib/python3.10/dist-packages (from lightning-utilities>=0.8.0->torchmetrics) (23.2)\n",
            "Requirement already satisfied: typing-extensions in /usr/local/lib/python3.10/dist-packages (from lightning-utilities>=0.8.0->torchmetrics) (4.5.0)\n",
            "Requirement already satisfied: filelock in /usr/local/lib/python3.10/dist-packages (from torch>=1.8.1->torchmetrics) (3.13.1)\n",
            "Requirement already satisfied: sympy in /usr/local/lib/python3.10/dist-packages (from torch>=1.8.1->torchmetrics) (1.12)\n",
            "Requirement already satisfied: networkx in /usr/local/lib/python3.10/dist-packages (from torch>=1.8.1->torchmetrics) (3.2.1)\n",
            "Requirement already satisfied: jinja2 in /usr/local/lib/python3.10/dist-packages (from torch>=1.8.1->torchmetrics) (3.1.2)\n",
            "Requirement already satisfied: fsspec in /usr/local/lib/python3.10/dist-packages (from torch>=1.8.1->torchmetrics) (2023.6.0)\n",
            "Requirement already satisfied: triton==2.1.0 in /usr/local/lib/python3.10/dist-packages (from torch>=1.8.1->torchmetrics) (2.1.0)\n",
            "Requirement already satisfied: MarkupSafe>=2.0 in /usr/local/lib/python3.10/dist-packages (from jinja2->torch>=1.8.1->torchmetrics) (2.1.3)\n",
            "Requirement already satisfied: mpmath>=0.19 in /usr/local/lib/python3.10/dist-packages (from sympy->torch>=1.8.1->torchmetrics) (1.3.0)\n",
            "Installing collected packages: lightning-utilities, torchmetrics\n",
            "Successfully installed lightning-utilities-0.9.0 torchmetrics-1.2.0\n"
          ]
        }
      ],
      "source": [
        "!pip install portalocker\n",
        "!pip install torchmetrics"
      ]
    },
    {
      "cell_type": "markdown",
      "id": "xjr4e43DyTz-",
      "metadata": {
        "id": "xjr4e43DyTz-"
      },
      "source": [
        "Fill in the code below with the appropriate logic to make this notebook work. You will pull the GLOVE embeddings and then create a MLP text classifier for the AG_NEWS dataset. There are many uttilities used here. You need to create a vocabulary, allow the model to update the GLOVE embeddings with gradients or not. Additionally, you might not use the GLOVE embeddings. GLOVE is a pretrained set of embeddings much like Word2Vec. Each word has a unique embedding but the objective function is different for GLOVE."
      ]
    },
    {
      "cell_type": "code",
      "execution_count": 3,
      "id": "B9XxyEQVWrO6",
      "metadata": {
        "id": "B9XxyEQVWrO6"
      },
      "outputs": [],
      "source": [
        "import argparse\n",
        "import logging\n",
        "import time\n",
        "\n",
        "import torch\n",
        "from torch.utils.data import DataLoader\n",
        "from torch.utils.data.dataset import random_split\n",
        "from torchtext.data.functional import to_map_style_dataset\n",
        "from torchtext.data.utils import get_tokenizer, ngrams_iterator\n",
        "from torchtext.datasets import DATASETS\n",
        "from torchtext.utils import download_from_url\n",
        "from torchtext.vocab import build_vocab_from_iterator\n",
        "import torch.nn as nn\n",
        "from torch.nn.utils.rnn import pad_sequence\n",
        "import torch.nn.functional as F\n",
        "from torchtext.vocab import GloVe\n",
        "from tqdm import tqdm\n",
        "\n",
        "torch.autograd.set_detect_anomaly(True)"
      ]
    },
    {
      "cell_type": "markdown",
      "id": "66eb271d",
      "metadata": {
        "id": "66eb271d"
      },
      "source": [
        "### Information\n",
        "- torchtext repo: https://github.com/pytorch/text/tree/main/torchtext\n",
        "- torchtext documentation: https://pytorch.org/text/stable/index.html"
      ]
    },
    {
      "cell_type": "code",
      "execution_count": null,
      "id": "8c949153",
      "metadata": {
        "id": "8c949153"
      },
      "outputs": [],
      "source": []
    },
    {
      "cell_type": "markdown",
      "id": "12d93d22",
      "metadata": {
        "id": "12d93d22"
      },
      "source": [
        "### Constants"
      ]
    },
    {
      "cell_type": "code",
      "execution_count": 4,
      "id": "329c056d",
      "metadata": {
        "id": "329c056d"
      },
      "outputs": [],
      "source": [
        "DATASET = \"AG_NEWS\"\n",
        "DATA_DIR = \".data\"\n",
        "DEVICE = \"cuda\" if torch.cuda.is_available() else \"cpu\"\n",
        "# Set to 300 since GLOVE embeddings are dimension 300\n",
        "EMBED_DIM = 300\n",
        "LR = 0.1\n",
        "BATCH_SIZE = 64\n",
        "NUM_EPOCHS = 5\n",
        "PADDING_VALUE = 0\n",
        "PADDING_IDX = PADDING_VALUE"
      ]
    },
    {
      "cell_type": "code",
      "execution_count": null,
      "id": "ffada8d0",
      "metadata": {
        "id": "ffada8d0"
      },
      "outputs": [],
      "source": []
    },
    {
      "cell_type": "markdown",
      "id": "1a61aede",
      "metadata": {
        "id": "1a61aede"
      },
      "source": [
        "### Get the tokenizer\n",
        "- Use the WordLevel tokenizer.\n"
      ]
    },
    {
      "cell_type": "code",
      "execution_count": 5,
      "id": "93e3b7cb",
      "metadata": {
        "id": "93e3b7cb"
      },
      "outputs": [],
      "source": [
        "# Get the basic english tokenizer\n",
        "basic_english_tokenizer = get_tokenizer(\"basic_english\")"
      ]
    },
    {
      "cell_type": "code",
      "execution_count": 6,
      "id": "aa4b78e4",
      "metadata": {
        "colab": {
          "base_uri": "https://localhost:8080/"
        },
        "id": "aa4b78e4",
        "outputId": "bcfbebcc-0493-4d88-bddb-ee64d99c31db"
      },
      "outputs": [
        {
          "data": {
            "text/plain": [
              "['this', 'is', 'some', 'text', '.', '.', '.']"
            ]
          },
          "execution_count": 6,
          "metadata": {},
          "output_type": "execute_result"
        }
      ],
      "source": [
        "basic_english_tokenizer(\"This is some text ...\")"
      ]
    },
    {
      "cell_type": "code",
      "execution_count": 7,
      "id": "505cf5ec",
      "metadata": {
        "id": "505cf5ec"
      },
      "outputs": [],
      "source": [
        "# Needed later\n",
        "TOKENIZER = basic_english_tokenizer"
      ]
    },
    {
      "cell_type": "markdown",
      "id": "64096cd8",
      "metadata": {
        "id": "64096cd8"
      },
      "source": [
        "### Get the data and get the vocabulary"
      ]
    },
    {
      "cell_type": "code",
      "execution_count": 10,
      "id": "ce4a0578",
      "metadata": {
        "id": "ce4a0578"
      },
      "outputs": [],
      "source": [
        "# This takes a (x, y) pair from data_iter and returns tokenized list of words\n",
        "# For every sentence, it should yield a tokenized set of string\n",
        "# \"a b c d\" -> [\"a\", \"b\", \"c\", \"d\"]\n",
        "# Use TOKENIZER here\n",
        "def yield_tokens(data_iter):\n",
        "    for _, text in data_iter:\n",
        "        yield TOKENIZER(text)"
      ]
    },
    {
      "cell_type": "code",
      "execution_count": 11,
      "id": "f48f23ab",
      "metadata": {
        "id": "f48f23ab"
      },
      "outputs": [],
      "source": [
        "train_iter = DATASETS[DATASET](root=DATA_DIR, split=\"train\")\n",
        "# Build the vocabulary from the above iterator\n",
        "# Use special symbols '<pad>' and '<unk>'\n",
        "VOCAB = build_vocab_from_iterator(yield_tokens(train_iter), specials=[\"<pad>\", \"<unk>\"])\n",
        "\n",
        "# Make the default index the same as that of the '<unk>'\n",
        "VOCAB.set_default_index(VOCAB[\"<unk>\"])"
      ]
    },
    {
      "cell_type": "markdown",
      "id": "31ce9367",
      "metadata": {
        "id": "31ce9367"
      },
      "source": [
        "### Get GLOVE embeddings\n",
        "GLOVE is a pretrained set of word vectors that comes with torchtext; it is roughly 2G of data."
      ]
    },
    {
      "cell_type": "code",
      "execution_count": 13,
      "id": "a43f0226",
      "metadata": {
        "colab": {
          "base_uri": "https://localhost:8080/"
        },
        "id": "a43f0226",
        "outputId": "dd7b81df-c1c7-4033-82ec-52310ee4959f"
      },
      "outputs": [
        {
          "name": "stderr",
          "output_type": "stream",
          "text": [
            ".vector_cache/glove.840B.300d.zip: 2.18GB [06:50, 5.31MB/s]                            \n",
            "100%|█████████▉| 2196016/2196017 [06:03<00:00, 6043.20it/s]\n"
          ]
        }
      ],
      "source": [
        "# This will take a bit of time\n",
        "GLOVE = GloVe()"
      ]
    },
    {
      "cell_type": "code",
      "execution_count": 14,
      "id": "6302f433",
      "metadata": {
        "colab": {
          "base_uri": "https://localhost:8080/"
        },
        "id": "6302f433",
        "outputId": "d297a124-ccd9-426e-b8b7-cb8c3c4a2ddb"
      },
      "outputs": [
        {
          "data": {
            "text/plain": [
              "(2196017, torch.Size([2196017, 300]))"
            ]
          },
          "execution_count": 14,
          "metadata": {},
          "output_type": "execute_result"
        }
      ],
      "source": [
        "# How many word vectors are there and what is the shape of GLOVE.vectors?\n",
        "# What is the dimension of each vector?\n",
        "len(GLOVE), GLOVE.vectors.shape"
      ]
    },
    {
      "cell_type": "markdown",
      "id": "200b05fc",
      "metadata": {
        "id": "200b05fc"
      },
      "source": [
        "### Helper functions"
      ]
    },
    {
      "cell_type": "code",
      "execution_count": 18,
      "id": "16ca1ef5",
      "metadata": {
        "id": "16ca1ef5"
      },
      "outputs": [],
      "source": [
        "# For text, return the tokens for each word\n",
        "# This might work like \"The man walks\" -> [\"the\", \"man\", \"walks\"] -> [17, 123, 5]\n",
        "def text_pipeline(text):\n",
        "    return [VOCAB[token] for token in TOKENIZER(text)]\n",
        "\n",
        "# Return the label as an integer between 0 and num_classes - 1 inclusive\n",
        "def label_pipeline(label):\n",
        "    return int(label) - 1"
      ]
    },
    {
      "cell_type": "markdown",
      "id": "67ef6734",
      "metadata": {
        "id": "67ef6734"
      },
      "source": [
        "Nice link on collate_fn and DataLoader in PyTorch: https://python.plainenglish.io/understanding-collate-fn-in-pytorch-f9d1742647d3"
      ]
    },
    {
      "cell_type": "code",
      "execution_count": 99,
      "id": "ff479986",
      "metadata": {
        "id": "ff479986"
      },
      "outputs": [],
      "source": [
        "from torch.nn.modules import padding\n",
        "# What does this do?\n",
        "# For each batch, return a tensor of labels and a tensor of ints representing the words in associated sentences\n",
        "def collate_batch(batch):\n",
        "    label_list, text_list = [], []\n",
        "    # For each label and text in a batch, transform to a tensor of labels\n",
        "    # And a tensor of tokens for each word\n",
        "    # You need text_pipeline here and\n",
        "    for (_label, _text) in batch:\n",
        "        # Get the label from {1, 2, 3, 4} to {0, 1, 2, 3}\n",
        "        label_list.append(label_pipeline(_label))\n",
        "\n",
        "        # Return a list of ints\n",
        "        # This basically returns a tensor of the token ids and then puts them into text_list\n",
        "        processed_text = text_pipeline(_text)\n",
        "        text_list.append(torch.tensor(processed_text).clone().detach())\n",
        "\n",
        "    # Make a tensor from the label_list\n",
        "    label_tensor = torch.tensor(label_list)\n",
        "    # Pad the sequence list and return a tensor\n",
        "    text_tensor = pad_sequence(text_list, padding_value = PADDING_VALUE, batch_first=True)\n",
        "\n",
        "    return label_tensor.to(DEVICE), text_tensor.to(DEVICE)"
      ]
    },
    {
      "cell_type": "code",
      "execution_count": null,
      "id": "aa668c1e",
      "metadata": {
        "id": "aa668c1e"
      },
      "outputs": [],
      "source": []
    },
    {
      "cell_type": "markdown",
      "id": "c7fcf425",
      "metadata": {
        "id": "c7fcf425"
      },
      "source": [
        "### Get the data"
      ]
    },
    {
      "cell_type": "code",
      "execution_count": 20,
      "id": "e617ddce",
      "metadata": {
        "colab": {
          "base_uri": "https://localhost:8080/"
        },
        "id": "e617ddce",
        "outputId": "9f679c41-acc2-4b2b-fafc-2cf01877b09a"
      },
      "outputs": [
        {
          "name": "stdout",
          "output_type": "stream",
          "text": [
            "The number of classes is 4 ...\n"
          ]
        }
      ],
      "source": [
        "# Pull the train_iter as above\n",
        "train_iter = DATASETS[DATASET](root=DATA_DIR, split=\"train\")\n",
        "# Get the number of classes\n",
        "# Loop over the train_iter and get the total integer number\n",
        "num_class = len(set([label for (label, _) in train_iter]))\n",
        "# What are the classes?\n",
        "print(f\"The number of classes is {num_class} ...\")"
      ]
    },
    {
      "cell_type": "code",
      "execution_count": null,
      "id": "7770ac24",
      "metadata": {
        "id": "7770ac24"
      },
      "outputs": [],
      "source": []
    },
    {
      "cell_type": "markdown",
      "id": "5aa8a40d",
      "metadata": {
        "id": "5aa8a40d"
      },
      "source": [
        "### Set up the model"
      ]
    },
    {
      "cell_type": "markdown",
      "id": "8abf2ede",
      "metadata": {
        "id": "8abf2ede"
      },
      "source": [
        "The goal of this problem is to construct a MLP neural classifier for text classification."
      ]
    },
    {
      "cell_type": "code",
      "execution_count": 139,
      "id": "dc51c359",
      "metadata": {
        "id": "dc51c359"
      },
      "outputs": [],
      "source": [
        "class MLPTextClassificationModel(nn.Module):\n",
        "    def __init__(\n",
        "        self,\n",
        "        vocab_size,\n",
        "        num_class,\n",
        "        embed_dim = 300,\n",
        "        # If this is true, we will use the pretrained GLOVE embeddings\n",
        "        use_pretrained = True,\n",
        "        # If this is true, we will allow gradient updates for the GLOVE embeddings\n",
        "        # If  this is false, the GLOVE embeddings are static\n",
        "        fine_tune_embeddings = True\n",
        "    ):\n",
        "\n",
        "        super(MLPTextClassificationModel, self).__init__()\n",
        "\n",
        "        # Set to a nn.Embedding layer with vocab_size words and embed_dim dimension per word\n",
        "        # Set the padding index to PADDING_IDX\n",
        "        # This layer is like a linear layer but without the bias\n",
        "        # Essentially, it is a Matrix sich that A * [2, 3] pulls out two vectors\n",
        "        # The vectors we get are for the words with tokens 2 and 3 specifically\n",
        "        self.embedding = nn.Embedding(len(VOCAB), embed_dim, padding_idx=PADDING_IDX)\n",
        "\n",
        "        if use_pretrained:\n",
        "          # If this is true, set the requires_grad to False and load the GLOVE embeddings per token\n",
        "          self.embedding.weight.requires_grad = False\n",
        "          for i in range(vocab_size):\n",
        "            # Look up the token id for the token i\n",
        "            token = VOCAB.lookup_token(i)\n",
        "\n",
        "            # Set the ith row of the embeddings weight matrix to the GLOVE vector for this token\n",
        "            self.embedding.weight[i, :] = GLOVE[token]\n",
        "\n",
        "          # Set the requires_grad field to True\n",
        "          # Had we not made it False before, we might not be able to change the Embedding layer as above\n",
        "          # See what happens if interested\n",
        "          self.embedding.weight.requires_grad = True\n",
        "\n",
        "        # If this is off, make the embedding weights be constant and without gradients\n",
        "        if not fine_tune_embeddings:\n",
        "          # Set the requires_grad field to False\n",
        "          self.embedding.weight.requires_grad = False\n",
        "\n",
        "        # Make a linear layer going from embed_dim to dimension 100\n",
        "        self.linear1 = nn.Linear(embed_dim, 100)\n",
        "        # Make a fc layer going from 100 to num_class\n",
        "        self.fc = nn.Linear(100, num_class)\n",
        "\n",
        "    # B = batch_size, L = sequence length, D = vector dimension\n",
        "    def forward(self, text):\n",
        "        # B X L X D\n",
        "        embedded = self.embedding(text)\n",
        "\n",
        "        # B X D - Make embedded be the average of word embedding across a sentence\n",
        "        embedded = embedded.mean(dim=1)\n",
        "\n",
        "        # Pass through ReLU\n",
        "        embedded = F.relu(embedded)\n",
        "\n",
        "        # B X 100 Pass through linear1\n",
        "        embedded = self.linear1(embedded)\n",
        "\n",
        "        # Pass through ReLU\n",
        "        embedded = F.relu(embedded)\n",
        "\n",
        "        # B X num_classes Pass through fc to get\n",
        "        embedded = self.fc(embedded)\n",
        "\n",
        "        # B X num_classes Take the LogSoftmax and return this\n",
        "        out = F.log_softmax(embedded, dim=1)\n",
        "\n",
        "        return out"
      ]
    },
    {
      "cell_type": "markdown",
      "id": "3b3c6ed5",
      "metadata": {
        "id": "3b3c6ed5"
      },
      "source": [
        "### Set up the model"
      ]
    },
    {
      "cell_type": "code",
      "execution_count": 140,
      "id": "cef585f4",
      "metadata": {
        "id": "cef585f4"
      },
      "outputs": [],
      "source": [
        "# Either use the GLOVE embeddings to initialize the model or don't\n",
        "USE_PRETRAINED = True\n",
        "# If this is off, your model should do worse as the GLOVE embeddings will not be modified by gradient updates\n",
        "FINE_TUNE_EMBEDDINGS = True\n",
        "\n",
        "# Define the model such that it takes in the log softmax\n",
        "# Hint: search the PyTorch webpage\n",
        "criterion = nn.NLLLoss()\n",
        "\n",
        "# Instantiate the model\n",
        "model = MLPTextClassificationModel(\n",
        "    len(VOCAB),\n",
        "    num_class,\n",
        "    EMBED_DIM,\n",
        "    use_pretrained=USE_PRETRAINED,\n",
        "    fine_tune_embeddings=FINE_TUNE_EMBEDDINGS\n",
        ").to(DEVICE)\n",
        "\n",
        "# Define an SGD optimizer acting on the parameters of the model\n",
        "optimizer = torch.optim.SGD(model.parameters(), lr=LR)\n",
        "\n",
        "# Define scheduler to be a learning rate scheduler of type StepLR with gamma = 0.1\n",
        "# Learning rate schedulers lower the learning rate for you via some rule\n",
        "# They can help ensure you don't blow up the optimization as you go\n",
        "scheduler = torch.optim.lr_scheduler.StepLR(optimizer, step_size=1, gamma=0.1)"
      ]
    },
    {
      "cell_type": "code",
      "execution_count": null,
      "id": "f8a642bf",
      "metadata": {
        "id": "f8a642bf"
      },
      "outputs": [],
      "source": []
    },
    {
      "cell_type": "markdown",
      "id": "26266d8a",
      "metadata": {
        "id": "26266d8a"
      },
      "source": [
        "### Set up the data"
      ]
    },
    {
      "cell_type": "code",
      "execution_count": 141,
      "id": "9c0aebb5",
      "metadata": {
        "id": "9c0aebb5"
      },
      "outputs": [],
      "source": [
        "# Get the iterators for train and test data\n",
        "train_iter, test_iter = DATASETS[DATASET](root=DATA_DIR, split=('train', 'test'))\n",
        "train_dataset = to_map_style_dataset(train_iter)\n",
        "test_dataset = to_map_style_dataset(test_iter)\n",
        "\n",
        "num_train = int(len(train_dataset) * 0.95)\n",
        "split_train_, split_valid_ = random_split(train_dataset, [num_train, len(train_dataset) - num_train])\n",
        "\n",
        "# Define data loaders on the train, validation, and test data\n",
        "# Set collate_fn as the collate_batch above\n",
        "# Each batch of raw data is sent through collate_batch to get the data we need (the tensors)\n",
        "train_dataloader = DataLoader(split_train_, batch_size=BATCH_SIZE, shuffle=True, collate_fn=collate_batch)\n",
        "valid_dataloader = DataLoader(split_valid_, batch_size=BATCH_SIZE, shuffle=True, collate_fn=collate_batch)\n",
        "test_dataloader = DataLoader(test_dataset, batch_size=BATCH_SIZE, shuffle=True, collate_fn=collate_batch)"
      ]
    },
    {
      "cell_type": "markdown",
      "id": "86476e2a",
      "metadata": {
        "id": "86476e2a"
      },
      "source": [
        "### Train the model"
      ]
    },
    {
      "cell_type": "code",
      "execution_count": 142,
      "id": "24950481",
      "metadata": {
        "id": "24950481"
      },
      "outputs": [],
      "source": [
        "def train(dataloader, model, optimizer, criterion, epoch):\n",
        "    # Put model in train mode\n",
        "    model.train()\n",
        "    total_acc, total_count = 0, 0\n",
        "    log_interval = 100\n",
        "\n",
        "    for idx, (label, text) in enumerate(dataloader):\n",
        "        # Set the gradients to zero\n",
        "        optimizer.zero_grad()\n",
        "\n",
        "        # Get the LogSoftmax predictions\n",
        "        pred = model(text)\n",
        "\n",
        "        # Get the loss\n",
        "        loss = criterion(pred, label)\n",
        "\n",
        "        # Do back propagation\n",
        "        loss.backward()\n",
        "\n",
        "        # Clip the gradients to 0.1 so they don't get too large\n",
        "        # Look up clip_grad_norm_\n",
        "        torch.nn.utils.clip_grad_norm_(model.parameters(), 0.1)\n",
        "\n",
        "        # Do an optimization step\n",
        "        optimizer.step()\n",
        "\n",
        "        # Get the total accuracy\n",
        "        total_acc += (pred.argmax(1) == label).sum().item()\n",
        "        total_count += len(label)\n",
        "        if idx % log_interval == 0 and idx > 0:\n",
        "            print(\n",
        "                \"| epoch {:3d} | {:5d}/{:5d} batches \"\n",
        "                \"| accuracy {:8.3f}\".format(epoch, idx, len(dataloader), total_acc / total_count)\n",
        "            )\n",
        "            total_acc, total_count = 0, 0"
      ]
    },
    {
      "cell_type": "code",
      "execution_count": 143,
      "id": "39a702be",
      "metadata": {
        "id": "39a702be"
      },
      "outputs": [],
      "source": [
        "def evaluate(dataloader, model):\n",
        "    model.eval()\n",
        "    total_acc, total_count = 0, 0\n",
        "\n",
        "    with torch.no_grad():\n",
        "      for idx, (label, text) in enumerate(dataloader):\n",
        "        # Get the predicted labels\n",
        "        predited_label = model(text)\n",
        "        # Get the accuracy\n",
        "        total_acc += (predited_label.argmax(1) == label).sum().item()\n",
        "        # Update the total count\n",
        "        total_count += len(label)\n",
        "    # Return the accuracy\n",
        "    return total_acc / total_count"
      ]
    },
    {
      "cell_type": "code",
      "execution_count": 144,
      "id": "a9e02c09",
      "metadata": {
        "colab": {
          "base_uri": "https://localhost:8080/"
        },
        "id": "a9e02c09",
        "outputId": "97b9fbfb-7cb4-4aa8-e457-677c482cdc82"
      },
      "outputs": [
        {
          "name": "stdout",
          "output_type": "stream",
          "text": [
            "| epoch   1 |   100/ 1782 batches | accuracy    0.311\n",
            "| epoch   1 |   200/ 1782 batches | accuracy    0.480\n",
            "| epoch   1 |   300/ 1782 batches | accuracy    0.574\n",
            "| epoch   1 |   400/ 1782 batches | accuracy    0.607\n",
            "| epoch   1 |   500/ 1782 batches | accuracy    0.643\n",
            "| epoch   1 |   600/ 1782 batches | accuracy    0.686\n",
            "| epoch   1 |   700/ 1782 batches | accuracy    0.688\n",
            "| epoch   1 |   800/ 1782 batches | accuracy    0.695\n",
            "| epoch   1 |   900/ 1782 batches | accuracy    0.713\n",
            "| epoch   1 |  1000/ 1782 batches | accuracy    0.728\n",
            "| epoch   1 |  1100/ 1782 batches | accuracy    0.743\n",
            "| epoch   1 |  1200/ 1782 batches | accuracy    0.751\n",
            "| epoch   1 |  1300/ 1782 batches | accuracy    0.753\n",
            "| epoch   1 |  1400/ 1782 batches | accuracy    0.770\n",
            "| epoch   1 |  1500/ 1782 batches | accuracy    0.769\n",
            "| epoch   1 |  1600/ 1782 batches | accuracy    0.780\n",
            "| epoch   1 |  1700/ 1782 batches | accuracy    0.789\n",
            "-----------------------------------------------------------\n",
            "| end of epoch   1 | time: 29.70s | valid accuracy    0.799 \n",
            "-----------------------------------------------------------\n",
            "| epoch   2 |   100/ 1782 batches | accuracy    0.792\n",
            "| epoch   2 |   200/ 1782 batches | accuracy    0.791\n",
            "| epoch   2 |   300/ 1782 batches | accuracy    0.798\n",
            "| epoch   2 |   400/ 1782 batches | accuracy    0.807\n",
            "| epoch   2 |   500/ 1782 batches | accuracy    0.802\n",
            "| epoch   2 |   600/ 1782 batches | accuracy    0.803\n",
            "| epoch   2 |   700/ 1782 batches | accuracy    0.806\n",
            "| epoch   2 |   800/ 1782 batches | accuracy    0.804\n",
            "| epoch   2 |   900/ 1782 batches | accuracy    0.800\n",
            "| epoch   2 |  1000/ 1782 batches | accuracy    0.811\n",
            "| epoch   2 |  1100/ 1782 batches | accuracy    0.801\n",
            "| epoch   2 |  1200/ 1782 batches | accuracy    0.807\n",
            "| epoch   2 |  1300/ 1782 batches | accuracy    0.804\n",
            "| epoch   2 |  1400/ 1782 batches | accuracy    0.808\n",
            "| epoch   2 |  1500/ 1782 batches | accuracy    0.810\n",
            "| epoch   2 |  1600/ 1782 batches | accuracy    0.809\n",
            "| epoch   2 |  1700/ 1782 batches | accuracy    0.809\n",
            "-----------------------------------------------------------\n",
            "| end of epoch   2 | time: 35.96s | valid accuracy    0.806 \n",
            "-----------------------------------------------------------\n",
            "| epoch   3 |   100/ 1782 batches | accuracy    0.807\n",
            "| epoch   3 |   200/ 1782 batches | accuracy    0.806\n",
            "| epoch   3 |   300/ 1782 batches | accuracy    0.805\n",
            "| epoch   3 |   400/ 1782 batches | accuracy    0.812\n",
            "| epoch   3 |   500/ 1782 batches | accuracy    0.817\n",
            "| epoch   3 |   600/ 1782 batches | accuracy    0.805\n",
            "| epoch   3 |   700/ 1782 batches | accuracy    0.815\n",
            "| epoch   3 |   800/ 1782 batches | accuracy    0.802\n",
            "| epoch   3 |   900/ 1782 batches | accuracy    0.797\n",
            "| epoch   3 |  1000/ 1782 batches | accuracy    0.809\n",
            "| epoch   3 |  1100/ 1782 batches | accuracy    0.806\n",
            "| epoch   3 |  1200/ 1782 batches | accuracy    0.809\n",
            "| epoch   3 |  1300/ 1782 batches | accuracy    0.808\n",
            "| epoch   3 |  1400/ 1782 batches | accuracy    0.816\n",
            "| epoch   3 |  1500/ 1782 batches | accuracy    0.808\n",
            "| epoch   3 |  1600/ 1782 batches | accuracy    0.813\n",
            "| epoch   3 |  1700/ 1782 batches | accuracy    0.814\n",
            "-----------------------------------------------------------\n",
            "| end of epoch   3 | time: 39.82s | valid accuracy    0.812 \n",
            "-----------------------------------------------------------\n",
            "| epoch   4 |   100/ 1782 batches | accuracy    0.807\n",
            "| epoch   4 |   200/ 1782 batches | accuracy    0.810\n",
            "| epoch   4 |   300/ 1782 batches | accuracy    0.800\n",
            "| epoch   4 |   400/ 1782 batches | accuracy    0.802\n",
            "| epoch   4 |   500/ 1782 batches | accuracy    0.811\n",
            "| epoch   4 |   600/ 1782 batches | accuracy    0.808\n",
            "| epoch   4 |   700/ 1782 batches | accuracy    0.801\n",
            "| epoch   4 |   800/ 1782 batches | accuracy    0.810\n",
            "| epoch   4 |   900/ 1782 batches | accuracy    0.808\n",
            "| epoch   4 |  1000/ 1782 batches | accuracy    0.823\n",
            "| epoch   4 |  1100/ 1782 batches | accuracy    0.810\n",
            "| epoch   4 |  1200/ 1782 batches | accuracy    0.800\n",
            "| epoch   4 |  1300/ 1782 batches | accuracy    0.816\n",
            "| epoch   4 |  1400/ 1782 batches | accuracy    0.810\n",
            "| epoch   4 |  1500/ 1782 batches | accuracy    0.812\n",
            "| epoch   4 |  1600/ 1782 batches | accuracy    0.816\n",
            "| epoch   4 |  1700/ 1782 batches | accuracy    0.814\n",
            "-----------------------------------------------------------\n",
            "| end of epoch   4 | time: 29.09s | valid accuracy    0.809 \n",
            "-----------------------------------------------------------\n",
            "| epoch   5 |   100/ 1782 batches | accuracy    0.810\n",
            "| epoch   5 |   200/ 1782 batches | accuracy    0.812\n",
            "| epoch   5 |   300/ 1782 batches | accuracy    0.815\n",
            "| epoch   5 |   400/ 1782 batches | accuracy    0.798\n",
            "| epoch   5 |   500/ 1782 batches | accuracy    0.812\n",
            "| epoch   5 |   600/ 1782 batches | accuracy    0.816\n",
            "| epoch   5 |   700/ 1782 batches | accuracy    0.803\n",
            "| epoch   5 |   800/ 1782 batches | accuracy    0.809\n",
            "| epoch   5 |   900/ 1782 batches | accuracy    0.804\n",
            "| epoch   5 |  1000/ 1782 batches | accuracy    0.810\n",
            "| epoch   5 |  1100/ 1782 batches | accuracy    0.812\n",
            "| epoch   5 |  1200/ 1782 batches | accuracy    0.816\n",
            "| epoch   5 |  1300/ 1782 batches | accuracy    0.801\n",
            "| epoch   5 |  1400/ 1782 batches | accuracy    0.814\n",
            "| epoch   5 |  1500/ 1782 batches | accuracy    0.814\n",
            "| epoch   5 |  1600/ 1782 batches | accuracy    0.807\n",
            "| epoch   5 |  1700/ 1782 batches | accuracy    0.802\n",
            "-----------------------------------------------------------\n",
            "| end of epoch   5 | time: 28.99s | valid accuracy    0.809 \n",
            "-----------------------------------------------------------\n",
            "Checking the results of test dataset.\n",
            "test accuracy    0.805\n"
          ]
        }
      ],
      "source": [
        "for epoch in range(1, NUM_EPOCHS + 1):\n",
        "    epoch_start_time = time.time()\n",
        "    train(train_dataloader, model, optimizer, criterion, epoch)\n",
        "    accu_val = evaluate(valid_dataloader, model)\n",
        "    scheduler.step()\n",
        "    print(\"-\" * 59)\n",
        "    print(\n",
        "        \"| end of epoch {:3d} | time: {:5.2f}s | \"\n",
        "        \"valid accuracy {:8.3f} \".format(epoch, time.time() - epoch_start_time, accu_val)\n",
        "    )\n",
        "    print(\"-\" * 59)\n",
        "\n",
        "print(\"Checking the results of test dataset.\")\n",
        "accu_test = evaluate(test_dataloader, model)\n",
        "print(\"test accuracy {:8.3f}\".format(accu_test))"
      ]
    }
  ],
  "metadata": {
    "accelerator": "GPU",
    "colab": {
      "gpuType": "T4",
      "provenance": []
    },
    "kernelspec": {
      "display_name": "Python 3",
      "name": "python3"
    },
    "language_info": {
      "codemirror_mode": {
        "name": "ipython",
        "version": 3
      },
      "file_extension": ".py",
      "mimetype": "text/x-python",
      "name": "python",
      "nbconvert_exporter": "python",
      "pygments_lexer": "ipython3",
      "version": "3.8.15"
    }
  },
  "nbformat": 4,
  "nbformat_minor": 5
}
